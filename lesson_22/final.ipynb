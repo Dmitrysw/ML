{
 "cells": [
  {
   "cell_type": "code",
   "execution_count": 25,
   "outputs": [],
   "source": [
    "import os\n",
    "from typing import List\n",
    "from fastapi import FastAPI\n",
    "from pydantic import BaseModel\n",
    "from datetime import datetime\n",
    "from sqlalchemy import create_engine\n",
    "import pandas as pd\n",
    "from catboost import CatBoostClassifier\n",
    "from sqlalchemy import create_engine\n",
    "import numpy as np"
   ],
   "metadata": {
    "collapsed": false,
    "pycharm": {
     "name": "#%%\n"
    }
   }
  },
  {
   "cell_type": "code",
   "execution_count": 26,
   "outputs": [],
   "source": [
    "def batch_load_sql(query: str) -> pd.DataFrame:\n",
    "    CHUNKSIZE = 200000\n",
    "    engine = create_engine(\n",
    "        \"postgresql://robot-startml-ro:pheiph0hahj1Vaif@\"\n",
    "        \"postgres.lab.karpov.courses:6432/startml\"\n",
    "    )\n",
    "    conn = engine.connect().execution_options(stream_results=True)\n",
    "    chunks = []\n",
    "    for chunk_dataframe in pd.read_sql(query, conn, chunksize=CHUNKSIZE):\n",
    "        chunks.append(chunk_dataframe)\n",
    "    conn.close()\n",
    "    return pd.concat(chunks, ignore_index=True)\n",
    "\n",
    "def load_features():\n",
    "    return batch_load_sql(\"\"\"SELECT * FROM \"shatalov_dmitry_user\" \"\"\")\n",
    "def load_text():\n",
    "    return batch_load_sql(\"\"\"SELECT * FROM \"shatalov_dmitry_text\" \"\"\")"
   ],
   "metadata": {
    "collapsed": false,
    "pycharm": {
     "name": "#%%\n"
    }
   }
  },
  {
   "cell_type": "code",
   "execution_count": 27,
   "outputs": [],
   "source": [
    "user_data = load_features()\n",
    "posts_data = load_text()"
   ],
   "metadata": {
    "collapsed": false,
    "pycharm": {
     "name": "#%%\n"
    }
   }
  },
  {
   "cell_type": "code",
   "execution_count": 28,
   "outputs": [],
   "source": [
    "user_data = user_data.drop(\"index\", axis=1)"
   ],
   "metadata": {
    "collapsed": false,
    "pycharm": {
     "name": "#%%\n"
    }
   }
  },
  {
   "cell_type": "code",
   "execution_count": 29,
   "outputs": [],
   "source": [
    "posts_data = posts_data.drop(\"index\", axis=1)"
   ],
   "metadata": {
    "collapsed": false,
    "pycharm": {
     "name": "#%%\n"
    }
   }
  },
  {
   "cell_type": "code",
   "execution_count": 30,
   "outputs": [
    {
     "name": "stdout",
     "output_type": "stream",
     "text": [
      "2023-02-10 15:26:40\n"
     ]
    }
   ],
   "source": [
    "# date_string = \"2023-02-10 15:26:40\"\n",
    "# datetime_object = datetime.strptime(date_string, \"%Y-%m-%d %H:%M:%S\")\n",
    "# print(datetime_object)"
   ],
   "metadata": {
    "collapsed": false,
    "pycharm": {
     "name": "#%%\n"
    }
   }
  },
  {
   "cell_type": "code",
   "execution_count": 13,
   "outputs": [
    {
     "data": {
      "text/plain": "1676028400"
     },
     "execution_count": 13,
     "metadata": {},
     "output_type": "execute_result"
    }
   ],
   "source": [
    "# int(datetime_object.timestamp())"
   ],
   "metadata": {
    "collapsed": false,
    "pycharm": {
     "name": "#%%\n"
    }
   }
  },
  {
   "cell_type": "code",
   "execution_count": 7,
   "outputs": [
    {
     "name": "stderr",
     "output_type": "stream",
     "text": [
      "C:\\Users\\Диман\\AppData\\Local\\Temp\\ipykernel_932\\3705897018.py:1: SettingWithCopyWarning: \n",
      "A value is trying to be set on a copy of a slice from a DataFrame.\n",
      "Try using .loc[row_indexer,col_indexer] = value instead\n",
      "\n",
      "See the caveats in the documentation: https://pandas.pydata.org/pandas-docs/stable/user_guide/indexing.html#returning-a-view-versus-a-copy\n",
      "  user_data[user_data['user_id'] == 202]['timestamp'] = datetime_object.timestamp()\n"
     ]
    }
   ],
   "source": [
    "# user_data[user_data['user_id'] == 202]['timestamp'] = datetime_object.timestamp()"
   ],
   "metadata": {
    "collapsed": false,
    "pycharm": {
     "name": "#%%\n"
    }
   }
  },
  {
   "cell_type": "code",
   "execution_count": 31,
   "outputs": [],
   "source": [
    "# user_data.loc[user_data['user_id'] == 202, \"timestamp\"] = int(datetime_object.timestamp())\n"
   ],
   "metadata": {
    "collapsed": false,
    "pycharm": {
     "name": "#%%\n"
    }
   }
  },
  {
   "cell_type": "code",
   "execution_count": 7,
   "outputs": [],
   "source": [
    "# user_data = user_data.reset_index()\n",
    "# posts_data = posts_data"
   ],
   "metadata": {
    "collapsed": false,
    "pycharm": {
     "name": "#%%\n"
    }
   }
  },
  {
   "cell_type": "code",
   "execution_count": 32,
   "outputs": [],
   "source": [
    "#data_for_prediction = pd.concat([user_data[user_data['user_id'] == 202].reset_index(), posts_data.iloc[[0]].drop(['text'], axis=1)], axis=1).drop([\"index\"], axis=1)\n",
    "# data_for_prediction = pd.concat([user_data[user_data['user_id'] == 202].reset_index(), posts_data.drop(['text'], axis=1)], axis=1).drop([\"index\"], axis=1)"
   ],
   "metadata": {
    "collapsed": false,
    "pycharm": {
     "name": "#%%\n"
    }
   }
  },
  {
   "cell_type": "code",
   "execution_count": 33,
   "outputs": [
    {
     "data": {
      "text/plain": "   user_id  gender   age country  exp_group       os source     timestamp  \\\n0    202.0     1.0  17.0  Russia        4.0  Android    ads  1.676028e+09   \n1      NaN     NaN   NaN     NaN        NaN      NaN    NaN           NaN   \n2      NaN     NaN   NaN     NaN        NaN      NaN    NaN           NaN   \n3      NaN     NaN   NaN     NaN        NaN      NaN    NaN           NaN   \n4      NaN     NaN   NaN     NaN        NaN      NaN    NaN           NaN   \n\n   post_id     topic  ...        90        91        92        93        94  \\\n0        1  business  ... -0.027707  0.009552 -0.008999 -0.013628 -0.006564   \n1        2  business  ...  0.026562  0.026715  0.022422  0.011496 -0.030049   \n2        3  business  ...  0.003895 -0.026901 -0.059054  0.028854 -0.045230   \n3        4  business  ... -0.029090 -0.008279 -0.047934 -0.010357 -0.006429   \n4        5  business  ... -0.009430  0.012673 -0.017110 -0.011624 -0.009426   \n\n         95        96        97        98        99  \n0 -0.010809 -0.033995 -0.037561 -0.001322 -0.013360  \n1 -0.013404 -0.006376  0.006521  0.013236 -0.014821  \n2  0.018362 -0.000664  0.047550 -0.038122  0.002763  \n3 -0.010600 -0.018037 -0.042471 -0.019968  0.031709  \n4 -0.003026  0.019623 -0.026298  0.011045  0.006989  \n\n[5 rows x 110 columns]",
      "text/html": "<div>\n<style scoped>\n    .dataframe tbody tr th:only-of-type {\n        vertical-align: middle;\n    }\n\n    .dataframe tbody tr th {\n        vertical-align: top;\n    }\n\n    .dataframe thead th {\n        text-align: right;\n    }\n</style>\n<table border=\"1\" class=\"dataframe\">\n  <thead>\n    <tr style=\"text-align: right;\">\n      <th></th>\n      <th>user_id</th>\n      <th>gender</th>\n      <th>age</th>\n      <th>country</th>\n      <th>exp_group</th>\n      <th>os</th>\n      <th>source</th>\n      <th>timestamp</th>\n      <th>post_id</th>\n      <th>topic</th>\n      <th>...</th>\n      <th>90</th>\n      <th>91</th>\n      <th>92</th>\n      <th>93</th>\n      <th>94</th>\n      <th>95</th>\n      <th>96</th>\n      <th>97</th>\n      <th>98</th>\n      <th>99</th>\n    </tr>\n  </thead>\n  <tbody>\n    <tr>\n      <th>0</th>\n      <td>202.0</td>\n      <td>1.0</td>\n      <td>17.0</td>\n      <td>Russia</td>\n      <td>4.0</td>\n      <td>Android</td>\n      <td>ads</td>\n      <td>1.676028e+09</td>\n      <td>1</td>\n      <td>business</td>\n      <td>...</td>\n      <td>-0.027707</td>\n      <td>0.009552</td>\n      <td>-0.008999</td>\n      <td>-0.013628</td>\n      <td>-0.006564</td>\n      <td>-0.010809</td>\n      <td>-0.033995</td>\n      <td>-0.037561</td>\n      <td>-0.001322</td>\n      <td>-0.013360</td>\n    </tr>\n    <tr>\n      <th>1</th>\n      <td>NaN</td>\n      <td>NaN</td>\n      <td>NaN</td>\n      <td>NaN</td>\n      <td>NaN</td>\n      <td>NaN</td>\n      <td>NaN</td>\n      <td>NaN</td>\n      <td>2</td>\n      <td>business</td>\n      <td>...</td>\n      <td>0.026562</td>\n      <td>0.026715</td>\n      <td>0.022422</td>\n      <td>0.011496</td>\n      <td>-0.030049</td>\n      <td>-0.013404</td>\n      <td>-0.006376</td>\n      <td>0.006521</td>\n      <td>0.013236</td>\n      <td>-0.014821</td>\n    </tr>\n    <tr>\n      <th>2</th>\n      <td>NaN</td>\n      <td>NaN</td>\n      <td>NaN</td>\n      <td>NaN</td>\n      <td>NaN</td>\n      <td>NaN</td>\n      <td>NaN</td>\n      <td>NaN</td>\n      <td>3</td>\n      <td>business</td>\n      <td>...</td>\n      <td>0.003895</td>\n      <td>-0.026901</td>\n      <td>-0.059054</td>\n      <td>0.028854</td>\n      <td>-0.045230</td>\n      <td>0.018362</td>\n      <td>-0.000664</td>\n      <td>0.047550</td>\n      <td>-0.038122</td>\n      <td>0.002763</td>\n    </tr>\n    <tr>\n      <th>3</th>\n      <td>NaN</td>\n      <td>NaN</td>\n      <td>NaN</td>\n      <td>NaN</td>\n      <td>NaN</td>\n      <td>NaN</td>\n      <td>NaN</td>\n      <td>NaN</td>\n      <td>4</td>\n      <td>business</td>\n      <td>...</td>\n      <td>-0.029090</td>\n      <td>-0.008279</td>\n      <td>-0.047934</td>\n      <td>-0.010357</td>\n      <td>-0.006429</td>\n      <td>-0.010600</td>\n      <td>-0.018037</td>\n      <td>-0.042471</td>\n      <td>-0.019968</td>\n      <td>0.031709</td>\n    </tr>\n    <tr>\n      <th>4</th>\n      <td>NaN</td>\n      <td>NaN</td>\n      <td>NaN</td>\n      <td>NaN</td>\n      <td>NaN</td>\n      <td>NaN</td>\n      <td>NaN</td>\n      <td>NaN</td>\n      <td>5</td>\n      <td>business</td>\n      <td>...</td>\n      <td>-0.009430</td>\n      <td>0.012673</td>\n      <td>-0.017110</td>\n      <td>-0.011624</td>\n      <td>-0.009426</td>\n      <td>-0.003026</td>\n      <td>0.019623</td>\n      <td>-0.026298</td>\n      <td>0.011045</td>\n      <td>0.006989</td>\n    </tr>\n  </tbody>\n</table>\n<p>5 rows × 110 columns</p>\n</div>"
     },
     "execution_count": 33,
     "metadata": {},
     "output_type": "execute_result"
    }
   ],
   "source": [
    "# data_for_prediction.head()"
   ],
   "metadata": {
    "collapsed": false,
    "pycharm": {
     "name": "#%%\n"
    }
   }
  },
  {
   "cell_type": "code",
   "execution_count": 41,
   "outputs": [],
   "source": [
    "# data_for_prediction = data_for_prediction.fillna(method=\"ffill\")"
   ],
   "metadata": {
    "collapsed": false,
    "pycharm": {
     "name": "#%%\n"
    }
   }
  },
  {
   "cell_type": "code",
   "execution_count": 45,
   "outputs": [],
   "source": [
    "# data_for_prediction.insert(9, \"hour\", datetime_object.hour)"
   ],
   "metadata": {
    "collapsed": false,
    "pycharm": {
     "name": "#%%\n"
    }
   }
  },
  {
   "cell_type": "code",
   "execution_count": 42,
   "outputs": [
    {
     "data": {
      "text/plain": "      user_id  gender   age country  exp_group       os source     timestamp  \\\n0       202.0     1.0  17.0  Russia        4.0  Android    ads  1.676028e+09   \n1       202.0     1.0  17.0  Russia        4.0  Android    ads  1.676028e+09   \n2       202.0     1.0  17.0  Russia        4.0  Android    ads  1.676028e+09   \n3       202.0     1.0  17.0  Russia        4.0  Android    ads  1.676028e+09   \n4       202.0     1.0  17.0  Russia        4.0  Android    ads  1.676028e+09   \n...       ...     ...   ...     ...        ...      ...    ...           ...   \n7018    202.0     1.0  17.0  Russia        4.0  Android    ads  1.676028e+09   \n7019    202.0     1.0  17.0  Russia        4.0  Android    ads  1.676028e+09   \n7020    202.0     1.0  17.0  Russia        4.0  Android    ads  1.676028e+09   \n7021    202.0     1.0  17.0  Russia        4.0  Android    ads  1.676028e+09   \n7022    202.0     1.0  17.0  Russia        4.0  Android    ads  1.676028e+09   \n\n      post_id     topic  ...        90        91        92        93  \\\n0           1  business  ... -0.027707  0.009552 -0.008999 -0.013628   \n1           2  business  ...  0.026562  0.026715  0.022422  0.011496   \n2           3  business  ...  0.003895 -0.026901 -0.059054  0.028854   \n3           4  business  ... -0.029090 -0.008279 -0.047934 -0.010357   \n4           5  business  ... -0.009430  0.012673 -0.017110 -0.011624   \n...       ...       ...  ...       ...       ...       ...       ...   \n7018     7315     movie  ... -0.012011 -0.049446 -0.035269 -0.000707   \n7019     7316     movie  ... -0.003053  0.007155  0.041740  0.046052   \n7020     7317     movie  ... -0.001801 -0.021358 -0.028719  0.039713   \n7021     7318     movie  ... -0.009251 -0.034486 -0.013391 -0.023257   \n7022     7319     movie  ...  0.017750 -0.014714  0.003845 -0.031446   \n\n            94        95        96        97        98        99  \n0    -0.006564 -0.010809 -0.033995 -0.037561 -0.001322 -0.013360  \n1    -0.030049 -0.013404 -0.006376  0.006521  0.013236 -0.014821  \n2    -0.045230  0.018362 -0.000664  0.047550 -0.038122  0.002763  \n3    -0.006429 -0.010600 -0.018037 -0.042471 -0.019968  0.031709  \n4    -0.009426 -0.003026  0.019623 -0.026298  0.011045  0.006989  \n...        ...       ...       ...       ...       ...       ...  \n7018 -0.000838 -0.041760  0.010854 -0.029259  0.054002 -0.026419  \n7019  0.027412  0.055240  0.011004 -0.017853 -0.035655  0.025860  \n7020 -0.004553  0.027980  0.035541 -0.013655  0.037083 -0.003795  \n7021  0.003686 -0.004353 -0.030709 -0.017063 -0.028726  0.016211  \n7022 -0.002563  0.005457 -0.023462  0.011574 -0.006005  0.014477  \n\n[7023 rows x 110 columns]",
      "text/html": "<div>\n<style scoped>\n    .dataframe tbody tr th:only-of-type {\n        vertical-align: middle;\n    }\n\n    .dataframe tbody tr th {\n        vertical-align: top;\n    }\n\n    .dataframe thead th {\n        text-align: right;\n    }\n</style>\n<table border=\"1\" class=\"dataframe\">\n  <thead>\n    <tr style=\"text-align: right;\">\n      <th></th>\n      <th>user_id</th>\n      <th>gender</th>\n      <th>age</th>\n      <th>country</th>\n      <th>exp_group</th>\n      <th>os</th>\n      <th>source</th>\n      <th>timestamp</th>\n      <th>post_id</th>\n      <th>topic</th>\n      <th>...</th>\n      <th>90</th>\n      <th>91</th>\n      <th>92</th>\n      <th>93</th>\n      <th>94</th>\n      <th>95</th>\n      <th>96</th>\n      <th>97</th>\n      <th>98</th>\n      <th>99</th>\n    </tr>\n  </thead>\n  <tbody>\n    <tr>\n      <th>0</th>\n      <td>202.0</td>\n      <td>1.0</td>\n      <td>17.0</td>\n      <td>Russia</td>\n      <td>4.0</td>\n      <td>Android</td>\n      <td>ads</td>\n      <td>1.676028e+09</td>\n      <td>1</td>\n      <td>business</td>\n      <td>...</td>\n      <td>-0.027707</td>\n      <td>0.009552</td>\n      <td>-0.008999</td>\n      <td>-0.013628</td>\n      <td>-0.006564</td>\n      <td>-0.010809</td>\n      <td>-0.033995</td>\n      <td>-0.037561</td>\n      <td>-0.001322</td>\n      <td>-0.013360</td>\n    </tr>\n    <tr>\n      <th>1</th>\n      <td>202.0</td>\n      <td>1.0</td>\n      <td>17.0</td>\n      <td>Russia</td>\n      <td>4.0</td>\n      <td>Android</td>\n      <td>ads</td>\n      <td>1.676028e+09</td>\n      <td>2</td>\n      <td>business</td>\n      <td>...</td>\n      <td>0.026562</td>\n      <td>0.026715</td>\n      <td>0.022422</td>\n      <td>0.011496</td>\n      <td>-0.030049</td>\n      <td>-0.013404</td>\n      <td>-0.006376</td>\n      <td>0.006521</td>\n      <td>0.013236</td>\n      <td>-0.014821</td>\n    </tr>\n    <tr>\n      <th>2</th>\n      <td>202.0</td>\n      <td>1.0</td>\n      <td>17.0</td>\n      <td>Russia</td>\n      <td>4.0</td>\n      <td>Android</td>\n      <td>ads</td>\n      <td>1.676028e+09</td>\n      <td>3</td>\n      <td>business</td>\n      <td>...</td>\n      <td>0.003895</td>\n      <td>-0.026901</td>\n      <td>-0.059054</td>\n      <td>0.028854</td>\n      <td>-0.045230</td>\n      <td>0.018362</td>\n      <td>-0.000664</td>\n      <td>0.047550</td>\n      <td>-0.038122</td>\n      <td>0.002763</td>\n    </tr>\n    <tr>\n      <th>3</th>\n      <td>202.0</td>\n      <td>1.0</td>\n      <td>17.0</td>\n      <td>Russia</td>\n      <td>4.0</td>\n      <td>Android</td>\n      <td>ads</td>\n      <td>1.676028e+09</td>\n      <td>4</td>\n      <td>business</td>\n      <td>...</td>\n      <td>-0.029090</td>\n      <td>-0.008279</td>\n      <td>-0.047934</td>\n      <td>-0.010357</td>\n      <td>-0.006429</td>\n      <td>-0.010600</td>\n      <td>-0.018037</td>\n      <td>-0.042471</td>\n      <td>-0.019968</td>\n      <td>0.031709</td>\n    </tr>\n    <tr>\n      <th>4</th>\n      <td>202.0</td>\n      <td>1.0</td>\n      <td>17.0</td>\n      <td>Russia</td>\n      <td>4.0</td>\n      <td>Android</td>\n      <td>ads</td>\n      <td>1.676028e+09</td>\n      <td>5</td>\n      <td>business</td>\n      <td>...</td>\n      <td>-0.009430</td>\n      <td>0.012673</td>\n      <td>-0.017110</td>\n      <td>-0.011624</td>\n      <td>-0.009426</td>\n      <td>-0.003026</td>\n      <td>0.019623</td>\n      <td>-0.026298</td>\n      <td>0.011045</td>\n      <td>0.006989</td>\n    </tr>\n    <tr>\n      <th>...</th>\n      <td>...</td>\n      <td>...</td>\n      <td>...</td>\n      <td>...</td>\n      <td>...</td>\n      <td>...</td>\n      <td>...</td>\n      <td>...</td>\n      <td>...</td>\n      <td>...</td>\n      <td>...</td>\n      <td>...</td>\n      <td>...</td>\n      <td>...</td>\n      <td>...</td>\n      <td>...</td>\n      <td>...</td>\n      <td>...</td>\n      <td>...</td>\n      <td>...</td>\n      <td>...</td>\n    </tr>\n    <tr>\n      <th>7018</th>\n      <td>202.0</td>\n      <td>1.0</td>\n      <td>17.0</td>\n      <td>Russia</td>\n      <td>4.0</td>\n      <td>Android</td>\n      <td>ads</td>\n      <td>1.676028e+09</td>\n      <td>7315</td>\n      <td>movie</td>\n      <td>...</td>\n      <td>-0.012011</td>\n      <td>-0.049446</td>\n      <td>-0.035269</td>\n      <td>-0.000707</td>\n      <td>-0.000838</td>\n      <td>-0.041760</td>\n      <td>0.010854</td>\n      <td>-0.029259</td>\n      <td>0.054002</td>\n      <td>-0.026419</td>\n    </tr>\n    <tr>\n      <th>7019</th>\n      <td>202.0</td>\n      <td>1.0</td>\n      <td>17.0</td>\n      <td>Russia</td>\n      <td>4.0</td>\n      <td>Android</td>\n      <td>ads</td>\n      <td>1.676028e+09</td>\n      <td>7316</td>\n      <td>movie</td>\n      <td>...</td>\n      <td>-0.003053</td>\n      <td>0.007155</td>\n      <td>0.041740</td>\n      <td>0.046052</td>\n      <td>0.027412</td>\n      <td>0.055240</td>\n      <td>0.011004</td>\n      <td>-0.017853</td>\n      <td>-0.035655</td>\n      <td>0.025860</td>\n    </tr>\n    <tr>\n      <th>7020</th>\n      <td>202.0</td>\n      <td>1.0</td>\n      <td>17.0</td>\n      <td>Russia</td>\n      <td>4.0</td>\n      <td>Android</td>\n      <td>ads</td>\n      <td>1.676028e+09</td>\n      <td>7317</td>\n      <td>movie</td>\n      <td>...</td>\n      <td>-0.001801</td>\n      <td>-0.021358</td>\n      <td>-0.028719</td>\n      <td>0.039713</td>\n      <td>-0.004553</td>\n      <td>0.027980</td>\n      <td>0.035541</td>\n      <td>-0.013655</td>\n      <td>0.037083</td>\n      <td>-0.003795</td>\n    </tr>\n    <tr>\n      <th>7021</th>\n      <td>202.0</td>\n      <td>1.0</td>\n      <td>17.0</td>\n      <td>Russia</td>\n      <td>4.0</td>\n      <td>Android</td>\n      <td>ads</td>\n      <td>1.676028e+09</td>\n      <td>7318</td>\n      <td>movie</td>\n      <td>...</td>\n      <td>-0.009251</td>\n      <td>-0.034486</td>\n      <td>-0.013391</td>\n      <td>-0.023257</td>\n      <td>0.003686</td>\n      <td>-0.004353</td>\n      <td>-0.030709</td>\n      <td>-0.017063</td>\n      <td>-0.028726</td>\n      <td>0.016211</td>\n    </tr>\n    <tr>\n      <th>7022</th>\n      <td>202.0</td>\n      <td>1.0</td>\n      <td>17.0</td>\n      <td>Russia</td>\n      <td>4.0</td>\n      <td>Android</td>\n      <td>ads</td>\n      <td>1.676028e+09</td>\n      <td>7319</td>\n      <td>movie</td>\n      <td>...</td>\n      <td>0.017750</td>\n      <td>-0.014714</td>\n      <td>0.003845</td>\n      <td>-0.031446</td>\n      <td>-0.002563</td>\n      <td>0.005457</td>\n      <td>-0.023462</td>\n      <td>0.011574</td>\n      <td>-0.006005</td>\n      <td>0.014477</td>\n    </tr>\n  </tbody>\n</table>\n<p>7023 rows × 110 columns</p>\n</div>"
     },
     "execution_count": 42,
     "metadata": {},
     "output_type": "execute_result"
    }
   ],
   "source": [
    "# data_for_prediction"
   ],
   "metadata": {
    "collapsed": false,
    "pycharm": {
     "name": "#%%\n"
    }
   }
  },
  {
   "cell_type": "code",
   "execution_count": 126,
   "outputs": [
    {
     "name": "stdout",
     "output_type": "stream",
     "text": [
      "2023-02-10 15:26:40\n"
     ]
    }
   ],
   "source": [
    "\n",
    "# date_string = \"2023-02-10 15:26:40\"\n",
    "# datetime_object = datetime.strptime(date_string, \"%Y-%m-%d %H:%M:%S\")\n",
    "# print(datetime_object)"
   ],
   "metadata": {
    "collapsed": false,
    "pycharm": {
     "name": "#%%\n"
    }
   }
  },
  {
   "cell_type": "code",
   "execution_count": null,
   "outputs": [],
   "source": [
    "# data_for_prediction['hour'] = user_behavior_copy.datetime_object.dt.hour"
   ],
   "metadata": {
    "collapsed": false,
    "pycharm": {
     "name": "#%%\n"
    }
   }
  },
  {
   "cell_type": "code",
   "execution_count": 127,
   "outputs": [
    {
     "data": {
      "text/plain": "datetime.datetime"
     },
     "execution_count": 127,
     "metadata": {},
     "output_type": "execute_result"
    }
   ],
   "source": [
    "# type(datetime_object)"
   ],
   "metadata": {
    "collapsed": false,
    "pycharm": {
     "name": "#%%\n"
    }
   }
  },
  {
   "cell_type": "code",
   "execution_count": 43,
   "outputs": [
    {
     "data": {
      "text/plain": "<catboost.core.CatBoostClassifier at 0x1c2081a31c0>"
     },
     "execution_count": 43,
     "metadata": {},
     "output_type": "execute_result"
    }
   ],
   "source": [
    "from_file = CatBoostClassifier()  # здесь не указываем параметры, которые были при обучении, в дампе модели все есть\n",
    "\n",
    "from_file.load_model(\"catboost_model_3\")"
   ],
   "metadata": {
    "collapsed": false,
    "pycharm": {
     "name": "#%%\n"
    }
   }
  },
  {
   "cell_type": "code",
   "execution_count": 15,
   "outputs": [
    {
     "data": {
      "text/plain": "   user_id  gender  age country  exp_group       os source  post_id     topic  \\\n0      202       1   17  Russia          4  Android    ads        1  business   \n\n   hour  ...        90        91        92        93        94        95  \\\n0    15  ... -0.027707  0.009552 -0.008999 -0.013628 -0.006564 -0.010809   \n\n         96        97        98       99  \n0 -0.033995 -0.037561 -0.001322 -0.01336  \n\n[1 rows x 110 columns]",
      "text/html": "<div>\n<style scoped>\n    .dataframe tbody tr th:only-of-type {\n        vertical-align: middle;\n    }\n\n    .dataframe tbody tr th {\n        vertical-align: top;\n    }\n\n    .dataframe thead th {\n        text-align: right;\n    }\n</style>\n<table border=\"1\" class=\"dataframe\">\n  <thead>\n    <tr style=\"text-align: right;\">\n      <th></th>\n      <th>user_id</th>\n      <th>gender</th>\n      <th>age</th>\n      <th>country</th>\n      <th>exp_group</th>\n      <th>os</th>\n      <th>source</th>\n      <th>post_id</th>\n      <th>topic</th>\n      <th>hour</th>\n      <th>...</th>\n      <th>90</th>\n      <th>91</th>\n      <th>92</th>\n      <th>93</th>\n      <th>94</th>\n      <th>95</th>\n      <th>96</th>\n      <th>97</th>\n      <th>98</th>\n      <th>99</th>\n    </tr>\n  </thead>\n  <tbody>\n    <tr>\n      <th>0</th>\n      <td>202</td>\n      <td>1</td>\n      <td>17</td>\n      <td>Russia</td>\n      <td>4</td>\n      <td>Android</td>\n      <td>ads</td>\n      <td>1</td>\n      <td>business</td>\n      <td>15</td>\n      <td>...</td>\n      <td>-0.027707</td>\n      <td>0.009552</td>\n      <td>-0.008999</td>\n      <td>-0.013628</td>\n      <td>-0.006564</td>\n      <td>-0.010809</td>\n      <td>-0.033995</td>\n      <td>-0.037561</td>\n      <td>-0.001322</td>\n      <td>-0.01336</td>\n    </tr>\n  </tbody>\n</table>\n<p>1 rows × 110 columns</p>\n</div>"
     },
     "execution_count": 15,
     "metadata": {},
     "output_type": "execute_result"
    }
   ],
   "source": [
    "# data_for_prediction.head()"
   ],
   "metadata": {
    "collapsed": false,
    "pycharm": {
     "name": "#%%\n"
    }
   }
  },
  {
   "cell_type": "code",
   "execution_count": 70,
   "outputs": [
    {
     "data": {
      "text/plain": "(7023, 2)"
     },
     "execution_count": 70,
     "metadata": {},
     "output_type": "execute_result"
    }
   ],
   "source": [
    "# pred.shape"
   ],
   "metadata": {
    "collapsed": false,
    "pycharm": {
     "name": "#%%\n"
    }
   }
  },
  {
   "cell_type": "code",
   "execution_count": 75,
   "outputs": [
    {
     "data": {
      "text/plain": "(7023, 1)"
     },
     "execution_count": 75,
     "metadata": {},
     "output_type": "execute_result"
    }
   ],
   "source": [
    "# data_for_prediction[[\"post_id\"]].shape"
   ],
   "metadata": {
    "collapsed": false,
    "pycharm": {
     "name": "#%%\n"
    }
   }
  },
  {
   "cell_type": "code",
   "execution_count": null,
   "outputs": [],
   "source": [
    "class PostGet(BaseModel):\n",
    "    id: int\n",
    "    text: str\n",
    "    topic: str\n",
    "\n",
    "    class Config:\n",
    "        orm_mode = True"
   ],
   "metadata": {
    "collapsed": false,
    "pycharm": {
     "name": "#%%\n"
    }
   }
  },
  {
   "cell_type": "code",
   "execution_count": null,
   "outputs": [],
   "source": [
    "app = FastAPI()\n",
    "@app.get(\"/post/recommendations/\", response_model=List[PostGet])\n",
    "def recommended_posts(\n",
    "\t\tid: int,\n",
    "\t\ttime: datetime,\n",
    "\t\tlimit: int = 5) -> List[PostGet]:\n",
    "    user_data.loc[user_data['user_id'] == id, \"timestamp\"] = int(time.timestamp())\n",
    "    data_for_prediction = pd.concat([user_data[user_data['user_id'] == id].reset_index(), posts_data.drop(['text'], axis=1)], axis=1).drop([\"index\"], axis=1)\n",
    "    data_for_prediction = data_for_prediction.fillna(method=\"ffill\")\n",
    "    data_for_prediction.insert(9, \"hour\", time.hour)\n",
    "    pred = from_file.predict_proba(data_for_prediction)\n",
    "    pred = np.append(arr=pred, values = data_for_prediction[[\"post_id\"]],axis=1)\n",
    "    pred = pd.DataFrame(pred)\n",
    "    pred = pred.sort_values(by=1, ascending=False)\n",
    "    answers = []\n",
    "    for i in range(limit):\n",
    "        post_id = int(pred.iloc[i][2])\n",
    "        answers.append({\"id\":post_id , \"text\": posts_data.loc[posts_data[\"post_id\"] == post_id].text.iloc[0],\n",
    "        \"topic\" : posts_data.loc[posts_data[\"post_id\"] == post_id].topic.iloc[0]})"
   ],
   "metadata": {
    "collapsed": false,
    "pycharm": {
     "name": "#%%\n"
    }
   }
  },
  {
   "cell_type": "code",
   "execution_count": 118,
   "outputs": [],
   "source": [
    "# def recom(id, time, limit=5):\n",
    "#     dict_of_probabilities = {}\n",
    "#     list_of_probabilities = []\n",
    "#     answers = []\n",
    "#     for post in range(100):\n",
    "#         user_data.loc[user_data['user_id'] == id, \"timestamp\"] = int(time.timestamp())\n",
    "#         data_for_prediction = pd.concat([user_data[user_data['user_id'] == id].reset_index(), posts_data.iloc[[post]].reset_index().drop(['text'], axis=1)], axis=1).drop([\"index\"], axis=1)\n",
    "#         data_for_prediction.insert(9, \"hour\", datetime_object.hour)\n",
    "#\n",
    "#          #сохраним в словарь значение вероятности для класса 1 как ключ и  как значение пост айди\n",
    "#         dict_of_probabilities[float(round((from_file.predict_proba(data_for_prediction)[0][1]), 5))] = posts_data.iloc[post][\"post_id\"]\n",
    "#\n",
    "#\n",
    "#\n",
    "#     for key in dict_of_probabilities.keys():\n",
    "#         list_of_probabilities.append(key)\n",
    "#\n",
    "#     for i in range(limit):\n",
    "#         print(dict_of_probabilities[list_of_probabilities[i]])\n",
    "#         print(a)\n",
    "#         answers.append({\"id\":dict_of_probabilities[list_of_probabilities[i]]})\n",
    "#         # , \"text\": posts_data.text[posts_data[\"post_id\"] == dict_of_probabilities[list_of_probabilities[i]]][0],\n",
    "#         #                \"topic\" : posts_data.topic[posts_data[\"post_id\"] == dict_of_probabilities[list_of_probabilities[i]]][0]})\n",
    "#     return answers"
   ],
   "metadata": {
    "collapsed": false,
    "pycharm": {
     "name": "#%%\n"
    }
   }
  },
  {
   "cell_type": "code",
   "execution_count": null,
   "outputs": [],
   "source": [],
   "metadata": {
    "collapsed": false,
    "pycharm": {
     "name": "#%%\n"
    }
   }
  }
 ],
 "metadata": {
  "kernelspec": {
   "display_name": "Python 3",
   "language": "python",
   "name": "python3"
  },
  "language_info": {
   "codemirror_mode": {
    "name": "ipython",
    "version": 2
   },
   "file_extension": ".py",
   "mimetype": "text/x-python",
   "name": "python",
   "nbconvert_exporter": "python",
   "pygments_lexer": "ipython2",
   "version": "2.7.6"
  }
 },
 "nbformat": 4,
 "nbformat_minor": 0
}