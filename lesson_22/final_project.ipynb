{
 "cells": [
  {
   "cell_type": "code",
   "execution_count": 2,
   "outputs": [],
   "source": [
    "import os\n",
    "import pandas as pd\n",
    "import seaborn as sns\n",
    "import datetime"
   ],
   "metadata": {
    "collapsed": false,
    "pycharm": {
     "name": "#%%\n"
    }
   }
  },
  {
   "cell_type": "markdown",
   "source": [
    "Считывание данных"
   ],
   "metadata": {
    "collapsed": false,
    "pycharm": {
     "name": "#%% md\n"
    }
   }
  },
  {
   "cell_type": "code",
   "execution_count": null,
   "outputs": [],
   "source": [
    "#А теперь считаем и объединим информацию по пользователям и feed_data с условием\n",
    "#чтобы для каждого пользователя количество действий было равно определенному числу"
   ],
   "metadata": {
    "collapsed": false,
    "pycharm": {
     "name": "#%%\n"
    }
   }
  },
  {
   "cell_type": "code",
   "execution_count": 4,
   "outputs": [],
   "source": [
    "user_behavior = pd.read_sql(\n",
    "    \"\"\"SELECT u.*, x.*\n",
    "    FROM user_data u\n",
    "    LEFT JOIN LATERAL (SELECT *,\n",
    "    ROW_NUMBER() OVER(PARTITION BY user_id) AS rownum\n",
    "    FROM feed_data) x on u.user_id = x.user_id\n",
    "    WHERE x.rownum <= 5\"\"\",\n",
    "       con=\"postgresql://robot-startml-ro:pheiph0hahj1Vaif@\"\n",
    "         \"postgres.lab.karpov.courses:6432/startml\")"
   ],
   "metadata": {
    "collapsed": false,
    "pycharm": {
     "name": "#%%\n"
    }
   }
  },
  {
   "cell_type": "code",
   "execution_count": 3,
   "outputs": [],
   "source": [
    "user_data = pd.read_sql(\n",
    "    \"\"\"SELECT *\n",
    "    FROM user_data\n",
    "    \"\"\",\n",
    "       con=\"postgresql://robot-startml-ro:pheiph0hahj1Vaif@\"\n",
    "         \"postgres.lab.karpov.courses:6432/startml\")"
   ],
   "metadata": {
    "collapsed": false,
    "pycharm": {
     "name": "#%%\n"
    }
   }
  },
  {
   "cell_type": "code",
   "execution_count": 5,
   "outputs": [
    {
     "data": {
      "text/plain": "   user_id  gender  age country       city  exp_group       os source  \\\n0      200       1   34  Russia  Degtyarsk          3  Android    ads   \n1      200       1   34  Russia  Degtyarsk          3  Android    ads   \n2      200       1   34  Russia  Degtyarsk          3  Android    ads   \n3      200       1   34  Russia  Degtyarsk          3  Android    ads   \n4      200       1   34  Russia  Degtyarsk          3  Android    ads   \n\n            timestamp  user_id  post_id action  target  rownum  \n0 2021-10-29 19:05:49      200     5593   view       0       1  \n1 2021-10-29 19:08:06      200      260   view       0       2  \n2 2021-10-29 19:08:58      200     1167   view       0       3  \n3 2021-10-29 19:11:40      200      295   view       0       4  \n4 2021-10-29 19:12:00      200     6738   view       0       5  ",
      "text/html": "<div>\n<style scoped>\n    .dataframe tbody tr th:only-of-type {\n        vertical-align: middle;\n    }\n\n    .dataframe tbody tr th {\n        vertical-align: top;\n    }\n\n    .dataframe thead th {\n        text-align: right;\n    }\n</style>\n<table border=\"1\" class=\"dataframe\">\n  <thead>\n    <tr style=\"text-align: right;\">\n      <th></th>\n      <th>user_id</th>\n      <th>gender</th>\n      <th>age</th>\n      <th>country</th>\n      <th>city</th>\n      <th>exp_group</th>\n      <th>os</th>\n      <th>source</th>\n      <th>timestamp</th>\n      <th>user_id</th>\n      <th>post_id</th>\n      <th>action</th>\n      <th>target</th>\n      <th>rownum</th>\n    </tr>\n  </thead>\n  <tbody>\n    <tr>\n      <th>0</th>\n      <td>200</td>\n      <td>1</td>\n      <td>34</td>\n      <td>Russia</td>\n      <td>Degtyarsk</td>\n      <td>3</td>\n      <td>Android</td>\n      <td>ads</td>\n      <td>2021-10-29 19:05:49</td>\n      <td>200</td>\n      <td>5593</td>\n      <td>view</td>\n      <td>0</td>\n      <td>1</td>\n    </tr>\n    <tr>\n      <th>1</th>\n      <td>200</td>\n      <td>1</td>\n      <td>34</td>\n      <td>Russia</td>\n      <td>Degtyarsk</td>\n      <td>3</td>\n      <td>Android</td>\n      <td>ads</td>\n      <td>2021-10-29 19:08:06</td>\n      <td>200</td>\n      <td>260</td>\n      <td>view</td>\n      <td>0</td>\n      <td>2</td>\n    </tr>\n    <tr>\n      <th>2</th>\n      <td>200</td>\n      <td>1</td>\n      <td>34</td>\n      <td>Russia</td>\n      <td>Degtyarsk</td>\n      <td>3</td>\n      <td>Android</td>\n      <td>ads</td>\n      <td>2021-10-29 19:08:58</td>\n      <td>200</td>\n      <td>1167</td>\n      <td>view</td>\n      <td>0</td>\n      <td>3</td>\n    </tr>\n    <tr>\n      <th>3</th>\n      <td>200</td>\n      <td>1</td>\n      <td>34</td>\n      <td>Russia</td>\n      <td>Degtyarsk</td>\n      <td>3</td>\n      <td>Android</td>\n      <td>ads</td>\n      <td>2021-10-29 19:11:40</td>\n      <td>200</td>\n      <td>295</td>\n      <td>view</td>\n      <td>0</td>\n      <td>4</td>\n    </tr>\n    <tr>\n      <th>4</th>\n      <td>200</td>\n      <td>1</td>\n      <td>34</td>\n      <td>Russia</td>\n      <td>Degtyarsk</td>\n      <td>3</td>\n      <td>Android</td>\n      <td>ads</td>\n      <td>2021-10-29 19:12:00</td>\n      <td>200</td>\n      <td>6738</td>\n      <td>view</td>\n      <td>0</td>\n      <td>5</td>\n    </tr>\n  </tbody>\n</table>\n</div>"
     },
     "execution_count": 5,
     "metadata": {},
     "output_type": "execute_result"
    }
   ],
   "source": [
    "user_behavior.head()"
   ],
   "metadata": {
    "collapsed": false,
    "pycharm": {
     "name": "#%%\n"
    }
   }
  },
  {
   "cell_type": "code",
   "execution_count": 7,
   "outputs": [
    {
     "data": {
      "text/plain": "   user_id  gender  age country  exp_group       os source\n0      200       1   34  Russia          3  Android    ads\n1      201       0   37  Russia          0  Android    ads\n2      202       1   17  Russia          4  Android    ads\n3      203       0   18  Russia          1      iOS    ads\n4      204       0   36  Russia          3  Android    ads",
      "text/html": "<div>\n<style scoped>\n    .dataframe tbody tr th:only-of-type {\n        vertical-align: middle;\n    }\n\n    .dataframe tbody tr th {\n        vertical-align: top;\n    }\n\n    .dataframe thead th {\n        text-align: right;\n    }\n</style>\n<table border=\"1\" class=\"dataframe\">\n  <thead>\n    <tr style=\"text-align: right;\">\n      <th></th>\n      <th>user_id</th>\n      <th>gender</th>\n      <th>age</th>\n      <th>country</th>\n      <th>exp_group</th>\n      <th>os</th>\n      <th>source</th>\n    </tr>\n  </thead>\n  <tbody>\n    <tr>\n      <th>0</th>\n      <td>200</td>\n      <td>1</td>\n      <td>34</td>\n      <td>Russia</td>\n      <td>3</td>\n      <td>Android</td>\n      <td>ads</td>\n    </tr>\n    <tr>\n      <th>1</th>\n      <td>201</td>\n      <td>0</td>\n      <td>37</td>\n      <td>Russia</td>\n      <td>0</td>\n      <td>Android</td>\n      <td>ads</td>\n    </tr>\n    <tr>\n      <th>2</th>\n      <td>202</td>\n      <td>1</td>\n      <td>17</td>\n      <td>Russia</td>\n      <td>4</td>\n      <td>Android</td>\n      <td>ads</td>\n    </tr>\n    <tr>\n      <th>3</th>\n      <td>203</td>\n      <td>0</td>\n      <td>18</td>\n      <td>Russia</td>\n      <td>1</td>\n      <td>iOS</td>\n      <td>ads</td>\n    </tr>\n    <tr>\n      <th>4</th>\n      <td>204</td>\n      <td>0</td>\n      <td>36</td>\n      <td>Russia</td>\n      <td>3</td>\n      <td>Android</td>\n      <td>ads</td>\n    </tr>\n  </tbody>\n</table>\n</div>"
     },
     "execution_count": 7,
     "metadata": {},
     "output_type": "execute_result"
    }
   ],
   "source": [
    "\n",
    "user_data.head()"
   ],
   "metadata": {
    "collapsed": false,
    "pycharm": {
     "name": "#%%\n"
    }
   }
  },
  {
   "cell_type": "code",
   "execution_count": 8,
   "outputs": [
    {
     "data": {
      "text/plain": "205"
     },
     "execution_count": 8,
     "metadata": {},
     "output_type": "execute_result"
    }
   ],
   "source": [
    "from sqlalchemy import create_engine\n",
    "engine = create_engine(\n",
    "    \"postgresql://robot-startml-ro:pheiph0hahj1Vaif@\"\n",
    "    \"postgres.lab.karpov.courses:6432/startml\"\n",
    ")\n",
    "user_data.to_sql('shatalov_dmitry_user', con=engine)"
   ],
   "metadata": {
    "collapsed": false,
    "pycharm": {
     "name": "#%%\n"
    }
   }
  },
  {
   "cell_type": "code",
   "execution_count": 18,
   "outputs": [],
   "source": [
    "post_text_df = pd.read_sql(\n",
    "    \"\"\"SELECT *\n",
    "    FROM post_text_df\n",
    "    \"\"\",\n",
    "       con=\"postgresql://robot-startml-ro:pheiph0hahj1Vaif@\"\n",
    "         \"postgres.lab.karpov.courses:6432/startml\")"
   ],
   "metadata": {
    "collapsed": false,
    "pycharm": {
     "name": "#%%\n"
    }
   }
  },
  {
   "cell_type": "code",
   "execution_count": 3,
   "outputs": [],
   "source": [
    "#Создадим на всякий случай копию датафрейма, чтобы какждый раз не грузить по новой данные\n",
    "user_behavior_copy = user_behavior.copy()"
   ],
   "metadata": {
    "collapsed": false,
    "pycharm": {
     "name": "#%%\n"
    }
   }
  },
  {
   "cell_type": "code",
   "execution_count": 4,
   "outputs": [],
   "source": [
    "#удалим технический столбец\n",
    "user_behavior_copy = user_behavior_copy.drop(\"rownum\", axis=1)"
   ],
   "metadata": {
    "collapsed": false,
    "pycharm": {
     "name": "#%%\n"
    }
   }
  },
  {
   "cell_type": "code",
   "execution_count": 5,
   "outputs": [],
   "source": [
    "#Удалим повторяющиеся колонки post_id\n",
    "user_behavior_copy = user_behavior_copy.loc[:,~user_behavior_copy.columns.duplicated()].copy()"
   ],
   "metadata": {
    "collapsed": false,
    "pycharm": {
     "name": "#%%\n"
    }
   }
  },
  {
   "cell_type": "code",
   "execution_count": null,
   "outputs": [],
   "source": [
    "user_behavior_copy.head(10)"
   ],
   "metadata": {
    "collapsed": false,
    "pycharm": {
     "name": "#%%\n"
    }
   }
  },
  {
   "cell_type": "code",
   "execution_count": null,
   "outputs": [],
   "source": [
    "user_behavior_copy.isna().sum()"
   ],
   "metadata": {
    "collapsed": false,
    "pycharm": {
     "name": "#%%\n"
    }
   }
  },
  {
   "cell_type": "code",
   "execution_count": null,
   "outputs": [],
   "source": [
    "sns.catplot(x=\"gender\", kind=\"count\", col=\"target\", data=user_behavior_copy, sharey=False)"
   ],
   "metadata": {
    "collapsed": false,
    "pycharm": {
     "name": "#%%\n"
    }
   }
  },
  {
   "cell_type": "code",
   "execution_count": null,
   "outputs": [],
   "source": [
    "sns.catplot(x=\"age\", kind=\"count\", col=\"target\", data=user_behavior_copy, sharey=False)"
   ],
   "metadata": {
    "collapsed": false,
    "pycharm": {
     "name": "#%%\n"
    }
   }
  },
  {
   "cell_type": "code",
   "execution_count": null,
   "outputs": [],
   "source": [
    "sns.catplot(x=\"country\", kind=\"count\", col=\"target\", data=user_behavior_copy, sharey=False)"
   ],
   "metadata": {
    "collapsed": false,
    "pycharm": {
     "name": "#%%\n"
    }
   }
  },
  {
   "cell_type": "code",
   "execution_count": null,
   "outputs": [],
   "source": [
    "sns.catplot(x=\"os\", kind=\"count\", col=\"target\", data=user_behavior_copy, sharey=False)"
   ],
   "metadata": {
    "collapsed": false,
    "pycharm": {
     "name": "#%%\n"
    }
   }
  },
  {
   "cell_type": "code",
   "execution_count": null,
   "outputs": [],
   "source": [
    "sns.catplot(x=\"exp_group\", kind=\"count\", col=\"target\", data=user_behavior_copy, sharey=False)"
   ],
   "metadata": {
    "collapsed": false,
    "pycharm": {
     "name": "#%%\n"
    }
   }
  },
  {
   "cell_type": "code",
   "execution_count": 6,
   "outputs": [],
   "source": [
    "#для просмотров, где действие являлось лайком, проставим тоже 1 в таргет\n",
    "user_behavior_copy.loc[(user_behavior_copy[\"action\"] == \"like\"), \"target\"] = 1"
   ],
   "metadata": {
    "collapsed": false,
    "pycharm": {
     "name": "#%%\n"
    }
   }
  },
  {
   "cell_type": "code",
   "execution_count": 7,
   "outputs": [],
   "source": [
    "#удалим пока что акшионы\n",
    "user_behavior_copy = user_behavior_copy.drop(\"action\", axis=1)"
   ],
   "metadata": {
    "collapsed": false,
    "pycharm": {
     "name": "#%%\n"
    }
   }
  },
  {
   "cell_type": "code",
   "execution_count": 8,
   "outputs": [],
   "source": [
    "#удалим город, их слишком много, потом подумаем что делать с городом\n",
    "user_behavior_copy = user_behavior_copy.drop(\"city\", axis=1)"
   ],
   "metadata": {
    "collapsed": false,
    "pycharm": {
     "name": "#%%\n"
    }
   }
  },
  {
   "cell_type": "code",
   "execution_count": 9,
   "outputs": [],
   "source": [
    "\n",
    "user_behavior_copy['hour'] = user_behavior_copy.timestamp.dt.hour"
   ],
   "metadata": {
    "collapsed": false,
    "pycharm": {
     "name": "#%%\n"
    }
   }
  },
  {
   "cell_type": "code",
   "execution_count": null,
   "outputs": [],
   "source": [
    "user_behavior_copy.head()"
   ],
   "metadata": {
    "collapsed": false,
    "pycharm": {
     "name": "#%%\n"
    }
   }
  },
  {
   "cell_type": "code",
   "execution_count": 10,
   "outputs": [],
   "source": [
    "user_behavior_copy['timestamp'] = user_behavior_copy['timestamp'].apply(lambda x: x.timestamp()).astype(int)"
   ],
   "metadata": {
    "collapsed": false,
    "pycharm": {
     "name": "#%%\n"
    }
   }
  },
  {
   "cell_type": "code",
   "execution_count": 13,
   "outputs": [],
   "source": [
    "user_behavior_copy = user_behavior_copy.drop([\"timestamp\", \"post_id\", \"target\", \"hour\"], axis=1)"
   ],
   "metadata": {
    "collapsed": false,
    "pycharm": {
     "name": "#%%\n"
    }
   }
  },
  {
   "cell_type": "code",
   "execution_count": 14,
   "outputs": [
    {
     "data": {
      "text/plain": "   user_id  gender  age country  exp_group       os source\n0      200       1   34  Russia          3  Android    ads\n1      200       1   34  Russia          3  Android    ads\n2      200       1   34  Russia          3  Android    ads\n3      200       1   34  Russia          3  Android    ads\n4      200       1   34  Russia          3  Android    ads",
      "text/html": "<div>\n<style scoped>\n    .dataframe tbody tr th:only-of-type {\n        vertical-align: middle;\n    }\n\n    .dataframe tbody tr th {\n        vertical-align: top;\n    }\n\n    .dataframe thead th {\n        text-align: right;\n    }\n</style>\n<table border=\"1\" class=\"dataframe\">\n  <thead>\n    <tr style=\"text-align: right;\">\n      <th></th>\n      <th>user_id</th>\n      <th>gender</th>\n      <th>age</th>\n      <th>country</th>\n      <th>exp_group</th>\n      <th>os</th>\n      <th>source</th>\n    </tr>\n  </thead>\n  <tbody>\n    <tr>\n      <th>0</th>\n      <td>200</td>\n      <td>1</td>\n      <td>34</td>\n      <td>Russia</td>\n      <td>3</td>\n      <td>Android</td>\n      <td>ads</td>\n    </tr>\n    <tr>\n      <th>1</th>\n      <td>200</td>\n      <td>1</td>\n      <td>34</td>\n      <td>Russia</td>\n      <td>3</td>\n      <td>Android</td>\n      <td>ads</td>\n    </tr>\n    <tr>\n      <th>2</th>\n      <td>200</td>\n      <td>1</td>\n      <td>34</td>\n      <td>Russia</td>\n      <td>3</td>\n      <td>Android</td>\n      <td>ads</td>\n    </tr>\n    <tr>\n      <th>3</th>\n      <td>200</td>\n      <td>1</td>\n      <td>34</td>\n      <td>Russia</td>\n      <td>3</td>\n      <td>Android</td>\n      <td>ads</td>\n    </tr>\n    <tr>\n      <th>4</th>\n      <td>200</td>\n      <td>1</td>\n      <td>34</td>\n      <td>Russia</td>\n      <td>3</td>\n      <td>Android</td>\n      <td>ads</td>\n    </tr>\n  </tbody>\n</table>\n</div>"
     },
     "execution_count": 14,
     "metadata": {},
     "output_type": "execute_result"
    }
   ],
   "source": [
    "user_behavior_copy.head()"
   ],
   "metadata": {
    "collapsed": false,
    "pycharm": {
     "name": "#%%\n"
    }
   }
  },
  {
   "cell_type": "code",
   "execution_count": 15,
   "outputs": [],
   "source": [
    "from sqlalchemy import create_engine\n",
    "engine = create_engine(\n",
    "    \"postgresql://robot-startml-ro:pheiph0hahj1Vaif@\"\n",
    "    \"postgres.lab.karpov.courses:6432/startml\"\n",
    ")"
   ],
   "metadata": {
    "collapsed": false,
    "pycharm": {
     "name": "#%%\n"
    }
   }
  },
  {
   "cell_type": "code",
   "execution_count": 16,
   "outputs": [
    {
     "data": {
      "text/plain": "25"
     },
     "execution_count": 16,
     "metadata": {},
     "output_type": "execute_result"
    }
   ],
   "source": [
    "user_behavior_copy.to_sql('shatalov_dmitry_users', con=engine)"
   ],
   "metadata": {
    "collapsed": false,
    "pycharm": {
     "name": "#%%\n"
    }
   }
  },
  {
   "cell_type": "code",
   "execution_count": null,
   "outputs": [],
   "source": [
    "user_behavior_copy"
   ],
   "metadata": {
    "collapsed": false,
    "pycharm": {
     "name": "#%%\n"
    }
   }
  },
  {
   "cell_type": "code",
   "execution_count": null,
   "outputs": [],
   "source": [
    "post_text_df.nunique()"
   ],
   "metadata": {
    "collapsed": false,
    "pycharm": {
     "name": "#%%\n"
    }
   }
  },
  {
   "cell_type": "code",
   "execution_count": 19,
   "outputs": [],
   "source": [
    "from sklearn.feature_extraction.text import TfidfVectorizer\n",
    "vectorizer = TfidfVectorizer()\n",
    "tf_idf = vectorizer.fit_transform(post_text_df[\"text\"])"
   ],
   "metadata": {
    "collapsed": false,
    "pycharm": {
     "name": "#%%\n"
    }
   }
  },
  {
   "cell_type": "code",
   "execution_count": 20,
   "outputs": [],
   "source": [
    "from sklearn.decomposition import TruncatedSVD"
   ],
   "metadata": {
    "collapsed": false,
    "pycharm": {
     "name": "#%%\n"
    }
   }
  },
  {
   "cell_type": "code",
   "execution_count": 21,
   "outputs": [],
   "source": [
    "svd = TruncatedSVD(n_components=100)\n",
    "tf_idf_svd = svd.fit_transform(tf_idf)"
   ],
   "metadata": {
    "collapsed": false,
    "pycharm": {
     "name": "#%%\n"
    }
   }
  },
  {
   "cell_type": "code",
   "execution_count": 22,
   "outputs": [],
   "source": [
    "df_tf_idf_svd = pd.DataFrame(tf_idf_svd)"
   ],
   "metadata": {
    "collapsed": false,
    "pycharm": {
     "name": "#%%\n"
    }
   }
  },
  {
   "cell_type": "code",
   "execution_count": null,
   "outputs": [],
   "source": [
    "type(df_tf_idf_svd)"
   ],
   "metadata": {
    "collapsed": false,
    "pycharm": {
     "name": "#%%\n"
    }
   }
  },
  {
   "cell_type": "code",
   "execution_count": null,
   "outputs": [],
   "source": [],
   "metadata": {
    "collapsed": false,
    "pycharm": {
     "name": "#%%\n"
    }
   }
  },
  {
   "cell_type": "code",
   "execution_count": null,
   "outputs": [],
   "source": [],
   "metadata": {
    "collapsed": false,
    "pycharm": {
     "name": "#%%\n"
    }
   }
  },
  {
   "cell_type": "markdown",
   "source": [],
   "metadata": {
    "collapsed": false,
    "pycharm": {
     "name": "#%% md\n"
    }
   }
  },
  {
   "cell_type": "code",
   "execution_count": 23,
   "outputs": [],
   "source": [
    "post_text_df = pd.concat([post_text_df, df_tf_idf_svd], axis=1)"
   ],
   "metadata": {
    "collapsed": false,
    "pycharm": {
     "name": "#%%\n"
    }
   }
  },
  {
   "cell_type": "code",
   "execution_count": 24,
   "outputs": [
    {
     "data": {
      "text/plain": "   post_id                                               text     topic  \\\n0        1  UK economy facing major risks\\n\\nThe UK manufa...  business   \n1        2  Aids and climate top Davos agenda\\n\\nClimate c...  business   \n2        3  Asian quake hits European shares\\n\\nShares in ...  business   \n3        4  India power shares jump on debut\\n\\nShares in ...  business   \n4        5  Lacroix label bought by US firm\\n\\nLuxury good...  business   \n\n          0         1         2         3         4         5         6  ...  \\\n0  0.386969 -0.178559 -0.090353 -0.092315 -0.124235  0.026445 -0.090919  ...   \n1  0.422381 -0.203721 -0.085703 -0.002253 -0.065998  0.031487  0.019135  ...   \n2  0.374896 -0.136755 -0.063838 -0.089354 -0.111561  0.020525 -0.058589  ...   \n3  0.258776 -0.118369 -0.052491 -0.053808 -0.096098  0.022668 -0.033831  ...   \n4  0.194117 -0.099520 -0.045275 -0.001915 -0.034148 -0.007880 -0.008969  ...   \n\n         90        91        92        93        94        95        96  \\\n0 -0.027707  0.009552 -0.008999 -0.013628 -0.006564 -0.010809 -0.033995   \n1  0.026562  0.026715  0.022422  0.011496 -0.030049 -0.013404 -0.006376   \n2  0.003895 -0.026901 -0.059054  0.028854 -0.045230  0.018362 -0.000664   \n3 -0.029090 -0.008279 -0.047934 -0.010357 -0.006429 -0.010600 -0.018037   \n4 -0.009430  0.012673 -0.017110 -0.011624 -0.009426 -0.003026  0.019623   \n\n         97        98        99  \n0 -0.037561 -0.001322 -0.013360  \n1  0.006521  0.013236 -0.014821  \n2  0.047550 -0.038122  0.002763  \n3 -0.042471 -0.019968  0.031709  \n4 -0.026298  0.011045  0.006989  \n\n[5 rows x 103 columns]",
      "text/html": "<div>\n<style scoped>\n    .dataframe tbody tr th:only-of-type {\n        vertical-align: middle;\n    }\n\n    .dataframe tbody tr th {\n        vertical-align: top;\n    }\n\n    .dataframe thead th {\n        text-align: right;\n    }\n</style>\n<table border=\"1\" class=\"dataframe\">\n  <thead>\n    <tr style=\"text-align: right;\">\n      <th></th>\n      <th>post_id</th>\n      <th>text</th>\n      <th>topic</th>\n      <th>0</th>\n      <th>1</th>\n      <th>2</th>\n      <th>3</th>\n      <th>4</th>\n      <th>5</th>\n      <th>6</th>\n      <th>...</th>\n      <th>90</th>\n      <th>91</th>\n      <th>92</th>\n      <th>93</th>\n      <th>94</th>\n      <th>95</th>\n      <th>96</th>\n      <th>97</th>\n      <th>98</th>\n      <th>99</th>\n    </tr>\n  </thead>\n  <tbody>\n    <tr>\n      <th>0</th>\n      <td>1</td>\n      <td>UK economy facing major risks\\n\\nThe UK manufa...</td>\n      <td>business</td>\n      <td>0.386969</td>\n      <td>-0.178559</td>\n      <td>-0.090353</td>\n      <td>-0.092315</td>\n      <td>-0.124235</td>\n      <td>0.026445</td>\n      <td>-0.090919</td>\n      <td>...</td>\n      <td>-0.027707</td>\n      <td>0.009552</td>\n      <td>-0.008999</td>\n      <td>-0.013628</td>\n      <td>-0.006564</td>\n      <td>-0.010809</td>\n      <td>-0.033995</td>\n      <td>-0.037561</td>\n      <td>-0.001322</td>\n      <td>-0.013360</td>\n    </tr>\n    <tr>\n      <th>1</th>\n      <td>2</td>\n      <td>Aids and climate top Davos agenda\\n\\nClimate c...</td>\n      <td>business</td>\n      <td>0.422381</td>\n      <td>-0.203721</td>\n      <td>-0.085703</td>\n      <td>-0.002253</td>\n      <td>-0.065998</td>\n      <td>0.031487</td>\n      <td>0.019135</td>\n      <td>...</td>\n      <td>0.026562</td>\n      <td>0.026715</td>\n      <td>0.022422</td>\n      <td>0.011496</td>\n      <td>-0.030049</td>\n      <td>-0.013404</td>\n      <td>-0.006376</td>\n      <td>0.006521</td>\n      <td>0.013236</td>\n      <td>-0.014821</td>\n    </tr>\n    <tr>\n      <th>2</th>\n      <td>3</td>\n      <td>Asian quake hits European shares\\n\\nShares in ...</td>\n      <td>business</td>\n      <td>0.374896</td>\n      <td>-0.136755</td>\n      <td>-0.063838</td>\n      <td>-0.089354</td>\n      <td>-0.111561</td>\n      <td>0.020525</td>\n      <td>-0.058589</td>\n      <td>...</td>\n      <td>0.003895</td>\n      <td>-0.026901</td>\n      <td>-0.059054</td>\n      <td>0.028854</td>\n      <td>-0.045230</td>\n      <td>0.018362</td>\n      <td>-0.000664</td>\n      <td>0.047550</td>\n      <td>-0.038122</td>\n      <td>0.002763</td>\n    </tr>\n    <tr>\n      <th>3</th>\n      <td>4</td>\n      <td>India power shares jump on debut\\n\\nShares in ...</td>\n      <td>business</td>\n      <td>0.258776</td>\n      <td>-0.118369</td>\n      <td>-0.052491</td>\n      <td>-0.053808</td>\n      <td>-0.096098</td>\n      <td>0.022668</td>\n      <td>-0.033831</td>\n      <td>...</td>\n      <td>-0.029090</td>\n      <td>-0.008279</td>\n      <td>-0.047934</td>\n      <td>-0.010357</td>\n      <td>-0.006429</td>\n      <td>-0.010600</td>\n      <td>-0.018037</td>\n      <td>-0.042471</td>\n      <td>-0.019968</td>\n      <td>0.031709</td>\n    </tr>\n    <tr>\n      <th>4</th>\n      <td>5</td>\n      <td>Lacroix label bought by US firm\\n\\nLuxury good...</td>\n      <td>business</td>\n      <td>0.194117</td>\n      <td>-0.099520</td>\n      <td>-0.045275</td>\n      <td>-0.001915</td>\n      <td>-0.034148</td>\n      <td>-0.007880</td>\n      <td>-0.008969</td>\n      <td>...</td>\n      <td>-0.009430</td>\n      <td>0.012673</td>\n      <td>-0.017110</td>\n      <td>-0.011624</td>\n      <td>-0.009426</td>\n      <td>-0.003026</td>\n      <td>0.019623</td>\n      <td>-0.026298</td>\n      <td>0.011045</td>\n      <td>0.006989</td>\n    </tr>\n  </tbody>\n</table>\n<p>5 rows × 103 columns</p>\n</div>"
     },
     "execution_count": 24,
     "metadata": {},
     "output_type": "execute_result"
    }
   ],
   "source": [
    "post_text_df.head()"
   ],
   "metadata": {
    "collapsed": false,
    "pycharm": {
     "name": "#%%\n"
    }
   }
  },
  {
   "cell_type": "code",
   "execution_count": 26,
   "outputs": [
    {
     "data": {
      "text/plain": "23"
     },
     "execution_count": 26,
     "metadata": {},
     "output_type": "execute_result"
    }
   ],
   "source": [
    "post_text_df.to_sql(\"shatalov_dmitry_text\", con=engine)"
   ],
   "metadata": {
    "collapsed": false,
    "pycharm": {
     "name": "#%%\n"
    }
   }
  },
  {
   "cell_type": "code",
   "execution_count": null,
   "outputs": [],
   "source": [
    "user_behavior_copy = user_behavior_copy.merge(post_text_df, on=[\"post_id\"])\n"
   ],
   "metadata": {
    "collapsed": false,
    "pycharm": {
     "name": "#%%\n"
    }
   }
  },
  {
   "cell_type": "code",
   "execution_count": null,
   "outputs": [],
   "source": [
    "user_behavior_copy = user_behavior_copy.drop(\"text\", axis = 1)"
   ],
   "metadata": {
    "collapsed": false,
    "pycharm": {
     "name": "#%%\n"
    }
   }
  },
  {
   "cell_type": "markdown",
   "source": [],
   "metadata": {
    "collapsed": false,
    "pycharm": {
     "name": "#%% md\n"
    }
   }
  },
  {
   "cell_type": "code",
   "execution_count": null,
   "outputs": [],
   "source": [
    "user_behavior_copy = user_behavior_copy.sort_values(by=\"timestamp\")\n"
   ],
   "metadata": {
    "collapsed": false,
    "pycharm": {
     "name": "#%%\n"
    }
   }
  },
  {
   "cell_type": "code",
   "execution_count": null,
   "outputs": [],
   "source": [
    "user_behavior_copy.head()"
   ],
   "metadata": {
    "collapsed": false,
    "pycharm": {
     "name": "#%%\n"
    }
   }
  },
  {
   "cell_type": "code",
   "execution_count": null,
   "outputs": [],
   "source": [
    "user_behavior_copy = user_behavior_copy.set_index(\"text\")"
   ],
   "metadata": {
    "collapsed": false,
    "pycharm": {
     "name": "#%%\n"
    }
   }
  },
  {
   "cell_type": "code",
   "execution_count": null,
   "outputs": [],
   "source": [
    "user_behavior_copy.head(5)"
   ],
   "metadata": {
    "collapsed": false,
    "pycharm": {
     "name": "#%%\n"
    }
   }
  },
  {
   "cell_type": "code",
   "execution_count": null,
   "outputs": [],
   "source": [
    "user_behavior_copy = user_behavior_copy.set_index(\"user_id\")"
   ],
   "metadata": {
    "collapsed": false,
    "pycharm": {
     "name": "#%%\n"
    }
   }
  },
  {
   "cell_type": "code",
   "execution_count": null,
   "outputs": [],
   "source": [
    "X = user_behavior_copy.drop('target', axis=1)\n",
    "y = user_behavior_copy['target']"
   ],
   "metadata": {
    "collapsed": false,
    "pycharm": {
     "name": "#%%\n"
    }
   }
  },
  {
   "cell_type": "code",
   "execution_count": null,
   "outputs": [],
   "source": [
    "user_behavior_copy = user_behavior_copy.drop(\"post_id\", axis = 1)"
   ],
   "metadata": {
    "collapsed": false,
    "pycharm": {
     "name": "#%%\n"
    }
   }
  },
  {
   "cell_type": "code",
   "execution_count": null,
   "outputs": [],
   "source": [
    "user_behavior_copy.head()"
   ],
   "metadata": {
    "collapsed": false,
    "pycharm": {
     "name": "#%%\n"
    }
   }
  },
  {
   "cell_type": "code",
   "execution_count": null,
   "outputs": [],
   "source": [
    "X_train = X.iloc[0 : int(X.shape[0]*0.8)]\n",
    "y_train = y.iloc[0 : int(y.shape[0]*0.8)]"
   ],
   "metadata": {
    "collapsed": false,
    "pycharm": {
     "name": "#%%\n"
    }
   }
  },
  {
   "cell_type": "code",
   "execution_count": null,
   "outputs": [],
   "source": [
    "X_test = X.iloc[int(X.shape[0]*0.8) : int(X.shape[0])]\n",
    "y_test = y.iloc[int(X.shape[0]*0.8) : int(X.shape[0])]"
   ],
   "metadata": {
    "collapsed": false,
    "pycharm": {
     "name": "#%%\n"
    }
   }
  },
  {
   "cell_type": "code",
   "execution_count": null,
   "outputs": [],
   "source": [
    "X_test.head()"
   ],
   "metadata": {
    "collapsed": false,
    "pycharm": {
     "name": "#%%\n"
    }
   }
  },
  {
   "cell_type": "code",
   "execution_count": null,
   "outputs": [],
   "source": [
    "X.shape"
   ],
   "metadata": {
    "collapsed": false,
    "pycharm": {
     "name": "#%%\n"
    }
   }
  },
  {
   "cell_type": "code",
   "execution_count": null,
   "outputs": [],
   "source": [
    "int(X.shape[0]*0.8)"
   ],
   "metadata": {
    "collapsed": false,
    "pycharm": {
     "name": "#%%\n"
    }
   }
  },
  {
   "cell_type": "code",
   "execution_count": null,
   "outputs": [],
   "source": [
    "X_train.head()"
   ],
   "metadata": {
    "collapsed": false,
    "pycharm": {
     "name": "#%%\n"
    }
   }
  },
  {
   "cell_type": "code",
   "execution_count": null,
   "outputs": [],
   "source": [
    "from catboost import CatBoostClassifier"
   ],
   "metadata": {
    "collapsed": false,
    "pycharm": {
     "name": "#%%\n"
    }
   }
  },
  {
   "cell_type": "code",
   "execution_count": null,
   "outputs": [],
   "source": [
    "X_test.columns[0]"
   ],
   "metadata": {
    "collapsed": false,
    "pycharm": {
     "name": "#%%\n"
    }
   }
  },
  {
   "cell_type": "code",
   "execution_count": null,
   "outputs": [],
   "source": [
    "from sklearn.metrics import classification_report\n",
    "\n",
    "\n",
    "\n",
    "\n",
    "cboost = CatBoostClassifier(auto_class_weights=\"SqrtBalanced\")\n",
    "\n",
    "cboost.fit(X_train,\n",
    "           y_train,\n",
    "           cat_features=['country', \"os\", \"source\", \"topic\"] )\n",
    "\n",
    "y_pred = cboost.predict(X_test)\n",
    "\n",
    "print(classification_report(y_test, y_pred, digits=4))"
   ],
   "metadata": {
    "collapsed": false,
    "pycharm": {
     "name": "#%%\n"
    }
   }
  },
  {
   "cell_type": "code",
   "execution_count": null,
   "outputs": [],
   "source": [
    "cboost.feature_importances_"
   ],
   "metadata": {
    "collapsed": false,
    "pycharm": {
     "name": "#%%\n"
    }
   }
  },
  {
   "cell_type": "code",
   "execution_count": null,
   "outputs": [],
   "source": [
    "cboost.save_model('catboost_model_3', format=\"cbm\")"
   ],
   "metadata": {
    "collapsed": false,
    "pycharm": {
     "name": "#%%\n"
    }
   }
  },
  {
   "cell_type": "code",
   "execution_count": null,
   "outputs": [],
   "source": [
    "user_behavior_copy.to_csv('catboost_f.csv')"
   ],
   "metadata": {
    "collapsed": false,
    "pycharm": {
     "name": "#%%\n"
    }
   }
  },
  {
   "cell_type": "code",
   "execution_count": null,
   "outputs": [],
   "source": [
    "user.nunique()"
   ],
   "metadata": {
    "collapsed": false,
    "pycharm": {
     "name": "#%%\n"
    }
   }
  },
  {
   "cell_type": "code",
   "execution_count": null,
   "outputs": [],
   "source": [
    "from sqlalchemy import create_engine\n",
    "import pandas as pd\n",
    "def batch_load_sql(query: str) -> pd.DataFrame:\n",
    "    CHUNKSIZE = 200000\n",
    "    engine = create_engine(\n",
    "        \"postgresql://robot-startml-ro:pheiph0hahj1Vaif@\"\n",
    "        \"postgres.lab.karpov.courses:6432/startml\"\n",
    "    )\n",
    "    conn = engine.connect().execution_options(stream_results=True)\n",
    "    chunks = []\n",
    "    for chunk_dataframe in pd.read_sql(query, conn, chunksize=CHUNKSIZE):\n",
    "        chunks.append(chunk_dataframe)\n",
    "    conn.close()\n",
    "    return pd.concat(chunks, ignore_index=True)\n",
    "\n",
    "def load_features():\n",
    "    return batch_load_sql(\"\"\"SELECT * FROM \"shatalov_dmitry_f3\" \"\"\")"
   ],
   "metadata": {
    "collapsed": false,
    "pycharm": {
     "name": "#%%\n"
    }
   }
  },
  {
   "cell_type": "code",
   "execution_count": null,
   "outputs": [],
   "source": [
    "df = load_features()\n",
    "df"
   ],
   "metadata": {
    "collapsed": false,
    "pycharm": {
     "name": "#%%\n"
    }
   }
  },
  {
   "cell_type": "code",
   "execution_count": null,
   "outputs": [],
   "source": [
    "from sqlalchemy import create_engine\n",
    "import pandas as pd"
   ],
   "metadata": {
    "collapsed": false,
    "pycharm": {
     "name": "#%%\n"
    }
   }
  },
  {
   "cell_type": "code",
   "execution_count": null,
   "outputs": [],
   "source": [
    "user_behavior_copy.head()\n"
   ],
   "metadata": {
    "collapsed": false,
    "pycharm": {
     "name": "#%%\n"
    }
   }
  },
  {
   "cell_type": "code",
   "execution_count": null,
   "outputs": [],
   "source": [
    "engine = create_engine(\n",
    "    \"postgresql://robot-startml-ro:pheiph0hahj1Vaif@\"\n",
    "    \"postgres.lab.karpov.courses:6432/startml\"\n",
    ")\n"
   ],
   "metadata": {
    "collapsed": false,
    "pycharm": {
     "name": "#%%\n"
    }
   }
  },
  {
   "cell_type": "code",
   "execution_count": null,
   "outputs": [],
   "source": [
    "user_behavior_copy.to_sql('shatalov_dmitry_f3', con=engine)"
   ],
   "metadata": {
    "collapsed": false,
    "pycharm": {
     "name": "#%%\n"
    }
   }
  },
  {
   "cell_type": "code",
   "execution_count": null,
   "outputs": [],
   "source": [
    "user_behavior_copy.shape"
   ],
   "metadata": {
    "collapsed": false,
    "pycharm": {
     "name": "#%%\n"
    }
   }
  },
  {
   "cell_type": "code",
   "execution_count": 3,
   "outputs": [
    {
     "data": {
      "text/plain": "   Unnamed: 0  user_id  gender  age country  exp_group       os   source  \\\n0      120196   122594       0   33  Russia          1  Android  organic   \n1      399987    43965       1   28  Russia          4      iOS      ads   \n2      271957    94081       1   20  Russia          3  Android      ads   \n3       34605   136194       0   24  Russia          3      iOS  organic   \n4      581384   141770       0   27  Russia          0  Android  organic   \n\n    timestamp  post_id  ...        90        91        92        93        94  \\\n0  1633068100     4554  ...  0.037502  0.036908 -0.034453 -0.061260 -0.043897   \n1  1633068100     5747  ... -0.013138 -0.033236 -0.012336  0.019883  0.014769   \n2  1633068100     5671  ... -0.022173 -0.003069 -0.031064  0.020271 -0.018853   \n3  1633068100     1205  ... -0.019943 -0.006733 -0.027831 -0.005570  0.001175   \n4  1633068112      583  ... -0.027622  0.010700 -0.013210 -0.004139  0.005926   \n\n         95        96        97        98        99  \n0  0.016319 -0.011568  0.018723 -0.050328  0.094512  \n1  0.015488  0.023121 -0.024535 -0.008846 -0.018057  \n2 -0.004576 -0.045898  0.050105  0.039707 -0.022490  \n3  0.014934 -0.002055 -0.005040 -0.013210  0.025356  \n4  0.001327  0.018616 -0.022207  0.000192  0.022039  \n\n[5 rows x 113 columns]",
      "text/html": "<div>\n<style scoped>\n    .dataframe tbody tr th:only-of-type {\n        vertical-align: middle;\n    }\n\n    .dataframe tbody tr th {\n        vertical-align: top;\n    }\n\n    .dataframe thead th {\n        text-align: right;\n    }\n</style>\n<table border=\"1\" class=\"dataframe\">\n  <thead>\n    <tr style=\"text-align: right;\">\n      <th></th>\n      <th>Unnamed: 0</th>\n      <th>user_id</th>\n      <th>gender</th>\n      <th>age</th>\n      <th>country</th>\n      <th>exp_group</th>\n      <th>os</th>\n      <th>source</th>\n      <th>timestamp</th>\n      <th>post_id</th>\n      <th>...</th>\n      <th>90</th>\n      <th>91</th>\n      <th>92</th>\n      <th>93</th>\n      <th>94</th>\n      <th>95</th>\n      <th>96</th>\n      <th>97</th>\n      <th>98</th>\n      <th>99</th>\n    </tr>\n  </thead>\n  <tbody>\n    <tr>\n      <th>0</th>\n      <td>120196</td>\n      <td>122594</td>\n      <td>0</td>\n      <td>33</td>\n      <td>Russia</td>\n      <td>1</td>\n      <td>Android</td>\n      <td>organic</td>\n      <td>1633068100</td>\n      <td>4554</td>\n      <td>...</td>\n      <td>0.037502</td>\n      <td>0.036908</td>\n      <td>-0.034453</td>\n      <td>-0.061260</td>\n      <td>-0.043897</td>\n      <td>0.016319</td>\n      <td>-0.011568</td>\n      <td>0.018723</td>\n      <td>-0.050328</td>\n      <td>0.094512</td>\n    </tr>\n    <tr>\n      <th>1</th>\n      <td>399987</td>\n      <td>43965</td>\n      <td>1</td>\n      <td>28</td>\n      <td>Russia</td>\n      <td>4</td>\n      <td>iOS</td>\n      <td>ads</td>\n      <td>1633068100</td>\n      <td>5747</td>\n      <td>...</td>\n      <td>-0.013138</td>\n      <td>-0.033236</td>\n      <td>-0.012336</td>\n      <td>0.019883</td>\n      <td>0.014769</td>\n      <td>0.015488</td>\n      <td>0.023121</td>\n      <td>-0.024535</td>\n      <td>-0.008846</td>\n      <td>-0.018057</td>\n    </tr>\n    <tr>\n      <th>2</th>\n      <td>271957</td>\n      <td>94081</td>\n      <td>1</td>\n      <td>20</td>\n      <td>Russia</td>\n      <td>3</td>\n      <td>Android</td>\n      <td>ads</td>\n      <td>1633068100</td>\n      <td>5671</td>\n      <td>...</td>\n      <td>-0.022173</td>\n      <td>-0.003069</td>\n      <td>-0.031064</td>\n      <td>0.020271</td>\n      <td>-0.018853</td>\n      <td>-0.004576</td>\n      <td>-0.045898</td>\n      <td>0.050105</td>\n      <td>0.039707</td>\n      <td>-0.022490</td>\n    </tr>\n    <tr>\n      <th>3</th>\n      <td>34605</td>\n      <td>136194</td>\n      <td>0</td>\n      <td>24</td>\n      <td>Russia</td>\n      <td>3</td>\n      <td>iOS</td>\n      <td>organic</td>\n      <td>1633068100</td>\n      <td>1205</td>\n      <td>...</td>\n      <td>-0.019943</td>\n      <td>-0.006733</td>\n      <td>-0.027831</td>\n      <td>-0.005570</td>\n      <td>0.001175</td>\n      <td>0.014934</td>\n      <td>-0.002055</td>\n      <td>-0.005040</td>\n      <td>-0.013210</td>\n      <td>0.025356</td>\n    </tr>\n    <tr>\n      <th>4</th>\n      <td>581384</td>\n      <td>141770</td>\n      <td>0</td>\n      <td>27</td>\n      <td>Russia</td>\n      <td>0</td>\n      <td>Android</td>\n      <td>organic</td>\n      <td>1633068112</td>\n      <td>583</td>\n      <td>...</td>\n      <td>-0.027622</td>\n      <td>0.010700</td>\n      <td>-0.013210</td>\n      <td>-0.004139</td>\n      <td>0.005926</td>\n      <td>0.001327</td>\n      <td>0.018616</td>\n      <td>-0.022207</td>\n      <td>0.000192</td>\n      <td>0.022039</td>\n    </tr>\n  </tbody>\n</table>\n<p>5 rows × 113 columns</p>\n</div>"
     },
     "execution_count": 3,
     "metadata": {},
     "output_type": "execute_result"
    }
   ],
   "source": [
    "df = pd.read_csv(\"catboost_f.csv\")\n",
    "df.head()"
   ],
   "metadata": {
    "collapsed": false,
    "pycharm": {
     "name": "#%%\n"
    }
   }
  },
  {
   "cell_type": "code",
   "execution_count": null,
   "outputs": [],
   "source": [],
   "metadata": {
    "collapsed": false,
    "pycharm": {
     "name": "#%%\n"
    }
   }
  }
 ],
 "metadata": {
  "kernelspec": {
   "display_name": "Python 3",
   "language": "python",
   "name": "python3"
  },
  "language_info": {
   "codemirror_mode": {
    "name": "ipython",
    "version": 2
   },
   "file_extension": ".py",
   "mimetype": "text/x-python",
   "name": "python",
   "nbconvert_exporter": "python",
   "pygments_lexer": "ipython2",
   "version": "2.7.6"
  }
 },
 "nbformat": 4,
 "nbformat_minor": 0
}