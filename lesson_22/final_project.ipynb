{
 "cells": [
  {
   "cell_type": "code",
   "execution_count": 3,
   "outputs": [],
   "source": [
    "import os\n",
    "import pandas as pd\n",
    "import seaborn as sns"
   ],
   "metadata": {
    "collapsed": false,
    "pycharm": {
     "name": "#%%\n"
    }
   }
  },
  {
   "cell_type": "markdown",
   "source": [
    "Считывание данных"
   ],
   "metadata": {
    "collapsed": false,
    "pycharm": {
     "name": "#%% md\n"
    }
   }
  },
  {
   "cell_type": "code",
   "execution_count": 4,
   "outputs": [],
   "source": [
    "#А теперь считаем и объединим информацию по пользователям и feed_data с условием\n",
    "#чтобы для каждого пользователя количество действий было равно определенному числу"
   ],
   "metadata": {
    "collapsed": false,
    "pycharm": {
     "name": "#%%\n"
    }
   }
  },
  {
   "cell_type": "code",
   "execution_count": 5,
   "outputs": [],
   "source": [
    "user_behavior = pd.read_sql(\n",
    "    \"\"\"SELECT u.*, x.*\n",
    "    FROM user_data u\n",
    "    LEFT JOIN LATERAL (SELECT *,\n",
    "    ROW_NUMBER() OVER(PARTITION BY user_id) AS rownum\n",
    "    FROM feed_data) x on u.user_id = x.user_id\n",
    "    WHERE x.rownum <= 5\"\"\",\n",
    "       con=\"postgresql://robot-startml-ro:pheiph0hahj1Vaif@\"\n",
    "         \"postgres.lab.karpov.courses:6432/startml\")"
   ],
   "metadata": {
    "collapsed": false,
    "pycharm": {
     "name": "#%%\n"
    }
   }
  },
  {
   "cell_type": "code",
   "execution_count": 6,
   "outputs": [],
   "source": [
    "post_text_df = pd.read_sql(\n",
    "    \"\"\"SELECT *\n",
    "    FROM post_text_df\n",
    "    \"\"\",\n",
    "       con=\"postgresql://robot-startml-ro:pheiph0hahj1Vaif@\"\n",
    "         \"postgres.lab.karpov.courses:6432/startml\")"
   ],
   "metadata": {
    "collapsed": false,
    "pycharm": {
     "name": "#%%\n"
    }
   }
  },
  {
   "cell_type": "code",
   "execution_count": 7,
   "outputs": [],
   "source": [
    "#Создадим на всякий случай копию датафрейма, чтобы какждый раз не грузить по новой данные\n",
    "user_behavior_copy = user_behavior.copy()"
   ],
   "metadata": {
    "collapsed": false,
    "pycharm": {
     "name": "#%%\n"
    }
   }
  },
  {
   "cell_type": "code",
   "execution_count": 8,
   "outputs": [],
   "source": [
    "#удалим технический столбец\n",
    "user_behavior_copy = user_behavior_copy.drop(\"rownum\", axis=1)"
   ],
   "metadata": {
    "collapsed": false,
    "pycharm": {
     "name": "#%%\n"
    }
   }
  },
  {
   "cell_type": "code",
   "execution_count": 9,
   "outputs": [],
   "source": [
    "#Удалим повторяющиеся колонки post_id\n",
    "user_behavior_copy = user_behavior_copy.loc[:,~user_behavior_copy.columns.duplicated()].copy()"
   ],
   "metadata": {
    "collapsed": false,
    "pycharm": {
     "name": "#%%\n"
    }
   }
  },
  {
   "cell_type": "code",
   "execution_count": 10,
   "outputs": [
    {
     "data": {
      "text/plain": "   user_id  gender  age country       city  exp_group       os source  \\\n0      200       1   34  Russia  Degtyarsk          3  Android    ads   \n1      200       1   34  Russia  Degtyarsk          3  Android    ads   \n2      200       1   34  Russia  Degtyarsk          3  Android    ads   \n3      200       1   34  Russia  Degtyarsk          3  Android    ads   \n4      200       1   34  Russia  Degtyarsk          3  Android    ads   \n5      201       0   37  Russia     Abakan          0  Android    ads   \n6      201       0   37  Russia     Abakan          0  Android    ads   \n7      201       0   37  Russia     Abakan          0  Android    ads   \n8      201       0   37  Russia     Abakan          0  Android    ads   \n9      201       0   37  Russia     Abakan          0  Android    ads   \n\n            timestamp  post_id action  target  \n0 2021-11-13 19:30:21     2067   view       0  \n1 2021-11-13 19:30:50     5206   view       0  \n2 2021-11-13 19:33:21     5807   view       0  \n3 2021-11-13 19:36:15     6661   view       1  \n4 2021-11-13 19:38:59     6661   like       0  \n5 2021-10-04 09:44:05     1033   view       0  \n6 2021-10-04 09:45:34     6917   view       0  \n7 2021-10-04 09:45:50     3991   view       0  \n8 2021-10-04 09:46:35     4240   view       0  \n9 2021-10-04 09:48:51     3270   view       0  ",
      "text/html": "<div>\n<style scoped>\n    .dataframe tbody tr th:only-of-type {\n        vertical-align: middle;\n    }\n\n    .dataframe tbody tr th {\n        vertical-align: top;\n    }\n\n    .dataframe thead th {\n        text-align: right;\n    }\n</style>\n<table border=\"1\" class=\"dataframe\">\n  <thead>\n    <tr style=\"text-align: right;\">\n      <th></th>\n      <th>user_id</th>\n      <th>gender</th>\n      <th>age</th>\n      <th>country</th>\n      <th>city</th>\n      <th>exp_group</th>\n      <th>os</th>\n      <th>source</th>\n      <th>timestamp</th>\n      <th>post_id</th>\n      <th>action</th>\n      <th>target</th>\n    </tr>\n  </thead>\n  <tbody>\n    <tr>\n      <th>0</th>\n      <td>200</td>\n      <td>1</td>\n      <td>34</td>\n      <td>Russia</td>\n      <td>Degtyarsk</td>\n      <td>3</td>\n      <td>Android</td>\n      <td>ads</td>\n      <td>2021-11-13 19:30:21</td>\n      <td>2067</td>\n      <td>view</td>\n      <td>0</td>\n    </tr>\n    <tr>\n      <th>1</th>\n      <td>200</td>\n      <td>1</td>\n      <td>34</td>\n      <td>Russia</td>\n      <td>Degtyarsk</td>\n      <td>3</td>\n      <td>Android</td>\n      <td>ads</td>\n      <td>2021-11-13 19:30:50</td>\n      <td>5206</td>\n      <td>view</td>\n      <td>0</td>\n    </tr>\n    <tr>\n      <th>2</th>\n      <td>200</td>\n      <td>1</td>\n      <td>34</td>\n      <td>Russia</td>\n      <td>Degtyarsk</td>\n      <td>3</td>\n      <td>Android</td>\n      <td>ads</td>\n      <td>2021-11-13 19:33:21</td>\n      <td>5807</td>\n      <td>view</td>\n      <td>0</td>\n    </tr>\n    <tr>\n      <th>3</th>\n      <td>200</td>\n      <td>1</td>\n      <td>34</td>\n      <td>Russia</td>\n      <td>Degtyarsk</td>\n      <td>3</td>\n      <td>Android</td>\n      <td>ads</td>\n      <td>2021-11-13 19:36:15</td>\n      <td>6661</td>\n      <td>view</td>\n      <td>1</td>\n    </tr>\n    <tr>\n      <th>4</th>\n      <td>200</td>\n      <td>1</td>\n      <td>34</td>\n      <td>Russia</td>\n      <td>Degtyarsk</td>\n      <td>3</td>\n      <td>Android</td>\n      <td>ads</td>\n      <td>2021-11-13 19:38:59</td>\n      <td>6661</td>\n      <td>like</td>\n      <td>0</td>\n    </tr>\n    <tr>\n      <th>5</th>\n      <td>201</td>\n      <td>0</td>\n      <td>37</td>\n      <td>Russia</td>\n      <td>Abakan</td>\n      <td>0</td>\n      <td>Android</td>\n      <td>ads</td>\n      <td>2021-10-04 09:44:05</td>\n      <td>1033</td>\n      <td>view</td>\n      <td>0</td>\n    </tr>\n    <tr>\n      <th>6</th>\n      <td>201</td>\n      <td>0</td>\n      <td>37</td>\n      <td>Russia</td>\n      <td>Abakan</td>\n      <td>0</td>\n      <td>Android</td>\n      <td>ads</td>\n      <td>2021-10-04 09:45:34</td>\n      <td>6917</td>\n      <td>view</td>\n      <td>0</td>\n    </tr>\n    <tr>\n      <th>7</th>\n      <td>201</td>\n      <td>0</td>\n      <td>37</td>\n      <td>Russia</td>\n      <td>Abakan</td>\n      <td>0</td>\n      <td>Android</td>\n      <td>ads</td>\n      <td>2021-10-04 09:45:50</td>\n      <td>3991</td>\n      <td>view</td>\n      <td>0</td>\n    </tr>\n    <tr>\n      <th>8</th>\n      <td>201</td>\n      <td>0</td>\n      <td>37</td>\n      <td>Russia</td>\n      <td>Abakan</td>\n      <td>0</td>\n      <td>Android</td>\n      <td>ads</td>\n      <td>2021-10-04 09:46:35</td>\n      <td>4240</td>\n      <td>view</td>\n      <td>0</td>\n    </tr>\n    <tr>\n      <th>9</th>\n      <td>201</td>\n      <td>0</td>\n      <td>37</td>\n      <td>Russia</td>\n      <td>Abakan</td>\n      <td>0</td>\n      <td>Android</td>\n      <td>ads</td>\n      <td>2021-10-04 09:48:51</td>\n      <td>3270</td>\n      <td>view</td>\n      <td>0</td>\n    </tr>\n  </tbody>\n</table>\n</div>"
     },
     "execution_count": 10,
     "metadata": {},
     "output_type": "execute_result"
    }
   ],
   "source": [
    "user_behavior_copy.head(10)"
   ],
   "metadata": {
    "collapsed": false,
    "pycharm": {
     "name": "#%%\n"
    }
   }
  },
  {
   "cell_type": "code",
   "execution_count": 10,
   "outputs": [
    {
     "data": {
      "text/plain": "user_id      0\ngender       0\nage          0\ncountry      0\ncity         0\nexp_group    0\nos           0\nsource       0\ntimestamp    0\npost_id      0\naction       0\ntarget       0\ndtype: int64"
     },
     "execution_count": 10,
     "metadata": {},
     "output_type": "execute_result"
    }
   ],
   "source": [
    "user_behavior_copy.isna().sum()"
   ],
   "metadata": {
    "collapsed": false,
    "pycharm": {
     "name": "#%%\n"
    }
   }
  },
  {
   "cell_type": "code",
   "execution_count": null,
   "outputs": [],
   "source": [
    "sns.catplot(x=\"gender\", kind=\"count\", col=\"target\", data=user_behavior_copy, sharey=False)"
   ],
   "metadata": {
    "collapsed": false,
    "pycharm": {
     "name": "#%%\n"
    }
   }
  },
  {
   "cell_type": "code",
   "execution_count": null,
   "outputs": [],
   "source": [
    "sns.catplot(x=\"age\", kind=\"count\", col=\"target\", data=user_behavior_copy, sharey=False)"
   ],
   "metadata": {
    "collapsed": false,
    "pycharm": {
     "name": "#%%\n"
    }
   }
  },
  {
   "cell_type": "code",
   "execution_count": null,
   "outputs": [],
   "source": [
    "sns.catplot(x=\"country\", kind=\"count\", col=\"target\", data=user_behavior_copy, sharey=False)"
   ],
   "metadata": {
    "collapsed": false,
    "pycharm": {
     "name": "#%%\n"
    }
   }
  },
  {
   "cell_type": "code",
   "execution_count": null,
   "outputs": [],
   "source": [
    "sns.catplot(x=\"os\", kind=\"count\", col=\"target\", data=user_behavior_copy, sharey=False)"
   ],
   "metadata": {
    "collapsed": false,
    "pycharm": {
     "name": "#%%\n"
    }
   }
  },
  {
   "cell_type": "code",
   "execution_count": null,
   "outputs": [],
   "source": [
    "sns.catplot(x=\"exp_group\", kind=\"count\", col=\"target\", data=user_behavior_copy, sharey=False)"
   ],
   "metadata": {
    "collapsed": false,
    "pycharm": {
     "name": "#%%\n"
    }
   }
  },
  {
   "cell_type": "code",
   "execution_count": 11,
   "outputs": [],
   "source": [
    "#для просмотров, где действие являлось лайком, проставим тоже 1 в таргет\n",
    "user_behavior_copy.loc[(user_behavior_copy[\"action\"] == \"like\"), \"target\"] = 1"
   ],
   "metadata": {
    "collapsed": false,
    "pycharm": {
     "name": "#%%\n"
    }
   }
  },
  {
   "cell_type": "code",
   "execution_count": 26,
   "outputs": [],
   "source": [
    "#удалим пока что акшионы\n",
    "user_behavior_copy = user_behavior_copy.drop(\"action\", axis=1)"
   ],
   "metadata": {
    "collapsed": false,
    "pycharm": {
     "name": "#%%\n"
    }
   }
  },
  {
   "cell_type": "code",
   "execution_count": 12,
   "outputs": [],
   "source": [
    "#удалим город, их слишком много, потом подумаем что делать с городом\n",
    "user_behavior_copy = user_behavior_copy.drop(\"city\", axis=1)"
   ],
   "metadata": {
    "collapsed": false,
    "pycharm": {
     "name": "#%%\n"
    }
   }
  },
  {
   "cell_type": "code",
   "execution_count": 13,
   "outputs": [],
   "source": [
    "user_behavior_copy['timestamp'] = pd.to_datetime(user_behavior_copy['timestamp'])\n",
    "user_behavior_copy['hour'] = user_behavior_copy.timestamp.dt.hour"
   ],
   "metadata": {
    "collapsed": false,
    "pycharm": {
     "name": "#%%\n"
    }
   }
  },
  {
   "cell_type": "code",
   "execution_count": null,
   "outputs": [],
   "source": [
    "user_behavior_copy.head()"
   ],
   "metadata": {
    "collapsed": false,
    "pycharm": {
     "name": "#%%\n"
    }
   }
  },
  {
   "cell_type": "code",
   "execution_count": 16,
   "outputs": [
    {
     "data": {
      "text/plain": "user_id      163205\ngender            2\nage              76\ncountry          11\nexp_group         5\nos                2\nsource            2\ntimestamp    859644\npost_id        6831\ntarget            2\nhour             19\ndtype: int64"
     },
     "execution_count": 16,
     "metadata": {},
     "output_type": "execute_result"
    }
   ],
   "source": [
    "user_behavior_copy.nunique()"
   ],
   "metadata": {
    "collapsed": false,
    "pycharm": {
     "name": "#%%\n"
    }
   }
  },
  {
   "cell_type": "code",
   "execution_count": 17,
   "outputs": [
    {
     "data": {
      "text/plain": "post_id    7023\ntext       6924\ntopic         7\ndtype: int64"
     },
     "execution_count": 17,
     "metadata": {},
     "output_type": "execute_result"
    }
   ],
   "source": [
    "post_text_df.nunique()"
   ],
   "metadata": {
    "collapsed": false,
    "pycharm": {
     "name": "#%%\n"
    }
   }
  },
  {
   "cell_type": "code",
   "execution_count": 27,
   "outputs": [],
   "source": [
    "from sklearn.feature_extraction.text import TfidfVectorizer\n",
    "vectorizer = TfidfVectorizer()\n",
    "tf_idf = vectorizer.fit_transform(post_text_df[\"text\"])"
   ],
   "metadata": {
    "collapsed": false,
    "pycharm": {
     "name": "#%%\n"
    }
   }
  },
  {
   "cell_type": "code",
   "execution_count": 28,
   "outputs": [],
   "source": [
    "from sklearn.decomposition import TruncatedSVD"
   ],
   "metadata": {
    "collapsed": false,
    "pycharm": {
     "name": "#%%\n"
    }
   }
  },
  {
   "cell_type": "code",
   "execution_count": null,
   "outputs": [],
   "source": [
    "svd = TruncatedSVD(n_components=200)\n",
    "tf_idf_svd = svd.fit_transform(tf_idf)"
   ],
   "metadata": {
    "collapsed": false,
    "pycharm": {
     "name": "#%%\n",
     "is_executing": true
    }
   }
  },
  {
   "cell_type": "code",
   "execution_count": null,
   "outputs": [],
   "source": [
    "df_tf_idf_svd = pd.DataFrame(tf_idf_svd)"
   ],
   "metadata": {
    "collapsed": false,
    "pycharm": {
     "name": "#%%\n",
     "is_executing": true
    }
   }
  },
  {
   "cell_type": "code",
   "execution_count": null,
   "outputs": [],
   "source": [
    "type(df_tf_idf_svd)"
   ],
   "metadata": {
    "collapsed": false,
    "pycharm": {
     "name": "#%%\n"
    }
   }
  },
  {
   "cell_type": "code",
   "execution_count": null,
   "outputs": [],
   "source": [
    "post_text_df = pd.concat([post_text_df, df_tf_idf_svd], axis=1)"
   ],
   "metadata": {
    "collapsed": false,
    "pycharm": {
     "name": "#%%\n",
     "is_executing": true
    }
   }
  },
  {
   "cell_type": "code",
   "execution_count": null,
   "outputs": [],
   "source": [
    "user_behavior_copy = user_behavior_copy.merge(post_text_df, on=[\"post_id\"])\n"
   ],
   "metadata": {
    "collapsed": false,
    "pycharm": {
     "name": "#%%\n",
     "is_executing": true
    }
   }
  },
  {
   "cell_type": "code",
   "execution_count": null,
   "outputs": [],
   "source": [
    "user_behavior_copy.head()"
   ],
   "metadata": {
    "collapsed": false,
    "pycharm": {
     "name": "#%%\n"
    }
   }
  },
  {
   "cell_type": "code",
   "execution_count": null,
   "outputs": [],
   "source": [
    "#пока что удалим текст, потом попробуем TF-IDF\n",
    "user_behavior_copy = user_behavior_copy.drop(\"text\", axis=1)"
   ],
   "metadata": {
    "collapsed": false,
    "pycharm": {
     "name": "#%%\n",
     "is_executing": true
    }
   }
  },
  {
   "cell_type": "markdown",
   "source": [],
   "metadata": {
    "collapsed": false,
    "pycharm": {
     "name": "#%% md\n"
    }
   }
  },
  {
   "cell_type": "code",
   "execution_count": 18,
   "outputs": [],
   "source": [
    "user_behavior_copy.set_index([\"post_id\", \"user_id\"], inplace=True)"
   ],
   "metadata": {
    "collapsed": false,
    "pycharm": {
     "name": "#%%\n"
    }
   }
  },
  {
   "cell_type": "code",
   "execution_count": 44,
   "outputs": [
    {
     "data": {
      "text/plain": "    user_id  gender  age  country  exp_group       os source  \\\n0       200       1   34   Russia          3  Android    ads   \n1       200       1   34   Russia          3  Android    ads   \n2       200       1   34   Russia          3  Android    ads   \n3       200       1   34   Russia          3  Android    ads   \n4       200       1   34   Russia          3  Android    ads   \n..      ...     ...  ...      ...        ...      ...    ...   \n95      211       1   22  Belarus          0      iOS    ads   \n96      212       1   47   Russia          0      iOS    ads   \n97      212       1   47   Russia          0      iOS    ads   \n98      212       1   47   Russia          0      iOS    ads   \n99      212       1   47   Russia          0      iOS    ads   \n\n             timestamp  post_id action  target  hour  \n0  2021-11-13 19:43:33     1830   view       0    19  \n1  2021-11-13 19:44:06     1496   view       0    19  \n2  2021-11-13 19:44:48     1765   view       0    19  \n3  2021-11-13 19:46:12      992   view       1    19  \n4  2021-11-13 19:48:00      992   like       1    19  \n..                 ...      ...    ...     ...   ...  \n95 2021-10-16 08:20:46     6651   view       0     8  \n96 2021-10-01 18:20:43     2877   view       0    18  \n97 2021-10-01 18:23:01     4879   view       0    18  \n98 2021-10-01 18:23:53     3434   view       0    18  \n99 2021-10-01 18:25:02     4369   view       0    18  \n\n[100 rows x 12 columns]",
      "text/html": "<div>\n<style scoped>\n    .dataframe tbody tr th:only-of-type {\n        vertical-align: middle;\n    }\n\n    .dataframe tbody tr th {\n        vertical-align: top;\n    }\n\n    .dataframe thead th {\n        text-align: right;\n    }\n</style>\n<table border=\"1\" class=\"dataframe\">\n  <thead>\n    <tr style=\"text-align: right;\">\n      <th></th>\n      <th>user_id</th>\n      <th>gender</th>\n      <th>age</th>\n      <th>country</th>\n      <th>exp_group</th>\n      <th>os</th>\n      <th>source</th>\n      <th>timestamp</th>\n      <th>post_id</th>\n      <th>action</th>\n      <th>target</th>\n      <th>hour</th>\n    </tr>\n  </thead>\n  <tbody>\n    <tr>\n      <th>0</th>\n      <td>200</td>\n      <td>1</td>\n      <td>34</td>\n      <td>Russia</td>\n      <td>3</td>\n      <td>Android</td>\n      <td>ads</td>\n      <td>2021-11-13 19:43:33</td>\n      <td>1830</td>\n      <td>view</td>\n      <td>0</td>\n      <td>19</td>\n    </tr>\n    <tr>\n      <th>1</th>\n      <td>200</td>\n      <td>1</td>\n      <td>34</td>\n      <td>Russia</td>\n      <td>3</td>\n      <td>Android</td>\n      <td>ads</td>\n      <td>2021-11-13 19:44:06</td>\n      <td>1496</td>\n      <td>view</td>\n      <td>0</td>\n      <td>19</td>\n    </tr>\n    <tr>\n      <th>2</th>\n      <td>200</td>\n      <td>1</td>\n      <td>34</td>\n      <td>Russia</td>\n      <td>3</td>\n      <td>Android</td>\n      <td>ads</td>\n      <td>2021-11-13 19:44:48</td>\n      <td>1765</td>\n      <td>view</td>\n      <td>0</td>\n      <td>19</td>\n    </tr>\n    <tr>\n      <th>3</th>\n      <td>200</td>\n      <td>1</td>\n      <td>34</td>\n      <td>Russia</td>\n      <td>3</td>\n      <td>Android</td>\n      <td>ads</td>\n      <td>2021-11-13 19:46:12</td>\n      <td>992</td>\n      <td>view</td>\n      <td>1</td>\n      <td>19</td>\n    </tr>\n    <tr>\n      <th>4</th>\n      <td>200</td>\n      <td>1</td>\n      <td>34</td>\n      <td>Russia</td>\n      <td>3</td>\n      <td>Android</td>\n      <td>ads</td>\n      <td>2021-11-13 19:48:00</td>\n      <td>992</td>\n      <td>like</td>\n      <td>1</td>\n      <td>19</td>\n    </tr>\n    <tr>\n      <th>...</th>\n      <td>...</td>\n      <td>...</td>\n      <td>...</td>\n      <td>...</td>\n      <td>...</td>\n      <td>...</td>\n      <td>...</td>\n      <td>...</td>\n      <td>...</td>\n      <td>...</td>\n      <td>...</td>\n      <td>...</td>\n    </tr>\n    <tr>\n      <th>95</th>\n      <td>211</td>\n      <td>1</td>\n      <td>22</td>\n      <td>Belarus</td>\n      <td>0</td>\n      <td>iOS</td>\n      <td>ads</td>\n      <td>2021-10-16 08:20:46</td>\n      <td>6651</td>\n      <td>view</td>\n      <td>0</td>\n      <td>8</td>\n    </tr>\n    <tr>\n      <th>96</th>\n      <td>212</td>\n      <td>1</td>\n      <td>47</td>\n      <td>Russia</td>\n      <td>0</td>\n      <td>iOS</td>\n      <td>ads</td>\n      <td>2021-10-01 18:20:43</td>\n      <td>2877</td>\n      <td>view</td>\n      <td>0</td>\n      <td>18</td>\n    </tr>\n    <tr>\n      <th>97</th>\n      <td>212</td>\n      <td>1</td>\n      <td>47</td>\n      <td>Russia</td>\n      <td>0</td>\n      <td>iOS</td>\n      <td>ads</td>\n      <td>2021-10-01 18:23:01</td>\n      <td>4879</td>\n      <td>view</td>\n      <td>0</td>\n      <td>18</td>\n    </tr>\n    <tr>\n      <th>98</th>\n      <td>212</td>\n      <td>1</td>\n      <td>47</td>\n      <td>Russia</td>\n      <td>0</td>\n      <td>iOS</td>\n      <td>ads</td>\n      <td>2021-10-01 18:23:53</td>\n      <td>3434</td>\n      <td>view</td>\n      <td>0</td>\n      <td>18</td>\n    </tr>\n    <tr>\n      <th>99</th>\n      <td>212</td>\n      <td>1</td>\n      <td>47</td>\n      <td>Russia</td>\n      <td>0</td>\n      <td>iOS</td>\n      <td>ads</td>\n      <td>2021-10-01 18:25:02</td>\n      <td>4369</td>\n      <td>view</td>\n      <td>0</td>\n      <td>18</td>\n    </tr>\n  </tbody>\n</table>\n<p>100 rows × 12 columns</p>\n</div>"
     },
     "execution_count": 44,
     "metadata": {},
     "output_type": "execute_result"
    }
   ],
   "source": [
    "user_behavior_copy.head(100)"
   ],
   "metadata": {
    "collapsed": false,
    "pycharm": {
     "name": "#%%\n"
    }
   }
  },
  {
   "cell_type": "code",
   "execution_count": null,
   "outputs": [],
   "source": [
    "from sklearn.model_selection import TimeSeriesSplit\n",
    "splitter = TimeSeriesSplit(n_splits=4)"
   ],
   "metadata": {
    "collapsed": false,
    "pycharm": {
     "name": "#%%\n",
     "is_executing": true
    }
   }
  },
  {
   "cell_type": "code",
   "execution_count": null,
   "outputs": [],
   "source": [
    "from catboost import CatBoostClassifier"
   ],
   "metadata": {
    "collapsed": false,
    "pycharm": {
     "name": "#%%\n",
     "is_executing": true
    }
   }
  },
  {
   "cell_type": "code",
   "execution_count": null,
   "outputs": [],
   "source": [
    "from sklearn.model_selection import train_test_split\n",
    "\n",
    "from sklearn.metrics import classification_report\n",
    "\n",
    "X = user_behavior_copy.drop('target', axis=1)\n",
    "y = user_behavior_copy['target']\n",
    "\n",
    "X_train, X_test, y_train, y_test = train_test_split(X, y,\n",
    "                                                    random_state=0,\n",
    "                                                    shuffle=True,\n",
    "                                                    test_size=0.2)\n",
    "\n",
    "cboost = CatBoostClassifier(auto_class_weights=\"SqrtBalanced\")\n",
    "\n",
    "cboost.fit(X_train,\n",
    "           y_train,\n",
    "           cat_features=['country', \"os\", \"source\", \"topic\"] )\n",
    "\n",
    "y_pred = cboost.predict(X_test)\n",
    "\n",
    "print(classification_report(y_test, y_pred, digits=4))"
   ],
   "metadata": {
    "collapsed": false,
    "pycharm": {
     "name": "#%%\n",
     "is_executing": true
    }
   }
  },
  {
   "cell_type": "code",
   "execution_count": 25,
   "outputs": [
    {
     "data": {
      "text/plain": "array([8.21985452e-01, 1.47580930e-01, 2.66468053e+00, 5.85517541e-01,\n       9.50635676e-01, 5.87804324e-02, 0.00000000e+00, 1.18695391e+00,\n       4.42887875e-01, 8.02452520e+01, 7.67521221e-01, 2.67448844e-01,\n       1.45682647e-01, 2.54351748e-01, 1.17641187e-01, 3.13784617e-01,\n       1.20137857e-01, 5.05505201e-02, 3.76261864e-02, 6.87166578e-02,\n       1.03287751e-01, 1.48305821e-01, 1.24168147e-01, 7.37282585e-02,\n       7.46292036e-02, 5.91468798e-02, 8.81132027e-02, 5.52782328e-02,\n       5.60825852e-02, 4.84050973e-02, 5.82395527e-02, 9.40756191e-02,\n       5.31732533e-02, 4.93619249e-02, 5.03985647e-02, 7.08216256e-02,\n       4.76675904e-02, 7.90641869e-02, 3.89093966e-02, 6.13619426e-02,\n       7.13503896e-02, 4.43702746e-02, 6.03589044e-02, 6.77997917e-02,\n       9.94918996e-02, 5.68517716e-02, 6.40282176e-02, 5.75419652e-02,\n       3.23717947e-02, 4.16071451e-02, 9.19953322e-02, 1.08812782e-01,\n       4.83126114e-02, 3.83050817e-02, 6.22236086e-02, 6.60002620e-02,\n       6.31551383e-02, 5.35485389e-02, 9.17806209e-02, 6.89451789e-02,\n       5.46564056e-02, 5.57716554e-02, 3.65695277e-02, 5.73010705e-02,\n       8.67905193e-02, 3.91624514e-02, 5.93513834e-02, 6.78934712e-02,\n       4.96301703e-02, 5.49434980e-02, 9.03607346e-02, 2.89308911e-02,\n       7.59828153e-02, 5.07051695e-02, 2.12181898e-02, 5.35343934e-02,\n       3.54945732e-02, 4.44332203e-02, 3.39407373e-02, 2.99817127e-02,\n       7.15175093e-02, 4.30510481e-02, 3.60914148e-02, 4.27655977e-02,\n       3.90792988e-02, 5.72924112e-02, 4.07188022e-02, 6.68401733e-02,\n       5.96530918e-02, 4.86258860e-02, 5.19399250e-02, 4.93955378e-02,\n       6.72406721e-02, 8.10058099e-02, 4.52583211e-02, 3.85566043e-02,\n       4.32100488e-02, 1.18325809e-01, 3.52142763e-02, 3.31397604e-02,\n       4.23182922e-02, 8.03766217e-02, 7.93724968e-02, 3.22492088e-02,\n       3.75328880e-02, 8.08817246e-02, 4.59336475e-02, 5.64192731e-02,\n       5.01624861e-02, 7.04353306e-02, 6.34991116e-02, 3.01390255e-02,\n       1.24280065e-01, 3.18892468e-02, 3.16236399e-02, 2.75553033e-02,\n       3.31834949e-02, 6.57960246e-02, 9.38602866e-02, 3.53627182e-02,\n       5.15935983e-02, 5.53032117e-02, 4.11825233e-02, 4.28604537e-02,\n       3.14166053e-02, 8.30238866e-02, 5.32911826e-02, 5.61309939e-02,\n       2.75984608e-02, 4.93962328e-02, 1.04181299e-01, 3.82848691e-02,\n       3.57097131e-02, 5.67085154e-02, 6.20529735e-02, 5.25180778e-02,\n       4.05985363e-02, 3.17397242e-02, 2.28973578e-02, 6.88949980e-02,\n       4.85420677e-02, 5.73843607e-02, 2.74666183e-02, 3.38206082e-02,\n       5.02051976e-02, 4.76382935e-02, 4.16453703e-02, 8.13686176e-02,\n       6.49275179e-02, 3.68278962e-02, 9.21940867e-02, 4.72448979e-02,\n       5.40894675e-02, 4.24116797e-02, 3.49572062e-02, 7.06691616e-02,\n       4.62666074e-02, 6.76754548e-02, 4.89595539e-02, 3.83549392e-02,\n       3.87223385e-02, 2.26054063e-02, 2.65769622e-02, 4.35161342e-02,\n       2.68339694e-02, 3.22865904e-02, 3.10418681e-02, 5.00416386e-02,\n       8.46365051e-02, 3.46888127e-02, 4.74045378e-02, 5.66429773e-02,\n       3.92656627e-02, 6.87076865e-02, 4.49223672e-02, 2.11010348e-02,\n       4.99806640e-02, 4.52012307e-02, 4.55136384e-02, 4.39927777e-02,\n       6.59858203e-02, 4.44221329e-02, 1.88253894e-02, 4.93579729e-02,\n       6.71234919e-02, 6.37776367e-02, 5.10694356e-02, 4.34979279e-02,\n       9.41953287e-02, 4.41930846e-02, 6.27649822e-02, 4.30411885e-02,\n       3.13216018e-02, 3.68829875e-02, 6.36333951e-02, 1.01630249e-01,\n       1.17494502e-01, 5.85814807e-02, 9.53961260e-02, 4.33356172e-02,\n       5.08106275e-02, 8.54025080e-02, 6.45118504e-02, 4.13584542e-02,\n       8.43287808e-02, 5.34533865e-02, 6.08321720e-02, 4.77393481e-02,\n       5.87331352e-02, 6.95645256e-02, 6.24798084e-02, 5.32880360e-02])"
     },
     "execution_count": 25,
     "metadata": {},
     "output_type": "execute_result"
    }
   ],
   "source": [
    "cboost.feature_importances_"
   ],
   "metadata": {
    "collapsed": false,
    "pycharm": {
     "name": "#%%\n"
    }
   }
  },
  {
   "cell_type": "code",
   "execution_count": null,
   "outputs": [],
   "source": [
    "feed_data['timestamp'] = pd.to_datetime(feed_data['timestamp'])\n",
    "feed_data['hour'] = feed_data.timestamp.dt.hour\n",
    "feed_data.head()"
   ],
   "metadata": {
    "collapsed": false,
    "pycharm": {
     "name": "#%%\n"
    }
   }
  },
  {
   "cell_type": "code",
   "execution_count": null,
   "outputs": [],
   "source": [
    "user_data.isnull().sum()"
   ],
   "metadata": {
    "collapsed": false,
    "pycharm": {
     "name": "#%%\n"
    }
   }
  },
  {
   "cell_type": "code",
   "execution_count": null,
   "outputs": [],
   "source": [
    "post_text_df.isnull().sum()"
   ],
   "metadata": {
    "collapsed": false,
    "pycharm": {
     "name": "#%%\n"
    }
   }
  },
  {
   "cell_type": "code",
   "execution_count": null,
   "outputs": [],
   "source": [
    "feed_data.isnull().sum()"
   ],
   "metadata": {
    "collapsed": false,
    "pycharm": {
     "name": "#%%\n"
    }
   }
  },
  {
   "cell_type": "code",
   "execution_count": null,
   "outputs": [],
   "source": [
    "user_data.nunique()"
   ],
   "metadata": {
    "collapsed": false,
    "pycharm": {
     "name": "#%%\n"
    }
   }
  },
  {
   "cell_type": "code",
   "execution_count": null,
   "outputs": [],
   "source": [
    "feed_data.nunique()"
   ],
   "metadata": {
    "collapsed": false,
    "pycharm": {
     "name": "#%%\n"
    }
   }
  },
  {
   "cell_type": "code",
   "execution_count": null,
   "outputs": [],
   "source": [
    "post_text_df.nunique()"
   ],
   "metadata": {
    "collapsed": false,
    "pycharm": {
     "name": "#%%\n"
    }
   }
  },
  {
   "cell_type": "code",
   "execution_count": null,
   "outputs": [],
   "source": [
    "feed_data.loc[(feed_data[\"action\"] == \"like\"), \"target\"] = 1"
   ],
   "metadata": {
    "collapsed": false,
    "pycharm": {
     "name": "#%%\n"
    }
   }
  },
  {
   "cell_type": "code",
   "execution_count": null,
   "outputs": [],
   "source": [
    "feed_data = feed_data.merge(user_data, on=[\"user_id\"])\n",
    "feed_data.head()"
   ],
   "metadata": {
    "collapsed": false,
    "pycharm": {
     "name": "#%%\n"
    }
   }
  },
  {
   "cell_type": "code",
   "execution_count": null,
   "outputs": [],
   "source": [
    "feed_data = feed_data.drop(\"action\", axis=1)"
   ],
   "metadata": {
    "collapsed": false,
    "pycharm": {
     "name": "#%%\n"
    }
   }
  },
  {
   "cell_type": "code",
   "execution_count": null,
   "outputs": [],
   "source": [
    "import seaborn as sns\n",
    "sns.catplot(x=\"hour\", kind=\"count\", col=\"target\", data=feed_data, sharey=False)"
   ],
   "metadata": {
    "collapsed": false,
    "pycharm": {
     "name": "#%%\n"
    }
   }
  },
  {
   "cell_type": "code",
   "execution_count": null,
   "outputs": [],
   "source": [
    "sns.catplot(x=\"gender\", kind=\"count\", col=\"target\", data=feed_data, sharey=False)"
   ],
   "metadata": {
    "collapsed": false,
    "pycharm": {
     "name": "#%%\n"
    }
   }
  },
  {
   "cell_type": "code",
   "execution_count": null,
   "outputs": [],
   "source": [
    "sns.catplot(x=\"exp_group\", kind=\"count\", col=\"target\", data=feed_data, sharey=False)"
   ],
   "metadata": {
    "collapsed": false,
    "pycharm": {
     "name": "#%%\n"
    }
   }
  },
  {
   "cell_type": "code",
   "execution_count": null,
   "outputs": [],
   "source": [
    "feed_data = feed_data.merge(post_text_df, on=[\"post_id\"])"
   ],
   "metadata": {
    "collapsed": false,
    "pycharm": {
     "name": "#%%\n"
    }
   }
  },
  {
   "cell_type": "code",
   "execution_count": null,
   "outputs": [],
   "source": [
    "feed_data.set_index(\"post_id\")"
   ],
   "metadata": {
    "collapsed": false,
    "pycharm": {
     "name": "#%%\n"
    }
   }
  },
  {
   "cell_type": "code",
   "execution_count": null,
   "outputs": [],
   "source": [
    "feed_data = feed_data.drop('text', axis=1)"
   ],
   "metadata": {
    "collapsed": false,
    "pycharm": {
     "name": "#%%\n"
    }
   }
  },
  {
   "cell_type": "code",
   "execution_count": null,
   "outputs": [],
   "source": [
    "feed_data.head()"
   ],
   "metadata": {
    "collapsed": false,
    "pycharm": {
     "name": "#%%\n"
    }
   }
  },
  {
   "cell_type": "code",
   "execution_count": null,
   "outputs": [],
   "source": [
    "feed_data = feed_data.drop(\"user_id\", axis=1)"
   ],
   "metadata": {
    "collapsed": false,
    "pycharm": {
     "name": "#%%\n"
    }
   }
  },
  {
   "cell_type": "code",
   "execution_count": null,
   "outputs": [],
   "source": [
    "feed_data = feed_data.drop(\"post_id\", axis=1)"
   ],
   "metadata": {
    "collapsed": false,
    "pycharm": {
     "name": "#%%\n"
    }
   }
  },
  {
   "cell_type": "code",
   "execution_count": null,
   "outputs": [],
   "source": [
    "feed_data.head()"
   ],
   "metadata": {
    "collapsed": false,
    "pycharm": {
     "name": "#%%\n"
    }
   }
  },
  {
   "cell_type": "code",
   "execution_count": null,
   "outputs": [],
   "source": [],
   "metadata": {
    "collapsed": false,
    "pycharm": {
     "name": "#%%\n"
    }
   }
  }
 ],
 "metadata": {
  "kernelspec": {
   "display_name": "Python 3",
   "language": "python",
   "name": "python3"
  },
  "language_info": {
   "codemirror_mode": {
    "name": "ipython",
    "version": 2
   },
   "file_extension": ".py",
   "mimetype": "text/x-python",
   "name": "python",
   "nbconvert_exporter": "python",
   "pygments_lexer": "ipython2",
   "version": "2.7.6"
  }
 },
 "nbformat": 4,
 "nbformat_minor": 0
}