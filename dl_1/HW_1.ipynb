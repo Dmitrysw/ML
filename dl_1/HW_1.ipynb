{
 "cells": [
  {
   "cell_type": "code",
   "execution_count": 1,
   "metadata": {
    "collapsed": true,
    "pycharm": {
     "name": "#%%\n"
    }
   },
   "outputs": [],
   "source": [
    "import torch"
   ]
  },
  {
   "cell_type": "code",
   "execution_count": null,
   "outputs": [],
   "source": [
    "matrix = torch.randn(4, 3)"
   ],
   "metadata": {
    "collapsed": false,
    "pycharm": {
     "name": "#%%\n"
    }
   }
  },
  {
   "cell_type": "code",
   "execution_count": null,
   "outputs": [],
   "source": [
    "matrix"
   ],
   "metadata": {
    "collapsed": false,
    "pycharm": {
     "name": "#%%\n"
    }
   }
  },
  {
   "cell_type": "code",
   "execution_count": null,
   "outputs": [],
   "source": [
    "def function01(tensor: torch.Tensor, count_over:str) -> torch.Tensor:\n",
    "    if count_over == \"columns\":\n",
    "        return torch.mean(tensor, axis=0)\n",
    "    elif count_over == \"rows\":\n",
    "        return torch.mean(tensor, axis=1)"
   ],
   "metadata": {
    "collapsed": false,
    "pycharm": {
     "name": "#%%\n"
    }
   }
  },
  {
   "cell_type": "code",
   "execution_count": null,
   "outputs": [],
   "source": [
    "function01(matrix, \"columns\")"
   ],
   "metadata": {
    "collapsed": false,
    "pycharm": {
     "name": "#%%\n"
    }
   }
  },
  {
   "cell_type": "code",
   "execution_count": null,
   "outputs": [],
   "source": [
    "function01(matrix, \"rows\")"
   ],
   "metadata": {
    "collapsed": false,
    "pycharm": {
     "name": "#%%\n"
    }
   }
  },
  {
   "cell_type": "code",
   "execution_count": null,
   "outputs": [],
   "source": [
    "matrix.shape[1]"
   ],
   "metadata": {
    "collapsed": false,
    "pycharm": {
     "name": "#%%\n"
    }
   }
  },
  {
   "cell_type": "code",
   "execution_count": null,
   "outputs": [],
   "source": [
    "def function02(tensor):\n",
    "    return torch.rand(tensor.shape[1], dtype=torch.float32, requires_grad=True)"
   ],
   "metadata": {
    "collapsed": false,
    "pycharm": {
     "name": "#%%\n"
    }
   }
  },
  {
   "cell_type": "code",
   "execution_count": null,
   "outputs": [],
   "source": [
    "function02(matrix)"
   ],
   "metadata": {
    "collapsed": false,
    "pycharm": {
     "name": "#%%\n"
    }
   }
  },
  {
   "cell_type": "code",
   "execution_count": 20,
   "outputs": [],
   "source": [
    "n_features = 2\n",
    "n_objects = 300\n",
    "\n",
    "w_true = torch.randn(n_features)\n",
    "X = (torch.rand(n_objects, n_features) - 0.5) * 5\n",
    "Y = X @ w_true + torch.randn(n_objects) / 2"
   ],
   "metadata": {
    "collapsed": false,
    "pycharm": {
     "name": "#%%\n"
    }
   }
  },
  {
   "cell_type": "code",
   "execution_count": 21,
   "outputs": [],
   "source": [
    "def function03(x: torch.Tensor, y: torch.Tensor):\n",
    "    w = torch.rand(x.shape[1], dtype=torch.float32, requires_grad=True)\n",
    "    y_pred = torch.matmul(x, w)\n",
    "    MSE = torch.mean((y_pred - y) ** 2)\n",
    "    print (MSE)\n",
    "    step_size = 0.01\n",
    "    step = 1\n",
    "    while MSE >= 1:\n",
    "        MSE.backward()\n",
    "        with torch.no_grad():\n",
    "            w -= w.grad * step_size\n",
    "        MSE = torch.mean((torch.matmul(x, w) - y) ** 2)\n",
    "        w.grad.zero_()\n",
    "        print (f\"MSE = {MSE}\", f\"номер шага {step}\")\n",
    "        step += 1\n",
    "    return w"
   ],
   "metadata": {
    "collapsed": false,
    "pycharm": {
     "name": "#%%\n"
    }
   }
  },
  {
   "cell_type": "code",
   "execution_count": 22,
   "outputs": [
    {
     "name": "stdout",
     "output_type": "stream",
     "text": [
      "tensor(6.6980, grad_fn=<MeanBackward0>)\n",
      "MSE = 6.218193531036377 номер шага 1\n",
      "MSE = 5.77395486831665 номер шага 2\n",
      "MSE = 5.3626604080200195 номер шага 3\n",
      "MSE = 4.981863021850586 номер шага 4\n",
      "MSE = 4.629300117492676 номер шага 5\n",
      "MSE = 4.3028764724731445 номер шага 6\n",
      "MSE = 4.000652313232422 номер шага 7\n",
      "MSE = 3.7208309173583984 номер шага 8\n",
      "MSE = 3.4617509841918945 номер шага 9\n",
      "MSE = 3.2218732833862305 номер шага 10\n",
      "MSE = 2.999774217605591 номер шага 11\n",
      "MSE = 2.794133186340332 номер шага 12\n",
      "MSE = 2.6037306785583496 номер шага 13\n",
      "MSE = 2.427436113357544 номер шага 14\n",
      "MSE = 2.2642037868499756 номер шага 15\n",
      "MSE = 2.1130640506744385 номер шага 16\n",
      "MSE = 1.973120927810669 номер шага 17\n",
      "MSE = 1.8435441255569458 номер шага 18\n",
      "MSE = 1.723564863204956 номер шага 19\n",
      "MSE = 1.6124719381332397 номер шага 20\n",
      "MSE = 1.5096064805984497 номер шага 21\n",
      "MSE = 1.4143584966659546 номер шага 22\n",
      "MSE = 1.3261637687683105 номер шага 23\n",
      "MSE = 1.2444994449615479 номер шага 24\n",
      "MSE = 1.1688812971115112 номер шага 25\n",
      "MSE = 1.098861575126648 номер шага 26\n",
      "MSE = 1.0340254306793213 номер шага 27\n",
      "MSE = 0.9739887714385986 номер шага 28\n"
     ]
    },
    {
     "data": {
      "text/plain": "tensor([ 0.2558, -0.6115], requires_grad=True)"
     },
     "execution_count": 22,
     "metadata": {},
     "output_type": "execute_result"
    }
   ],
   "source": [
    "function03(X, Y)"
   ],
   "metadata": {
    "collapsed": false,
    "pycharm": {
     "name": "#%%\n"
    }
   }
  },
  {
   "cell_type": "code",
   "execution_count": 38,
   "outputs": [],
   "source": [
    "from torch import nn\n",
    "def function04(x: torch.Tensor, y: torch.Tensor):\n",
    "    layer = nn.Linear(in_features=X.shape[1], out_features=1, bias=False)\n",
    "    y_pred = layer(x).ravel()\n",
    "    MSE = torch.mean((y_pred - y) ** 2)\n",
    "    print (MSE)\n",
    "    step_size = 0.01\n",
    "    step = 1\n",
    "    while MSE >= 0.3:\n",
    "        MSE.backward()\n",
    "        with torch.no_grad():\n",
    "            layer.weight -= layer.weight.grad * step_size\n",
    "        y_pred = layer(x).ravel()\n",
    "        MSE = torch.mean((y_pred - y) ** 2)\n",
    "        layer.zero_grad()\n",
    "        print (f\"MSE = {MSE}\", f\"номер шага {step}\")\n",
    "        step += 1\n",
    "    return layer"
   ],
   "metadata": {
    "collapsed": false,
    "pycharm": {
     "name": "#%%\n"
    }
   }
  },
  {
   "cell_type": "code",
   "execution_count": 39,
   "outputs": [
    {
     "name": "stdout",
     "output_type": "stream",
     "text": [
      "tensor(2.1599, grad_fn=<MeanBackward0>)\n",
      "MSE = 2.014759063720703 номер шага 1\n",
      "MSE = 1.880495548248291 номер шага 2\n",
      "MSE = 1.756307601928711 номер шага 3\n",
      "MSE = 1.6414375305175781 номер шага 4\n",
      "MSE = 1.5351845026016235 номер шага 5\n",
      "MSE = 1.436901569366455 номер шага 6\n",
      "MSE = 1.3459891080856323 номер шага 7\n",
      "MSE = 1.2618937492370605 номер шага 8\n",
      "MSE = 1.18410325050354 номер шага 9\n",
      "MSE = 1.112144112586975 номер шага 10\n",
      "MSE = 1.0455780029296875 номер шага 11\n",
      "MSE = 0.984000563621521 номер шага 12\n",
      "MSE = 0.9270369410514832 номер шага 13\n",
      "MSE = 0.874340832233429 номер шага 14\n",
      "MSE = 0.825592041015625 номер шага 15\n",
      "MSE = 0.7804940938949585 номер шага 16\n",
      "MSE = 0.7387732267379761 номер шага 17\n",
      "MSE = 0.7001761198043823 номер шага 18\n",
      "MSE = 0.6644686460494995 номер шага 19\n",
      "MSE = 0.6314337849617004 номер шага 20\n",
      "MSE = 0.6008713841438293 номер шага 21\n",
      "MSE = 0.5725958347320557 номер шага 22\n",
      "MSE = 0.5464359521865845 номер шага 23\n",
      "MSE = 0.5222330689430237 номер шага 24\n",
      "MSE = 0.4998405873775482 номер шага 25\n",
      "MSE = 0.47912275791168213 номер шага 26\n",
      "MSE = 0.45995426177978516 номер шага 27\n",
      "MSE = 0.44221892952919006 номер шага 28\n",
      "MSE = 0.425809383392334 номер шага 29\n",
      "MSE = 0.41062650084495544 номер шага 30\n",
      "MSE = 0.3965784013271332 номер шага 31\n",
      "MSE = 0.3835800290107727 номер шага 32\n",
      "MSE = 0.37155285477638245 номер шага 33\n",
      "MSE = 0.36042430996894836 номер шага 34\n",
      "MSE = 0.3501269519329071 номер шага 35\n",
      "MSE = 0.3405987620353699 номер шага 36\n",
      "MSE = 0.33178210258483887 номер шага 37\n",
      "MSE = 0.32362374663352966 номер шага 38\n",
      "MSE = 0.31607455015182495 номер шага 39\n",
      "MSE = 0.30908888578414917 номер шага 40\n",
      "MSE = 0.3026247024536133 номер шага 41\n",
      "MSE = 0.29664289951324463 номер шага 42\n"
     ]
    },
    {
     "data": {
      "text/plain": "Linear(in_features=2, out_features=1, bias=False)"
     },
     "execution_count": 39,
     "metadata": {},
     "output_type": "execute_result"
    }
   ],
   "source": [
    "function04(X, Y)"
   ],
   "metadata": {
    "collapsed": false,
    "pycharm": {
     "name": "#%%\n"
    }
   }
  },
  {
   "cell_type": "code",
   "execution_count": 15,
   "outputs": [
    {
     "data": {
      "text/plain": "2"
     },
     "execution_count": 15,
     "metadata": {},
     "output_type": "execute_result"
    }
   ],
   "source": [
    "X.shape[1]"
   ],
   "metadata": {
    "collapsed": false,
    "pycharm": {
     "name": "#%%\n"
    }
   }
  },
  {
   "cell_type": "code",
   "execution_count": null,
   "outputs": [],
   "source": [],
   "metadata": {
    "collapsed": false,
    "pycharm": {
     "name": "#%%\n"
    }
   }
  }
 ],
 "metadata": {
  "kernelspec": {
   "display_name": "Python 3",
   "language": "python",
   "name": "python3"
  },
  "language_info": {
   "codemirror_mode": {
    "name": "ipython",
    "version": 2
   },
   "file_extension": ".py",
   "mimetype": "text/x-python",
   "name": "python",
   "nbconvert_exporter": "python",
   "pygments_lexer": "ipython2",
   "version": "2.7.6"
  }
 },
 "nbformat": 4,
 "nbformat_minor": 0
}