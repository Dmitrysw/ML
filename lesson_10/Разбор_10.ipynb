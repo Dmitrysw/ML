{
 "cells": [
  {
   "cell_type": "markdown",
   "id": "a4712636",
   "metadata": {
    "pycharm": {
     "name": "#%% md\n"
    }
   },
   "source": [
    "## В этом домашнем задании вы сделаете первые шаги в мире линейной бинарной классификации!"
   ]
  },
  {
   "cell_type": "code",
   "execution_count": 1,
   "id": "ca134ba3",
   "metadata": {
    "pycharm": {
     "name": "#%%\n"
    }
   },
   "outputs": [],
   "source": [
    "import pandas as pd\n",
    "import numpy as np\n",
    "import warnings\n",
    "\n",
    "pd.options.display.max_columns = 500"
   ]
  },
  {
   "cell_type": "markdown",
   "id": "689c882b",
   "metadata": {
    "pycharm": {
     "name": "#%% md\n"
    }
   },
   "source": [
    "#### Задание 1\n",
    "\n",
    "Мы будем работать с данными **Microsoft Malware Detection**\n",
    "\n",
    "Таргетом будет последний столбец `HasDetection`, который принимает значения $\\{0,\\, 1\\}$ в случае отсутствия или наличия вируса на компьютере соответственно. Признаками будут выступать всевозможные характеристики коспьютера."
   ]
  },
  {
   "cell_type": "code",
   "execution_count": 2,
   "id": "de84129b",
   "metadata": {
    "pycharm": {
     "name": "#%%\n"
    }
   },
   "outputs": [
    {
     "name": "stderr",
     "output_type": "stream",
     "text": [
      "C:\\Users\\Диман\\AppData\\Local\\Temp\\ipykernel_11088\\294592206.py:3: DtypeWarning: Columns (28) have mixed types. Specify dtype option on import or set low_memory=False.\n",
      "  data = pd.read_csv('train.csv')\n"
     ]
    }
   ],
   "source": [
    "### Загрузим датасет\n",
    "\n",
    "data = pd.read_csv('train.csv')"
   ]
  },
  {
   "cell_type": "code",
   "execution_count": 3,
   "id": "dcbc5cfe",
   "metadata": {
    "pycharm": {
     "name": "#%%\n"
    }
   },
   "outputs": [
    {
     "data": {
      "text/plain": "                  MachineIdentifier   ProductName EngineVersion  \\\n0  0000028988387b115f69f31a3bf04f09  win8defender   1.1.15100.1   \n1  000007535c3f730efa9ea0b7ef1bd645  win8defender   1.1.14600.4   \n2  000007905a28d863f6d0d597892cd692  win8defender   1.1.15100.1   \n3  00000b11598a75ea8ba1beea8459149f  win8defender   1.1.15100.1   \n4  000014a5f00daa18e76b81417eeb99fc  win8defender   1.1.15100.1   \n\n        AppVersion  AvSigVersion  IsBeta  RtpStateBitfield  IsSxsPassiveMode  \\\n0  4.18.1807.18075  1.273.1735.0       0               7.0                 0   \n1     4.13.17134.1    1.263.48.0       0               7.0                 0   \n2  4.18.1807.18075  1.273.1341.0       0               7.0                 0   \n3  4.18.1807.18075  1.273.1527.0       0               7.0                 0   \n4  4.18.1807.18075  1.273.1379.0       0               7.0                 0   \n\n   DefaultBrowsersIdentifier  AVProductStatesIdentifier  AVProductsInstalled  \\\n0                        NaN                    53447.0                  1.0   \n1                        NaN                    53447.0                  1.0   \n2                        NaN                    53447.0                  1.0   \n3                        NaN                    53447.0                  1.0   \n4                        NaN                    53447.0                  1.0   \n\n   AVProductsEnabled  HasTpm  CountryIdentifier  CityIdentifier  \\\n0                1.0       1                 29        128035.0   \n1                1.0       1                 93          1482.0   \n2                1.0       1                 86        153579.0   \n3                1.0       1                 88         20710.0   \n4                1.0       1                 18         37376.0   \n\n   OrganizationIdentifier  GeoNameIdentifier  LocaleEnglishNameIdentifier  \\\n0                    18.0               35.0                          171   \n1                    18.0              119.0                           64   \n2                    18.0               64.0                           49   \n3                     NaN              117.0                          115   \n4                     NaN              277.0                           75   \n\n    Platform Processor     OsVer  OsBuild  OsSuite OsPlatformSubRelease  \\\n0  windows10       x64  10.0.0.0    17134      256                  rs4   \n1  windows10       x64  10.0.0.0    17134      256                  rs4   \n2  windows10       x64  10.0.0.0    17134      768                  rs4   \n3  windows10       x64  10.0.0.0    17134      256                  rs4   \n4  windows10       x64  10.0.0.0    17134      768                  rs4   \n\n                                 OsBuildLab SkuEdition  IsProtected  \\\n0  17134.1.amd64fre.rs4_release.180410-1804        Pro          1.0   \n1  17134.1.amd64fre.rs4_release.180410-1804        Pro          1.0   \n2  17134.1.amd64fre.rs4_release.180410-1804       Home          1.0   \n3  17134.1.amd64fre.rs4_release.180410-1804        Pro          1.0   \n4  17134.1.amd64fre.rs4_release.180410-1804       Home          1.0   \n\n   AutoSampleOptIn PuaMode  SMode  IeVerIdentifier   SmartScreen  Firewall  \\\n0                0     NaN    0.0            137.0           NaN       1.0   \n1                0     NaN    0.0            137.0           NaN       1.0   \n2                0     NaN    0.0            137.0  RequireAdmin       1.0   \n3                0     NaN    0.0            137.0  ExistsNotSet       1.0   \n4                0     NaN    0.0            137.0  RequireAdmin       1.0   \n\n   UacLuaenable Census_MDC2FormFactor Census_DeviceFamily  \\\n0           1.0               Desktop     Windows.Desktop   \n1           1.0              Notebook     Windows.Desktop   \n2           1.0               Desktop     Windows.Desktop   \n3           1.0               Desktop     Windows.Desktop   \n4           1.0              Notebook     Windows.Desktop   \n\n   Census_OEMNameIdentifier  Census_OEMModelIdentifier  \\\n0                    2668.0                     9124.0   \n1                    2668.0                    91656.0   \n2                    4909.0                   317701.0   \n3                    1443.0                   275890.0   \n4                    1443.0                   331929.0   \n\n   Census_ProcessorCoreCount  Census_ProcessorManufacturerIdentifier  \\\n0                        4.0                                     5.0   \n1                        4.0                                     5.0   \n2                        4.0                                     5.0   \n3                        4.0                                     5.0   \n4                        4.0                                     5.0   \n\n   Census_ProcessorModelIdentifier Census_ProcessorClass  \\\n0                           2341.0                   NaN   \n1                           2405.0                   NaN   \n2                           1972.0                   NaN   \n3                           2273.0                   NaN   \n4                           2500.0                   NaN   \n\n   Census_PrimaryDiskTotalCapacity Census_PrimaryDiskTypeName  \\\n0                         476940.0                        HDD   \n1                         476940.0                        HDD   \n2                         114473.0                        SSD   \n3                         238475.0                    UNKNOWN   \n4                         476940.0                        HDD   \n\n   Census_SystemVolumeTotalCapacity  Census_HasOpticalDiskDrive  \\\n0                          299451.0                           0   \n1                          102385.0                           0   \n2                          113907.0                           0   \n3                          227116.0                           0   \n4                          101900.0                           0   \n\n   Census_TotalPhysicalRAM Census_ChassisTypeName  \\\n0                   4096.0                Desktop   \n1                   4096.0               Notebook   \n2                   4096.0                Desktop   \n3                   4096.0              MiniTower   \n4                   6144.0               Portable   \n\n   Census_InternalPrimaryDiagonalDisplaySizeInInches  \\\n0                                               18.9   \n1                                               13.9   \n2                                               21.5   \n3                                               18.5   \n4                                               14.0   \n\n   Census_InternalPrimaryDisplayResolutionHorizontal  \\\n0                                             1440.0   \n1                                             1366.0   \n2                                             1920.0   \n3                                             1366.0   \n4                                             1366.0   \n\n   Census_InternalPrimaryDisplayResolutionVertical  \\\n0                                            900.0   \n1                                            768.0   \n2                                           1080.0   \n3                                            768.0   \n4                                            768.0   \n\n  Census_PowerPlatformRoleName Census_InternalBatteryType  \\\n0                      Desktop                        NaN   \n1                       Mobile                        NaN   \n2                      Desktop                        NaN   \n3                      Desktop                        NaN   \n4                       Mobile                       lion   \n\n   Census_InternalBatteryNumberOfCharges Census_OSVersion  \\\n0                           4.294967e+09   10.0.17134.165   \n1                           1.000000e+00     10.0.17134.1   \n2                           4.294967e+09   10.0.17134.165   \n3                           4.294967e+09   10.0.17134.228   \n4                           0.000000e+00   10.0.17134.191   \n\n  Census_OSArchitecture Census_OSBranch  Census_OSBuildNumber  \\\n0                 amd64     rs4_release                 17134   \n1                 amd64     rs4_release                 17134   \n2                 amd64     rs4_release                 17134   \n3                 amd64     rs4_release                 17134   \n4                 amd64     rs4_release                 17134   \n\n   Census_OSBuildRevision Census_OSEdition Census_OSSkuName  \\\n0                     165     Professional     PROFESSIONAL   \n1                       1     Professional     PROFESSIONAL   \n2                     165             Core             CORE   \n3                     228     Professional     PROFESSIONAL   \n4                     191             Core             CORE   \n\n  Census_OSInstallTypeName  Census_OSInstallLanguageIdentifier  \\\n0               UUPUpgrade                                26.0   \n1                 IBSClean                                 8.0   \n2               UUPUpgrade                                 7.0   \n3               UUPUpgrade                                17.0   \n4                   Update                                 8.0   \n\n   Census_OSUILocaleIdentifier Census_OSWUAutoUpdateOptionsName  \\\n0                          119                          UNKNOWN   \n1                           31                          UNKNOWN   \n2                           30                         FullAuto   \n3                           64                         FullAuto   \n4                           31                         FullAuto   \n\n   Census_IsPortableOperatingSystem Census_GenuineStateName  \\\n0                                 0              IS_GENUINE   \n1                                 0                 OFFLINE   \n2                                 0              IS_GENUINE   \n3                                 0              IS_GENUINE   \n4                                 0              IS_GENUINE   \n\n  Census_ActivationChannel  Census_IsFlightingInternal  \\\n0                   Retail                         NaN   \n1                   Retail                         NaN   \n2               OEM:NONSLP                         NaN   \n3               OEM:NONSLP                         NaN   \n4                   Retail                         0.0   \n\n   Census_IsFlightsDisabled Census_FlightRing  Census_ThresholdOptIn  \\\n0                       0.0            Retail                    NaN   \n1                       0.0           NOT_SET                    NaN   \n2                       0.0            Retail                    NaN   \n3                       0.0            Retail                    NaN   \n4                       0.0            Retail                    0.0   \n\n   Census_FirmwareManufacturerIdentifier  Census_FirmwareVersionIdentifier  \\\n0                                  628.0                           36144.0   \n1                                  628.0                           57858.0   \n2                                  142.0                           52682.0   \n3                                  355.0                           20050.0   \n4                                  355.0                           19844.0   \n\n   Census_IsSecureBootEnabled  Census_IsWIMBootEnabled  \\\n0                           0                      NaN   \n1                           0                      NaN   \n2                           0                      NaN   \n3                           0                      NaN   \n4                           0                      0.0   \n\n   Census_IsVirtualDevice  Census_IsTouchEnabled  Census_IsPenCapable  \\\n0                     0.0                      0                    0   \n1                     0.0                      0                    0   \n2                     0.0                      0                    0   \n3                     0.0                      0                    0   \n4                     0.0                      0                    0   \n\n   Census_IsAlwaysOnAlwaysConnectedCapable  Wdft_IsGamer  \\\n0                                      0.0           0.0   \n1                                      0.0           0.0   \n2                                      0.0           0.0   \n3                                      0.0           0.0   \n4                                      0.0           0.0   \n\n   Wdft_RegionIdentifier  HasDetections  \n0                   10.0              0  \n1                    8.0              0  \n2                    3.0              0  \n3                    3.0              1  \n4                    1.0              1  ",
      "text/html": "<div>\n<style scoped>\n    .dataframe tbody tr th:only-of-type {\n        vertical-align: middle;\n    }\n\n    .dataframe tbody tr th {\n        vertical-align: top;\n    }\n\n    .dataframe thead th {\n        text-align: right;\n    }\n</style>\n<table border=\"1\" class=\"dataframe\">\n  <thead>\n    <tr style=\"text-align: right;\">\n      <th></th>\n      <th>MachineIdentifier</th>\n      <th>ProductName</th>\n      <th>EngineVersion</th>\n      <th>AppVersion</th>\n      <th>AvSigVersion</th>\n      <th>IsBeta</th>\n      <th>RtpStateBitfield</th>\n      <th>IsSxsPassiveMode</th>\n      <th>DefaultBrowsersIdentifier</th>\n      <th>AVProductStatesIdentifier</th>\n      <th>AVProductsInstalled</th>\n      <th>AVProductsEnabled</th>\n      <th>HasTpm</th>\n      <th>CountryIdentifier</th>\n      <th>CityIdentifier</th>\n      <th>OrganizationIdentifier</th>\n      <th>GeoNameIdentifier</th>\n      <th>LocaleEnglishNameIdentifier</th>\n      <th>Platform</th>\n      <th>Processor</th>\n      <th>OsVer</th>\n      <th>OsBuild</th>\n      <th>OsSuite</th>\n      <th>OsPlatformSubRelease</th>\n      <th>OsBuildLab</th>\n      <th>SkuEdition</th>\n      <th>IsProtected</th>\n      <th>AutoSampleOptIn</th>\n      <th>PuaMode</th>\n      <th>SMode</th>\n      <th>IeVerIdentifier</th>\n      <th>SmartScreen</th>\n      <th>Firewall</th>\n      <th>UacLuaenable</th>\n      <th>Census_MDC2FormFactor</th>\n      <th>Census_DeviceFamily</th>\n      <th>Census_OEMNameIdentifier</th>\n      <th>Census_OEMModelIdentifier</th>\n      <th>Census_ProcessorCoreCount</th>\n      <th>Census_ProcessorManufacturerIdentifier</th>\n      <th>Census_ProcessorModelIdentifier</th>\n      <th>Census_ProcessorClass</th>\n      <th>Census_PrimaryDiskTotalCapacity</th>\n      <th>Census_PrimaryDiskTypeName</th>\n      <th>Census_SystemVolumeTotalCapacity</th>\n      <th>Census_HasOpticalDiskDrive</th>\n      <th>Census_TotalPhysicalRAM</th>\n      <th>Census_ChassisTypeName</th>\n      <th>Census_InternalPrimaryDiagonalDisplaySizeInInches</th>\n      <th>Census_InternalPrimaryDisplayResolutionHorizontal</th>\n      <th>Census_InternalPrimaryDisplayResolutionVertical</th>\n      <th>Census_PowerPlatformRoleName</th>\n      <th>Census_InternalBatteryType</th>\n      <th>Census_InternalBatteryNumberOfCharges</th>\n      <th>Census_OSVersion</th>\n      <th>Census_OSArchitecture</th>\n      <th>Census_OSBranch</th>\n      <th>Census_OSBuildNumber</th>\n      <th>Census_OSBuildRevision</th>\n      <th>Census_OSEdition</th>\n      <th>Census_OSSkuName</th>\n      <th>Census_OSInstallTypeName</th>\n      <th>Census_OSInstallLanguageIdentifier</th>\n      <th>Census_OSUILocaleIdentifier</th>\n      <th>Census_OSWUAutoUpdateOptionsName</th>\n      <th>Census_IsPortableOperatingSystem</th>\n      <th>Census_GenuineStateName</th>\n      <th>Census_ActivationChannel</th>\n      <th>Census_IsFlightingInternal</th>\n      <th>Census_IsFlightsDisabled</th>\n      <th>Census_FlightRing</th>\n      <th>Census_ThresholdOptIn</th>\n      <th>Census_FirmwareManufacturerIdentifier</th>\n      <th>Census_FirmwareVersionIdentifier</th>\n      <th>Census_IsSecureBootEnabled</th>\n      <th>Census_IsWIMBootEnabled</th>\n      <th>Census_IsVirtualDevice</th>\n      <th>Census_IsTouchEnabled</th>\n      <th>Census_IsPenCapable</th>\n      <th>Census_IsAlwaysOnAlwaysConnectedCapable</th>\n      <th>Wdft_IsGamer</th>\n      <th>Wdft_RegionIdentifier</th>\n      <th>HasDetections</th>\n    </tr>\n  </thead>\n  <tbody>\n    <tr>\n      <th>0</th>\n      <td>0000028988387b115f69f31a3bf04f09</td>\n      <td>win8defender</td>\n      <td>1.1.15100.1</td>\n      <td>4.18.1807.18075</td>\n      <td>1.273.1735.0</td>\n      <td>0</td>\n      <td>7.0</td>\n      <td>0</td>\n      <td>NaN</td>\n      <td>53447.0</td>\n      <td>1.0</td>\n      <td>1.0</td>\n      <td>1</td>\n      <td>29</td>\n      <td>128035.0</td>\n      <td>18.0</td>\n      <td>35.0</td>\n      <td>171</td>\n      <td>windows10</td>\n      <td>x64</td>\n      <td>10.0.0.0</td>\n      <td>17134</td>\n      <td>256</td>\n      <td>rs4</td>\n      <td>17134.1.amd64fre.rs4_release.180410-1804</td>\n      <td>Pro</td>\n      <td>1.0</td>\n      <td>0</td>\n      <td>NaN</td>\n      <td>0.0</td>\n      <td>137.0</td>\n      <td>NaN</td>\n      <td>1.0</td>\n      <td>1.0</td>\n      <td>Desktop</td>\n      <td>Windows.Desktop</td>\n      <td>2668.0</td>\n      <td>9124.0</td>\n      <td>4.0</td>\n      <td>5.0</td>\n      <td>2341.0</td>\n      <td>NaN</td>\n      <td>476940.0</td>\n      <td>HDD</td>\n      <td>299451.0</td>\n      <td>0</td>\n      <td>4096.0</td>\n      <td>Desktop</td>\n      <td>18.9</td>\n      <td>1440.0</td>\n      <td>900.0</td>\n      <td>Desktop</td>\n      <td>NaN</td>\n      <td>4.294967e+09</td>\n      <td>10.0.17134.165</td>\n      <td>amd64</td>\n      <td>rs4_release</td>\n      <td>17134</td>\n      <td>165</td>\n      <td>Professional</td>\n      <td>PROFESSIONAL</td>\n      <td>UUPUpgrade</td>\n      <td>26.0</td>\n      <td>119</td>\n      <td>UNKNOWN</td>\n      <td>0</td>\n      <td>IS_GENUINE</td>\n      <td>Retail</td>\n      <td>NaN</td>\n      <td>0.0</td>\n      <td>Retail</td>\n      <td>NaN</td>\n      <td>628.0</td>\n      <td>36144.0</td>\n      <td>0</td>\n      <td>NaN</td>\n      <td>0.0</td>\n      <td>0</td>\n      <td>0</td>\n      <td>0.0</td>\n      <td>0.0</td>\n      <td>10.0</td>\n      <td>0</td>\n    </tr>\n    <tr>\n      <th>1</th>\n      <td>000007535c3f730efa9ea0b7ef1bd645</td>\n      <td>win8defender</td>\n      <td>1.1.14600.4</td>\n      <td>4.13.17134.1</td>\n      <td>1.263.48.0</td>\n      <td>0</td>\n      <td>7.0</td>\n      <td>0</td>\n      <td>NaN</td>\n      <td>53447.0</td>\n      <td>1.0</td>\n      <td>1.0</td>\n      <td>1</td>\n      <td>93</td>\n      <td>1482.0</td>\n      <td>18.0</td>\n      <td>119.0</td>\n      <td>64</td>\n      <td>windows10</td>\n      <td>x64</td>\n      <td>10.0.0.0</td>\n      <td>17134</td>\n      <td>256</td>\n      <td>rs4</td>\n      <td>17134.1.amd64fre.rs4_release.180410-1804</td>\n      <td>Pro</td>\n      <td>1.0</td>\n      <td>0</td>\n      <td>NaN</td>\n      <td>0.0</td>\n      <td>137.0</td>\n      <td>NaN</td>\n      <td>1.0</td>\n      <td>1.0</td>\n      <td>Notebook</td>\n      <td>Windows.Desktop</td>\n      <td>2668.0</td>\n      <td>91656.0</td>\n      <td>4.0</td>\n      <td>5.0</td>\n      <td>2405.0</td>\n      <td>NaN</td>\n      <td>476940.0</td>\n      <td>HDD</td>\n      <td>102385.0</td>\n      <td>0</td>\n      <td>4096.0</td>\n      <td>Notebook</td>\n      <td>13.9</td>\n      <td>1366.0</td>\n      <td>768.0</td>\n      <td>Mobile</td>\n      <td>NaN</td>\n      <td>1.000000e+00</td>\n      <td>10.0.17134.1</td>\n      <td>amd64</td>\n      <td>rs4_release</td>\n      <td>17134</td>\n      <td>1</td>\n      <td>Professional</td>\n      <td>PROFESSIONAL</td>\n      <td>IBSClean</td>\n      <td>8.0</td>\n      <td>31</td>\n      <td>UNKNOWN</td>\n      <td>0</td>\n      <td>OFFLINE</td>\n      <td>Retail</td>\n      <td>NaN</td>\n      <td>0.0</td>\n      <td>NOT_SET</td>\n      <td>NaN</td>\n      <td>628.0</td>\n      <td>57858.0</td>\n      <td>0</td>\n      <td>NaN</td>\n      <td>0.0</td>\n      <td>0</td>\n      <td>0</td>\n      <td>0.0</td>\n      <td>0.0</td>\n      <td>8.0</td>\n      <td>0</td>\n    </tr>\n    <tr>\n      <th>2</th>\n      <td>000007905a28d863f6d0d597892cd692</td>\n      <td>win8defender</td>\n      <td>1.1.15100.1</td>\n      <td>4.18.1807.18075</td>\n      <td>1.273.1341.0</td>\n      <td>0</td>\n      <td>7.0</td>\n      <td>0</td>\n      <td>NaN</td>\n      <td>53447.0</td>\n      <td>1.0</td>\n      <td>1.0</td>\n      <td>1</td>\n      <td>86</td>\n      <td>153579.0</td>\n      <td>18.0</td>\n      <td>64.0</td>\n      <td>49</td>\n      <td>windows10</td>\n      <td>x64</td>\n      <td>10.0.0.0</td>\n      <td>17134</td>\n      <td>768</td>\n      <td>rs4</td>\n      <td>17134.1.amd64fre.rs4_release.180410-1804</td>\n      <td>Home</td>\n      <td>1.0</td>\n      <td>0</td>\n      <td>NaN</td>\n      <td>0.0</td>\n      <td>137.0</td>\n      <td>RequireAdmin</td>\n      <td>1.0</td>\n      <td>1.0</td>\n      <td>Desktop</td>\n      <td>Windows.Desktop</td>\n      <td>4909.0</td>\n      <td>317701.0</td>\n      <td>4.0</td>\n      <td>5.0</td>\n      <td>1972.0</td>\n      <td>NaN</td>\n      <td>114473.0</td>\n      <td>SSD</td>\n      <td>113907.0</td>\n      <td>0</td>\n      <td>4096.0</td>\n      <td>Desktop</td>\n      <td>21.5</td>\n      <td>1920.0</td>\n      <td>1080.0</td>\n      <td>Desktop</td>\n      <td>NaN</td>\n      <td>4.294967e+09</td>\n      <td>10.0.17134.165</td>\n      <td>amd64</td>\n      <td>rs4_release</td>\n      <td>17134</td>\n      <td>165</td>\n      <td>Core</td>\n      <td>CORE</td>\n      <td>UUPUpgrade</td>\n      <td>7.0</td>\n      <td>30</td>\n      <td>FullAuto</td>\n      <td>0</td>\n      <td>IS_GENUINE</td>\n      <td>OEM:NONSLP</td>\n      <td>NaN</td>\n      <td>0.0</td>\n      <td>Retail</td>\n      <td>NaN</td>\n      <td>142.0</td>\n      <td>52682.0</td>\n      <td>0</td>\n      <td>NaN</td>\n      <td>0.0</td>\n      <td>0</td>\n      <td>0</td>\n      <td>0.0</td>\n      <td>0.0</td>\n      <td>3.0</td>\n      <td>0</td>\n    </tr>\n    <tr>\n      <th>3</th>\n      <td>00000b11598a75ea8ba1beea8459149f</td>\n      <td>win8defender</td>\n      <td>1.1.15100.1</td>\n      <td>4.18.1807.18075</td>\n      <td>1.273.1527.0</td>\n      <td>0</td>\n      <td>7.0</td>\n      <td>0</td>\n      <td>NaN</td>\n      <td>53447.0</td>\n      <td>1.0</td>\n      <td>1.0</td>\n      <td>1</td>\n      <td>88</td>\n      <td>20710.0</td>\n      <td>NaN</td>\n      <td>117.0</td>\n      <td>115</td>\n      <td>windows10</td>\n      <td>x64</td>\n      <td>10.0.0.0</td>\n      <td>17134</td>\n      <td>256</td>\n      <td>rs4</td>\n      <td>17134.1.amd64fre.rs4_release.180410-1804</td>\n      <td>Pro</td>\n      <td>1.0</td>\n      <td>0</td>\n      <td>NaN</td>\n      <td>0.0</td>\n      <td>137.0</td>\n      <td>ExistsNotSet</td>\n      <td>1.0</td>\n      <td>1.0</td>\n      <td>Desktop</td>\n      <td>Windows.Desktop</td>\n      <td>1443.0</td>\n      <td>275890.0</td>\n      <td>4.0</td>\n      <td>5.0</td>\n      <td>2273.0</td>\n      <td>NaN</td>\n      <td>238475.0</td>\n      <td>UNKNOWN</td>\n      <td>227116.0</td>\n      <td>0</td>\n      <td>4096.0</td>\n      <td>MiniTower</td>\n      <td>18.5</td>\n      <td>1366.0</td>\n      <td>768.0</td>\n      <td>Desktop</td>\n      <td>NaN</td>\n      <td>4.294967e+09</td>\n      <td>10.0.17134.228</td>\n      <td>amd64</td>\n      <td>rs4_release</td>\n      <td>17134</td>\n      <td>228</td>\n      <td>Professional</td>\n      <td>PROFESSIONAL</td>\n      <td>UUPUpgrade</td>\n      <td>17.0</td>\n      <td>64</td>\n      <td>FullAuto</td>\n      <td>0</td>\n      <td>IS_GENUINE</td>\n      <td>OEM:NONSLP</td>\n      <td>NaN</td>\n      <td>0.0</td>\n      <td>Retail</td>\n      <td>NaN</td>\n      <td>355.0</td>\n      <td>20050.0</td>\n      <td>0</td>\n      <td>NaN</td>\n      <td>0.0</td>\n      <td>0</td>\n      <td>0</td>\n      <td>0.0</td>\n      <td>0.0</td>\n      <td>3.0</td>\n      <td>1</td>\n    </tr>\n    <tr>\n      <th>4</th>\n      <td>000014a5f00daa18e76b81417eeb99fc</td>\n      <td>win8defender</td>\n      <td>1.1.15100.1</td>\n      <td>4.18.1807.18075</td>\n      <td>1.273.1379.0</td>\n      <td>0</td>\n      <td>7.0</td>\n      <td>0</td>\n      <td>NaN</td>\n      <td>53447.0</td>\n      <td>1.0</td>\n      <td>1.0</td>\n      <td>1</td>\n      <td>18</td>\n      <td>37376.0</td>\n      <td>NaN</td>\n      <td>277.0</td>\n      <td>75</td>\n      <td>windows10</td>\n      <td>x64</td>\n      <td>10.0.0.0</td>\n      <td>17134</td>\n      <td>768</td>\n      <td>rs4</td>\n      <td>17134.1.amd64fre.rs4_release.180410-1804</td>\n      <td>Home</td>\n      <td>1.0</td>\n      <td>0</td>\n      <td>NaN</td>\n      <td>0.0</td>\n      <td>137.0</td>\n      <td>RequireAdmin</td>\n      <td>1.0</td>\n      <td>1.0</td>\n      <td>Notebook</td>\n      <td>Windows.Desktop</td>\n      <td>1443.0</td>\n      <td>331929.0</td>\n      <td>4.0</td>\n      <td>5.0</td>\n      <td>2500.0</td>\n      <td>NaN</td>\n      <td>476940.0</td>\n      <td>HDD</td>\n      <td>101900.0</td>\n      <td>0</td>\n      <td>6144.0</td>\n      <td>Portable</td>\n      <td>14.0</td>\n      <td>1366.0</td>\n      <td>768.0</td>\n      <td>Mobile</td>\n      <td>lion</td>\n      <td>0.000000e+00</td>\n      <td>10.0.17134.191</td>\n      <td>amd64</td>\n      <td>rs4_release</td>\n      <td>17134</td>\n      <td>191</td>\n      <td>Core</td>\n      <td>CORE</td>\n      <td>Update</td>\n      <td>8.0</td>\n      <td>31</td>\n      <td>FullAuto</td>\n      <td>0</td>\n      <td>IS_GENUINE</td>\n      <td>Retail</td>\n      <td>0.0</td>\n      <td>0.0</td>\n      <td>Retail</td>\n      <td>0.0</td>\n      <td>355.0</td>\n      <td>19844.0</td>\n      <td>0</td>\n      <td>0.0</td>\n      <td>0.0</td>\n      <td>0</td>\n      <td>0</td>\n      <td>0.0</td>\n      <td>0.0</td>\n      <td>1.0</td>\n      <td>1</td>\n    </tr>\n  </tbody>\n</table>\n</div>"
     },
     "execution_count": 3,
     "metadata": {},
     "output_type": "execute_result"
    }
   ],
   "source": [
    "data.head()"
   ]
  },
  {
   "cell_type": "markdown",
   "id": "bcb7208d",
   "metadata": {
    "pycharm": {
     "name": "#%% md\n"
    }
   },
   "source": [
    "Удалите константные признаки и признаки `ProductName` `MachineIdentifier`"
   ]
  },
  {
   "cell_type": "code",
   "execution_count": 20,
   "outputs": [
    {
     "data": {
      "text/plain": "7.0"
     },
     "execution_count": 20,
     "metadata": {},
     "output_type": "execute_result"
    }
   ],
   "source": [
    "data['RtpStateBitfield'][50]"
   ],
   "metadata": {
    "collapsed": false,
    "pycharm": {
     "name": "#%%\n"
    }
   }
  },
  {
   "cell_type": "code",
   "execution_count": 4,
   "id": "c9139402",
   "metadata": {
    "pycharm": {
     "name": "#%%\n"
    }
   },
   "outputs": [],
   "source": [
    "### Можно воспользоваться VarianceThreshold\n",
    "### А можно еще проще с помощью скрина метода .all()\n",
    "\n",
    "for i in data.columns:\n",
    "    \n",
    "    if (data[i] == data[i][0]).all():\n",
    "        data.drop(columns=[i], inplace=True)"
   ]
  },
  {
   "cell_type": "code",
   "execution_count": 5,
   "id": "c76ea55f",
   "metadata": {
    "pycharm": {
     "name": "#%%\n"
    }
   },
   "outputs": [],
   "source": [
    "### Дополнительно удалим еще 2 колонки\n",
    "\n",
    "data.drop(columns=['ProductName', 'MachineIdentifier'], inplace=True)"
   ]
  },
  {
   "cell_type": "markdown",
   "id": "6036cd8c",
   "metadata": {
    "pycharm": {
     "name": "#%% md\n"
    }
   },
   "source": [
    "Посмотрите на соотношение классов в таргете. Все ли хорошо?"
   ]
  },
  {
   "cell_type": "code",
   "execution_count": 6,
   "id": "47281c91",
   "metadata": {
    "pycharm": {
     "name": "#%%\n"
    }
   },
   "outputs": [
    {
     "name": "stdout",
     "output_type": "stream",
     "text": [
      "100060 - positive class,\n",
      "99940 - negative class\n"
     ]
    }
   ],
   "source": [
    "### Посмотрим, сколько наблюдений в датасете \n",
    "### имеют 0 и 1 классы\n",
    "\n",
    "print(sum(data['HasDetections'] == 1), '- positive class,')\n",
    "print(sum(data['HasDetections'] == 0), '- negative class')\n",
    "\n",
    "### Кажется, с балансом классов все ок!"
   ]
  },
  {
   "cell_type": "markdown",
   "id": "3b3d0a3b",
   "metadata": {
    "pycharm": {
     "name": "#%% md\n"
    }
   },
   "source": [
    "Ответьте на вопрос: почему с вашей точки зрения важно иметь представление о балансе классов в ваших данных?\n",
    "\n",
    "**При дисбалансе модели могут подстраиваться под доминирующий класс, когда для нас может быть интересен как раз-таки другой**"
   ]
  },
  {
   "cell_type": "markdown",
   "id": "96a8fca4",
   "metadata": {
    "pycharm": {
     "name": "#%% md\n"
    }
   },
   "source": [
    "Избавьтесь от пропусков в данных! \n",
    "\n",
    "Новый для нас прием: признаки с более чем половиной пропусков следует удалить.\n",
    "\n",
    "Согласитесь, если в вашей колоночке среди 100 объектов всего лишь у 2 есть какое-то непропущенное значение, странно все остальные заполнять средним от этих двух чисел. Такие \"редкие\" признаки лучше вообще опустить!\n",
    "\n",
    "\n",
    "В категориальных колонках заменим отсутствующую категорию просто некоторой новой и назовем ее `NaN`.\n",
    "\n",
    "А в числовых, ради разнообразия, заполним пропуски медианным значением."
   ]
  },
  {
   "cell_type": "code",
   "execution_count": 7,
   "id": "f58da1d8",
   "metadata": {
    "pycharm": {
     "name": "#%%\n"
    }
   },
   "outputs": [],
   "source": [
    "### Посчитаем количество отсутствующих значений в каждой колонке\n",
    "\n",
    "nans = np.sum(data.isna(), axis=0)\n",
    "\n",
    "### Удалим те колонки, в которых пропусков более половины от размера всей выборки\n",
    "\n",
    "data.drop(columns=list(nans[nans > data.shape[0] / 2].index), inplace=True)"
   ]
  },
  {
   "cell_type": "code",
   "execution_count": 8,
   "id": "64a44766",
   "metadata": {
    "pycharm": {
     "name": "#%%\n"
    }
   },
   "outputs": [],
   "source": [
    "### В категориальных колонках с отсутствующими значениями\n",
    "### произведем fillna, создав по новой категории для каждой\n",
    "### такой фичи\n",
    "\n",
    "cat_cols = data.select_dtypes(exclude=['float64', 'int64']).isnull().any()\n",
    "\n",
    "for null_col in cat_cols[cat_cols].index:\n",
    "    data[null_col] = data[null_col].fillna('NaN')\n"
   ]
  },
  {
   "cell_type": "code",
   "execution_count": 9,
   "id": "ec677a38",
   "metadata": {
    "pycharm": {
     "name": "#%%\n"
    }
   },
   "outputs": [],
   "source": [
    "### Оставшиеся (вещественные) колонки заполним медианой по столбцу\n",
    "\n",
    "nans = np.sum(data.isna(), axis=0)\n",
    "\n",
    "\n",
    "for col in list(nans[nans > 0].index):\n",
    "    data[col].fillna(data[col].median(), inplace=True)"
   ]
  },
  {
   "cell_type": "code",
   "execution_count": 10,
   "id": "8f2863ed",
   "metadata": {
    "pycharm": {
     "name": "#%%\n"
    }
   },
   "outputs": [
    {
     "data": {
      "text/plain": "  EngineVersion       AppVersion  AvSigVersion  RtpStateBitfield  \\\n0   1.1.15100.1  4.18.1807.18075  1.273.1735.0               7.0   \n1   1.1.14600.4     4.13.17134.1    1.263.48.0               7.0   \n2   1.1.15100.1  4.18.1807.18075  1.273.1341.0               7.0   \n3   1.1.15100.1  4.18.1807.18075  1.273.1527.0               7.0   \n4   1.1.15100.1  4.18.1807.18075  1.273.1379.0               7.0   \n\n   IsSxsPassiveMode  AVProductStatesIdentifier  AVProductsInstalled  \\\n0                 0                    53447.0                  1.0   \n1                 0                    53447.0                  1.0   \n2                 0                    53447.0                  1.0   \n3                 0                    53447.0                  1.0   \n4                 0                    53447.0                  1.0   \n\n   AVProductsEnabled  HasTpm  CountryIdentifier  CityIdentifier  \\\n0                1.0       1                 29        128035.0   \n1                1.0       1                 93          1482.0   \n2                1.0       1                 86        153579.0   \n3                1.0       1                 88         20710.0   \n4                1.0       1                 18         37376.0   \n\n   OrganizationIdentifier  GeoNameIdentifier  LocaleEnglishNameIdentifier  \\\n0                    18.0               35.0                          171   \n1                    18.0              119.0                           64   \n2                    18.0               64.0                           49   \n3                    27.0              117.0                          115   \n4                    27.0              277.0                           75   \n\n    Platform Processor     OsVer  OsBuild  OsSuite OsPlatformSubRelease  \\\n0  windows10       x64  10.0.0.0    17134      256                  rs4   \n1  windows10       x64  10.0.0.0    17134      256                  rs4   \n2  windows10       x64  10.0.0.0    17134      768                  rs4   \n3  windows10       x64  10.0.0.0    17134      256                  rs4   \n4  windows10       x64  10.0.0.0    17134      768                  rs4   \n\n                                 OsBuildLab SkuEdition  IsProtected  \\\n0  17134.1.amd64fre.rs4_release.180410-1804        Pro          1.0   \n1  17134.1.amd64fre.rs4_release.180410-1804        Pro          1.0   \n2  17134.1.amd64fre.rs4_release.180410-1804       Home          1.0   \n3  17134.1.amd64fre.rs4_release.180410-1804        Pro          1.0   \n4  17134.1.amd64fre.rs4_release.180410-1804       Home          1.0   \n\n   AutoSampleOptIn  SMode  IeVerIdentifier   SmartScreen  Firewall  \\\n0                0    0.0            137.0           NaN       1.0   \n1                0    0.0            137.0           NaN       1.0   \n2                0    0.0            137.0  RequireAdmin       1.0   \n3                0    0.0            137.0  ExistsNotSet       1.0   \n4                0    0.0            137.0  RequireAdmin       1.0   \n\n   UacLuaenable Census_MDC2FormFactor Census_DeviceFamily  \\\n0           1.0               Desktop     Windows.Desktop   \n1           1.0              Notebook     Windows.Desktop   \n2           1.0               Desktop     Windows.Desktop   \n3           1.0               Desktop     Windows.Desktop   \n4           1.0              Notebook     Windows.Desktop   \n\n   Census_OEMNameIdentifier  Census_OEMModelIdentifier  \\\n0                    2668.0                     9124.0   \n1                    2668.0                    91656.0   \n2                    4909.0                   317701.0   \n3                    1443.0                   275890.0   \n4                    1443.0                   331929.0   \n\n   Census_ProcessorCoreCount  Census_ProcessorManufacturerIdentifier  \\\n0                        4.0                                     5.0   \n1                        4.0                                     5.0   \n2                        4.0                                     5.0   \n3                        4.0                                     5.0   \n4                        4.0                                     5.0   \n\n   Census_ProcessorModelIdentifier  Census_PrimaryDiskTotalCapacity  \\\n0                           2341.0                         476940.0   \n1                           2405.0                         476940.0   \n2                           1972.0                         114473.0   \n3                           2273.0                         238475.0   \n4                           2500.0                         476940.0   \n\n  Census_PrimaryDiskTypeName  Census_SystemVolumeTotalCapacity  \\\n0                        HDD                          299451.0   \n1                        HDD                          102385.0   \n2                        SSD                          113907.0   \n3                    UNKNOWN                          227116.0   \n4                        HDD                          101900.0   \n\n   Census_HasOpticalDiskDrive  Census_TotalPhysicalRAM Census_ChassisTypeName  \\\n0                           0                   4096.0                Desktop   \n1                           0                   4096.0               Notebook   \n2                           0                   4096.0                Desktop   \n3                           0                   4096.0              MiniTower   \n4                           0                   6144.0               Portable   \n\n   Census_InternalPrimaryDiagonalDisplaySizeInInches  \\\n0                                               18.9   \n1                                               13.9   \n2                                               21.5   \n3                                               18.5   \n4                                               14.0   \n\n   Census_InternalPrimaryDisplayResolutionHorizontal  \\\n0                                             1440.0   \n1                                             1366.0   \n2                                             1920.0   \n3                                             1366.0   \n4                                             1366.0   \n\n   Census_InternalPrimaryDisplayResolutionVertical  \\\n0                                            900.0   \n1                                            768.0   \n2                                           1080.0   \n3                                            768.0   \n4                                            768.0   \n\n  Census_PowerPlatformRoleName  Census_InternalBatteryNumberOfCharges  \\\n0                      Desktop                           4.294967e+09   \n1                       Mobile                           1.000000e+00   \n2                      Desktop                           4.294967e+09   \n3                      Desktop                           4.294967e+09   \n4                       Mobile                           0.000000e+00   \n\n  Census_OSVersion Census_OSArchitecture Census_OSBranch  \\\n0   10.0.17134.165                 amd64     rs4_release   \n1     10.0.17134.1                 amd64     rs4_release   \n2   10.0.17134.165                 amd64     rs4_release   \n3   10.0.17134.228                 amd64     rs4_release   \n4   10.0.17134.191                 amd64     rs4_release   \n\n   Census_OSBuildNumber  Census_OSBuildRevision Census_OSEdition  \\\n0                 17134                     165     Professional   \n1                 17134                       1     Professional   \n2                 17134                     165             Core   \n3                 17134                     228     Professional   \n4                 17134                     191             Core   \n\n  Census_OSSkuName Census_OSInstallTypeName  \\\n0     PROFESSIONAL               UUPUpgrade   \n1     PROFESSIONAL                 IBSClean   \n2             CORE               UUPUpgrade   \n3     PROFESSIONAL               UUPUpgrade   \n4             CORE                   Update   \n\n   Census_OSInstallLanguageIdentifier  Census_OSUILocaleIdentifier  \\\n0                                26.0                          119   \n1                                 8.0                           31   \n2                                 7.0                           30   \n3                                17.0                           64   \n4                                 8.0                           31   \n\n  Census_OSWUAutoUpdateOptionsName  Census_IsPortableOperatingSystem  \\\n0                          UNKNOWN                                 0   \n1                          UNKNOWN                                 0   \n2                         FullAuto                                 0   \n3                         FullAuto                                 0   \n4                         FullAuto                                 0   \n\n  Census_GenuineStateName Census_ActivationChannel  Census_IsFlightsDisabled  \\\n0              IS_GENUINE                   Retail                       0.0   \n1                 OFFLINE                   Retail                       0.0   \n2              IS_GENUINE               OEM:NONSLP                       0.0   \n3              IS_GENUINE               OEM:NONSLP                       0.0   \n4              IS_GENUINE                   Retail                       0.0   \n\n  Census_FlightRing  Census_FirmwareManufacturerIdentifier  \\\n0            Retail                                  628.0   \n1           NOT_SET                                  628.0   \n2            Retail                                  142.0   \n3            Retail                                  355.0   \n4            Retail                                  355.0   \n\n   Census_FirmwareVersionIdentifier  Census_IsSecureBootEnabled  \\\n0                           36144.0                           0   \n1                           57858.0                           0   \n2                           52682.0                           0   \n3                           20050.0                           0   \n4                           19844.0                           0   \n\n   Census_IsVirtualDevice  Census_IsTouchEnabled  Census_IsPenCapable  \\\n0                     0.0                      0                    0   \n1                     0.0                      0                    0   \n2                     0.0                      0                    0   \n3                     0.0                      0                    0   \n4                     0.0                      0                    0   \n\n   Census_IsAlwaysOnAlwaysConnectedCapable  Wdft_IsGamer  \\\n0                                      0.0           0.0   \n1                                      0.0           0.0   \n2                                      0.0           0.0   \n3                                      0.0           0.0   \n4                                      0.0           0.0   \n\n   Wdft_RegionIdentifier  HasDetections  \n0                   10.0              0  \n1                    8.0              0  \n2                    3.0              0  \n3                    3.0              1  \n4                    1.0              1  ",
      "text/html": "<div>\n<style scoped>\n    .dataframe tbody tr th:only-of-type {\n        vertical-align: middle;\n    }\n\n    .dataframe tbody tr th {\n        vertical-align: top;\n    }\n\n    .dataframe thead th {\n        text-align: right;\n    }\n</style>\n<table border=\"1\" class=\"dataframe\">\n  <thead>\n    <tr style=\"text-align: right;\">\n      <th></th>\n      <th>EngineVersion</th>\n      <th>AppVersion</th>\n      <th>AvSigVersion</th>\n      <th>RtpStateBitfield</th>\n      <th>IsSxsPassiveMode</th>\n      <th>AVProductStatesIdentifier</th>\n      <th>AVProductsInstalled</th>\n      <th>AVProductsEnabled</th>\n      <th>HasTpm</th>\n      <th>CountryIdentifier</th>\n      <th>CityIdentifier</th>\n      <th>OrganizationIdentifier</th>\n      <th>GeoNameIdentifier</th>\n      <th>LocaleEnglishNameIdentifier</th>\n      <th>Platform</th>\n      <th>Processor</th>\n      <th>OsVer</th>\n      <th>OsBuild</th>\n      <th>OsSuite</th>\n      <th>OsPlatformSubRelease</th>\n      <th>OsBuildLab</th>\n      <th>SkuEdition</th>\n      <th>IsProtected</th>\n      <th>AutoSampleOptIn</th>\n      <th>SMode</th>\n      <th>IeVerIdentifier</th>\n      <th>SmartScreen</th>\n      <th>Firewall</th>\n      <th>UacLuaenable</th>\n      <th>Census_MDC2FormFactor</th>\n      <th>Census_DeviceFamily</th>\n      <th>Census_OEMNameIdentifier</th>\n      <th>Census_OEMModelIdentifier</th>\n      <th>Census_ProcessorCoreCount</th>\n      <th>Census_ProcessorManufacturerIdentifier</th>\n      <th>Census_ProcessorModelIdentifier</th>\n      <th>Census_PrimaryDiskTotalCapacity</th>\n      <th>Census_PrimaryDiskTypeName</th>\n      <th>Census_SystemVolumeTotalCapacity</th>\n      <th>Census_HasOpticalDiskDrive</th>\n      <th>Census_TotalPhysicalRAM</th>\n      <th>Census_ChassisTypeName</th>\n      <th>Census_InternalPrimaryDiagonalDisplaySizeInInches</th>\n      <th>Census_InternalPrimaryDisplayResolutionHorizontal</th>\n      <th>Census_InternalPrimaryDisplayResolutionVertical</th>\n      <th>Census_PowerPlatformRoleName</th>\n      <th>Census_InternalBatteryNumberOfCharges</th>\n      <th>Census_OSVersion</th>\n      <th>Census_OSArchitecture</th>\n      <th>Census_OSBranch</th>\n      <th>Census_OSBuildNumber</th>\n      <th>Census_OSBuildRevision</th>\n      <th>Census_OSEdition</th>\n      <th>Census_OSSkuName</th>\n      <th>Census_OSInstallTypeName</th>\n      <th>Census_OSInstallLanguageIdentifier</th>\n      <th>Census_OSUILocaleIdentifier</th>\n      <th>Census_OSWUAutoUpdateOptionsName</th>\n      <th>Census_IsPortableOperatingSystem</th>\n      <th>Census_GenuineStateName</th>\n      <th>Census_ActivationChannel</th>\n      <th>Census_IsFlightsDisabled</th>\n      <th>Census_FlightRing</th>\n      <th>Census_FirmwareManufacturerIdentifier</th>\n      <th>Census_FirmwareVersionIdentifier</th>\n      <th>Census_IsSecureBootEnabled</th>\n      <th>Census_IsVirtualDevice</th>\n      <th>Census_IsTouchEnabled</th>\n      <th>Census_IsPenCapable</th>\n      <th>Census_IsAlwaysOnAlwaysConnectedCapable</th>\n      <th>Wdft_IsGamer</th>\n      <th>Wdft_RegionIdentifier</th>\n      <th>HasDetections</th>\n    </tr>\n  </thead>\n  <tbody>\n    <tr>\n      <th>0</th>\n      <td>1.1.15100.1</td>\n      <td>4.18.1807.18075</td>\n      <td>1.273.1735.0</td>\n      <td>7.0</td>\n      <td>0</td>\n      <td>53447.0</td>\n      <td>1.0</td>\n      <td>1.0</td>\n      <td>1</td>\n      <td>29</td>\n      <td>128035.0</td>\n      <td>18.0</td>\n      <td>35.0</td>\n      <td>171</td>\n      <td>windows10</td>\n      <td>x64</td>\n      <td>10.0.0.0</td>\n      <td>17134</td>\n      <td>256</td>\n      <td>rs4</td>\n      <td>17134.1.amd64fre.rs4_release.180410-1804</td>\n      <td>Pro</td>\n      <td>1.0</td>\n      <td>0</td>\n      <td>0.0</td>\n      <td>137.0</td>\n      <td>NaN</td>\n      <td>1.0</td>\n      <td>1.0</td>\n      <td>Desktop</td>\n      <td>Windows.Desktop</td>\n      <td>2668.0</td>\n      <td>9124.0</td>\n      <td>4.0</td>\n      <td>5.0</td>\n      <td>2341.0</td>\n      <td>476940.0</td>\n      <td>HDD</td>\n      <td>299451.0</td>\n      <td>0</td>\n      <td>4096.0</td>\n      <td>Desktop</td>\n      <td>18.9</td>\n      <td>1440.0</td>\n      <td>900.0</td>\n      <td>Desktop</td>\n      <td>4.294967e+09</td>\n      <td>10.0.17134.165</td>\n      <td>amd64</td>\n      <td>rs4_release</td>\n      <td>17134</td>\n      <td>165</td>\n      <td>Professional</td>\n      <td>PROFESSIONAL</td>\n      <td>UUPUpgrade</td>\n      <td>26.0</td>\n      <td>119</td>\n      <td>UNKNOWN</td>\n      <td>0</td>\n      <td>IS_GENUINE</td>\n      <td>Retail</td>\n      <td>0.0</td>\n      <td>Retail</td>\n      <td>628.0</td>\n      <td>36144.0</td>\n      <td>0</td>\n      <td>0.0</td>\n      <td>0</td>\n      <td>0</td>\n      <td>0.0</td>\n      <td>0.0</td>\n      <td>10.0</td>\n      <td>0</td>\n    </tr>\n    <tr>\n      <th>1</th>\n      <td>1.1.14600.4</td>\n      <td>4.13.17134.1</td>\n      <td>1.263.48.0</td>\n      <td>7.0</td>\n      <td>0</td>\n      <td>53447.0</td>\n      <td>1.0</td>\n      <td>1.0</td>\n      <td>1</td>\n      <td>93</td>\n      <td>1482.0</td>\n      <td>18.0</td>\n      <td>119.0</td>\n      <td>64</td>\n      <td>windows10</td>\n      <td>x64</td>\n      <td>10.0.0.0</td>\n      <td>17134</td>\n      <td>256</td>\n      <td>rs4</td>\n      <td>17134.1.amd64fre.rs4_release.180410-1804</td>\n      <td>Pro</td>\n      <td>1.0</td>\n      <td>0</td>\n      <td>0.0</td>\n      <td>137.0</td>\n      <td>NaN</td>\n      <td>1.0</td>\n      <td>1.0</td>\n      <td>Notebook</td>\n      <td>Windows.Desktop</td>\n      <td>2668.0</td>\n      <td>91656.0</td>\n      <td>4.0</td>\n      <td>5.0</td>\n      <td>2405.0</td>\n      <td>476940.0</td>\n      <td>HDD</td>\n      <td>102385.0</td>\n      <td>0</td>\n      <td>4096.0</td>\n      <td>Notebook</td>\n      <td>13.9</td>\n      <td>1366.0</td>\n      <td>768.0</td>\n      <td>Mobile</td>\n      <td>1.000000e+00</td>\n      <td>10.0.17134.1</td>\n      <td>amd64</td>\n      <td>rs4_release</td>\n      <td>17134</td>\n      <td>1</td>\n      <td>Professional</td>\n      <td>PROFESSIONAL</td>\n      <td>IBSClean</td>\n      <td>8.0</td>\n      <td>31</td>\n      <td>UNKNOWN</td>\n      <td>0</td>\n      <td>OFFLINE</td>\n      <td>Retail</td>\n      <td>0.0</td>\n      <td>NOT_SET</td>\n      <td>628.0</td>\n      <td>57858.0</td>\n      <td>0</td>\n      <td>0.0</td>\n      <td>0</td>\n      <td>0</td>\n      <td>0.0</td>\n      <td>0.0</td>\n      <td>8.0</td>\n      <td>0</td>\n    </tr>\n    <tr>\n      <th>2</th>\n      <td>1.1.15100.1</td>\n      <td>4.18.1807.18075</td>\n      <td>1.273.1341.0</td>\n      <td>7.0</td>\n      <td>0</td>\n      <td>53447.0</td>\n      <td>1.0</td>\n      <td>1.0</td>\n      <td>1</td>\n      <td>86</td>\n      <td>153579.0</td>\n      <td>18.0</td>\n      <td>64.0</td>\n      <td>49</td>\n      <td>windows10</td>\n      <td>x64</td>\n      <td>10.0.0.0</td>\n      <td>17134</td>\n      <td>768</td>\n      <td>rs4</td>\n      <td>17134.1.amd64fre.rs4_release.180410-1804</td>\n      <td>Home</td>\n      <td>1.0</td>\n      <td>0</td>\n      <td>0.0</td>\n      <td>137.0</td>\n      <td>RequireAdmin</td>\n      <td>1.0</td>\n      <td>1.0</td>\n      <td>Desktop</td>\n      <td>Windows.Desktop</td>\n      <td>4909.0</td>\n      <td>317701.0</td>\n      <td>4.0</td>\n      <td>5.0</td>\n      <td>1972.0</td>\n      <td>114473.0</td>\n      <td>SSD</td>\n      <td>113907.0</td>\n      <td>0</td>\n      <td>4096.0</td>\n      <td>Desktop</td>\n      <td>21.5</td>\n      <td>1920.0</td>\n      <td>1080.0</td>\n      <td>Desktop</td>\n      <td>4.294967e+09</td>\n      <td>10.0.17134.165</td>\n      <td>amd64</td>\n      <td>rs4_release</td>\n      <td>17134</td>\n      <td>165</td>\n      <td>Core</td>\n      <td>CORE</td>\n      <td>UUPUpgrade</td>\n      <td>7.0</td>\n      <td>30</td>\n      <td>FullAuto</td>\n      <td>0</td>\n      <td>IS_GENUINE</td>\n      <td>OEM:NONSLP</td>\n      <td>0.0</td>\n      <td>Retail</td>\n      <td>142.0</td>\n      <td>52682.0</td>\n      <td>0</td>\n      <td>0.0</td>\n      <td>0</td>\n      <td>0</td>\n      <td>0.0</td>\n      <td>0.0</td>\n      <td>3.0</td>\n      <td>0</td>\n    </tr>\n    <tr>\n      <th>3</th>\n      <td>1.1.15100.1</td>\n      <td>4.18.1807.18075</td>\n      <td>1.273.1527.0</td>\n      <td>7.0</td>\n      <td>0</td>\n      <td>53447.0</td>\n      <td>1.0</td>\n      <td>1.0</td>\n      <td>1</td>\n      <td>88</td>\n      <td>20710.0</td>\n      <td>27.0</td>\n      <td>117.0</td>\n      <td>115</td>\n      <td>windows10</td>\n      <td>x64</td>\n      <td>10.0.0.0</td>\n      <td>17134</td>\n      <td>256</td>\n      <td>rs4</td>\n      <td>17134.1.amd64fre.rs4_release.180410-1804</td>\n      <td>Pro</td>\n      <td>1.0</td>\n      <td>0</td>\n      <td>0.0</td>\n      <td>137.0</td>\n      <td>ExistsNotSet</td>\n      <td>1.0</td>\n      <td>1.0</td>\n      <td>Desktop</td>\n      <td>Windows.Desktop</td>\n      <td>1443.0</td>\n      <td>275890.0</td>\n      <td>4.0</td>\n      <td>5.0</td>\n      <td>2273.0</td>\n      <td>238475.0</td>\n      <td>UNKNOWN</td>\n      <td>227116.0</td>\n      <td>0</td>\n      <td>4096.0</td>\n      <td>MiniTower</td>\n      <td>18.5</td>\n      <td>1366.0</td>\n      <td>768.0</td>\n      <td>Desktop</td>\n      <td>4.294967e+09</td>\n      <td>10.0.17134.228</td>\n      <td>amd64</td>\n      <td>rs4_release</td>\n      <td>17134</td>\n      <td>228</td>\n      <td>Professional</td>\n      <td>PROFESSIONAL</td>\n      <td>UUPUpgrade</td>\n      <td>17.0</td>\n      <td>64</td>\n      <td>FullAuto</td>\n      <td>0</td>\n      <td>IS_GENUINE</td>\n      <td>OEM:NONSLP</td>\n      <td>0.0</td>\n      <td>Retail</td>\n      <td>355.0</td>\n      <td>20050.0</td>\n      <td>0</td>\n      <td>0.0</td>\n      <td>0</td>\n      <td>0</td>\n      <td>0.0</td>\n      <td>0.0</td>\n      <td>3.0</td>\n      <td>1</td>\n    </tr>\n    <tr>\n      <th>4</th>\n      <td>1.1.15100.1</td>\n      <td>4.18.1807.18075</td>\n      <td>1.273.1379.0</td>\n      <td>7.0</td>\n      <td>0</td>\n      <td>53447.0</td>\n      <td>1.0</td>\n      <td>1.0</td>\n      <td>1</td>\n      <td>18</td>\n      <td>37376.0</td>\n      <td>27.0</td>\n      <td>277.0</td>\n      <td>75</td>\n      <td>windows10</td>\n      <td>x64</td>\n      <td>10.0.0.0</td>\n      <td>17134</td>\n      <td>768</td>\n      <td>rs4</td>\n      <td>17134.1.amd64fre.rs4_release.180410-1804</td>\n      <td>Home</td>\n      <td>1.0</td>\n      <td>0</td>\n      <td>0.0</td>\n      <td>137.0</td>\n      <td>RequireAdmin</td>\n      <td>1.0</td>\n      <td>1.0</td>\n      <td>Notebook</td>\n      <td>Windows.Desktop</td>\n      <td>1443.0</td>\n      <td>331929.0</td>\n      <td>4.0</td>\n      <td>5.0</td>\n      <td>2500.0</td>\n      <td>476940.0</td>\n      <td>HDD</td>\n      <td>101900.0</td>\n      <td>0</td>\n      <td>6144.0</td>\n      <td>Portable</td>\n      <td>14.0</td>\n      <td>1366.0</td>\n      <td>768.0</td>\n      <td>Mobile</td>\n      <td>0.000000e+00</td>\n      <td>10.0.17134.191</td>\n      <td>amd64</td>\n      <td>rs4_release</td>\n      <td>17134</td>\n      <td>191</td>\n      <td>Core</td>\n      <td>CORE</td>\n      <td>Update</td>\n      <td>8.0</td>\n      <td>31</td>\n      <td>FullAuto</td>\n      <td>0</td>\n      <td>IS_GENUINE</td>\n      <td>Retail</td>\n      <td>0.0</td>\n      <td>Retail</td>\n      <td>355.0</td>\n      <td>19844.0</td>\n      <td>0</td>\n      <td>0.0</td>\n      <td>0</td>\n      <td>0</td>\n      <td>0.0</td>\n      <td>0.0</td>\n      <td>1.0</td>\n      <td>1</td>\n    </tr>\n  </tbody>\n</table>\n</div>"
     },
     "execution_count": 10,
     "metadata": {},
     "output_type": "execute_result"
    }
   ],
   "source": [
    "data.head()"
   ]
  },
  {
   "cell_type": "markdown",
   "id": "9fc2f80e",
   "metadata": {
    "pycharm": {
     "name": "#%% md\n"
    }
   },
   "source": [
    "Создайте копию полученного датафрейма и положите ее в переменную data_2. Понадобится в следующих заданиях."
   ]
  },
  {
   "cell_type": "code",
   "execution_count": 11,
   "id": "b0b4ab55",
   "metadata": {
    "pycharm": {
     "name": "#%%\n"
    }
   },
   "outputs": [],
   "source": [
    "data_2 = data.copy()"
   ]
  },
  {
   "cell_type": "markdown",
   "id": "012ac885",
   "metadata": {
    "pycharm": {
     "name": "#%% md\n"
    }
   },
   "source": [
    "Так же поработаем над всеми категориальными колонкам перед запуском непосредственно моделей.\n",
    "\n",
    "Провернем самый базовый и наглый метод - несмотря на количество уникальных значений в каждой категории, просто применим ко всей категориальной части датасета `OneHotEncoding`"
   ]
  },
  {
   "cell_type": "code",
   "execution_count": 12,
   "id": "7a582983",
   "metadata": {
    "pycharm": {
     "name": "#%%\n"
    }
   },
   "outputs": [],
   "source": [
    "### Для OneHotEncoding'а воспользуемся пандасовским get_dummies\n",
    "\n",
    "cat_cols = data.select_dtypes(exclude=['float64', 'int64']).columns\n",
    "\n",
    "categorical_data_part = pd.get_dummies(data[cat_cols],\n",
    "                                       prefix=cat_cols,\n",
    "                                       drop_first=True,\n",
    "                                       )\n",
    "\n",
    "data = data.drop(cat_cols, axis=1)\n",
    "\n",
    "data = pd.concat((data, categorical_data_part), axis=1)"
   ]
  },
  {
   "cell_type": "markdown",
   "id": "6f3ed971",
   "metadata": {
    "pycharm": {
     "name": "#%% md\n"
    }
   },
   "source": [
    "###  Разделим выборку на тренировочную и тестовую"
   ]
  },
  {
   "cell_type": "markdown",
   "id": "af3018d0",
   "metadata": {
    "pycharm": {
     "name": "#%% md\n"
    }
   },
   "source": [
    "P.S. в задачах классификации, как и в задаче регрессии, можно использовать технологию Кросс-Валидации. Например, по одному из двух следующих сценариев:\n",
    "\n",
    "1) Отделить валидацию и тест, произвести подбор лучшей модели с помощью `K-Fold` на валидации, финально обучить выбранную модель на всей валидации и замерить качество на заранее отложенном финальном тесте!\n",
    "\n",
    "2) Всю выборку назвать валидационной и на ней применить `K-Fold` без финального замера.\n",
    "\n",
    "В этой домашней работе попросим Вас быть еще проще! :)\n",
    "Реализуем просто технологию отложенной выборки в пропорции 3:1"
   ]
  },
  {
   "cell_type": "code",
   "execution_count": 13,
   "id": "b6f47131",
   "metadata": {
    "pycharm": {
     "name": "#%%\n"
    }
   },
   "outputs": [],
   "source": [
    "### Разобьем выборку на трейн и тест\n",
    "\n",
    "from sklearn.model_selection import train_test_split \n",
    "\n",
    "X = data.drop(columns=['HasDetections'])\n",
    "y = data['HasDetections']\n",
    "\n",
    "X_train, X_test, y_train, y_test = train_test_split(X, y,\n",
    "                                                    test_size=0.25,\n",
    "                                                    shuffle=True,\n",
    "                                                    random_state=1)"
   ]
  },
  {
   "cell_type": "markdown",
   "id": "3dc34607",
   "metadata": {
    "pycharm": {
     "name": "#%% md\n"
    }
   },
   "source": [
    "Соберите `Pipeline`, реализовав в нем 2 шага: стандартизация данных через `StandardScaler` и обучение логистической регрессии с помощью `LogisticRegression`, положите результаты в переменную `pipe`, а в классе модели `LogisticRegression` укажите параметр `penalty='none'`"
   ]
  },
  {
   "cell_type": "code",
   "execution_count": 14,
   "id": "d0edb104",
   "metadata": {
    "pycharm": {
     "name": "#%%\n"
    }
   },
   "outputs": [],
   "source": [
    "### Здесь все просто и знакомо\n",
    "\n",
    "from sklearn.preprocessing import StandardScaler\n",
    "from sklearn.linear_model import LogisticRegression\n",
    "from sklearn.pipeline import Pipeline\n",
    "\n",
    "pipe = Pipeline([('scaler', StandardScaler()), \n",
    "                 ('LR', LogisticRegression(penalty='none'))])"
   ]
  },
  {
   "cell_type": "markdown",
   "id": "63219bf0",
   "metadata": {
    "pycharm": {
     "name": "#%% md\n"
    }
   },
   "source": [
    "Чтобы замерить качество работы такой модели на трейне и на тесте воспользуемся функцией `cross_validate`\n",
    "\n",
    "Вопрос: что передавать ей в параметр cv? Ведь мы уже разделили нашу выборку на трейн и тест (имеем всего 1 fold). Для этого можно просто передать список от кортежа, содержащего индексы тренировочных и тестовых объектов."
   ]
  },
  {
   "cell_type": "code",
   "execution_count": 15,
   "id": "8e485974",
   "metadata": {
    "pycharm": {
     "name": "#%%\n"
    }
   },
   "outputs": [
    {
     "name": "stderr",
     "output_type": "stream",
     "text": [
      "c:\\users\\gigabyte\\appdata\\local\\programs\\python\\python37\\lib\\site-packages\\sklearn\\linear_model\\_logistic.py:818: ConvergenceWarning: lbfgs failed to converge (status=1):\n",
      "STOP: TOTAL NO. of ITERATIONS REACHED LIMIT.\n",
      "\n",
      "Increase the number of iterations (max_iter) or scale the data as shown in:\n",
      "    https://scikit-learn.org/stable/modules/preprocessing.html\n",
      "Please also refer to the documentation for alternative solver options:\n",
      "    https://scikit-learn.org/stable/modules/linear_model.html#logistic-regression\n",
      "  extra_warning_msg=_LOGISTIC_SOLVER_CONVERGENCE_MSG,\n"
     ]
    },
    {
     "name": "stdout",
     "output_type": "stream",
     "text": [
      "Accuracy на трейне: 0.651\n",
      "Accuracy на тесте: 0.623\n",
      "Время работы алгоритма: 0:01:35.091642\n"
     ]
    }
   ],
   "source": [
    "from sklearn.model_selection import cross_validate\n",
    "import datetime\n",
    "\n",
    "### Создадим такой список из одного единственного кортежа\n",
    "### Первый элемент - индексы обучающей выборки\n",
    "### Второй элемент - индексы тестовой выборки\n",
    "\n",
    "custom_cv = [(X_train.index.to_list(), X_test.index.to_list())]\n",
    "\n",
    "### Замерим начало работы cross_validate\n",
    "\n",
    "begin_time = datetime.datetime.now()\n",
    "\n",
    "### В cv передадим созданный custom_cv\n",
    "### В качестве выборки передадим все данные\n",
    "### Метод сам разобьет выборку на трейн и тест по нашей стратегии\n",
    "\n",
    "cv_result_pipe = cross_validate(pipe, X, y, scoring='accuracy',\n",
    "                                cv=custom_cv, return_train_score=True)\n",
    "\n",
    "\n",
    "print(f\"Accuracy на трейне: {np.mean(cv_result_pipe['train_score']).round(3)}\")\n",
    "print(f\"Accuracy на тесте: {np.mean(cv_result_pipe['test_score']).round(3)}\")\n",
    "\n",
    "print(f\"Время работы алгоритма: {datetime.datetime.now() - begin_time}\")"
   ]
  },
  {
   "cell_type": "markdown",
   "id": "720aeafd",
   "metadata": {
    "pycharm": {
     "name": "#%% md\n"
    }
   },
   "source": [
    "Что можете сказать про время работы алгоритма?\n",
    "\n",
    "Очевидно, оно достаточно большое. Уж тем более для линейных моделей.\n",
    "\n",
    "Такое как раз-таки происходит из-за того, что количество фичей, который мы передали нашей модели - гигантское! Классу требуется много времени и памяти, чтобы обработать датасет.\n",
    "\n",
    "Поэтому те колонки, в которых количество уникальных категорий превышает какое-то адекватное число, следует кодировать иначе, нежели с помощью технологии `One-Hot-Encoding`.\n",
    "\n",
    "Теперь вы верите, что более умные кодировки зачастую прям необходимы! Раньше мы этот факт не демонстрировали!\n",
    "\n",
    "Дело еще вот в чем: в классе `LogisticRegression`, как и, например, `Lasso`, есть параметр, ограничивающий максимальное количество итераций во время обучения модели. Так, если данных много и итераций тоже ожидается большое число, найденная разделяющая гиперплоскость может оказаться не самой лучшей, так как наш алгоритм (будь то градиентный спуск или любой иной) просто 'не доползет'. "
   ]
  },
  {
   "cell_type": "markdown",
   "id": "2bb88c1c",
   "metadata": {
    "pycharm": {
     "name": "#%% md\n"
    }
   },
   "source": [
    "#### Задание 2"
   ]
  },
  {
   "cell_type": "markdown",
   "id": "1a3d517a",
   "metadata": {
    "pycharm": {
     "name": "#%% md\n"
    }
   },
   "source": [
    "Теперь попробуем другой метод кодирования категориальных колонок, а именно счётчики.\n",
    "Построем ту же модель и на том же разделении, просто заново иначе переобработаем датасет. \n",
    "\n",
    "Для тех категориальных признаков, у которых количество уникальных значений в колоночках больше 5, применим `MeanTargetEncoding`.\n",
    "\n",
    "Для остальных оставим любимый `OneHotEncoding` (как делали на практике и в предыдущем уроке)."
   ]
  },
  {
   "cell_type": "code",
   "execution_count": 16,
   "id": "66f04afc",
   "metadata": {
    "pycharm": {
     "name": "#%%\n"
    }
   },
   "outputs": [],
   "source": [
    "### Закодируем категории с большим кол-ом уникальных значений с помощью счетчиков\n",
    "### Закрывая глаза на возможную проблему переобучения\n",
    "### То есть будем считать средние по всему датасету\n",
    "\n",
    "for col in cat_cols:\n",
    "    if data_2[col].nunique() < 5:\n",
    "        one_hot = pd.get_dummies(data_2[col], prefix=col, drop_first=True)\n",
    "        data_2 = pd.concat((data_2.drop(col, axis=1), one_hot), axis=1)\n",
    "        \n",
    "    else:\n",
    "        mean_target = data_2.groupby(col)['HasDetections'].mean()\n",
    "        data_2[col] = data_2[col].map(mean_target)"
   ]
  },
  {
   "cell_type": "code",
   "execution_count": 17,
   "id": "5e3092d8",
   "metadata": {
    "pycharm": {
     "name": "#%%\n"
    }
   },
   "outputs": [],
   "source": [
    "X_2 = data_2.drop(columns=['HasDetections'])\n",
    "y_2 = data_2['HasDetections']"
   ]
  },
  {
   "cell_type": "markdown",
   "id": "2eb66112",
   "metadata": {
    "pycharm": {
     "name": "#%% md\n"
    }
   },
   "source": [
    "Опять обучим модель, пока что без изменений! Скажите, стало ли быстрее? А что с качеством?"
   ]
  },
  {
   "cell_type": "code",
   "execution_count": 18,
   "id": "f5e42d42",
   "metadata": {
    "pycharm": {
     "name": "#%%\n"
    }
   },
   "outputs": [
    {
     "name": "stdout",
     "output_type": "stream",
     "text": [
      "Accuracy на трейне: 0.638\n",
      "Accuracy на тесте: 0.638\n",
      "Время работы алгоритма: 0:00:02.645526\n"
     ]
    }
   ],
   "source": [
    "### Заново обучим модель и провалидируем\n",
    "### Очевидно стало супер-быстрее!\n",
    "\n",
    "begin_time = datetime.datetime.now()\n",
    "\n",
    "cv_result_pipe = cross_validate(pipe, X_2, y_2, scoring='accuracy',\n",
    "                                cv=custom_cv, return_train_score=True)\n",
    "\n",
    "print(f\"Accuracy на трейне: {np.mean(cv_result_pipe['train_score']).round(3)}\")\n",
    "print(f\"Accuracy на тесте: {np.mean(cv_result_pipe['test_score']).round(3)}\")\n",
    "\n",
    "print(f\"Время работы алгоритма: {datetime.datetime.now() - begin_time}\")"
   ]
  },
  {
   "cell_type": "markdown",
   "id": "ab03f4c1",
   "metadata": {
    "pycharm": {
     "name": "#%% md\n"
    }
   },
   "source": [
    "#### Задание 3: Регуляризация"
   ]
  },
  {
   "cell_type": "markdown",
   "id": "81121003",
   "metadata": {
    "pycharm": {
     "name": "#%% md\n"
    }
   },
   "source": [
    "Как и в моделях регрессии, решая задачу классификации, можем штрафовать минимизируемый функционал за большие веса, добавив к нему L1 или L2 норму весов (все как раньше!).\n",
    "\n",
    "Для этого в изначальном классе `LogisticRegression` изменить параметр `penalty` на l1 или l2 соответственно. Выберите второй вариант! Можно воспользоваться методом `set_params` и применить его к `pipe`."
   ]
  },
  {
   "cell_type": "code",
   "execution_count": 19,
   "id": "42bd2b8d",
   "metadata": {
    "pycharm": {
     "name": "#%%\n"
    }
   },
   "outputs": [
    {
     "data": {
      "text/plain": [
       "Pipeline(steps=[('scaler', StandardScaler()), ('LR', LogisticRegression())])"
      ]
     },
     "execution_count": 19,
     "metadata": {},
     "output_type": "execute_result"
    }
   ],
   "source": [
    "### Установим в качестве параметра penalty\n",
    "### L2 регуляризатор!\n",
    "\n",
    "pipe.set_params(LR__penalty='l2')"
   ]
  },
  {
   "cell_type": "markdown",
   "id": "76811c8f",
   "metadata": {
    "pycharm": {
     "name": "#%% md\n"
    }
   },
   "source": [
    "Теперь наша модель будет строить логистическую регрессию с L1 регуляризатором! Помним, что у регуляризируемых моделей есть гиперпараметр, контролирующий силу регуляризации, который выбирается ДО запуска метода fit, то есть заранее, когда модель еще не обучена. \n",
    "\n",
    "Конечно же, выбор этого параметра влияет итоговые результаты. Хочется поперебирать различные параметры регуляризации и найти такой, при котором качество на тесте окажется лучшим! \n",
    "\n",
    "Сгенерируем массив гиперпараметра, которые планируем перебрать:"
   ]
  },
  {
   "cell_type": "code",
   "execution_count": 20,
   "id": "e0425b0f",
   "metadata": {
    "pycharm": {
     "name": "#%%\n"
    }
   },
   "outputs": [
    {
     "data": {
      "text/plain": [
       "array([1.000e-02, 1.020e+00, 2.030e+00, 3.040e+00, 4.050e+00, 5.060e+00,\n",
       "       6.070e+00, 7.080e+00, 8.090e+00, 9.100e+00, 1.011e+01, 1.112e+01,\n",
       "       1.213e+01, 1.314e+01, 1.415e+01, 1.516e+01, 1.617e+01, 1.718e+01,\n",
       "       1.819e+01, 1.920e+01, 2.021e+01, 2.122e+01, 2.223e+01, 2.324e+01,\n",
       "       2.425e+01, 2.526e+01, 2.627e+01, 2.728e+01, 2.829e+01, 2.930e+01,\n",
       "       3.031e+01, 3.132e+01, 3.233e+01, 3.334e+01, 3.435e+01, 3.536e+01,\n",
       "       3.637e+01, 3.738e+01, 3.839e+01, 3.940e+01, 4.041e+01, 4.142e+01,\n",
       "       4.243e+01, 4.344e+01, 4.445e+01, 4.546e+01, 4.647e+01, 4.748e+01,\n",
       "       4.849e+01, 4.950e+01, 5.051e+01, 5.152e+01, 5.253e+01, 5.354e+01,\n",
       "       5.455e+01, 5.556e+01, 5.657e+01, 5.758e+01, 5.859e+01, 5.960e+01,\n",
       "       6.061e+01, 6.162e+01, 6.263e+01, 6.364e+01, 6.465e+01, 6.566e+01,\n",
       "       6.667e+01, 6.768e+01, 6.869e+01, 6.970e+01, 7.071e+01, 7.172e+01,\n",
       "       7.273e+01, 7.374e+01, 7.475e+01, 7.576e+01, 7.677e+01, 7.778e+01,\n",
       "       7.879e+01, 7.980e+01, 8.081e+01, 8.182e+01, 8.283e+01, 8.384e+01,\n",
       "       8.485e+01, 8.586e+01, 8.687e+01, 8.788e+01, 8.889e+01, 8.990e+01,\n",
       "       9.091e+01, 9.192e+01, 9.293e+01, 9.394e+01, 9.495e+01, 9.596e+01,\n",
       "       9.697e+01, 9.798e+01, 9.899e+01, 1.000e+02])"
      ]
     },
     "execution_count": 20,
     "metadata": {},
     "output_type": "execute_result"
    }
   ],
   "source": [
    "### Сгенерим кучу параметров для регуляризации\n",
    "\n",
    "alphas = np.linspace(0.01, 100, 100)\n",
    "alphas"
   ]
  },
  {
   "cell_type": "markdown",
   "id": "dc3493a9",
   "metadata": {
    "pycharm": {
     "name": "#%% md\n"
    }
   },
   "source": [
    "Чтобы отобрать среди данного массива гиперпараметров лучший, воспользуйтесь конструкцией `GridSearchCV` из `sklearn`"
   ]
  },
  {
   "cell_type": "code",
   "execution_count": 21,
   "id": "dfb5f23d",
   "metadata": {
    "pycharm": {
     "name": "#%%\n"
    }
   },
   "outputs": [
    {
     "name": "stdout",
     "output_type": "stream",
     "text": [
      "Best parameter (CV score=0.63822):\n",
      "{'LR__C': 0.01}\n"
     ]
    }
   ],
   "source": [
    "from sklearn.model_selection import GridSearchCV\n",
    "\n",
    "param_grid ={\n",
    "    'LR__C': alphas\n",
    "}\n",
    "\n",
    "\n",
    "search_alpha = GridSearchCV(pipe, param_grid, \n",
    "                            cv=custom_cv, scoring='accuracy')\n",
    "\n",
    "search_alpha.fit(X_2, y_2)\n",
    "\n",
    "print(f\"Best parameter (CV score={search_alpha.best_score_:.5f}):\")\n",
    "print(search_alpha.best_params_)"
   ]
  },
  {
   "cell_type": "markdown",
   "id": "eedde147",
   "metadata": {
    "pycharm": {
     "name": "#%% md\n"
    }
   },
   "source": [
    "#### Задание 4: Бонус\n",
    "\n",
    "Как вы знаете, подбор признаков является одной из самых важных частей машинного обучения. Сейчас вы попробуете на основе имеющихся признаков сгенерировать новые. В качестве новых признаков будем использовать мономы 2 степени. Можно использовать регуляризацию различного рода, выбор энкодера тоже за вами. Ваша задача - добиться качества `0.65` на тестовой выборке"
   ]
  },
  {
   "cell_type": "markdown",
   "id": "0c660c1f",
   "metadata": {
    "pycharm": {
     "name": "#%% md\n"
    }
   },
   "source": [
    "### С помощью мономов 2 степени легко добиться качества > 0.643"
   ]
  },
  {
   "cell_type": "code",
   "execution_count": 24,
   "id": "e9599cbd",
   "metadata": {
    "pycharm": {
     "name": "#%%\n"
    }
   },
   "outputs": [],
   "source": [
    "### Your code is here\n",
    "\n",
    "X_3, y_3 = X_2.copy(), y_2.copy()"
   ]
  },
  {
   "cell_type": "code",
   "execution_count": 40,
   "id": "5e776af0",
   "metadata": {
    "pycharm": {
     "name": "#%%\n"
    }
   },
   "outputs": [],
   "source": [
    "from sklearn.preprocessing import PolynomialFeatures\n",
    "\n",
    "poly = PolynomialFeatures(2)\n",
    "\n",
    "X_3 = poly.fit_transform(X_3)"
   ]
  },
  {
   "cell_type": "code",
   "execution_count": 42,
   "id": "a5036f0e",
   "metadata": {
    "pycharm": {
     "name": "#%%\n"
    }
   },
   "outputs": [],
   "source": [
    "alphas = [0.001, 0.005, 0.01]"
   ]
  },
  {
   "cell_type": "code",
   "execution_count": 43,
   "id": "52eba388",
   "metadata": {
    "pycharm": {
     "name": "#%%\n"
    }
   },
   "outputs": [
    {
     "name": "stderr",
     "output_type": "stream",
     "text": [
      "c:\\users\\gigabyte\\appdata\\local\\programs\\python\\python37\\lib\\site-packages\\sklearn\\linear_model\\_logistic.py:818: ConvergenceWarning: lbfgs failed to converge (status=1):\n",
      "STOP: TOTAL NO. of ITERATIONS REACHED LIMIT.\n",
      "\n",
      "Increase the number of iterations (max_iter) or scale the data as shown in:\n",
      "    https://scikit-learn.org/stable/modules/preprocessing.html\n",
      "Please also refer to the documentation for alternative solver options:\n",
      "    https://scikit-learn.org/stable/modules/linear_model.html#logistic-regression\n",
      "  extra_warning_msg=_LOGISTIC_SOLVER_CONVERGENCE_MSG,\n",
      "c:\\users\\gigabyte\\appdata\\local\\programs\\python\\python37\\lib\\site-packages\\sklearn\\linear_model\\_logistic.py:818: ConvergenceWarning: lbfgs failed to converge (status=1):\n",
      "STOP: TOTAL NO. of ITERATIONS REACHED LIMIT.\n",
      "\n",
      "Increase the number of iterations (max_iter) or scale the data as shown in:\n",
      "    https://scikit-learn.org/stable/modules/preprocessing.html\n",
      "Please also refer to the documentation for alternative solver options:\n",
      "    https://scikit-learn.org/stable/modules/linear_model.html#logistic-regression\n",
      "  extra_warning_msg=_LOGISTIC_SOLVER_CONVERGENCE_MSG,\n",
      "c:\\users\\gigabyte\\appdata\\local\\programs\\python\\python37\\lib\\site-packages\\sklearn\\linear_model\\_logistic.py:818: ConvergenceWarning: lbfgs failed to converge (status=1):\n",
      "STOP: TOTAL NO. of ITERATIONS REACHED LIMIT.\n",
      "\n",
      "Increase the number of iterations (max_iter) or scale the data as shown in:\n",
      "    https://scikit-learn.org/stable/modules/preprocessing.html\n",
      "Please also refer to the documentation for alternative solver options:\n",
      "    https://scikit-learn.org/stable/modules/linear_model.html#logistic-regression\n",
      "  extra_warning_msg=_LOGISTIC_SOLVER_CONVERGENCE_MSG,\n"
     ]
    },
    {
     "name": "stdout",
     "output_type": "stream",
     "text": [
      "Best parameter (CV score=0.64340):\n",
      "{'LR__C': 0.01}\n"
     ]
    },
    {
     "name": "stderr",
     "output_type": "stream",
     "text": [
      "c:\\users\\gigabyte\\appdata\\local\\programs\\python\\python37\\lib\\site-packages\\sklearn\\linear_model\\_logistic.py:818: ConvergenceWarning: lbfgs failed to converge (status=1):\n",
      "STOP: TOTAL NO. of ITERATIONS REACHED LIMIT.\n",
      "\n",
      "Increase the number of iterations (max_iter) or scale the data as shown in:\n",
      "    https://scikit-learn.org/stable/modules/preprocessing.html\n",
      "Please also refer to the documentation for alternative solver options:\n",
      "    https://scikit-learn.org/stable/modules/linear_model.html#logistic-regression\n",
      "  extra_warning_msg=_LOGISTIC_SOLVER_CONVERGENCE_MSG,\n"
     ]
    }
   ],
   "source": [
    "from sklearn.model_selection import GridSearchCV\n",
    "\n",
    "param_grid ={\n",
    "    'LR__C': alphas\n",
    "}\n",
    "\n",
    "\n",
    "search_alpha = GridSearchCV(pipe, param_grid, \n",
    "                            cv=custom_cv, scoring='accuracy')\n",
    "\n",
    "search_alpha.fit(X_3, y_3)\n",
    "\n",
    "print(f\"Best parameter (CV score={search_alpha.best_score_:.5f}):\")\n",
    "print(search_alpha.best_params_)"
   ]
  },
  {
   "cell_type": "markdown",
   "id": "ac28e0e0",
   "metadata": {
    "pycharm": {
     "name": "#%% md\n"
    }
   },
   "source": [
    "### Чтобы все же пробить бейзлайн из бонусного задания, придумаем новые фичи!"
   ]
  },
  {
   "cell_type": "code",
   "execution_count": 148,
   "id": "7e57089c",
   "metadata": {
    "pycharm": {
     "name": "#%%\n"
    }
   },
   "outputs": [
    {
     "name": "stderr",
     "output_type": "stream",
     "text": [
      "c:\\users\\gigabyte\\appdata\\local\\programs\\python\\python37\\lib\\site-packages\\IPython\\core\\interactiveshell.py:3457: DtypeWarning: Columns (28) have mixed types.Specify dtype option on import or set low_memory=False.\n",
      "  exec(code_obj, self.user_global_ns, self.user_ns)\n"
     ]
    },
    {
     "data": {
      "text/html": [
       "<div>\n",
       "<style scoped>\n",
       "    .dataframe tbody tr th:only-of-type {\n",
       "        vertical-align: middle;\n",
       "    }\n",
       "\n",
       "    .dataframe tbody tr th {\n",
       "        vertical-align: top;\n",
       "    }\n",
       "\n",
       "    .dataframe thead th {\n",
       "        text-align: right;\n",
       "    }\n",
       "</style>\n",
       "<table border=\"1\" class=\"dataframe\">\n",
       "  <thead>\n",
       "    <tr style=\"text-align: right;\">\n",
       "      <th></th>\n",
       "      <th>EngineVersion</th>\n",
       "      <th>AppVersion</th>\n",
       "      <th>AvSigVersion</th>\n",
       "      <th>IsBeta</th>\n",
       "      <th>RtpStateBitfield</th>\n",
       "      <th>IsSxsPassiveMode</th>\n",
       "      <th>DefaultBrowsersIdentifier</th>\n",
       "      <th>AVProductStatesIdentifier</th>\n",
       "      <th>AVProductsInstalled</th>\n",
       "      <th>AVProductsEnabled</th>\n",
       "      <th>HasTpm</th>\n",
       "      <th>CountryIdentifier</th>\n",
       "      <th>CityIdentifier</th>\n",
       "      <th>OrganizationIdentifier</th>\n",
       "      <th>GeoNameIdentifier</th>\n",
       "      <th>LocaleEnglishNameIdentifier</th>\n",
       "      <th>Platform</th>\n",
       "      <th>Processor</th>\n",
       "      <th>OsVer</th>\n",
       "      <th>OsBuild</th>\n",
       "      <th>OsSuite</th>\n",
       "      <th>OsPlatformSubRelease</th>\n",
       "      <th>OsBuildLab</th>\n",
       "      <th>SkuEdition</th>\n",
       "      <th>IsProtected</th>\n",
       "      <th>AutoSampleOptIn</th>\n",
       "      <th>PuaMode</th>\n",
       "      <th>SMode</th>\n",
       "      <th>IeVerIdentifier</th>\n",
       "      <th>SmartScreen</th>\n",
       "      <th>Firewall</th>\n",
       "      <th>UacLuaenable</th>\n",
       "      <th>Census_MDC2FormFactor</th>\n",
       "      <th>Census_DeviceFamily</th>\n",
       "      <th>Census_OEMNameIdentifier</th>\n",
       "      <th>Census_OEMModelIdentifier</th>\n",
       "      <th>Census_ProcessorCoreCount</th>\n",
       "      <th>Census_ProcessorManufacturerIdentifier</th>\n",
       "      <th>Census_ProcessorModelIdentifier</th>\n",
       "      <th>Census_ProcessorClass</th>\n",
       "      <th>Census_PrimaryDiskTotalCapacity</th>\n",
       "      <th>Census_PrimaryDiskTypeName</th>\n",
       "      <th>Census_SystemVolumeTotalCapacity</th>\n",
       "      <th>Census_HasOpticalDiskDrive</th>\n",
       "      <th>Census_TotalPhysicalRAM</th>\n",
       "      <th>Census_ChassisTypeName</th>\n",
       "      <th>Census_InternalPrimaryDiagonalDisplaySizeInInches</th>\n",
       "      <th>Census_InternalPrimaryDisplayResolutionHorizontal</th>\n",
       "      <th>Census_InternalPrimaryDisplayResolutionVertical</th>\n",
       "      <th>Census_PowerPlatformRoleName</th>\n",
       "      <th>Census_InternalBatteryType</th>\n",
       "      <th>Census_InternalBatteryNumberOfCharges</th>\n",
       "      <th>Census_OSVersion</th>\n",
       "      <th>Census_OSArchitecture</th>\n",
       "      <th>Census_OSBranch</th>\n",
       "      <th>Census_OSBuildNumber</th>\n",
       "      <th>Census_OSBuildRevision</th>\n",
       "      <th>Census_OSEdition</th>\n",
       "      <th>Census_OSSkuName</th>\n",
       "      <th>Census_OSInstallTypeName</th>\n",
       "      <th>Census_OSInstallLanguageIdentifier</th>\n",
       "      <th>Census_OSUILocaleIdentifier</th>\n",
       "      <th>Census_OSWUAutoUpdateOptionsName</th>\n",
       "      <th>Census_IsPortableOperatingSystem</th>\n",
       "      <th>Census_GenuineStateName</th>\n",
       "      <th>Census_ActivationChannel</th>\n",
       "      <th>Census_IsFlightingInternal</th>\n",
       "      <th>Census_IsFlightsDisabled</th>\n",
       "      <th>Census_FlightRing</th>\n",
       "      <th>Census_ThresholdOptIn</th>\n",
       "      <th>Census_FirmwareManufacturerIdentifier</th>\n",
       "      <th>Census_FirmwareVersionIdentifier</th>\n",
       "      <th>Census_IsSecureBootEnabled</th>\n",
       "      <th>Census_IsWIMBootEnabled</th>\n",
       "      <th>Census_IsVirtualDevice</th>\n",
       "      <th>Census_IsTouchEnabled</th>\n",
       "      <th>Census_IsPenCapable</th>\n",
       "      <th>Census_IsAlwaysOnAlwaysConnectedCapable</th>\n",
       "      <th>Wdft_IsGamer</th>\n",
       "      <th>Wdft_RegionIdentifier</th>\n",
       "      <th>HasDetections</th>\n",
       "    </tr>\n",
       "  </thead>\n",
       "  <tbody>\n",
       "    <tr>\n",
       "      <th>0</th>\n",
       "      <td>1.1.15100.1</td>\n",
       "      <td>4.18.1807.18075</td>\n",
       "      <td>1.273.1735.0</td>\n",
       "      <td>0</td>\n",
       "      <td>7.0</td>\n",
       "      <td>0</td>\n",
       "      <td>NaN</td>\n",
       "      <td>53447.0</td>\n",
       "      <td>1.0</td>\n",
       "      <td>1.0</td>\n",
       "      <td>1</td>\n",
       "      <td>29</td>\n",
       "      <td>128035.0</td>\n",
       "      <td>18.0</td>\n",
       "      <td>35.0</td>\n",
       "      <td>171</td>\n",
       "      <td>windows10</td>\n",
       "      <td>x64</td>\n",
       "      <td>10.0.0.0</td>\n",
       "      <td>17134</td>\n",
       "      <td>256</td>\n",
       "      <td>rs4</td>\n",
       "      <td>17134.1.amd64fre.rs4_release.180410-1804</td>\n",
       "      <td>Pro</td>\n",
       "      <td>1.0</td>\n",
       "      <td>0</td>\n",
       "      <td>NaN</td>\n",
       "      <td>0.0</td>\n",
       "      <td>137.0</td>\n",
       "      <td>NaN</td>\n",
       "      <td>1.0</td>\n",
       "      <td>1.0</td>\n",
       "      <td>Desktop</td>\n",
       "      <td>Windows.Desktop</td>\n",
       "      <td>2668.0</td>\n",
       "      <td>9124.0</td>\n",
       "      <td>4.0</td>\n",
       "      <td>5.0</td>\n",
       "      <td>2341.0</td>\n",
       "      <td>NaN</td>\n",
       "      <td>476940.0</td>\n",
       "      <td>HDD</td>\n",
       "      <td>299451.0</td>\n",
       "      <td>0</td>\n",
       "      <td>4096.0</td>\n",
       "      <td>Desktop</td>\n",
       "      <td>18.9</td>\n",
       "      <td>1440.0</td>\n",
       "      <td>900.0</td>\n",
       "      <td>Desktop</td>\n",
       "      <td>NaN</td>\n",
       "      <td>4.294967e+09</td>\n",
       "      <td>10.0.17134.165</td>\n",
       "      <td>amd64</td>\n",
       "      <td>rs4_release</td>\n",
       "      <td>17134</td>\n",
       "      <td>165</td>\n",
       "      <td>Professional</td>\n",
       "      <td>PROFESSIONAL</td>\n",
       "      <td>UUPUpgrade</td>\n",
       "      <td>26.0</td>\n",
       "      <td>119</td>\n",
       "      <td>UNKNOWN</td>\n",
       "      <td>0</td>\n",
       "      <td>IS_GENUINE</td>\n",
       "      <td>Retail</td>\n",
       "      <td>NaN</td>\n",
       "      <td>0.0</td>\n",
       "      <td>Retail</td>\n",
       "      <td>NaN</td>\n",
       "      <td>628.0</td>\n",
       "      <td>36144.0</td>\n",
       "      <td>0</td>\n",
       "      <td>NaN</td>\n",
       "      <td>0.0</td>\n",
       "      <td>0</td>\n",
       "      <td>0</td>\n",
       "      <td>0.0</td>\n",
       "      <td>0.0</td>\n",
       "      <td>10.0</td>\n",
       "      <td>0</td>\n",
       "    </tr>\n",
       "    <tr>\n",
       "      <th>1</th>\n",
       "      <td>1.1.14600.4</td>\n",
       "      <td>4.13.17134.1</td>\n",
       "      <td>1.263.48.0</td>\n",
       "      <td>0</td>\n",
       "      <td>7.0</td>\n",
       "      <td>0</td>\n",
       "      <td>NaN</td>\n",
       "      <td>53447.0</td>\n",
       "      <td>1.0</td>\n",
       "      <td>1.0</td>\n",
       "      <td>1</td>\n",
       "      <td>93</td>\n",
       "      <td>1482.0</td>\n",
       "      <td>18.0</td>\n",
       "      <td>119.0</td>\n",
       "      <td>64</td>\n",
       "      <td>windows10</td>\n",
       "      <td>x64</td>\n",
       "      <td>10.0.0.0</td>\n",
       "      <td>17134</td>\n",
       "      <td>256</td>\n",
       "      <td>rs4</td>\n",
       "      <td>17134.1.amd64fre.rs4_release.180410-1804</td>\n",
       "      <td>Pro</td>\n",
       "      <td>1.0</td>\n",
       "      <td>0</td>\n",
       "      <td>NaN</td>\n",
       "      <td>0.0</td>\n",
       "      <td>137.0</td>\n",
       "      <td>NaN</td>\n",
       "      <td>1.0</td>\n",
       "      <td>1.0</td>\n",
       "      <td>Notebook</td>\n",
       "      <td>Windows.Desktop</td>\n",
       "      <td>2668.0</td>\n",
       "      <td>91656.0</td>\n",
       "      <td>4.0</td>\n",
       "      <td>5.0</td>\n",
       "      <td>2405.0</td>\n",
       "      <td>NaN</td>\n",
       "      <td>476940.0</td>\n",
       "      <td>HDD</td>\n",
       "      <td>102385.0</td>\n",
       "      <td>0</td>\n",
       "      <td>4096.0</td>\n",
       "      <td>Notebook</td>\n",
       "      <td>13.9</td>\n",
       "      <td>1366.0</td>\n",
       "      <td>768.0</td>\n",
       "      <td>Mobile</td>\n",
       "      <td>NaN</td>\n",
       "      <td>1.000000e+00</td>\n",
       "      <td>10.0.17134.1</td>\n",
       "      <td>amd64</td>\n",
       "      <td>rs4_release</td>\n",
       "      <td>17134</td>\n",
       "      <td>1</td>\n",
       "      <td>Professional</td>\n",
       "      <td>PROFESSIONAL</td>\n",
       "      <td>IBSClean</td>\n",
       "      <td>8.0</td>\n",
       "      <td>31</td>\n",
       "      <td>UNKNOWN</td>\n",
       "      <td>0</td>\n",
       "      <td>OFFLINE</td>\n",
       "      <td>Retail</td>\n",
       "      <td>NaN</td>\n",
       "      <td>0.0</td>\n",
       "      <td>NOT_SET</td>\n",
       "      <td>NaN</td>\n",
       "      <td>628.0</td>\n",
       "      <td>57858.0</td>\n",
       "      <td>0</td>\n",
       "      <td>NaN</td>\n",
       "      <td>0.0</td>\n",
       "      <td>0</td>\n",
       "      <td>0</td>\n",
       "      <td>0.0</td>\n",
       "      <td>0.0</td>\n",
       "      <td>8.0</td>\n",
       "      <td>0</td>\n",
       "    </tr>\n",
       "    <tr>\n",
       "      <th>2</th>\n",
       "      <td>1.1.15100.1</td>\n",
       "      <td>4.18.1807.18075</td>\n",
       "      <td>1.273.1341.0</td>\n",
       "      <td>0</td>\n",
       "      <td>7.0</td>\n",
       "      <td>0</td>\n",
       "      <td>NaN</td>\n",
       "      <td>53447.0</td>\n",
       "      <td>1.0</td>\n",
       "      <td>1.0</td>\n",
       "      <td>1</td>\n",
       "      <td>86</td>\n",
       "      <td>153579.0</td>\n",
       "      <td>18.0</td>\n",
       "      <td>64.0</td>\n",
       "      <td>49</td>\n",
       "      <td>windows10</td>\n",
       "      <td>x64</td>\n",
       "      <td>10.0.0.0</td>\n",
       "      <td>17134</td>\n",
       "      <td>768</td>\n",
       "      <td>rs4</td>\n",
       "      <td>17134.1.amd64fre.rs4_release.180410-1804</td>\n",
       "      <td>Home</td>\n",
       "      <td>1.0</td>\n",
       "      <td>0</td>\n",
       "      <td>NaN</td>\n",
       "      <td>0.0</td>\n",
       "      <td>137.0</td>\n",
       "      <td>RequireAdmin</td>\n",
       "      <td>1.0</td>\n",
       "      <td>1.0</td>\n",
       "      <td>Desktop</td>\n",
       "      <td>Windows.Desktop</td>\n",
       "      <td>4909.0</td>\n",
       "      <td>317701.0</td>\n",
       "      <td>4.0</td>\n",
       "      <td>5.0</td>\n",
       "      <td>1972.0</td>\n",
       "      <td>NaN</td>\n",
       "      <td>114473.0</td>\n",
       "      <td>SSD</td>\n",
       "      <td>113907.0</td>\n",
       "      <td>0</td>\n",
       "      <td>4096.0</td>\n",
       "      <td>Desktop</td>\n",
       "      <td>21.5</td>\n",
       "      <td>1920.0</td>\n",
       "      <td>1080.0</td>\n",
       "      <td>Desktop</td>\n",
       "      <td>NaN</td>\n",
       "      <td>4.294967e+09</td>\n",
       "      <td>10.0.17134.165</td>\n",
       "      <td>amd64</td>\n",
       "      <td>rs4_release</td>\n",
       "      <td>17134</td>\n",
       "      <td>165</td>\n",
       "      <td>Core</td>\n",
       "      <td>CORE</td>\n",
       "      <td>UUPUpgrade</td>\n",
       "      <td>7.0</td>\n",
       "      <td>30</td>\n",
       "      <td>FullAuto</td>\n",
       "      <td>0</td>\n",
       "      <td>IS_GENUINE</td>\n",
       "      <td>OEM:NONSLP</td>\n",
       "      <td>NaN</td>\n",
       "      <td>0.0</td>\n",
       "      <td>Retail</td>\n",
       "      <td>NaN</td>\n",
       "      <td>142.0</td>\n",
       "      <td>52682.0</td>\n",
       "      <td>0</td>\n",
       "      <td>NaN</td>\n",
       "      <td>0.0</td>\n",
       "      <td>0</td>\n",
       "      <td>0</td>\n",
       "      <td>0.0</td>\n",
       "      <td>0.0</td>\n",
       "      <td>3.0</td>\n",
       "      <td>0</td>\n",
       "    </tr>\n",
       "    <tr>\n",
       "      <th>3</th>\n",
       "      <td>1.1.15100.1</td>\n",
       "      <td>4.18.1807.18075</td>\n",
       "      <td>1.273.1527.0</td>\n",
       "      <td>0</td>\n",
       "      <td>7.0</td>\n",
       "      <td>0</td>\n",
       "      <td>NaN</td>\n",
       "      <td>53447.0</td>\n",
       "      <td>1.0</td>\n",
       "      <td>1.0</td>\n",
       "      <td>1</td>\n",
       "      <td>88</td>\n",
       "      <td>20710.0</td>\n",
       "      <td>NaN</td>\n",
       "      <td>117.0</td>\n",
       "      <td>115</td>\n",
       "      <td>windows10</td>\n",
       "      <td>x64</td>\n",
       "      <td>10.0.0.0</td>\n",
       "      <td>17134</td>\n",
       "      <td>256</td>\n",
       "      <td>rs4</td>\n",
       "      <td>17134.1.amd64fre.rs4_release.180410-1804</td>\n",
       "      <td>Pro</td>\n",
       "      <td>1.0</td>\n",
       "      <td>0</td>\n",
       "      <td>NaN</td>\n",
       "      <td>0.0</td>\n",
       "      <td>137.0</td>\n",
       "      <td>ExistsNotSet</td>\n",
       "      <td>1.0</td>\n",
       "      <td>1.0</td>\n",
       "      <td>Desktop</td>\n",
       "      <td>Windows.Desktop</td>\n",
       "      <td>1443.0</td>\n",
       "      <td>275890.0</td>\n",
       "      <td>4.0</td>\n",
       "      <td>5.0</td>\n",
       "      <td>2273.0</td>\n",
       "      <td>NaN</td>\n",
       "      <td>238475.0</td>\n",
       "      <td>UNKNOWN</td>\n",
       "      <td>227116.0</td>\n",
       "      <td>0</td>\n",
       "      <td>4096.0</td>\n",
       "      <td>MiniTower</td>\n",
       "      <td>18.5</td>\n",
       "      <td>1366.0</td>\n",
       "      <td>768.0</td>\n",
       "      <td>Desktop</td>\n",
       "      <td>NaN</td>\n",
       "      <td>4.294967e+09</td>\n",
       "      <td>10.0.17134.228</td>\n",
       "      <td>amd64</td>\n",
       "      <td>rs4_release</td>\n",
       "      <td>17134</td>\n",
       "      <td>228</td>\n",
       "      <td>Professional</td>\n",
       "      <td>PROFESSIONAL</td>\n",
       "      <td>UUPUpgrade</td>\n",
       "      <td>17.0</td>\n",
       "      <td>64</td>\n",
       "      <td>FullAuto</td>\n",
       "      <td>0</td>\n",
       "      <td>IS_GENUINE</td>\n",
       "      <td>OEM:NONSLP</td>\n",
       "      <td>NaN</td>\n",
       "      <td>0.0</td>\n",
       "      <td>Retail</td>\n",
       "      <td>NaN</td>\n",
       "      <td>355.0</td>\n",
       "      <td>20050.0</td>\n",
       "      <td>0</td>\n",
       "      <td>NaN</td>\n",
       "      <td>0.0</td>\n",
       "      <td>0</td>\n",
       "      <td>0</td>\n",
       "      <td>0.0</td>\n",
       "      <td>0.0</td>\n",
       "      <td>3.0</td>\n",
       "      <td>1</td>\n",
       "    </tr>\n",
       "    <tr>\n",
       "      <th>4</th>\n",
       "      <td>1.1.15100.1</td>\n",
       "      <td>4.18.1807.18075</td>\n",
       "      <td>1.273.1379.0</td>\n",
       "      <td>0</td>\n",
       "      <td>7.0</td>\n",
       "      <td>0</td>\n",
       "      <td>NaN</td>\n",
       "      <td>53447.0</td>\n",
       "      <td>1.0</td>\n",
       "      <td>1.0</td>\n",
       "      <td>1</td>\n",
       "      <td>18</td>\n",
       "      <td>37376.0</td>\n",
       "      <td>NaN</td>\n",
       "      <td>277.0</td>\n",
       "      <td>75</td>\n",
       "      <td>windows10</td>\n",
       "      <td>x64</td>\n",
       "      <td>10.0.0.0</td>\n",
       "      <td>17134</td>\n",
       "      <td>768</td>\n",
       "      <td>rs4</td>\n",
       "      <td>17134.1.amd64fre.rs4_release.180410-1804</td>\n",
       "      <td>Home</td>\n",
       "      <td>1.0</td>\n",
       "      <td>0</td>\n",
       "      <td>NaN</td>\n",
       "      <td>0.0</td>\n",
       "      <td>137.0</td>\n",
       "      <td>RequireAdmin</td>\n",
       "      <td>1.0</td>\n",
       "      <td>1.0</td>\n",
       "      <td>Notebook</td>\n",
       "      <td>Windows.Desktop</td>\n",
       "      <td>1443.0</td>\n",
       "      <td>331929.0</td>\n",
       "      <td>4.0</td>\n",
       "      <td>5.0</td>\n",
       "      <td>2500.0</td>\n",
       "      <td>NaN</td>\n",
       "      <td>476940.0</td>\n",
       "      <td>HDD</td>\n",
       "      <td>101900.0</td>\n",
       "      <td>0</td>\n",
       "      <td>6144.0</td>\n",
       "      <td>Portable</td>\n",
       "      <td>14.0</td>\n",
       "      <td>1366.0</td>\n",
       "      <td>768.0</td>\n",
       "      <td>Mobile</td>\n",
       "      <td>lion</td>\n",
       "      <td>0.000000e+00</td>\n",
       "      <td>10.0.17134.191</td>\n",
       "      <td>amd64</td>\n",
       "      <td>rs4_release</td>\n",
       "      <td>17134</td>\n",
       "      <td>191</td>\n",
       "      <td>Core</td>\n",
       "      <td>CORE</td>\n",
       "      <td>Update</td>\n",
       "      <td>8.0</td>\n",
       "      <td>31</td>\n",
       "      <td>FullAuto</td>\n",
       "      <td>0</td>\n",
       "      <td>IS_GENUINE</td>\n",
       "      <td>Retail</td>\n",
       "      <td>0.0</td>\n",
       "      <td>0.0</td>\n",
       "      <td>Retail</td>\n",
       "      <td>0.0</td>\n",
       "      <td>355.0</td>\n",
       "      <td>19844.0</td>\n",
       "      <td>0</td>\n",
       "      <td>0.0</td>\n",
       "      <td>0.0</td>\n",
       "      <td>0</td>\n",
       "      <td>0</td>\n",
       "      <td>0.0</td>\n",
       "      <td>0.0</td>\n",
       "      <td>1.0</td>\n",
       "      <td>1</td>\n",
       "    </tr>\n",
       "  </tbody>\n",
       "</table>\n",
       "</div>"
      ],
      "text/plain": [
       "  EngineVersion       AppVersion  AvSigVersion  IsBeta  RtpStateBitfield  \\\n",
       "0   1.1.15100.1  4.18.1807.18075  1.273.1735.0       0               7.0   \n",
       "1   1.1.14600.4     4.13.17134.1    1.263.48.0       0               7.0   \n",
       "2   1.1.15100.1  4.18.1807.18075  1.273.1341.0       0               7.0   \n",
       "3   1.1.15100.1  4.18.1807.18075  1.273.1527.0       0               7.0   \n",
       "4   1.1.15100.1  4.18.1807.18075  1.273.1379.0       0               7.0   \n",
       "\n",
       "   IsSxsPassiveMode  DefaultBrowsersIdentifier  AVProductStatesIdentifier  \\\n",
       "0                 0                        NaN                    53447.0   \n",
       "1                 0                        NaN                    53447.0   \n",
       "2                 0                        NaN                    53447.0   \n",
       "3                 0                        NaN                    53447.0   \n",
       "4                 0                        NaN                    53447.0   \n",
       "\n",
       "   AVProductsInstalled  AVProductsEnabled  HasTpm  CountryIdentifier  \\\n",
       "0                  1.0                1.0       1                 29   \n",
       "1                  1.0                1.0       1                 93   \n",
       "2                  1.0                1.0       1                 86   \n",
       "3                  1.0                1.0       1                 88   \n",
       "4                  1.0                1.0       1                 18   \n",
       "\n",
       "   CityIdentifier  OrganizationIdentifier  GeoNameIdentifier  \\\n",
       "0        128035.0                    18.0               35.0   \n",
       "1          1482.0                    18.0              119.0   \n",
       "2        153579.0                    18.0               64.0   \n",
       "3         20710.0                     NaN              117.0   \n",
       "4         37376.0                     NaN              277.0   \n",
       "\n",
       "   LocaleEnglishNameIdentifier   Platform Processor     OsVer  OsBuild  \\\n",
       "0                          171  windows10       x64  10.0.0.0    17134   \n",
       "1                           64  windows10       x64  10.0.0.0    17134   \n",
       "2                           49  windows10       x64  10.0.0.0    17134   \n",
       "3                          115  windows10       x64  10.0.0.0    17134   \n",
       "4                           75  windows10       x64  10.0.0.0    17134   \n",
       "\n",
       "   OsSuite OsPlatformSubRelease                                OsBuildLab  \\\n",
       "0      256                  rs4  17134.1.amd64fre.rs4_release.180410-1804   \n",
       "1      256                  rs4  17134.1.amd64fre.rs4_release.180410-1804   \n",
       "2      768                  rs4  17134.1.amd64fre.rs4_release.180410-1804   \n",
       "3      256                  rs4  17134.1.amd64fre.rs4_release.180410-1804   \n",
       "4      768                  rs4  17134.1.amd64fre.rs4_release.180410-1804   \n",
       "\n",
       "  SkuEdition  IsProtected  AutoSampleOptIn PuaMode  SMode  IeVerIdentifier  \\\n",
       "0        Pro          1.0                0     NaN    0.0            137.0   \n",
       "1        Pro          1.0                0     NaN    0.0            137.0   \n",
       "2       Home          1.0                0     NaN    0.0            137.0   \n",
       "3        Pro          1.0                0     NaN    0.0            137.0   \n",
       "4       Home          1.0                0     NaN    0.0            137.0   \n",
       "\n",
       "    SmartScreen  Firewall  UacLuaenable Census_MDC2FormFactor  \\\n",
       "0           NaN       1.0           1.0               Desktop   \n",
       "1           NaN       1.0           1.0              Notebook   \n",
       "2  RequireAdmin       1.0           1.0               Desktop   \n",
       "3  ExistsNotSet       1.0           1.0               Desktop   \n",
       "4  RequireAdmin       1.0           1.0              Notebook   \n",
       "\n",
       "  Census_DeviceFamily  Census_OEMNameIdentifier  Census_OEMModelIdentifier  \\\n",
       "0     Windows.Desktop                    2668.0                     9124.0   \n",
       "1     Windows.Desktop                    2668.0                    91656.0   \n",
       "2     Windows.Desktop                    4909.0                   317701.0   \n",
       "3     Windows.Desktop                    1443.0                   275890.0   \n",
       "4     Windows.Desktop                    1443.0                   331929.0   \n",
       "\n",
       "   Census_ProcessorCoreCount  Census_ProcessorManufacturerIdentifier  \\\n",
       "0                        4.0                                     5.0   \n",
       "1                        4.0                                     5.0   \n",
       "2                        4.0                                     5.0   \n",
       "3                        4.0                                     5.0   \n",
       "4                        4.0                                     5.0   \n",
       "\n",
       "   Census_ProcessorModelIdentifier Census_ProcessorClass  \\\n",
       "0                           2341.0                   NaN   \n",
       "1                           2405.0                   NaN   \n",
       "2                           1972.0                   NaN   \n",
       "3                           2273.0                   NaN   \n",
       "4                           2500.0                   NaN   \n",
       "\n",
       "   Census_PrimaryDiskTotalCapacity Census_PrimaryDiskTypeName  \\\n",
       "0                         476940.0                        HDD   \n",
       "1                         476940.0                        HDD   \n",
       "2                         114473.0                        SSD   \n",
       "3                         238475.0                    UNKNOWN   \n",
       "4                         476940.0                        HDD   \n",
       "\n",
       "   Census_SystemVolumeTotalCapacity  Census_HasOpticalDiskDrive  \\\n",
       "0                          299451.0                           0   \n",
       "1                          102385.0                           0   \n",
       "2                          113907.0                           0   \n",
       "3                          227116.0                           0   \n",
       "4                          101900.0                           0   \n",
       "\n",
       "   Census_TotalPhysicalRAM Census_ChassisTypeName  \\\n",
       "0                   4096.0                Desktop   \n",
       "1                   4096.0               Notebook   \n",
       "2                   4096.0                Desktop   \n",
       "3                   4096.0              MiniTower   \n",
       "4                   6144.0               Portable   \n",
       "\n",
       "   Census_InternalPrimaryDiagonalDisplaySizeInInches  \\\n",
       "0                                               18.9   \n",
       "1                                               13.9   \n",
       "2                                               21.5   \n",
       "3                                               18.5   \n",
       "4                                               14.0   \n",
       "\n",
       "   Census_InternalPrimaryDisplayResolutionHorizontal  \\\n",
       "0                                             1440.0   \n",
       "1                                             1366.0   \n",
       "2                                             1920.0   \n",
       "3                                             1366.0   \n",
       "4                                             1366.0   \n",
       "\n",
       "   Census_InternalPrimaryDisplayResolutionVertical  \\\n",
       "0                                            900.0   \n",
       "1                                            768.0   \n",
       "2                                           1080.0   \n",
       "3                                            768.0   \n",
       "4                                            768.0   \n",
       "\n",
       "  Census_PowerPlatformRoleName Census_InternalBatteryType  \\\n",
       "0                      Desktop                        NaN   \n",
       "1                       Mobile                        NaN   \n",
       "2                      Desktop                        NaN   \n",
       "3                      Desktop                        NaN   \n",
       "4                       Mobile                       lion   \n",
       "\n",
       "   Census_InternalBatteryNumberOfCharges Census_OSVersion  \\\n",
       "0                           4.294967e+09   10.0.17134.165   \n",
       "1                           1.000000e+00     10.0.17134.1   \n",
       "2                           4.294967e+09   10.0.17134.165   \n",
       "3                           4.294967e+09   10.0.17134.228   \n",
       "4                           0.000000e+00   10.0.17134.191   \n",
       "\n",
       "  Census_OSArchitecture Census_OSBranch  Census_OSBuildNumber  \\\n",
       "0                 amd64     rs4_release                 17134   \n",
       "1                 amd64     rs4_release                 17134   \n",
       "2                 amd64     rs4_release                 17134   \n",
       "3                 amd64     rs4_release                 17134   \n",
       "4                 amd64     rs4_release                 17134   \n",
       "\n",
       "   Census_OSBuildRevision Census_OSEdition Census_OSSkuName  \\\n",
       "0                     165     Professional     PROFESSIONAL   \n",
       "1                       1     Professional     PROFESSIONAL   \n",
       "2                     165             Core             CORE   \n",
       "3                     228     Professional     PROFESSIONAL   \n",
       "4                     191             Core             CORE   \n",
       "\n",
       "  Census_OSInstallTypeName  Census_OSInstallLanguageIdentifier  \\\n",
       "0               UUPUpgrade                                26.0   \n",
       "1                 IBSClean                                 8.0   \n",
       "2               UUPUpgrade                                 7.0   \n",
       "3               UUPUpgrade                                17.0   \n",
       "4                   Update                                 8.0   \n",
       "\n",
       "   Census_OSUILocaleIdentifier Census_OSWUAutoUpdateOptionsName  \\\n",
       "0                          119                          UNKNOWN   \n",
       "1                           31                          UNKNOWN   \n",
       "2                           30                         FullAuto   \n",
       "3                           64                         FullAuto   \n",
       "4                           31                         FullAuto   \n",
       "\n",
       "   Census_IsPortableOperatingSystem Census_GenuineStateName  \\\n",
       "0                                 0              IS_GENUINE   \n",
       "1                                 0                 OFFLINE   \n",
       "2                                 0              IS_GENUINE   \n",
       "3                                 0              IS_GENUINE   \n",
       "4                                 0              IS_GENUINE   \n",
       "\n",
       "  Census_ActivationChannel  Census_IsFlightingInternal  \\\n",
       "0                   Retail                         NaN   \n",
       "1                   Retail                         NaN   \n",
       "2               OEM:NONSLP                         NaN   \n",
       "3               OEM:NONSLP                         NaN   \n",
       "4                   Retail                         0.0   \n",
       "\n",
       "   Census_IsFlightsDisabled Census_FlightRing  Census_ThresholdOptIn  \\\n",
       "0                       0.0            Retail                    NaN   \n",
       "1                       0.0           NOT_SET                    NaN   \n",
       "2                       0.0            Retail                    NaN   \n",
       "3                       0.0            Retail                    NaN   \n",
       "4                       0.0            Retail                    0.0   \n",
       "\n",
       "   Census_FirmwareManufacturerIdentifier  Census_FirmwareVersionIdentifier  \\\n",
       "0                                  628.0                           36144.0   \n",
       "1                                  628.0                           57858.0   \n",
       "2                                  142.0                           52682.0   \n",
       "3                                  355.0                           20050.0   \n",
       "4                                  355.0                           19844.0   \n",
       "\n",
       "   Census_IsSecureBootEnabled  Census_IsWIMBootEnabled  \\\n",
       "0                           0                      NaN   \n",
       "1                           0                      NaN   \n",
       "2                           0                      NaN   \n",
       "3                           0                      NaN   \n",
       "4                           0                      0.0   \n",
       "\n",
       "   Census_IsVirtualDevice  Census_IsTouchEnabled  Census_IsPenCapable  \\\n",
       "0                     0.0                      0                    0   \n",
       "1                     0.0                      0                    0   \n",
       "2                     0.0                      0                    0   \n",
       "3                     0.0                      0                    0   \n",
       "4                     0.0                      0                    0   \n",
       "\n",
       "   Census_IsAlwaysOnAlwaysConnectedCapable  Wdft_IsGamer  \\\n",
       "0                                      0.0           0.0   \n",
       "1                                      0.0           0.0   \n",
       "2                                      0.0           0.0   \n",
       "3                                      0.0           0.0   \n",
       "4                                      0.0           0.0   \n",
       "\n",
       "   Wdft_RegionIdentifier  HasDetections  \n",
       "0                   10.0              0  \n",
       "1                    8.0              0  \n",
       "2                    3.0              0  \n",
       "3                    3.0              1  \n",
       "4                    1.0              1  "
      ]
     },
     "execution_count": 148,
     "metadata": {},
     "output_type": "execute_result"
    }
   ],
   "source": [
    "### Заново загрузим датасет\n",
    "\n",
    "df = pd.read_csv('train.csv')\n",
    "\n",
    "df = df.drop(['ProductName', 'MachineIdentifier'], axis=1)\n",
    "\n",
    "df.head()"
   ]
  },
  {
   "cell_type": "code",
   "execution_count": 149,
   "id": "ead1dfc6",
   "metadata": {
    "pycharm": {
     "name": "#%%\n"
    }
   },
   "outputs": [],
   "source": [
    "X_new = df.drop(columns=['HasDetections'])\n",
    "y_new = df['HasDetections']\n",
    "\n",
    "### Создадим 2 новые фичи\n",
    "### Подумайте, что они значат и почему могут быть полезны в задаче?\n",
    "\n",
    "X_new['driveA'] = X_new['Census_SystemVolumeTotalCapacity'].astype('float')/X_new['Census_PrimaryDiskTotalCapacity'].astype('float')\n",
    "X_new['driveA'] = X_new['driveA'].astype('float32') \n",
    "\n",
    "\n",
    "X_new['driveB'] = X_new['Census_PrimaryDiskTotalCapacity'].astype('float') - X_new['Census_SystemVolumeTotalCapacity'].astype('float')\n",
    "X_new['driveB'] = X_new['driveB'].astype('float32') "
   ]
  },
  {
   "cell_type": "code",
   "execution_count": 150,
   "id": "9d5a543d",
   "metadata": {
    "pycharm": {
     "name": "#%%\n"
    }
   },
   "outputs": [],
   "source": [
    "### Разделим выборку на трейн и тест как раньше\n",
    "\n",
    "X_train, X_test, y_train, y_test = train_test_split(X_new, y_new,\n",
    "                                                    test_size=0.25,\n",
    "                                                    shuffle=True,\n",
    "                                                    random_state=1)\n",
    "\n",
    "custom_cv = [(X_train.index.to_list(), X_test.index.to_list())]"
   ]
  },
  {
   "cell_type": "code",
   "execution_count": 151,
   "id": "8bc6f9c2",
   "metadata": {
    "pycharm": {
     "name": "#%%\n"
    }
   },
   "outputs": [],
   "source": [
    "### Сделаем препроцессинг 1 в 1 как раньше\n",
    "### Аналогично поработав с пропусками и с категориями\n",
    "\n",
    "### Посчитаем количество отсутствующих значений в каждой колонке\n",
    "\n",
    "nans = np.sum(X_new.isna(), axis=0)\n",
    "\n",
    "### Удалим те колонки, в которых пропусков более половины от размера всей выборки\n",
    "\n",
    "X_new.drop(columns=list(nans[nans > data.shape[0] / 2].index), inplace=True)\n",
    "\n",
    "### В категориальных колонках с отсутствующими значениями\n",
    "### произведем fillna, создав по новой категории для каждой\n",
    "### такой фичи\n",
    "\n",
    "cat_cols = X_new.select_dtypes(exclude=['float64', 'int64']).isnull().any()\n",
    "\n",
    "for null_col in cat_cols[cat_cols].index:\n",
    "    X_new[null_col] = X_new[null_col].fillna('NaN')\n",
    "\n",
    "### Оставшиеся (вещественные) колонки заполним медианой по столбцу\n",
    "\n",
    "nans = np.sum(X_new.isna(), axis=0)\n",
    "\n",
    "\n",
    "for col in list(nans[nans > 0].index):\n",
    "    X_new[col].fillna(X_new[col].median(), inplace=True)\n",
    "    \n",
    "data_new = pd.concat((X_new, pd.concat((y_train, y_test))), axis=1)\n",
    "\n",
    "### Закодируем категории с большим кол-ом уникальных значений с помощью счетчиков\n",
    "### Закрывая глаза на возможную проблему переобучения\n",
    "### То есть будем считать средние по всему датасету\n",
    "\n",
    "cat_cols = X_new.select_dtypes(exclude=['float64', 'int64']).columns\n",
    "\n",
    "for col in cat_cols:\n",
    "    if data_new[col].nunique() < 5:\n",
    "        one_hot = pd.get_dummies(data_new[col], prefix=col, drop_first=True)\n",
    "        data_new = pd.concat((data_new.drop(col, axis=1), one_hot), axis=1)\n",
    "        \n",
    "    else:\n",
    "        mean_target = data_new.groupby(col)['HasDetections'].mean()\n",
    "        data_new[col] = data_new[col].map(mean_target)"
   ]
  },
  {
   "cell_type": "code",
   "execution_count": 152,
   "id": "df150cbb",
   "metadata": {
    "pycharm": {
     "name": "#%%\n"
    }
   },
   "outputs": [
    {
     "name": "stdout",
     "output_type": "stream",
     "text": [
      "Best parameter (CV score=0.79430):\n",
      "{'LR__C': 0.01}\n"
     ]
    }
   ],
   "source": [
    "from sklearn.model_selection import GridSearchCV\n",
    "\n",
    "X_new = data_new.drop(columns=['HasDetections'])\n",
    "y_new = data_new['HasDetections']\n",
    "\n",
    "param_grid ={\n",
    "    'LR__C': alphas\n",
    "}\n",
    "\n",
    "search_alpha = GridSearchCV(pipe, param_grid, \n",
    "                            cv=custom_cv, scoring='accuracy')\n",
    "\n",
    "search_alpha.fit(X_new, y_new)\n",
    "\n",
    "print(f\"Best parameter (CV score={search_alpha.best_score_:.5f}):\")\n",
    "print(search_alpha.best_params_)"
   ]
  },
  {
   "cell_type": "markdown",
   "id": "68eacaf2",
   "metadata": {
    "pycharm": {
     "name": "#%% md\n"
    }
   },
   "source": [
    "Видно, что два новых признака существенно улучшили модель! Если добавить сюда мономы - качество окажется еще лучше!"
   ]
  }
 ],
 "metadata": {
  "kernelspec": {
   "display_name": "Python 3 (ipykernel)",
   "language": "python",
   "name": "python3"
  },
  "language_info": {
   "codemirror_mode": {
    "name": "ipython",
    "version": 3
   },
   "file_extension": ".py",
   "mimetype": "text/x-python",
   "name": "python",
   "nbconvert_exporter": "python",
   "pygments_lexer": "ipython3",
   "version": "3.7.9"
  }
 },
 "nbformat": 4,
 "nbformat_minor": 5
}