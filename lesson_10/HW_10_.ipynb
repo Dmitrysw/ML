{
 "cells": [
  {
   "cell_type": "markdown",
   "metadata": {
    "pycharm": {
     "name": "#%% md\n"
    }
   },
   "source": [
    "## В этом домашнем задании вы сделаете первые шаги в мире линейной бинарной классификации!"
   ]
  },
  {
   "cell_type": "code",
   "execution_count": 1,
   "metadata": {
    "pycharm": {
     "name": "#%%\n"
    }
   },
   "outputs": [],
   "source": [
    "import pandas as pd\n",
    "import numpy as np\n",
    "import warnings"
   ]
  },
  {
   "cell_type": "markdown",
   "metadata": {
    "pycharm": {
     "name": "#%% md\n"
    }
   },
   "source": [
    "#### Задание 1\n",
    "\n",
    "Мы будем работать с данными **Microsoft Malware Detection**\n",
    "\n",
    "Таргетом будет последний столбец `HasDetection`, который принимает значения $\\{0,\\, 1\\}$ в случае отсутствия или наличия вируса на компьютере соответственно. Признаками будут выступать всевозможные характеристики компьютера."
   ]
  },
  {
   "cell_type": "code",
   "execution_count": 2,
   "metadata": {
    "pycharm": {
     "name": "#%%\n"
    }
   },
   "outputs": [
    {
     "name": "stderr",
     "output_type": "stream",
     "text": [
      "C:\\Users\\Диман\\AppData\\Local\\Temp\\ipykernel_11488\\40742158.py:1: DtypeWarning: Columns (28) have mixed types. Specify dtype option on import or set low_memory=False.\n",
      "  data = pd.read_csv('train.csv')\n"
     ]
    }
   ],
   "source": [
    "data = pd.read_csv('train.csv')"
   ]
  },
  {
   "cell_type": "code",
   "execution_count": 3,
   "metadata": {
    "pycharm": {
     "name": "#%%\n"
    }
   },
   "outputs": [
    {
     "data": {
      "text/plain": "                  MachineIdentifier   ProductName EngineVersion  \\\n0  0000028988387b115f69f31a3bf04f09  win8defender   1.1.15100.1   \n1  000007535c3f730efa9ea0b7ef1bd645  win8defender   1.1.14600.4   \n2  000007905a28d863f6d0d597892cd692  win8defender   1.1.15100.1   \n3  00000b11598a75ea8ba1beea8459149f  win8defender   1.1.15100.1   \n4  000014a5f00daa18e76b81417eeb99fc  win8defender   1.1.15100.1   \n\n        AppVersion  AvSigVersion  IsBeta  RtpStateBitfield  IsSxsPassiveMode  \\\n0  4.18.1807.18075  1.273.1735.0       0               7.0                 0   \n1     4.13.17134.1    1.263.48.0       0               7.0                 0   \n2  4.18.1807.18075  1.273.1341.0       0               7.0                 0   \n3  4.18.1807.18075  1.273.1527.0       0               7.0                 0   \n4  4.18.1807.18075  1.273.1379.0       0               7.0                 0   \n\n   DefaultBrowsersIdentifier  AVProductStatesIdentifier  ...  \\\n0                        NaN                    53447.0  ...   \n1                        NaN                    53447.0  ...   \n2                        NaN                    53447.0  ...   \n3                        NaN                    53447.0  ...   \n4                        NaN                    53447.0  ...   \n\n   Census_FirmwareVersionIdentifier  Census_IsSecureBootEnabled  \\\n0                           36144.0                           0   \n1                           57858.0                           0   \n2                           52682.0                           0   \n3                           20050.0                           0   \n4                           19844.0                           0   \n\n   Census_IsWIMBootEnabled  Census_IsVirtualDevice  Census_IsTouchEnabled  \\\n0                      NaN                     0.0                      0   \n1                      NaN                     0.0                      0   \n2                      NaN                     0.0                      0   \n3                      NaN                     0.0                      0   \n4                      0.0                     0.0                      0   \n\n   Census_IsPenCapable  Census_IsAlwaysOnAlwaysConnectedCapable  Wdft_IsGamer  \\\n0                    0                                      0.0           0.0   \n1                    0                                      0.0           0.0   \n2                    0                                      0.0           0.0   \n3                    0                                      0.0           0.0   \n4                    0                                      0.0           0.0   \n\n  Wdft_RegionIdentifier HasDetections  \n0                  10.0             0  \n1                   8.0             0  \n2                   3.0             0  \n3                   3.0             1  \n4                   1.0             1  \n\n[5 rows x 83 columns]",
      "text/html": "<div>\n<style scoped>\n    .dataframe tbody tr th:only-of-type {\n        vertical-align: middle;\n    }\n\n    .dataframe tbody tr th {\n        vertical-align: top;\n    }\n\n    .dataframe thead th {\n        text-align: right;\n    }\n</style>\n<table border=\"1\" class=\"dataframe\">\n  <thead>\n    <tr style=\"text-align: right;\">\n      <th></th>\n      <th>MachineIdentifier</th>\n      <th>ProductName</th>\n      <th>EngineVersion</th>\n      <th>AppVersion</th>\n      <th>AvSigVersion</th>\n      <th>IsBeta</th>\n      <th>RtpStateBitfield</th>\n      <th>IsSxsPassiveMode</th>\n      <th>DefaultBrowsersIdentifier</th>\n      <th>AVProductStatesIdentifier</th>\n      <th>...</th>\n      <th>Census_FirmwareVersionIdentifier</th>\n      <th>Census_IsSecureBootEnabled</th>\n      <th>Census_IsWIMBootEnabled</th>\n      <th>Census_IsVirtualDevice</th>\n      <th>Census_IsTouchEnabled</th>\n      <th>Census_IsPenCapable</th>\n      <th>Census_IsAlwaysOnAlwaysConnectedCapable</th>\n      <th>Wdft_IsGamer</th>\n      <th>Wdft_RegionIdentifier</th>\n      <th>HasDetections</th>\n    </tr>\n  </thead>\n  <tbody>\n    <tr>\n      <th>0</th>\n      <td>0000028988387b115f69f31a3bf04f09</td>\n      <td>win8defender</td>\n      <td>1.1.15100.1</td>\n      <td>4.18.1807.18075</td>\n      <td>1.273.1735.0</td>\n      <td>0</td>\n      <td>7.0</td>\n      <td>0</td>\n      <td>NaN</td>\n      <td>53447.0</td>\n      <td>...</td>\n      <td>36144.0</td>\n      <td>0</td>\n      <td>NaN</td>\n      <td>0.0</td>\n      <td>0</td>\n      <td>0</td>\n      <td>0.0</td>\n      <td>0.0</td>\n      <td>10.0</td>\n      <td>0</td>\n    </tr>\n    <tr>\n      <th>1</th>\n      <td>000007535c3f730efa9ea0b7ef1bd645</td>\n      <td>win8defender</td>\n      <td>1.1.14600.4</td>\n      <td>4.13.17134.1</td>\n      <td>1.263.48.0</td>\n      <td>0</td>\n      <td>7.0</td>\n      <td>0</td>\n      <td>NaN</td>\n      <td>53447.0</td>\n      <td>...</td>\n      <td>57858.0</td>\n      <td>0</td>\n      <td>NaN</td>\n      <td>0.0</td>\n      <td>0</td>\n      <td>0</td>\n      <td>0.0</td>\n      <td>0.0</td>\n      <td>8.0</td>\n      <td>0</td>\n    </tr>\n    <tr>\n      <th>2</th>\n      <td>000007905a28d863f6d0d597892cd692</td>\n      <td>win8defender</td>\n      <td>1.1.15100.1</td>\n      <td>4.18.1807.18075</td>\n      <td>1.273.1341.0</td>\n      <td>0</td>\n      <td>7.0</td>\n      <td>0</td>\n      <td>NaN</td>\n      <td>53447.0</td>\n      <td>...</td>\n      <td>52682.0</td>\n      <td>0</td>\n      <td>NaN</td>\n      <td>0.0</td>\n      <td>0</td>\n      <td>0</td>\n      <td>0.0</td>\n      <td>0.0</td>\n      <td>3.0</td>\n      <td>0</td>\n    </tr>\n    <tr>\n      <th>3</th>\n      <td>00000b11598a75ea8ba1beea8459149f</td>\n      <td>win8defender</td>\n      <td>1.1.15100.1</td>\n      <td>4.18.1807.18075</td>\n      <td>1.273.1527.0</td>\n      <td>0</td>\n      <td>7.0</td>\n      <td>0</td>\n      <td>NaN</td>\n      <td>53447.0</td>\n      <td>...</td>\n      <td>20050.0</td>\n      <td>0</td>\n      <td>NaN</td>\n      <td>0.0</td>\n      <td>0</td>\n      <td>0</td>\n      <td>0.0</td>\n      <td>0.0</td>\n      <td>3.0</td>\n      <td>1</td>\n    </tr>\n    <tr>\n      <th>4</th>\n      <td>000014a5f00daa18e76b81417eeb99fc</td>\n      <td>win8defender</td>\n      <td>1.1.15100.1</td>\n      <td>4.18.1807.18075</td>\n      <td>1.273.1379.0</td>\n      <td>0</td>\n      <td>7.0</td>\n      <td>0</td>\n      <td>NaN</td>\n      <td>53447.0</td>\n      <td>...</td>\n      <td>19844.0</td>\n      <td>0</td>\n      <td>0.0</td>\n      <td>0.0</td>\n      <td>0</td>\n      <td>0</td>\n      <td>0.0</td>\n      <td>0.0</td>\n      <td>1.0</td>\n      <td>1</td>\n    </tr>\n  </tbody>\n</table>\n<p>5 rows × 83 columns</p>\n</div>"
     },
     "execution_count": 3,
     "metadata": {},
     "output_type": "execute_result"
    }
   ],
   "source": [
    "data.head()"
   ]
  },
  {
   "cell_type": "code",
   "execution_count": 4,
   "outputs": [],
   "source": [
    "numeric_columns = data.loc[:, data.dtypes != object].columns\n",
    "categorical_columns = data.loc[:, data.dtypes == object].columns"
   ],
   "metadata": {
    "collapsed": false,
    "pycharm": {
     "name": "#%%\n"
    }
   }
  },
  {
   "cell_type": "code",
   "execution_count": 5,
   "outputs": [
    {
     "data": {
      "text/plain": "(200000, 83)"
     },
     "execution_count": 5,
     "metadata": {},
     "output_type": "execute_result"
    }
   ],
   "source": [
    "data.shape"
   ],
   "metadata": {
    "collapsed": false,
    "pycharm": {
     "name": "#%%\n"
    }
   }
  },
  {
   "cell_type": "code",
   "execution_count": 6,
   "outputs": [],
   "source": [
    "from sklearn.feature_selection import VarianceThreshold\n",
    "\n",
    "\n",
    "cutter = VarianceThreshold()\n",
    "cutter.fit(data[numeric_columns])\n",
    "constant_cols = [x for x in numeric_columns if x not in cutter.get_feature_names_out()]\n",
    "\n",
    "data = data.drop(constant_cols, axis=1)"
   ],
   "metadata": {
    "collapsed": false,
    "pycharm": {
     "name": "#%%\n"
    }
   }
  },
  {
   "cell_type": "markdown",
   "metadata": {
    "pycharm": {
     "name": "#%% md\n"
    }
   },
   "source": [
    "Удалите константные признаки и признаки `ProductName` `MachineIdentifier`"
   ]
  },
  {
   "cell_type": "code",
   "execution_count": 7,
   "metadata": {
    "pycharm": {
     "name": "#%%\n"
    }
   },
   "outputs": [],
   "source": [
    "data = data.drop([\"ProductName\", \"MachineIdentifier\"], axis=1)"
   ]
  },
  {
   "cell_type": "code",
   "execution_count": 8,
   "outputs": [
    {
     "data": {
      "text/plain": "(200000, 79)"
     },
     "execution_count": 8,
     "metadata": {},
     "output_type": "execute_result"
    }
   ],
   "source": [
    "data.shape"
   ],
   "metadata": {
    "collapsed": false,
    "pycharm": {
     "name": "#%%\n"
    }
   }
  },
  {
   "cell_type": "markdown",
   "metadata": {
    "pycharm": {
     "name": "#%% md\n"
    }
   },
   "source": [
    "Посмотрите на соотношение классов в таргете. Все ли хорошо?"
   ]
  },
  {
   "cell_type": "code",
   "execution_count": 9,
   "metadata": {
    "pycharm": {
     "name": "#%%\n"
    }
   },
   "outputs": [
    {
     "name": "stdout",
     "output_type": "stream",
     "text": [
      "100060 - positive class,\n",
      "99940 - negative class\n"
     ]
    }
   ],
   "source": [
    "print(sum(data['HasDetections'] == 1), '- positive class,')\n",
    "print(sum(data['HasDetections'] == 0), '- negative class')"
   ]
  },
  {
   "cell_type": "markdown",
   "metadata": {
    "pycharm": {
     "name": "#%% md\n"
    }
   },
   "source": [
    "Ответьте на вопрос: почему с вашей точки зрения важно иметь представление о балансе классов в ваших данных?"
   ]
  },
  {
   "cell_type": "markdown",
   "metadata": {
    "pycharm": {
     "name": "#%% md\n"
    }
   },
   "source": [
    "Избавьтесь от пропусков в данных! \n",
    "\n",
    "Новый для нас прием: признаки с более чем половиной пропусков следует удалить.\n",
    "\n",
    "Согласитесь, если в вашей колонке среди 100 объектов всего лишь у 2 есть какое-то непропущенное значение, странно все остальные заполнять средним от этих двух чисел. Такие \"редкие\" признаки лучше вообще опустить!\n",
    "\n",
    "\n",
    "В категориальных колонках заменим отсутствующую категорию просто некоторой новой и назовем ее `NaN`.\n",
    "\n",
    "А в числовых, ради разнообразия, заполним пропуски медианным значением."
   ]
  },
  {
   "cell_type": "code",
   "execution_count": 10,
   "metadata": {
    "pycharm": {
     "name": "#%%\n"
    }
   },
   "outputs": [
    {
     "name": "stdout",
     "output_type": "stream",
     "text": [
      "190297\n",
      "199947\n",
      "199127\n",
      "142088\n",
      "166068\n",
      "127008\n"
     ]
    }
   ],
   "source": [
    "for column in data.columns:\n",
    "    if data[column].isna().sum() > data.shape[0] / 2:\n",
    "        print(data[column].isna().sum())\n",
    "        data = data.drop(column, axis=1)"
   ]
  },
  {
   "cell_type": "code",
   "execution_count": 11,
   "outputs": [],
   "source": [
    "numeric_columns = data.loc[:, data.dtypes != object].columns\n",
    "categorical_columns = data.loc[:, data.dtypes == object].columns"
   ],
   "metadata": {
    "collapsed": false,
    "pycharm": {
     "name": "#%%\n"
    }
   }
  },
  {
   "cell_type": "code",
   "execution_count": 12,
   "outputs": [],
   "source": [
    "for col in numeric_columns:\n",
    "    data[col] = data[col].fillna(data[col].mean())"
   ],
   "metadata": {
    "collapsed": false,
    "pycharm": {
     "name": "#%%\n"
    }
   }
  },
  {
   "cell_type": "code",
   "execution_count": 13,
   "outputs": [],
   "source": [
    "for col in categorical_columns:\n",
    "    data[col] = data[col].fillna(\"NaN\")"
   ],
   "metadata": {
    "collapsed": false,
    "pycharm": {
     "name": "#%%\n"
    }
   }
  },
  {
   "cell_type": "code",
   "execution_count": 14,
   "outputs": [
    {
     "data": {
      "text/plain": "  EngineVersion       AppVersion  AvSigVersion  RtpStateBitfield  \\\n0   1.1.15100.1  4.18.1807.18075  1.273.1735.0               7.0   \n1   1.1.14600.4     4.13.17134.1    1.263.48.0               7.0   \n2   1.1.15100.1  4.18.1807.18075  1.273.1341.0               7.0   \n3   1.1.15100.1  4.18.1807.18075  1.273.1527.0               7.0   \n4   1.1.15100.1  4.18.1807.18075  1.273.1379.0               7.0   \n\n   IsSxsPassiveMode  AVProductStatesIdentifier  AVProductsInstalled  \\\n0                 0                    53447.0                  1.0   \n1                 0                    53447.0                  1.0   \n2                 0                    53447.0                  1.0   \n3                 0                    53447.0                  1.0   \n4                 0                    53447.0                  1.0   \n\n   AVProductsEnabled  HasTpm  CountryIdentifier  ...  \\\n0                1.0       1                 29  ...   \n1                1.0       1                 93  ...   \n2                1.0       1                 86  ...   \n3                1.0       1                 88  ...   \n4                1.0       1                 18  ...   \n\n   Census_FirmwareManufacturerIdentifier  Census_FirmwareVersionIdentifier  \\\n0                                  628.0                           36144.0   \n1                                  628.0                           57858.0   \n2                                  142.0                           52682.0   \n3                                  355.0                           20050.0   \n4                                  355.0                           19844.0   \n\n   Census_IsSecureBootEnabled  Census_IsVirtualDevice Census_IsTouchEnabled  \\\n0                           0                     0.0                     0   \n1                           0                     0.0                     0   \n2                           0                     0.0                     0   \n3                           0                     0.0                     0   \n4                           0                     0.0                     0   \n\n  Census_IsPenCapable Census_IsAlwaysOnAlwaysConnectedCapable  Wdft_IsGamer  \\\n0                   0                                     0.0           0.0   \n1                   0                                     0.0           0.0   \n2                   0                                     0.0           0.0   \n3                   0                                     0.0           0.0   \n4                   0                                     0.0           0.0   \n\n   Wdft_RegionIdentifier HasDetections  \n0                   10.0             0  \n1                    8.0             0  \n2                    3.0             0  \n3                    3.0             1  \n4                    1.0             1  \n\n[5 rows x 73 columns]",
      "text/html": "<div>\n<style scoped>\n    .dataframe tbody tr th:only-of-type {\n        vertical-align: middle;\n    }\n\n    .dataframe tbody tr th {\n        vertical-align: top;\n    }\n\n    .dataframe thead th {\n        text-align: right;\n    }\n</style>\n<table border=\"1\" class=\"dataframe\">\n  <thead>\n    <tr style=\"text-align: right;\">\n      <th></th>\n      <th>EngineVersion</th>\n      <th>AppVersion</th>\n      <th>AvSigVersion</th>\n      <th>RtpStateBitfield</th>\n      <th>IsSxsPassiveMode</th>\n      <th>AVProductStatesIdentifier</th>\n      <th>AVProductsInstalled</th>\n      <th>AVProductsEnabled</th>\n      <th>HasTpm</th>\n      <th>CountryIdentifier</th>\n      <th>...</th>\n      <th>Census_FirmwareManufacturerIdentifier</th>\n      <th>Census_FirmwareVersionIdentifier</th>\n      <th>Census_IsSecureBootEnabled</th>\n      <th>Census_IsVirtualDevice</th>\n      <th>Census_IsTouchEnabled</th>\n      <th>Census_IsPenCapable</th>\n      <th>Census_IsAlwaysOnAlwaysConnectedCapable</th>\n      <th>Wdft_IsGamer</th>\n      <th>Wdft_RegionIdentifier</th>\n      <th>HasDetections</th>\n    </tr>\n  </thead>\n  <tbody>\n    <tr>\n      <th>0</th>\n      <td>1.1.15100.1</td>\n      <td>4.18.1807.18075</td>\n      <td>1.273.1735.0</td>\n      <td>7.0</td>\n      <td>0</td>\n      <td>53447.0</td>\n      <td>1.0</td>\n      <td>1.0</td>\n      <td>1</td>\n      <td>29</td>\n      <td>...</td>\n      <td>628.0</td>\n      <td>36144.0</td>\n      <td>0</td>\n      <td>0.0</td>\n      <td>0</td>\n      <td>0</td>\n      <td>0.0</td>\n      <td>0.0</td>\n      <td>10.0</td>\n      <td>0</td>\n    </tr>\n    <tr>\n      <th>1</th>\n      <td>1.1.14600.4</td>\n      <td>4.13.17134.1</td>\n      <td>1.263.48.0</td>\n      <td>7.0</td>\n      <td>0</td>\n      <td>53447.0</td>\n      <td>1.0</td>\n      <td>1.0</td>\n      <td>1</td>\n      <td>93</td>\n      <td>...</td>\n      <td>628.0</td>\n      <td>57858.0</td>\n      <td>0</td>\n      <td>0.0</td>\n      <td>0</td>\n      <td>0</td>\n      <td>0.0</td>\n      <td>0.0</td>\n      <td>8.0</td>\n      <td>0</td>\n    </tr>\n    <tr>\n      <th>2</th>\n      <td>1.1.15100.1</td>\n      <td>4.18.1807.18075</td>\n      <td>1.273.1341.0</td>\n      <td>7.0</td>\n      <td>0</td>\n      <td>53447.0</td>\n      <td>1.0</td>\n      <td>1.0</td>\n      <td>1</td>\n      <td>86</td>\n      <td>...</td>\n      <td>142.0</td>\n      <td>52682.0</td>\n      <td>0</td>\n      <td>0.0</td>\n      <td>0</td>\n      <td>0</td>\n      <td>0.0</td>\n      <td>0.0</td>\n      <td>3.0</td>\n      <td>0</td>\n    </tr>\n    <tr>\n      <th>3</th>\n      <td>1.1.15100.1</td>\n      <td>4.18.1807.18075</td>\n      <td>1.273.1527.0</td>\n      <td>7.0</td>\n      <td>0</td>\n      <td>53447.0</td>\n      <td>1.0</td>\n      <td>1.0</td>\n      <td>1</td>\n      <td>88</td>\n      <td>...</td>\n      <td>355.0</td>\n      <td>20050.0</td>\n      <td>0</td>\n      <td>0.0</td>\n      <td>0</td>\n      <td>0</td>\n      <td>0.0</td>\n      <td>0.0</td>\n      <td>3.0</td>\n      <td>1</td>\n    </tr>\n    <tr>\n      <th>4</th>\n      <td>1.1.15100.1</td>\n      <td>4.18.1807.18075</td>\n      <td>1.273.1379.0</td>\n      <td>7.0</td>\n      <td>0</td>\n      <td>53447.0</td>\n      <td>1.0</td>\n      <td>1.0</td>\n      <td>1</td>\n      <td>18</td>\n      <td>...</td>\n      <td>355.0</td>\n      <td>19844.0</td>\n      <td>0</td>\n      <td>0.0</td>\n      <td>0</td>\n      <td>0</td>\n      <td>0.0</td>\n      <td>0.0</td>\n      <td>1.0</td>\n      <td>1</td>\n    </tr>\n  </tbody>\n</table>\n<p>5 rows × 73 columns</p>\n</div>"
     },
     "execution_count": 14,
     "metadata": {},
     "output_type": "execute_result"
    }
   ],
   "source": [
    "data.head()"
   ],
   "metadata": {
    "collapsed": false,
    "pycharm": {
     "name": "#%%\n"
    }
   }
  },
  {
   "cell_type": "markdown",
   "metadata": {
    "pycharm": {
     "name": "#%% md\n"
    }
   },
   "source": [
    "Создайте копию полученного датафрейма и положите ее в переменную data_2. Понадобится в следующих заданиях."
   ]
  },
  {
   "cell_type": "code",
   "execution_count": 15,
   "metadata": {
    "pycharm": {
     "name": "#%%\n"
    }
   },
   "outputs": [],
   "source": [
    "data_2 = data.copy()"
   ]
  },
  {
   "cell_type": "code",
   "execution_count": 16,
   "outputs": [
    {
     "data": {
      "text/plain": "  EngineVersion       AppVersion  AvSigVersion   Platform Processor     OsVer  \\\n0   1.1.15100.1  4.18.1807.18075  1.273.1735.0  windows10       x64  10.0.0.0   \n1   1.1.14600.4     4.13.17134.1    1.263.48.0  windows10       x64  10.0.0.0   \n2   1.1.15100.1  4.18.1807.18075  1.273.1341.0  windows10       x64  10.0.0.0   \n3   1.1.15100.1  4.18.1807.18075  1.273.1527.0  windows10       x64  10.0.0.0   \n4   1.1.15100.1  4.18.1807.18075  1.273.1379.0  windows10       x64  10.0.0.0   \n\n  OsPlatformSubRelease                                OsBuildLab SkuEdition  \\\n0                  rs4  17134.1.amd64fre.rs4_release.180410-1804        Pro   \n1                  rs4  17134.1.amd64fre.rs4_release.180410-1804        Pro   \n2                  rs4  17134.1.amd64fre.rs4_release.180410-1804       Home   \n3                  rs4  17134.1.amd64fre.rs4_release.180410-1804        Pro   \n4                  rs4  17134.1.amd64fre.rs4_release.180410-1804       Home   \n\n    SmartScreen  ... Census_OSVersion Census_OSArchitecture Census_OSBranch  \\\n0           NaN  ...   10.0.17134.165                 amd64     rs4_release   \n1           NaN  ...     10.0.17134.1                 amd64     rs4_release   \n2  RequireAdmin  ...   10.0.17134.165                 amd64     rs4_release   \n3  ExistsNotSet  ...   10.0.17134.228                 amd64     rs4_release   \n4  RequireAdmin  ...   10.0.17134.191                 amd64     rs4_release   \n\n  Census_OSEdition Census_OSSkuName Census_OSInstallTypeName  \\\n0     Professional     PROFESSIONAL               UUPUpgrade   \n1     Professional     PROFESSIONAL                 IBSClean   \n2             Core             CORE               UUPUpgrade   \n3     Professional     PROFESSIONAL               UUPUpgrade   \n4             Core             CORE                   Update   \n\n  Census_OSWUAutoUpdateOptionsName Census_GenuineStateName  \\\n0                          UNKNOWN              IS_GENUINE   \n1                          UNKNOWN                 OFFLINE   \n2                         FullAuto              IS_GENUINE   \n3                         FullAuto              IS_GENUINE   \n4                         FullAuto              IS_GENUINE   \n\n  Census_ActivationChannel Census_FlightRing  \n0                   Retail            Retail  \n1                   Retail           NOT_SET  \n2               OEM:NONSLP            Retail  \n3               OEM:NONSLP            Retail  \n4                   Retail            Retail  \n\n[5 rows x 25 columns]",
      "text/html": "<div>\n<style scoped>\n    .dataframe tbody tr th:only-of-type {\n        vertical-align: middle;\n    }\n\n    .dataframe tbody tr th {\n        vertical-align: top;\n    }\n\n    .dataframe thead th {\n        text-align: right;\n    }\n</style>\n<table border=\"1\" class=\"dataframe\">\n  <thead>\n    <tr style=\"text-align: right;\">\n      <th></th>\n      <th>EngineVersion</th>\n      <th>AppVersion</th>\n      <th>AvSigVersion</th>\n      <th>Platform</th>\n      <th>Processor</th>\n      <th>OsVer</th>\n      <th>OsPlatformSubRelease</th>\n      <th>OsBuildLab</th>\n      <th>SkuEdition</th>\n      <th>SmartScreen</th>\n      <th>...</th>\n      <th>Census_OSVersion</th>\n      <th>Census_OSArchitecture</th>\n      <th>Census_OSBranch</th>\n      <th>Census_OSEdition</th>\n      <th>Census_OSSkuName</th>\n      <th>Census_OSInstallTypeName</th>\n      <th>Census_OSWUAutoUpdateOptionsName</th>\n      <th>Census_GenuineStateName</th>\n      <th>Census_ActivationChannel</th>\n      <th>Census_FlightRing</th>\n    </tr>\n  </thead>\n  <tbody>\n    <tr>\n      <th>0</th>\n      <td>1.1.15100.1</td>\n      <td>4.18.1807.18075</td>\n      <td>1.273.1735.0</td>\n      <td>windows10</td>\n      <td>x64</td>\n      <td>10.0.0.0</td>\n      <td>rs4</td>\n      <td>17134.1.amd64fre.rs4_release.180410-1804</td>\n      <td>Pro</td>\n      <td>NaN</td>\n      <td>...</td>\n      <td>10.0.17134.165</td>\n      <td>amd64</td>\n      <td>rs4_release</td>\n      <td>Professional</td>\n      <td>PROFESSIONAL</td>\n      <td>UUPUpgrade</td>\n      <td>UNKNOWN</td>\n      <td>IS_GENUINE</td>\n      <td>Retail</td>\n      <td>Retail</td>\n    </tr>\n    <tr>\n      <th>1</th>\n      <td>1.1.14600.4</td>\n      <td>4.13.17134.1</td>\n      <td>1.263.48.0</td>\n      <td>windows10</td>\n      <td>x64</td>\n      <td>10.0.0.0</td>\n      <td>rs4</td>\n      <td>17134.1.amd64fre.rs4_release.180410-1804</td>\n      <td>Pro</td>\n      <td>NaN</td>\n      <td>...</td>\n      <td>10.0.17134.1</td>\n      <td>amd64</td>\n      <td>rs4_release</td>\n      <td>Professional</td>\n      <td>PROFESSIONAL</td>\n      <td>IBSClean</td>\n      <td>UNKNOWN</td>\n      <td>OFFLINE</td>\n      <td>Retail</td>\n      <td>NOT_SET</td>\n    </tr>\n    <tr>\n      <th>2</th>\n      <td>1.1.15100.1</td>\n      <td>4.18.1807.18075</td>\n      <td>1.273.1341.0</td>\n      <td>windows10</td>\n      <td>x64</td>\n      <td>10.0.0.0</td>\n      <td>rs4</td>\n      <td>17134.1.amd64fre.rs4_release.180410-1804</td>\n      <td>Home</td>\n      <td>RequireAdmin</td>\n      <td>...</td>\n      <td>10.0.17134.165</td>\n      <td>amd64</td>\n      <td>rs4_release</td>\n      <td>Core</td>\n      <td>CORE</td>\n      <td>UUPUpgrade</td>\n      <td>FullAuto</td>\n      <td>IS_GENUINE</td>\n      <td>OEM:NONSLP</td>\n      <td>Retail</td>\n    </tr>\n    <tr>\n      <th>3</th>\n      <td>1.1.15100.1</td>\n      <td>4.18.1807.18075</td>\n      <td>1.273.1527.0</td>\n      <td>windows10</td>\n      <td>x64</td>\n      <td>10.0.0.0</td>\n      <td>rs4</td>\n      <td>17134.1.amd64fre.rs4_release.180410-1804</td>\n      <td>Pro</td>\n      <td>ExistsNotSet</td>\n      <td>...</td>\n      <td>10.0.17134.228</td>\n      <td>amd64</td>\n      <td>rs4_release</td>\n      <td>Professional</td>\n      <td>PROFESSIONAL</td>\n      <td>UUPUpgrade</td>\n      <td>FullAuto</td>\n      <td>IS_GENUINE</td>\n      <td>OEM:NONSLP</td>\n      <td>Retail</td>\n    </tr>\n    <tr>\n      <th>4</th>\n      <td>1.1.15100.1</td>\n      <td>4.18.1807.18075</td>\n      <td>1.273.1379.0</td>\n      <td>windows10</td>\n      <td>x64</td>\n      <td>10.0.0.0</td>\n      <td>rs4</td>\n      <td>17134.1.amd64fre.rs4_release.180410-1804</td>\n      <td>Home</td>\n      <td>RequireAdmin</td>\n      <td>...</td>\n      <td>10.0.17134.191</td>\n      <td>amd64</td>\n      <td>rs4_release</td>\n      <td>Core</td>\n      <td>CORE</td>\n      <td>Update</td>\n      <td>FullAuto</td>\n      <td>IS_GENUINE</td>\n      <td>Retail</td>\n      <td>Retail</td>\n    </tr>\n  </tbody>\n</table>\n<p>5 rows × 25 columns</p>\n</div>"
     },
     "execution_count": 16,
     "metadata": {},
     "output_type": "execute_result"
    }
   ],
   "source": [
    "data[categorical_columns].head()"
   ],
   "metadata": {
    "collapsed": false,
    "pycharm": {
     "name": "#%%\n"
    }
   }
  },
  {
   "cell_type": "markdown",
   "metadata": {
    "pycharm": {
     "name": "#%% md\n"
    }
   },
   "source": [
    "Так же поработаем над всеми категориальными колонкам перед запуском непосредственно моделей.\n",
    "\n",
    "Провернем самый базовый и наглый метод - несмотря на количество уникальных значений в каждой категории, просто применим ко всей категориальной части датасета `OneHotEncoding`"
   ]
  },
  {
   "cell_type": "code",
   "execution_count": 23,
   "metadata": {
    "pycharm": {
     "name": "#%%\n"
    }
   },
   "outputs": [
    {
     "data": {
      "text/plain": "   RtpStateBitfield  IsSxsPassiveMode  AVProductStatesIdentifier  \\\n0               7.0                 0                    53447.0   \n1               7.0                 0                    53447.0   \n2               7.0                 0                    53447.0   \n3               7.0                 0                    53447.0   \n4               7.0                 0                    53447.0   \n\n   AVProductsInstalled  AVProductsEnabled  HasTpm  CountryIdentifier  \\\n0                  1.0                1.0       1                 29   \n1                  1.0                1.0       1                 93   \n2                  1.0                1.0       1                 86   \n3                  1.0                1.0       1                 88   \n4                  1.0                1.0       1                 18   \n\n   CityIdentifier  OrganizationIdentifier  GeoNameIdentifier  ...  \\\n0        128035.0               18.000000               35.0  ...   \n1          1482.0               18.000000              119.0  ...   \n2        153579.0               18.000000               64.0  ...   \n3         20710.0               24.870919              117.0  ...   \n4         37376.0               24.870919              277.0  ...   \n\n   Census_ActivationChannel_Retail  Census_ActivationChannel_Retail:TB:Eval  \\\n0                                1                                        0   \n1                                1                                        0   \n2                                0                                        0   \n3                                0                                        0   \n4                                1                                        0   \n\n   Census_ActivationChannel_Volume:GVLK  Census_ActivationChannel_Volume:MAK  \\\n0                                     0                                    0   \n1                                     0                                    0   \n2                                     0                                    0   \n3                                     0                                    0   \n4                                     0                                    0   \n\n   Census_FlightRing_NOT_SET  Census_FlightRing_RP  Census_FlightRing_Retail  \\\n0                          0                     0                         1   \n1                          1                     0                         0   \n2                          0                     0                         1   \n3                          0                     0                         1   \n4                          0                     0                         1   \n\n   Census_FlightRing_Unknown  Census_FlightRing_WIF  Census_FlightRing_WIS  \n0                          0                      0                      0  \n1                          0                      0                      0  \n2                          0                      0                      0  \n3                          0                      0                      0  \n4                          0                      0                      0  \n\n[5 rows x 6114 columns]",
      "text/html": "<div>\n<style scoped>\n    .dataframe tbody tr th:only-of-type {\n        vertical-align: middle;\n    }\n\n    .dataframe tbody tr th {\n        vertical-align: top;\n    }\n\n    .dataframe thead th {\n        text-align: right;\n    }\n</style>\n<table border=\"1\" class=\"dataframe\">\n  <thead>\n    <tr style=\"text-align: right;\">\n      <th></th>\n      <th>RtpStateBitfield</th>\n      <th>IsSxsPassiveMode</th>\n      <th>AVProductStatesIdentifier</th>\n      <th>AVProductsInstalled</th>\n      <th>AVProductsEnabled</th>\n      <th>HasTpm</th>\n      <th>CountryIdentifier</th>\n      <th>CityIdentifier</th>\n      <th>OrganizationIdentifier</th>\n      <th>GeoNameIdentifier</th>\n      <th>...</th>\n      <th>Census_ActivationChannel_Retail</th>\n      <th>Census_ActivationChannel_Retail:TB:Eval</th>\n      <th>Census_ActivationChannel_Volume:GVLK</th>\n      <th>Census_ActivationChannel_Volume:MAK</th>\n      <th>Census_FlightRing_NOT_SET</th>\n      <th>Census_FlightRing_RP</th>\n      <th>Census_FlightRing_Retail</th>\n      <th>Census_FlightRing_Unknown</th>\n      <th>Census_FlightRing_WIF</th>\n      <th>Census_FlightRing_WIS</th>\n    </tr>\n  </thead>\n  <tbody>\n    <tr>\n      <th>0</th>\n      <td>7.0</td>\n      <td>0</td>\n      <td>53447.0</td>\n      <td>1.0</td>\n      <td>1.0</td>\n      <td>1</td>\n      <td>29</td>\n      <td>128035.0</td>\n      <td>18.000000</td>\n      <td>35.0</td>\n      <td>...</td>\n      <td>1</td>\n      <td>0</td>\n      <td>0</td>\n      <td>0</td>\n      <td>0</td>\n      <td>0</td>\n      <td>1</td>\n      <td>0</td>\n      <td>0</td>\n      <td>0</td>\n    </tr>\n    <tr>\n      <th>1</th>\n      <td>7.0</td>\n      <td>0</td>\n      <td>53447.0</td>\n      <td>1.0</td>\n      <td>1.0</td>\n      <td>1</td>\n      <td>93</td>\n      <td>1482.0</td>\n      <td>18.000000</td>\n      <td>119.0</td>\n      <td>...</td>\n      <td>1</td>\n      <td>0</td>\n      <td>0</td>\n      <td>0</td>\n      <td>1</td>\n      <td>0</td>\n      <td>0</td>\n      <td>0</td>\n      <td>0</td>\n      <td>0</td>\n    </tr>\n    <tr>\n      <th>2</th>\n      <td>7.0</td>\n      <td>0</td>\n      <td>53447.0</td>\n      <td>1.0</td>\n      <td>1.0</td>\n      <td>1</td>\n      <td>86</td>\n      <td>153579.0</td>\n      <td>18.000000</td>\n      <td>64.0</td>\n      <td>...</td>\n      <td>0</td>\n      <td>0</td>\n      <td>0</td>\n      <td>0</td>\n      <td>0</td>\n      <td>0</td>\n      <td>1</td>\n      <td>0</td>\n      <td>0</td>\n      <td>0</td>\n    </tr>\n    <tr>\n      <th>3</th>\n      <td>7.0</td>\n      <td>0</td>\n      <td>53447.0</td>\n      <td>1.0</td>\n      <td>1.0</td>\n      <td>1</td>\n      <td>88</td>\n      <td>20710.0</td>\n      <td>24.870919</td>\n      <td>117.0</td>\n      <td>...</td>\n      <td>0</td>\n      <td>0</td>\n      <td>0</td>\n      <td>0</td>\n      <td>0</td>\n      <td>0</td>\n      <td>1</td>\n      <td>0</td>\n      <td>0</td>\n      <td>0</td>\n    </tr>\n    <tr>\n      <th>4</th>\n      <td>7.0</td>\n      <td>0</td>\n      <td>53447.0</td>\n      <td>1.0</td>\n      <td>1.0</td>\n      <td>1</td>\n      <td>18</td>\n      <td>37376.0</td>\n      <td>24.870919</td>\n      <td>277.0</td>\n      <td>...</td>\n      <td>1</td>\n      <td>0</td>\n      <td>0</td>\n      <td>0</td>\n      <td>0</td>\n      <td>0</td>\n      <td>1</td>\n      <td>0</td>\n      <td>0</td>\n      <td>0</td>\n    </tr>\n  </tbody>\n</table>\n<p>5 rows × 6114 columns</p>\n</div>"
     },
     "execution_count": 23,
     "metadata": {},
     "output_type": "execute_result"
    }
   ],
   "source": [
    "### Your code is here\n",
    "one_hot = pd.get_dummies(data[categorical_columns], prefix=categorical_columns, drop_first=True)\n",
    "data = pd.concat((data.drop(categorical_columns, axis=1), one_hot), axis=1)\n",
    "data.head()"
   ]
  },
  {
   "cell_type": "markdown",
   "metadata": {
    "pycharm": {
     "name": "#%% md\n"
    }
   },
   "source": [
    "###  Разделим выборку на тренировочную и тестовую"
   ]
  },
  {
   "cell_type": "markdown",
   "metadata": {
    "pycharm": {
     "name": "#%% md\n"
    }
   },
   "source": [
    "P.S. в задачах классификации, как и в задаче регрессии, можно использовать технологию Кросс-Валидации. Например, по одному из двух следующих сценариев:\n",
    "\n",
    "1) Отделить валидацию и тест, произвести подбор лучшей модели с помощью `K-Fold` на валидации, финально обучить выбранную модель на всей валидации и замерить качество на заранее отложенном финальном тесте!\n",
    "\n",
    "2) Всю выборку назвать валидационной и на ней применить `K-Fold` без финального замера.\n",
    "\n",
    "В этой домашней работе попросим Вас быть еще проще! :)\n",
    "Реализуем просто технологию отложенной выборки в пропорции 3:1"
   ]
  },
  {
   "cell_type": "code",
   "execution_count": 24,
   "metadata": {
    "pycharm": {
     "name": "#%%\n"
    }
   },
   "outputs": [],
   "source": [
    "from sklearn.model_selection import train_test_split \n",
    "\n",
    "X = data.drop(columns=['HasDetections'])\n",
    "y = data['HasDetections']\n",
    "\n",
    "X_train, X_test, y_train, y_test = train_test_split(X, y,\n",
    "                                                    test_size=0.25,\n",
    "                                                    shuffle=True,\n",
    "                                                    random_state=1)"
   ]
  },
  {
   "cell_type": "markdown",
   "metadata": {
    "pycharm": {
     "name": "#%% md\n"
    }
   },
   "source": [
    "Соберите `Pipeline`, реализовав в нем 2 шага: стандартизация данных через `StandardScaler` и обучение логистической регрессии с помощью `LogisticRegression`, положите результаты в переменную `pipe`, а в классе модели `LogisticRegression` укажите параметр `penalty='none'`"
   ]
  },
  {
   "cell_type": "code",
   "execution_count": 17,
   "metadata": {
    "pycharm": {
     "name": "#%%\n"
    }
   },
   "outputs": [],
   "source": [
    "from sklearn.preprocessing import StandardScaler\n",
    "from sklearn.linear_model import LogisticRegression\n",
    "from sklearn.pipeline import Pipeline\n",
    "\n",
    "pipe = Pipeline([('scaler', StandardScaler()), (\"LR\", LogisticRegression(penalty='none'))])"
   ]
  },
  {
   "cell_type": "markdown",
   "metadata": {
    "pycharm": {
     "name": "#%% md\n"
    }
   },
   "source": [
    "Чтобы замерить качество работы такой модели на трейне и на тесте воспользуемся функцией `cross_validate`\n",
    "\n",
    "Вопрос: что передавать ей в параметр cv? Ведь мы уже разделили нашу выборку на трейн и тест (имеем всего 1 fold). Для этого можно просто передать список от кортежа, содержащего индексы тренировочных и тестовых объектов."
   ]
  },
  {
   "cell_type": "code",
   "execution_count": null,
   "metadata": {
    "pycharm": {
     "name": "#%%\n",
     "is_executing": true
    }
   },
   "outputs": [],
   "source": [
    "from sklearn.model_selection import cross_validate\n",
    "import datetime\n",
    "\n",
    "custom_cv = [(X_train.index.to_list(), X_test.index.to_list())]\n",
    "\n",
    "begin_time = datetime.datetime.now()\n",
    "\n",
    "cv_result_pipe = cross_validate(pipe, X, y, scoring='accuracy',\n",
    "                                cv=custom_cv, return_train_score=True)\n",
    "\n",
    "\n",
    "print(f\"Accuracy на трейне: {np.mean(cv_result_pipe['train_score']).round(3)}\")\n",
    "print(f\"Accuracy на тесте: {np.mean(cv_result_pipe['test_score']).round(3)}\")\n",
    "\n",
    "print(f\"Время работы алгоритма: {datetime.datetime.now() - begin_time}\")"
   ]
  },
  {
   "cell_type": "markdown",
   "metadata": {
    "pycharm": {
     "name": "#%% md\n"
    }
   },
   "source": [
    "Что можете сказать про время работы алгоритма?\n",
    "\n",
    "Очевидно, оно достаточно большие. Уж тем более для линейных моделей.\n",
    "\n",
    "Такое как раз-таки происходит из-за того, что количество фичей, который мы передали нашей модели - гигантское! Классу требуется много времени и памяти, чтобы обработать датасет.\n",
    "\n",
    "Поэтому те колонки, в которых количество уникальных категорий превышает какое-то адекватное число, следует кодировать иначе, нежели с помощью технологии `One-Hot-Encoding`.\n",
    "\n",
    "Теперь вы верите, что более умные кодировки зачастую прям необходимы! Раньше мы этот факт не демонстрировали!\n",
    "\n",
    "Дело еще вот в чем: в классе `LogisticRegression`, как и, например, `Lasso`, есть параметр, ограничивающий максимальное количество итераций во время обучения модели. Так, если данных много и итераций тоже ожидается большое число, найденная разделяющая гиперплоскость может оказаться не самой лучшей, так как наш алгоритм (будь то градиентный спуск или любой иной) просто 'не доползет'. "
   ]
  },
  {
   "cell_type": "markdown",
   "metadata": {
    "pycharm": {
     "name": "#%% md\n"
    }
   },
   "source": [
    "#### Задание 2"
   ]
  },
  {
   "cell_type": "markdown",
   "metadata": {
    "pycharm": {
     "name": "#%% md\n"
    }
   },
   "source": [
    "Теперь попробуем другой метод кодирования категориальных колонок, а именно счётчики.\n",
    "Построем ту же модель и на том же разделении, просто заново иначе переобработаем датасет. \n",
    "\n",
    "Для тех категориальных признаков, у которых количество уникальных значений в колоночках больше 5, применим `MeanTargetEncoding`.\n",
    "\n",
    "Для остальных оставим любимый `OneHotEncoding` (как делали на практике и в предыдущем уроке)."
   ]
  },
  {
   "cell_type": "code",
   "execution_count": 19,
   "outputs": [
    {
     "data": {
      "text/plain": "  EngineVersion       AppVersion  AvSigVersion  RtpStateBitfield  \\\n0   1.1.15100.1  4.18.1807.18075  1.273.1735.0               7.0   \n1   1.1.14600.4     4.13.17134.1    1.263.48.0               7.0   \n2   1.1.15100.1  4.18.1807.18075  1.273.1341.0               7.0   \n3   1.1.15100.1  4.18.1807.18075  1.273.1527.0               7.0   \n4   1.1.15100.1  4.18.1807.18075  1.273.1379.0               7.0   \n\n   IsSxsPassiveMode  AVProductStatesIdentifier  AVProductsInstalled  \\\n0                 0                    53447.0                  1.0   \n1                 0                    53447.0                  1.0   \n2                 0                    53447.0                  1.0   \n3                 0                    53447.0                  1.0   \n4                 0                    53447.0                  1.0   \n\n   AVProductsEnabled  HasTpm  CountryIdentifier  ...  \\\n0                1.0       1                 29  ...   \n1                1.0       1                 93  ...   \n2                1.0       1                 86  ...   \n3                1.0       1                 88  ...   \n4                1.0       1                 18  ...   \n\n   Census_FirmwareManufacturerIdentifier  Census_FirmwareVersionIdentifier  \\\n0                                  628.0                           36144.0   \n1                                  628.0                           57858.0   \n2                                  142.0                           52682.0   \n3                                  355.0                           20050.0   \n4                                  355.0                           19844.0   \n\n   Census_IsSecureBootEnabled  Census_IsVirtualDevice Census_IsTouchEnabled  \\\n0                           0                     0.0                     0   \n1                           0                     0.0                     0   \n2                           0                     0.0                     0   \n3                           0                     0.0                     0   \n4                           0                     0.0                     0   \n\n  Census_IsPenCapable Census_IsAlwaysOnAlwaysConnectedCapable  Wdft_IsGamer  \\\n0                   0                                     0.0           0.0   \n1                   0                                     0.0           0.0   \n2                   0                                     0.0           0.0   \n3                   0                                     0.0           0.0   \n4                   0                                     0.0           0.0   \n\n   Wdft_RegionIdentifier HasDetections  \n0                   10.0             0  \n1                    8.0             0  \n2                    3.0             0  \n3                    3.0             1  \n4                    1.0             1  \n\n[5 rows x 73 columns]",
      "text/html": "<div>\n<style scoped>\n    .dataframe tbody tr th:only-of-type {\n        vertical-align: middle;\n    }\n\n    .dataframe tbody tr th {\n        vertical-align: top;\n    }\n\n    .dataframe thead th {\n        text-align: right;\n    }\n</style>\n<table border=\"1\" class=\"dataframe\">\n  <thead>\n    <tr style=\"text-align: right;\">\n      <th></th>\n      <th>EngineVersion</th>\n      <th>AppVersion</th>\n      <th>AvSigVersion</th>\n      <th>RtpStateBitfield</th>\n      <th>IsSxsPassiveMode</th>\n      <th>AVProductStatesIdentifier</th>\n      <th>AVProductsInstalled</th>\n      <th>AVProductsEnabled</th>\n      <th>HasTpm</th>\n      <th>CountryIdentifier</th>\n      <th>...</th>\n      <th>Census_FirmwareManufacturerIdentifier</th>\n      <th>Census_FirmwareVersionIdentifier</th>\n      <th>Census_IsSecureBootEnabled</th>\n      <th>Census_IsVirtualDevice</th>\n      <th>Census_IsTouchEnabled</th>\n      <th>Census_IsPenCapable</th>\n      <th>Census_IsAlwaysOnAlwaysConnectedCapable</th>\n      <th>Wdft_IsGamer</th>\n      <th>Wdft_RegionIdentifier</th>\n      <th>HasDetections</th>\n    </tr>\n  </thead>\n  <tbody>\n    <tr>\n      <th>0</th>\n      <td>1.1.15100.1</td>\n      <td>4.18.1807.18075</td>\n      <td>1.273.1735.0</td>\n      <td>7.0</td>\n      <td>0</td>\n      <td>53447.0</td>\n      <td>1.0</td>\n      <td>1.0</td>\n      <td>1</td>\n      <td>29</td>\n      <td>...</td>\n      <td>628.0</td>\n      <td>36144.0</td>\n      <td>0</td>\n      <td>0.0</td>\n      <td>0</td>\n      <td>0</td>\n      <td>0.0</td>\n      <td>0.0</td>\n      <td>10.0</td>\n      <td>0</td>\n    </tr>\n    <tr>\n      <th>1</th>\n      <td>1.1.14600.4</td>\n      <td>4.13.17134.1</td>\n      <td>1.263.48.0</td>\n      <td>7.0</td>\n      <td>0</td>\n      <td>53447.0</td>\n      <td>1.0</td>\n      <td>1.0</td>\n      <td>1</td>\n      <td>93</td>\n      <td>...</td>\n      <td>628.0</td>\n      <td>57858.0</td>\n      <td>0</td>\n      <td>0.0</td>\n      <td>0</td>\n      <td>0</td>\n      <td>0.0</td>\n      <td>0.0</td>\n      <td>8.0</td>\n      <td>0</td>\n    </tr>\n    <tr>\n      <th>2</th>\n      <td>1.1.15100.1</td>\n      <td>4.18.1807.18075</td>\n      <td>1.273.1341.0</td>\n      <td>7.0</td>\n      <td>0</td>\n      <td>53447.0</td>\n      <td>1.0</td>\n      <td>1.0</td>\n      <td>1</td>\n      <td>86</td>\n      <td>...</td>\n      <td>142.0</td>\n      <td>52682.0</td>\n      <td>0</td>\n      <td>0.0</td>\n      <td>0</td>\n      <td>0</td>\n      <td>0.0</td>\n      <td>0.0</td>\n      <td>3.0</td>\n      <td>0</td>\n    </tr>\n    <tr>\n      <th>3</th>\n      <td>1.1.15100.1</td>\n      <td>4.18.1807.18075</td>\n      <td>1.273.1527.0</td>\n      <td>7.0</td>\n      <td>0</td>\n      <td>53447.0</td>\n      <td>1.0</td>\n      <td>1.0</td>\n      <td>1</td>\n      <td>88</td>\n      <td>...</td>\n      <td>355.0</td>\n      <td>20050.0</td>\n      <td>0</td>\n      <td>0.0</td>\n      <td>0</td>\n      <td>0</td>\n      <td>0.0</td>\n      <td>0.0</td>\n      <td>3.0</td>\n      <td>1</td>\n    </tr>\n    <tr>\n      <th>4</th>\n      <td>1.1.15100.1</td>\n      <td>4.18.1807.18075</td>\n      <td>1.273.1379.0</td>\n      <td>7.0</td>\n      <td>0</td>\n      <td>53447.0</td>\n      <td>1.0</td>\n      <td>1.0</td>\n      <td>1</td>\n      <td>18</td>\n      <td>...</td>\n      <td>355.0</td>\n      <td>19844.0</td>\n      <td>0</td>\n      <td>0.0</td>\n      <td>0</td>\n      <td>0</td>\n      <td>0.0</td>\n      <td>0.0</td>\n      <td>1.0</td>\n      <td>1</td>\n    </tr>\n  </tbody>\n</table>\n<p>5 rows × 73 columns</p>\n</div>"
     },
     "execution_count": 19,
     "metadata": {},
     "output_type": "execute_result"
    }
   ],
   "source": [
    "data_2.head()"
   ],
   "metadata": {
    "collapsed": false,
    "pycharm": {
     "name": "#%%\n"
    }
   }
  },
  {
   "cell_type": "code",
   "execution_count": 18,
   "metadata": {
    "pycharm": {
     "name": "#%%\n"
    }
   },
   "outputs": [],
   "source": [
    "numeric_columns_2 = data_2.loc[:, data_2.dtypes != object].columns\n",
    "categorical_columns_2 = data_2.loc[:, data_2.dtypes == object].columns\n",
    "#Закодируем категориальные колонки\n",
    "for col in categorical_columns_2:\n",
    "    #К колонкам с малой вариативностью применим one-hot\n",
    "    if data_2[col].nunique() <= 5:\n",
    "        one_hot = pd.get_dummies(data_2[col], prefix=col, drop_first=True)\n",
    "        data_2 = pd.concat((data_2.drop(col, axis=1), one_hot), axis=1)\n",
    "    #  К остальным - счётчики\n",
    "    else:\n",
    "        mean_target = data_2.groupby(col)[\"HasDetections\"].mean()\n",
    "        data_2[col] = data_2[col].map(mean_target)\n",
    "\n",
    "\n",
    "\n"
   ]
  },
  {
   "cell_type": "code",
   "execution_count": 19,
   "outputs": [
    {
     "data": {
      "text/plain": "Index(['EngineVersion', 'AppVersion', 'AvSigVersion', 'Platform', 'Processor',\n       'OsVer', 'OsPlatformSubRelease', 'OsBuildLab', 'SkuEdition',\n       'SmartScreen', 'Census_MDC2FormFactor', 'Census_DeviceFamily',\n       'Census_PrimaryDiskTypeName', 'Census_ChassisTypeName',\n       'Census_PowerPlatformRoleName', 'Census_OSVersion',\n       'Census_OSArchitecture', 'Census_OSBranch', 'Census_OSEdition',\n       'Census_OSSkuName', 'Census_OSInstallTypeName',\n       'Census_OSWUAutoUpdateOptionsName', 'Census_GenuineStateName',\n       'Census_ActivationChannel', 'Census_FlightRing'],\n      dtype='object')"
     },
     "execution_count": 19,
     "metadata": {},
     "output_type": "execute_result"
    }
   ],
   "source": [
    "categorical_columns_2"
   ],
   "metadata": {
    "collapsed": false,
    "pycharm": {
     "name": "#%%\n"
    }
   }
  },
  {
   "cell_type": "code",
   "execution_count": 20,
   "metadata": {
    "pycharm": {
     "name": "#%%\n"
    }
   },
   "outputs": [],
   "source": [
    "X_2 = data_2.drop(columns=['HasDetections'])\n",
    "y_2 = data_2['HasDetections']"
   ]
  },
  {
   "cell_type": "code",
   "execution_count": 21,
   "outputs": [],
   "source": [
    "from sklearn.model_selection import train_test_split\n",
    "X_train, X_test, y_train, y_test = train_test_split(X_2, y_2,\n",
    "                                                    test_size=0.25,\n",
    "                                                    shuffle=True,\n",
    "                                                    random_state=1)"
   ],
   "metadata": {
    "collapsed": false,
    "pycharm": {
     "name": "#%%\n"
    }
   }
  },
  {
   "cell_type": "code",
   "execution_count": 21,
   "outputs": [],
   "source": [],
   "metadata": {
    "collapsed": false,
    "pycharm": {
     "name": "#%%\n"
    }
   }
  },
  {
   "cell_type": "markdown",
   "metadata": {
    "pycharm": {
     "name": "#%% md\n"
    }
   },
   "source": [
    "Опять обучим модель, пока что без изменений! Скажите, стало ли быстрее? А что с качеством?"
   ]
  },
  {
   "cell_type": "code",
   "execution_count": 23,
   "metadata": {
    "pycharm": {
     "name": "#%%\n"
    }
   },
   "outputs": [
    {
     "name": "stdout",
     "output_type": "stream",
     "text": [
      "Accuracy на трейне: 0.638\n",
      "Accuracy на тесте: 0.638\n",
      "Время работы алгоритма: 0:00:06.724665\n"
     ]
    }
   ],
   "source": [
    "from sklearn.model_selection import cross_validate\n",
    "import datetime\n",
    "\n",
    "custom_cv = [(X_train.index.to_list(), X_test.index.to_list())]\n",
    "\n",
    "begin_time = datetime.datetime.now()\n",
    "\n",
    "cv_result_pipe = cross_validate(pipe, X_2, y_2, scoring='accuracy',\n",
    "                                cv=custom_cv, return_train_score=True)\n",
    "\n",
    "\n",
    "print(f\"Accuracy на трейне: {np.mean(cv_result_pipe['train_score']).round(3)}\")\n",
    "print(f\"Accuracy на тесте: {np.mean(cv_result_pipe['test_score']).round(3)}\")\n",
    "print(f\"Время работы алгоритма: {datetime.datetime.now() - begin_time}\")\n",
    "\n",
    "\n",
    "\n"
   ]
  },
  {
   "cell_type": "markdown",
   "metadata": {
    "pycharm": {
     "name": "#%% md\n"
    }
   },
   "source": [
    "#### Задание 3: Регуляризация"
   ]
  },
  {
   "cell_type": "markdown",
   "metadata": {
    "pycharm": {
     "name": "#%% md\n"
    }
   },
   "source": [
    "Как и в моделях регрессии, решая задачу классификации, можем штрафовать минимизируемый функционал за большие веса, добавив к нему L1 или L2 норму весов (все как раньше!).\n",
    "\n",
    "Для этого в изначальном классе `LogisticRegression` изменить параметр `penalty` на l1 или l2 соответственно. Выберите второй вариант! Можно воспользоваться методом `set_params` и применить его к `pipe`."
   ]
  },
  {
   "cell_type": "code",
   "execution_count": 24,
   "metadata": {
    "pycharm": {
     "name": "#%%\n"
    }
   },
   "outputs": [],
   "source": [
    "pipe = Pipeline([('scaler', StandardScaler()), (\"LR\", LogisticRegression(penalty='l2'))])\n",
    "\n",
    "\n"
   ]
  },
  {
   "cell_type": "markdown",
   "metadata": {
    "pycharm": {
     "name": "#%% md\n"
    }
   },
   "source": [
    "Теперь наша модель будет строить логистическую регрессию с L2 регуляризатором! Помним, что у регуляризируемых моделей есть гиперпараметр, контролирующий силу регуляризации, который выбирается ДО запуска метода fit, то есть заранее, когда модель еще не обучена. \n",
    "\n",
    "Конечно же, выбор этого параметра влияет итоговые результаты. Хочется поперебирать различные параметры регуляризации и найти такой, при котором качество на тесте окажется лучшим! \n",
    "\n",
    "Сгенерируем массив гиперпараметра, которые планируем перебрать:"
   ]
  },
  {
   "cell_type": "code",
   "execution_count": 25,
   "metadata": {
    "pycharm": {
     "name": "#%%\n"
    }
   },
   "outputs": [
    {
     "data": {
      "text/plain": "array([1.000e-02, 1.020e+00, 2.030e+00, 3.040e+00, 4.050e+00, 5.060e+00,\n       6.070e+00, 7.080e+00, 8.090e+00, 9.100e+00, 1.011e+01, 1.112e+01,\n       1.213e+01, 1.314e+01, 1.415e+01, 1.516e+01, 1.617e+01, 1.718e+01,\n       1.819e+01, 1.920e+01, 2.021e+01, 2.122e+01, 2.223e+01, 2.324e+01,\n       2.425e+01, 2.526e+01, 2.627e+01, 2.728e+01, 2.829e+01, 2.930e+01,\n       3.031e+01, 3.132e+01, 3.233e+01, 3.334e+01, 3.435e+01, 3.536e+01,\n       3.637e+01, 3.738e+01, 3.839e+01, 3.940e+01, 4.041e+01, 4.142e+01,\n       4.243e+01, 4.344e+01, 4.445e+01, 4.546e+01, 4.647e+01, 4.748e+01,\n       4.849e+01, 4.950e+01, 5.051e+01, 5.152e+01, 5.253e+01, 5.354e+01,\n       5.455e+01, 5.556e+01, 5.657e+01, 5.758e+01, 5.859e+01, 5.960e+01,\n       6.061e+01, 6.162e+01, 6.263e+01, 6.364e+01, 6.465e+01, 6.566e+01,\n       6.667e+01, 6.768e+01, 6.869e+01, 6.970e+01, 7.071e+01, 7.172e+01,\n       7.273e+01, 7.374e+01, 7.475e+01, 7.576e+01, 7.677e+01, 7.778e+01,\n       7.879e+01, 7.980e+01, 8.081e+01, 8.182e+01, 8.283e+01, 8.384e+01,\n       8.485e+01, 8.586e+01, 8.687e+01, 8.788e+01, 8.889e+01, 8.990e+01,\n       9.091e+01, 9.192e+01, 9.293e+01, 9.394e+01, 9.495e+01, 9.596e+01,\n       9.697e+01, 9.798e+01, 9.899e+01, 1.000e+02])"
     },
     "execution_count": 25,
     "metadata": {},
     "output_type": "execute_result"
    }
   ],
   "source": [
    "alphas = np.linspace(0.01, 100, 100)\n",
    "alphas"
   ]
  },
  {
   "cell_type": "markdown",
   "metadata": {
    "pycharm": {
     "name": "#%% md\n"
    }
   },
   "source": [
    "Чтобы отобрать среди данного массива гиперпараметров лучший, воспользуйтесь конструкцией `GridSearchCV` из `sklearn`"
   ]
  },
  {
   "cell_type": "code",
   "execution_count": 26,
   "metadata": {
    "pycharm": {
     "name": "#%%\n"
    }
   },
   "outputs": [
    {
     "name": "stdout",
     "output_type": "stream",
     "text": [
      "Best parameter (CV score=0.63828):\n",
      "{'LR__C': 3.04}\n"
     ]
    }
   ],
   "source": [
    "from sklearn.model_selection import GridSearchCV\n",
    "\n",
    "param_grid ={\n",
    "    'LR__C': alphas\n",
    "}\n",
    "### Передадим в GridSearchCV\n",
    "\n",
    "search = GridSearchCV(pipe, param_grid,\n",
    "                      cv=custom_cv, scoring='accuracy')\n",
    "\n",
    "search.fit(X_2, y_2)\n",
    "\n",
    "print(f\"Best parameter (CV score={search.best_score_:.5f}):\")\n",
    "print(search.best_params_)\n",
    "### Your code is here\n"
   ]
  },
  {
   "cell_type": "markdown",
   "metadata": {
    "pycharm": {
     "name": "#%% md\n"
    }
   },
   "source": [
    "#### Задание 4: Бонус\n",
    "\n",
    "Как вы знаете, подбор признаков является одной из самых важных частей машинного обучения. Сейчас вы попробуете на основе имеющихся признаков сгенерировать новые. В качестве новых признаков будем использовать мономы 2 степени. Можно использовать регуляризацию различного рода, выбор энкодера тоже за вами. Ваша задача - добиться качества `0.65` на тестовой выборке"
   ]
  },
  {
   "cell_type": "code",
   "execution_count": null,
   "metadata": {
    "pycharm": {
     "name": "#%%\n"
    }
   },
   "outputs": [],
   "source": [
    "### Your code is here\n",
    "\n"
   ]
  }
 ],
 "metadata": {
  "kernelspec": {
   "display_name": "Python 3",
   "language": "python",
   "name": "python3"
  },
  "language_info": {
   "codemirror_mode": {
    "name": "ipython",
    "version": 3
   },
   "file_extension": ".py",
   "mimetype": "text/x-python",
   "name": "python",
   "nbconvert_exporter": "python",
   "pygments_lexer": "ipython3",
   "version": "3.7.3"
  }
 },
 "nbformat": 4,
 "nbformat_minor": 5
}