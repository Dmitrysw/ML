{
 "cells": [
  {
   "cell_type": "code",
   "execution_count": 7,
   "metadata": {},
   "outputs": [],
   "source": [
    "def bin_search(arr, target):\n",
    "    left = 0\n",
    "    right = len(arr) - 1\n",
    "    while left <= right:\n",
    "        mid = (left + right) // 2\n",
    "        if arr[mid] == target:\n",
    "            return mid\n",
    "        elif arr[mid] > target:\n",
    "            left = mid + 1\n",
    "        else:\n",
    "            right = mid - 1\n",
    "    return -1"
   ]
  },
  {
   "cell_type": "code",
   "execution_count": 8,
   "metadata": {},
   "outputs": [],
   "source": [
    "def bin_search(arr, target, l, r):\n",
    "    if not arr:\n",
    "        return False\n",
    "    mid = l + (r - l) // 2\n",
    "    if arr[mid] == target:\n",
    "        return True\n",
    "    elif arr[mid] > target:\n",
    "        return bin_search(arr, target, l, mid)\n",
    "    else:\n",
    "        return bin_search(arr, target, mid+1, r)\n"
   ]
  },
  {
   "cell_type": "code",
   "execution_count": 9,
   "metadata": {},
   "outputs": [
    {
     "data": {
      "text/plain": [
       "True"
      ]
     },
     "execution_count": 9,
     "metadata": {},
     "output_type": "execute_result"
    }
   ],
   "source": [
    "arr = [1, 2, 5, 9, 10, 25, 100, 1000]\n",
    "bin_search(arr, 1, 0, len(arr)-1)"
   ]
  },
  {
   "attachments": {},
   "cell_type": "markdown",
   "metadata": {},
   "source": [
    "Динамическое программирование"
   ]
  },
  {
   "attachments": {},
   "cell_type": "markdown",
   "metadata": {},
   "source": [
    "Quicksort"
   ]
  },
  {
   "cell_type": "code",
   "execution_count": 10,
   "metadata": {},
   "outputs": [],
   "source": [
    "def quick_sort(array, low=0, high=-1):\n",
    "    if high == -1:\n",
    "        high = len(array) - 1\n",
    "    if len(arr) <= 1:\n",
    "        return arr\n",
    "    P_idx = partition(arr, low, high)\n",
    "    quick_sort(arr, low, p-1)\n",
    "    quick_sort(arr, p+1, high) \n",
    "\n",
    "\n",
    "def partition (arr, low, high):\n",
    "    pivot = arr[high]\n",
    "    i = low - 1\n",
    "    for j in range(low, high):\n",
    "        if arr[j] < pivot:\n",
    "            i+=1\n",
    "            arr[i], arr[j] = arr[j], arr[i] #меняем местами две переменные\n",
    "    arr[high], arr[i+1] = arr[i+1], arr[high]\n",
    "    return i+1\n"
   ]
  },
  {
   "cell_type": "code",
   "execution_count": 11,
   "metadata": {},
   "outputs": [],
   "source": [
    "import random\n",
    "\n",
    "\n",
    "def kth_largest(nums, k):\n",
    "    if not nums:\n",
    "        return\n",
    "    pivot = random.choice(nums)\n",
    "    left = [x for x in nums if x > pivot]\n",
    "    mid = [x for x in nums if x == pivot]\n",
    "    right = [x for x in nums if x < pivot]\n",
    "\n",
    "    L, M = len(left), len(mid)\n",
    "\n",
    "    if k <= L:\n",
    "        return kth_largest(left, k)\n",
    "    elif k > L + M:\n",
    "        return kth_largest(right, k - L - M)\n",
    "    else:\n",
    "        return mid[0]\n"
   ]
  },
  {
   "cell_type": "code",
   "execution_count": 12,
   "metadata": {},
   "outputs": [],
   "source": [
    "nums = [1, 5, 7, 1000, 1, 2]"
   ]
  },
  {
   "cell_type": "code",
   "execution_count": 13,
   "metadata": {},
   "outputs": [
    {
     "data": {
      "text/plain": [
       "5"
      ]
     },
     "execution_count": 13,
     "metadata": {},
     "output_type": "execute_result"
    }
   ],
   "source": [
    "kth_largest(nums, 3)"
   ]
  },
  {
   "cell_type": "code",
   "execution_count": null,
   "metadata": {},
   "outputs": [],
   "source": []
  }
 ],
 "metadata": {
  "kernelspec": {
   "display_name": "Python 3 (ipykernel)",
   "language": "python",
   "name": "python3"
  },
  "language_info": {
   "codemirror_mode": {
    "name": "ipython",
    "version": 3
   },
   "file_extension": ".py",
   "mimetype": "text/x-python",
   "name": "python",
   "nbconvert_exporter": "python",
   "pygments_lexer": "ipython3",
   "version": "3.10.6"
  },
  "orig_nbformat": 4
 },
 "nbformat": 4,
 "nbformat_minor": 2
}
