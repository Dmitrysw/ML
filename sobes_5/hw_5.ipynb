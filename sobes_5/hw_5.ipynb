{
 "cells": [
  {
   "cell_type": "code",
   "execution_count": null,
   "metadata": {},
   "outputs": [],
   "source": [
    "def merge(a, b):\n",
    "    c = []\n",
    "    i = 0\n",
    "    j = 0\n",
    "    while i < len(a) and j < len(b):\n",
    "        if a[i] < b[j]:\n",
    "            c.append(a[i])\n",
    "            i += 1\n",
    "        else:\n",
    "            c.append(b[j])\n",
    "            j += 1\n",
    "    while i < len(a):\n",
    "        c.append(a[i])\n",
    "        i += 1\n",
    "    while j < len(b):\n",
    "        c.append(b[j])\n",
    "        j += 1\n",
    "    return c"
   ]
  },
  {
   "cell_type": "code",
   "execution_count": null,
   "metadata": {},
   "outputs": [],
   "source": [
    "def merge_sort(arr):\n",
    "    if len(arr) <= 1:\n",
    "        return arr\n",
    "    mid = len(arr) // 2\n",
    "    left = merge_sort(arr[:mid])\n",
    "    right = merge_sort(arr[mid:])\n",
    "    return merge(left, right)\n"
   ]
  },
  {
   "cell_type": "code",
   "execution_count": 55,
   "metadata": {},
   "outputs": [],
   "source": [
    "def solve(grid, i, j):\n",
    "    if grid_min_path[i][j] != 0:\n",
    "        return grid_min_path[i][j]\n",
    "    if grid_min_path[i][j] == 0:\n",
    "        grid_min_path[i][j] = min(solve(grid, i - 1, j),solve(grid, i, j - 1)) +  grid[i][j]\n",
    "        return grid_min_path[i][j]\n",
    "def min_path(grid):\n",
    "    grid_min_path = [[ 0 for i in range (len(grid[0]))] for j in range (len(grid))]\n",
    "    for i in range (len(grid[0])):\n",
    "        grid_min_path[i][0] = grid[i][0]\n",
    "    for j in range (len(grid)):\n",
    "        grid_min_path[0][j] = grid[0][j]\n",
    "    return solve(grid, len(grid[0]) - 1, len(grid) - 1)"
   ]
  },
  {
   "cell_type": "code",
   "execution_count": 56,
   "metadata": {},
   "outputs": [],
   "source": [
    "grid = [[1, 3, 1], [1, 5, 1], [4, 2, 1]]"
   ]
  },
  {
   "cell_type": "code",
   "execution_count": 57,
   "metadata": {},
   "outputs": [
    {
     "ename": "IndexError",
     "evalue": "list index out of range",
     "output_type": "error",
     "traceback": [
      "\u001b[1;31m---------------------------------------------------------------------------\u001b[0m",
      "\u001b[1;31mIndexError\u001b[0m                                Traceback (most recent call last)",
      "\u001b[1;32me:\\ML\\sobes_5\\hw_5.ipynb Cell 5\u001b[0m in \u001b[0;36m1\n\u001b[1;32m----> <a href='vscode-notebook-cell:/e%3A/ML/sobes_5/hw_5.ipynb#W6sZmlsZQ%3D%3D?line=0'>1</a>\u001b[0m min_path(grid)\n",
      "\u001b[1;32me:\\ML\\sobes_5\\hw_5.ipynb Cell 5\u001b[0m in \u001b[0;36m1\n\u001b[0;32m     <a href='vscode-notebook-cell:/e%3A/ML/sobes_5/hw_5.ipynb#W6sZmlsZQ%3D%3D?line=10'>11</a>\u001b[0m \u001b[39mfor\u001b[39;00m j \u001b[39min\u001b[39;00m \u001b[39mrange\u001b[39m (\u001b[39mlen\u001b[39m(grid)):\n\u001b[0;32m     <a href='vscode-notebook-cell:/e%3A/ML/sobes_5/hw_5.ipynb#W6sZmlsZQ%3D%3D?line=11'>12</a>\u001b[0m     grid_min_path[\u001b[39m0\u001b[39m][j] \u001b[39m=\u001b[39m grid[\u001b[39m0\u001b[39m][j]\n\u001b[1;32m---> <a href='vscode-notebook-cell:/e%3A/ML/sobes_5/hw_5.ipynb#W6sZmlsZQ%3D%3D?line=12'>13</a>\u001b[0m \u001b[39mreturn\u001b[39;00m solve(grid, \u001b[39mlen\u001b[39;49m(grid[\u001b[39m0\u001b[39;49m]) \u001b[39m-\u001b[39;49m \u001b[39m1\u001b[39;49m, \u001b[39mlen\u001b[39;49m(grid) \u001b[39m-\u001b[39;49m \u001b[39m1\u001b[39;49m)\n",
      "\u001b[1;32me:\\ML\\sobes_5\\hw_5.ipynb Cell 5\u001b[0m in \u001b[0;36m5\n\u001b[0;32m      <a href='vscode-notebook-cell:/e%3A/ML/sobes_5/hw_5.ipynb#W6sZmlsZQ%3D%3D?line=2'>3</a>\u001b[0m     \u001b[39mreturn\u001b[39;00m grid_min_path[i][j]\n\u001b[0;32m      <a href='vscode-notebook-cell:/e%3A/ML/sobes_5/hw_5.ipynb#W6sZmlsZQ%3D%3D?line=3'>4</a>\u001b[0m \u001b[39mif\u001b[39;00m grid_min_path[i][j] \u001b[39m==\u001b[39m \u001b[39m0\u001b[39m:\n\u001b[1;32m----> <a href='vscode-notebook-cell:/e%3A/ML/sobes_5/hw_5.ipynb#W6sZmlsZQ%3D%3D?line=4'>5</a>\u001b[0m     grid_min_path[i][j] \u001b[39m=\u001b[39m \u001b[39mmin\u001b[39m(solve(grid, i \u001b[39m-\u001b[39;49m \u001b[39m1\u001b[39;49m, j),solve(grid, i, j \u001b[39m-\u001b[39m \u001b[39m1\u001b[39m)) \u001b[39m+\u001b[39m  grid[i][j]\n\u001b[0;32m      <a href='vscode-notebook-cell:/e%3A/ML/sobes_5/hw_5.ipynb#W6sZmlsZQ%3D%3D?line=5'>6</a>\u001b[0m     \u001b[39mreturn\u001b[39;00m grid_min_path[i][j]\n",
      "\u001b[1;32me:\\ML\\sobes_5\\hw_5.ipynb Cell 5\u001b[0m in \u001b[0;36m5\n\u001b[0;32m      <a href='vscode-notebook-cell:/e%3A/ML/sobes_5/hw_5.ipynb#W6sZmlsZQ%3D%3D?line=2'>3</a>\u001b[0m     \u001b[39mreturn\u001b[39;00m grid_min_path[i][j]\n\u001b[0;32m      <a href='vscode-notebook-cell:/e%3A/ML/sobes_5/hw_5.ipynb#W6sZmlsZQ%3D%3D?line=3'>4</a>\u001b[0m \u001b[39mif\u001b[39;00m grid_min_path[i][j] \u001b[39m==\u001b[39m \u001b[39m0\u001b[39m:\n\u001b[1;32m----> <a href='vscode-notebook-cell:/e%3A/ML/sobes_5/hw_5.ipynb#W6sZmlsZQ%3D%3D?line=4'>5</a>\u001b[0m     grid_min_path[i][j] \u001b[39m=\u001b[39m \u001b[39mmin\u001b[39m(solve(grid, i \u001b[39m-\u001b[39;49m \u001b[39m1\u001b[39;49m, j),solve(grid, i, j \u001b[39m-\u001b[39m \u001b[39m1\u001b[39m)) \u001b[39m+\u001b[39m  grid[i][j]\n\u001b[0;32m      <a href='vscode-notebook-cell:/e%3A/ML/sobes_5/hw_5.ipynb#W6sZmlsZQ%3D%3D?line=5'>6</a>\u001b[0m     \u001b[39mreturn\u001b[39;00m grid_min_path[i][j]\n",
      "    \u001b[1;31m[... skipping similar frames: solve at line 5 (3 times)]\u001b[0m\n",
      "\u001b[1;32me:\\ML\\sobes_5\\hw_5.ipynb Cell 5\u001b[0m in \u001b[0;36m5\n\u001b[0;32m      <a href='vscode-notebook-cell:/e%3A/ML/sobes_5/hw_5.ipynb#W6sZmlsZQ%3D%3D?line=2'>3</a>\u001b[0m     \u001b[39mreturn\u001b[39;00m grid_min_path[i][j]\n\u001b[0;32m      <a href='vscode-notebook-cell:/e%3A/ML/sobes_5/hw_5.ipynb#W6sZmlsZQ%3D%3D?line=3'>4</a>\u001b[0m \u001b[39mif\u001b[39;00m grid_min_path[i][j] \u001b[39m==\u001b[39m \u001b[39m0\u001b[39m:\n\u001b[1;32m----> <a href='vscode-notebook-cell:/e%3A/ML/sobes_5/hw_5.ipynb#W6sZmlsZQ%3D%3D?line=4'>5</a>\u001b[0m     grid_min_path[i][j] \u001b[39m=\u001b[39m \u001b[39mmin\u001b[39m(solve(grid, i \u001b[39m-\u001b[39;49m \u001b[39m1\u001b[39;49m, j),solve(grid, i, j \u001b[39m-\u001b[39m \u001b[39m1\u001b[39m)) \u001b[39m+\u001b[39m  grid[i][j]\n\u001b[0;32m      <a href='vscode-notebook-cell:/e%3A/ML/sobes_5/hw_5.ipynb#W6sZmlsZQ%3D%3D?line=5'>6</a>\u001b[0m     \u001b[39mreturn\u001b[39;00m grid_min_path[i][j]\n",
      "\u001b[1;32me:\\ML\\sobes_5\\hw_5.ipynb Cell 5\u001b[0m in \u001b[0;36m2\n\u001b[0;32m      <a href='vscode-notebook-cell:/e%3A/ML/sobes_5/hw_5.ipynb#W6sZmlsZQ%3D%3D?line=0'>1</a>\u001b[0m \u001b[39mdef\u001b[39;00m \u001b[39msolve\u001b[39m(grid, i, j):\n\u001b[1;32m----> <a href='vscode-notebook-cell:/e%3A/ML/sobes_5/hw_5.ipynb#W6sZmlsZQ%3D%3D?line=1'>2</a>\u001b[0m     \u001b[39mif\u001b[39;00m grid_min_path[i][j] \u001b[39m!=\u001b[39m \u001b[39m0\u001b[39m:\n\u001b[0;32m      <a href='vscode-notebook-cell:/e%3A/ML/sobes_5/hw_5.ipynb#W6sZmlsZQ%3D%3D?line=2'>3</a>\u001b[0m         \u001b[39mreturn\u001b[39;00m grid_min_path[i][j]\n\u001b[0;32m      <a href='vscode-notebook-cell:/e%3A/ML/sobes_5/hw_5.ipynb#W6sZmlsZQ%3D%3D?line=3'>4</a>\u001b[0m     \u001b[39mif\u001b[39;00m grid_min_path[i][j] \u001b[39m==\u001b[39m \u001b[39m0\u001b[39m:\n",
      "\u001b[1;31mIndexError\u001b[0m: list index out of range"
     ]
    }
   ],
   "source": [
    "min_path(grid)"
   ]
  },
  {
   "cell_type": "code",
   "execution_count": 34,
   "metadata": {},
   "outputs": [],
   "source": [
    "def solve(arr, i, j):                                   #внутренняя функция-помощник\n",
    "    if arr[i][j] != 0:\n",
    "        return arr[i][j]  #мемоизация\n",
    "    if arr[i][j] == 0:\n",
    "        arr[i][j] = solve(arr, i-1,j) + solve(arr, i, j-1)\n",
    "        return arr[i][j]\n",
    "def run(N):\n",
    "    arr = [[ 0 for i in range (N)] for j in range (N)] #инициализируем двумерный массив\n",
    "    for i in range (N):                                 #инициализируем граничащие условия\n",
    "        arr[0][i]=1\n",
    "        arr[i][0]=1 \n",
    "    return solve(arr,N-1 ,N-1)"
   ]
  },
  {
   "cell_type": "code",
   "execution_count": 35,
   "metadata": {},
   "outputs": [
    {
     "data": {
      "text/plain": [
       "70"
      ]
     },
     "execution_count": 35,
     "metadata": {},
     "output_type": "execute_result"
    }
   ],
   "source": [
    "run(5)"
   ]
  },
  {
   "cell_type": "code",
   "execution_count": null,
   "metadata": {},
   "outputs": [],
   "source": []
  }
 ],
 "metadata": {
  "kernelspec": {
   "display_name": "Python 3 (ipykernel)",
   "language": "python",
   "name": "python3"
  },
  "language_info": {
   "codemirror_mode": {
    "name": "ipython",
    "version": 3
   },
   "file_extension": ".py",
   "mimetype": "text/x-python",
   "name": "python",
   "nbconvert_exporter": "python",
   "pygments_lexer": "ipython3",
   "version": "3.10.6"
  },
  "orig_nbformat": 4
 },
 "nbformat": 4,
 "nbformat_minor": 2
}
