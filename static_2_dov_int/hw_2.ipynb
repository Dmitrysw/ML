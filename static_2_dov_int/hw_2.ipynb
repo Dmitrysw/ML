{
 "cells": [
  {
   "cell_type": "code",
   "execution_count": 1,
   "metadata": {
    "collapsed": true,
    "pycharm": {
     "name": "#%%\n"
    }
   },
   "outputs": [],
   "source": [
    "#STEP 5\n",
    "from scipy.stats import binom\n",
    "import numpy as np"
   ]
  },
  {
   "cell_type": "code",
   "execution_count": 2,
   "outputs": [
    {
     "data": {
      "text/plain": "1.7183404003299255e-52"
     },
     "execution_count": 2,
     "metadata": {},
     "output_type": "execute_result"
    }
   ],
   "source": [
    "binom.cdf(k= 100 , n= 1000 , p= 0.3 )"
   ],
   "metadata": {
    "collapsed": false,
    "pycharm": {
     "name": "#%%\n"
    }
   }
  },
  {
   "cell_type": "code",
   "execution_count": 3,
   "outputs": [],
   "source": [
    "#step 11\n",
    "from scipy.stats import norm"
   ],
   "metadata": {
    "collapsed": false,
    "pycharm": {
     "name": "#%%\n"
    }
   }
  },
  {
   "cell_type": "code",
   "execution_count": 4,
   "outputs": [
    {
     "data": {
      "text/plain": "0.9973002039367398"
     },
     "execution_count": 4,
     "metadata": {},
     "output_type": "execute_result"
    }
   ],
   "source": [
    "1 - (1 - norm.cdf(3)) * 2 #доверительный интеварл для 3 сигм"
   ],
   "metadata": {
    "collapsed": false,
    "pycharm": {
     "name": "#%%\n"
    }
   }
  },
  {
   "cell_type": "code",
   "execution_count": 5,
   "outputs": [
    {
     "data": {
      "text/plain": "175.05547718708638"
     },
     "execution_count": 5,
     "metadata": {},
     "output_type": "execute_result"
    }
   ],
   "source": [
    "#step 13\n",
    "import scipy.stats as stats\n",
    "stats.t.ppf(q=0.975, df=24, loc=170, scale=12 / 4.899)"
   ],
   "metadata": {
    "collapsed": false,
    "pycharm": {
     "name": "#%%\n"
    }
   }
  },
  {
   "cell_type": "code",
   "execution_count": 6,
   "outputs": [],
   "source": [
    "from math import sqrt"
   ],
   "metadata": {
    "collapsed": false,
    "pycharm": {
     "name": "#%%\n"
    }
   }
  },
  {
   "cell_type": "code",
   "execution_count": 7,
   "outputs": [],
   "source": [
    "#step 14\n",
    "samples = np.random.poisson(lam=50, size=1000)\n",
    "mean_poisson = np.mean(samples)\n",
    "std_poisson = np.std(samples)"
   ],
   "metadata": {
    "collapsed": false,
    "pycharm": {
     "name": "#%%\n"
    }
   }
  },
  {
   "cell_type": "code",
   "execution_count": 8,
   "outputs": [
    {
     "data": {
      "text/plain": "0.8729740195208535"
     },
     "execution_count": 8,
     "metadata": {},
     "output_type": "execute_result"
    }
   ],
   "source": [
    "q1 = mean_poisson - 1.96 * std_poisson / sqrt(1000)\n",
    "q2 = mean_poisson + 1.96 * std_poisson / sqrt(1000)\n",
    "q2 - q1"
   ],
   "metadata": {
    "collapsed": false,
    "pycharm": {
     "name": "#%%\n"
    }
   }
  },
  {
   "cell_type": "code",
   "execution_count": 9,
   "outputs": [
    {
     "data": {
      "text/plain": "0.8740168943867843"
     },
     "execution_count": 9,
     "metadata": {},
     "output_type": "execute_result"
    }
   ],
   "source": [
    "q1 = stats.t.ppf(q=0.975, df=999, loc=mean_poisson, scale=std_poisson/sqrt(1000))\n",
    "q2 = stats.t.ppf(q=0.025, df=999, loc=mean_poisson, scale=std_poisson/sqrt(1000))\n",
    "q1 - q2"
   ],
   "metadata": {
    "collapsed": false,
    "pycharm": {
     "name": "#%%\n"
    }
   }
  },
  {
   "cell_type": "code",
   "execution_count": 10,
   "outputs": [
    {
     "data": {
      "text/plain": "ConfidenceInterval(low=6.7243098055983195, high=7.351185771162843)"
     },
     "execution_count": 10,
     "metadata": {},
     "output_type": "execute_result"
    }
   ],
   "source": [
    "#step 15\n",
    "from scipy.stats import bootstrap\n",
    "bootstrap(\n",
    "    data=(samples,),\n",
    "    statistic=np.std,\n",
    "    confidence_level=0.95,\n",
    "    n_resamples=1000,\n",
    "    method='percentile',\n",
    ").confidence_interval"
   ],
   "metadata": {
    "collapsed": false,
    "pycharm": {
     "name": "#%%\n"
    }
   }
  },
  {
   "cell_type": "code",
   "execution_count": 40,
   "outputs": [],
   "source": [
    "#step 16\n",
    "from sklearn.datasets import fetch_california_housing\n",
    "from sklearn.linear_model import Ridge\n",
    "from sklearn.metrics import mean_squared_error\n",
    "X, y = fetch_california_housing(return_X_y=True, as_frame=True)"
   ],
   "metadata": {
    "collapsed": false,
    "pycharm": {
     "name": "#%%\n"
    }
   }
  },
  {
   "cell_type": "code",
   "execution_count": 48,
   "outputs": [
    {
     "name": "stdout",
     "output_type": "stream",
     "text": [
      "[0.50693697 1.22836681]\n"
     ]
    }
   ],
   "source": [
    "model = Ridge()\n",
    "idx = X.index.tolist()\n",
    "MSE_list = []\n",
    "for _ in range(1000):\n",
    "    idx_train = np.random.choice(idx, size=X.shape[0])\n",
    "    X_train = X.iloc[idx_train]\n",
    "    Y_train = y.iloc[idx_train]\n",
    "    idx_test = np.setdiff1d(idx, idx_train)\n",
    "    X_test = X.iloc[idx_test]\n",
    "    y_test = y.iloc[idx_test]\n",
    "    model.fit(X_train, Y_train)\n",
    "    MSE = mean_squared_error(y_true=y_test, y_pred=model.predict(X_test))\n",
    "    MSE_list.append(MSE)\n",
    "print(np.quantile(MSE_list, [0.025, 0.975]))\n"
   ],
   "metadata": {
    "collapsed": false,
    "pycharm": {
     "name": "#%%\n"
    }
   }
  },
  {
   "cell_type": "code",
   "execution_count": 52,
   "outputs": [
    {
     "data": {
      "text/plain": "(2.73165599295889, 3.2055307742355046)"
     },
     "execution_count": 52,
     "metadata": {},
     "output_type": "execute_result"
    }
   ],
   "source": [
    "samples = np.random.normal(loc=3, scale=4, size=1000)\n",
    "mean_norm = np.mean(samples)\n",
    "std_norm = np.std(samples)\n",
    "q1 = mean_norm - 1.96 * std_norm / sqrt(1000)\n",
    "q2 = mean_norm + 1.96 * std_norm / sqrt(1000)\n",
    "q1, q2"
   ],
   "metadata": {
    "collapsed": false,
    "pycharm": {
     "name": "#%%\n"
    }
   }
  },
  {
   "cell_type": "code",
   "execution_count": 56,
   "outputs": [
    {
     "name": "stdout",
     "output_type": "stream",
     "text": [
      "0.951\n"
     ]
    }
   ],
   "source": [
    "i = 0\n",
    "for _ in range(1000):\n",
    "    samples = np.random.normal(loc=3, scale=4, size=1000)\n",
    "    mean_norm = np.mean(samples)\n",
    "    std_norm = np.std(samples)\n",
    "    q1 = mean_norm  - 1.96 * std_norm / sqrt(1000)\n",
    "    q2 = mean_norm  + 1.96 * std_norm / sqrt(1000)\n",
    "    if q1 < 3 < q2:\n",
    "        i+=1\n",
    "print (i/1000)\n"
   ],
   "metadata": {
    "collapsed": false,
    "pycharm": {
     "name": "#%%\n"
    }
   }
  },
  {
   "cell_type": "code",
   "execution_count": null,
   "outputs": [],
   "source": [],
   "metadata": {
    "collapsed": false,
    "pycharm": {
     "name": "#%%\n"
    }
   }
  }
 ],
 "metadata": {
  "kernelspec": {
   "display_name": "Python 3",
   "language": "python",
   "name": "python3"
  },
  "language_info": {
   "codemirror_mode": {
    "name": "ipython",
    "version": 2
   },
   "file_extension": ".py",
   "mimetype": "text/x-python",
   "name": "python",
   "nbconvert_exporter": "python",
   "pygments_lexer": "ipython2",
   "version": "2.7.6"
  }
 },
 "nbformat": 4,
 "nbformat_minor": 0
}