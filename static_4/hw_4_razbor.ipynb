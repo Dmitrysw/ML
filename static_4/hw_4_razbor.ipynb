{
 "cells": [
  {
   "cell_type": "code",
   "execution_count": 1,
   "id": "91c1d91a",
   "metadata": {},
   "outputs": [],
   "source": [
    "import numpy as np\n",
    "import pandas as pd\n",
    "import matplotlib.pyplot as plt\n",
    "import seaborn as sns"
   ]
  },
  {
   "cell_type": "markdown",
   "id": "bddb8657",
   "metadata": {},
   "source": [
    "### 1"
   ]
  },
  {
   "cell_type": "markdown",
   "id": "c8ea3c7e",
   "metadata": {},
   "source": [
    "В чём идея проверки гипотез с использованием статистических критериев? \n",
    "\n",
    "Рассматриваем пример сравнения двух выборок. \n",
    "\n",
    "**Решение**\n",
    "\n",
    "Формулируем нулевую гипотезу, в которой нет разницы между группами, и альтернативную гипотезу о различии, пробуем опровергнуть нулевую гипотезу, если вероятность встретить такие выборки для нулевой гипотезы мала.\n",
    "\n",
    "Статистические критерии строятся на том, чтобы опровергнуть равенство при некотором уровне ошибки первого рода. Они не оценивают вероятность того, что выборку различаются."
   ]
  },
  {
   "cell_type": "markdown",
   "id": "7763d0d0",
   "metadata": {},
   "source": [
    "### 2"
   ]
  },
  {
   "cell_type": "markdown",
   "id": "ae447b8b",
   "metadata": {},
   "source": [
    "В чём различие односторонних и двусторонних альтернативных гипотез?\n",
    "\n",
    "**Решение**\n",
    "\n",
    "Двусторонняя, как можно догадаться из названия, проверяем неравенство метрик в обе стороны, а односторонняя только в одну сторону. Важно, что направление мы должны выбрать заранее, а не по результатам измеренных метрик, иначе ломается система тестирования."
   ]
  },
  {
   "cell_type": "markdown",
   "id": "3ebea1db",
   "metadata": {},
   "source": [
    "### 3"
   ]
  },
  {
   "cell_type": "markdown",
   "id": "cbb568e6",
   "metadata": {},
   "source": [
    "Как выбирают статистику? Какими соображениями руководствуются?\n",
    "\n",
    "**Решение**\n",
    "\n",
    "Статистика должна соответствовать нашим данным (иначе как мы будем с помощью неё моделировать), с ней должно быть возможно работать (мы должны суметь оценивать вероятность для нашего значения статистики и считать функции распределения). \n",
    "\n",
    "Сама статистика должна быть такой, чтобы её распределение нам было известно при условии нулевой гипотезы, а чтобы альтернатива не описывалась этим же распределением, так как мы как раз будем проверять на соответствие этому распределению (если бы распределение соответствовало сразу нулевой и альтернативной гипотезе, то мы будто бы будем одновременно отвергать обе гипотезы)."
   ]
  },
  {
   "cell_type": "markdown",
   "id": "aee420de",
   "metadata": {},
   "source": [
    "### 4"
   ]
  },
  {
   "cell_type": "markdown",
   "id": "acbea28d",
   "metadata": {},
   "source": [
    "Что такое p-value?\n",
    "\n",
    "**Решение**\n",
    "\n",
    "p-value нельзя путать с ошибками первого и второго рода. \n",
    "\n",
    "Основные составляющие p-value:\n",
    "- вероятность такого же значения статистики и ещё более экстремального (то есть не только в одной точке)\n",
    "- вычисляем при условии нулевой гипотезы (которую потом отвергаем, если вероятность будет низкой)"
   ]
  },
  {
   "cell_type": "markdown",
   "id": "1a7b46fd",
   "metadata": {},
   "source": [
    "### 5"
   ]
  },
  {
   "cell_type": "markdown",
   "id": "29c3cad5",
   "metadata": {},
   "source": [
    "Ошибкой какого рода мы управляем при проверке гипотезы?\n",
    "\n",
    "**Решение**\n",
    "\n",
    "Фиксируем ошибку первого рода (ложноположительную ошибку), ошибкой второго рода (ложноотрицательные ошибки) управляем через выбор более мощных критериев.\n",
    "\n",
    "Опять же, это основная идея, лежащая в статистических критериях."
   ]
  },
  {
   "cell_type": "markdown",
   "id": "395170f3",
   "metadata": {},
   "source": [
    "### 6"
   ]
  },
  {
   "cell_type": "markdown",
   "id": "8dfb5606",
   "metadata": {},
   "source": [
    "Отметьте верные утверждения о выводах при применении статистических критериев:\n",
    "- p-value показывает вероятность, обратную вероятности альтернативной гипотезы\n",
    "- При помощи посчитанного p-value нельзя оценить вероятность того, что нулевая гипотеза верна\n",
    "- Если p-value получился большим, чем выбранный критический уровень, то можно утверждать, что средние между группами равны\n",
    "- p-value вычисляется в предположении верности нулевой гипотезы\n",
    "\n",
    "**Решение**\n",
    "\n",
    "p-value оценивает вероятность получить такое же или более экстремальное значение статистики при условии нулевой гипотезы, другие интерпретации для него не верны.\n",
    "\n",
    "Статистические критерии могут отвергнуть нулевую гипотезу, но не могут её подтвердить, поэтому нельзя сказать, что p-value оценивает верность нулевой гипотезы.\n",
    "\n",
    "То есть верны 2 и 4 пункты."
   ]
  },
  {
   "cell_type": "markdown",
   "id": "cc3fa172",
   "metadata": {},
   "source": [
    "### 7"
   ]
  },
  {
   "cell_type": "markdown",
   "id": "158e20e4",
   "metadata": {},
   "source": [
    "Почему на практике для непрерывных случайных величин используют t-критерий Стьюдента, а не z-критерий?\n",
    "\n",
    "**Решение**\n",
    "\n",
    "z-критерий предполагает известную дисперсию, а t-критерий Стьюдента позволяет использовать дисперсию, вычисленную по выборке, поэтому является более унивресальным.\n",
    "\n",
    "t-критерий Сьюдента вряд ли можно считать более мощным, так как распределение Сьюдента по сравнению с нормальным имеет более тяжёлые хвосты, а само распределение Сьюдента приходится использовать как табличное в случае разных дисперсий."
   ]
  },
  {
   "cell_type": "markdown",
   "id": "457a79ba",
   "metadata": {},
   "source": [
    "### 8"
   ]
  },
  {
   "cell_type": "markdown",
   "id": "1e91f620",
   "metadata": {},
   "source": [
    "Как можно было бы сформулировать нулевую гипотезу?\n",
    "\n",
    "- Жаворонки зарабатывают больше денег, чем совы\n",
    "- Употребление алкоголя в северном полушарии выше, чем в южном\n",
    "- Наличие высшего образование не влияет на доход людей\n",
    "- Средний рост людей в северном и южном полушарии не различается\n",
    "\n",
    "**Решение**\n",
    "\n",
    "Нулевая гипотеза формулируется как отсутствие эффекта, то есть средние значения между группами совпадают (это могут быть и другие статистики). В предположении равенства и оценивается вероятность встретить такое или более экстремальное развитие.\n",
    "\n",
    "То есть под формулировку нулевой гипотезы подходят 3 и 4 пункты."
   ]
  },
  {
   "cell_type": "markdown",
   "id": "2277856f",
   "metadata": {},
   "source": [
    "### 9"
   ]
  },
  {
   "cell_type": "markdown",
   "id": "e6ece35a",
   "metadata": {},
   "source": [
    "Представим, что у нас был процесс обзвона клиентов с предложением продлить подписку на наше приложение. Вероятность успеха составляла p=0.1 (каждый десятый звонок заканчивался продлением подписки).\n",
    "\n",
    "Мы сделали новый алгоритм подбора клиентов для обзвона. Из 1000 тестовых звонков 113 закончились успешно.\n",
    "\n",
    "Мы хотим проверить, значимо ли это отклонение от бейзлайна в 10%. Посчитайте p-value для нулевой гипотезы о равенстве доли p=0.1, альтернатива двусторонняя. Попробуйте сделать это вручную, без использования готовых библиотек (то есть используем модули про распределения, но не готовый статистический критерий). Учтите, что каждый звонок — распределение Бернулли и всё можно сделать точно и без использования центральной предельной теоремы.\n",
    "\n",
    "Будьте осторожны — если вы будете вспоминать, как мы это делали на уроке, то осторожней с тем, какие квантили вы считаете (левый или правый хвост экстремальных значений). Для удобства можно визуализировать.\n",
    "\n",
    "**Решение**\n",
    "\n",
    "Для начала сделаем так же, как и на уроке: оценим вероятность попасть в критическую область и аналогичную с другой стороны.\n",
    "\n",
    "Определим наше нулевое распределение:"
   ]
  },
  {
   "cell_type": "code",
   "execution_count": 2,
   "id": "9b48cdf9",
   "metadata": {},
   "outputs": [],
   "source": [
    "from scipy.stats import binom\n",
    "\n",
    "N = 1000\n",
    "N_pos = 113\n",
    "F_H0 = binom(n=1000, p=0.1)"
   ]
  },
  {
   "cell_type": "markdown",
   "id": "1b41542f",
   "metadata": {},
   "source": [
    "Посчитаем вероятность (учётом, что 113 > 100 = 0.1 * 100, то есть посчитаем вероятность попасть от 113 до 1000 и от 0 до 87 = 100 - 13):"
   ]
  },
  {
   "cell_type": "code",
   "execution_count": 3,
   "id": "b0acc9a2",
   "metadata": {},
   "outputs": [
    {
     "data": {
      "text/plain": [
       "0.18733716838368708"
      ]
     },
     "execution_count": 3,
     "metadata": {},
     "output_type": "execute_result"
    }
   ],
   "source": [
    "1 - F_H0.cdf(N_pos - 1) + F_H0.cdf(100 - 13)"
   ]
  },
  {
   "cell_type": "markdown",
   "id": "c0b8e048",
   "metadata": {},
   "source": [
    "Сделаем то же самое через реализацию scipy:"
   ]
  },
  {
   "cell_type": "code",
   "execution_count": 4,
   "id": "b2408dd7",
   "metadata": {},
   "outputs": [
    {
     "data": {
      "text/plain": [
       "0.170513842236894"
      ]
     },
     "execution_count": 4,
     "metadata": {},
     "output_type": "execute_result"
    }
   ],
   "source": [
    "from scipy.stats import binom_test\n",
    "\n",
    "binom_test(x=N_pos, n=N, p=0.1, alternative='two-sided')"
   ]
  },
  {
   "cell_type": "markdown",
   "id": "bca0bb5a",
   "metadata": {},
   "source": [
    "Ответы не совпадают, почему же так? \n",
    "\n",
    "Во-первых, они совпадут, если бы мы слева критический уровень считали не от 87, а от 86:"
   ]
  },
  {
   "cell_type": "code",
   "execution_count": 5,
   "id": "05c91a03",
   "metadata": {},
   "outputs": [
    {
     "data": {
      "text/plain": [
       "0.17051384223689406"
      ]
     },
     "execution_count": 5,
     "metadata": {},
     "output_type": "execute_result"
    }
   ],
   "source": [
    "1 - F_H0.cdf(N_pos - 1) + F_H0.cdf(100 - 13 - 1)"
   ]
  },
  {
   "cell_type": "markdown",
   "id": "e7f4e97e",
   "metadata": {},
   "source": [
    "Но откуда берётся 86? Почему не 87?\n",
    "\n",
    "На самом деле нельзя было симметрично отступать от 100 влево на 13, если наше наблюдаемое значение было 113.\n",
    "\n",
    "Это работает в случае, если априорная вероятность равно 0.5 (например, с монеткой), тогда отступать в любую сторону — симметричные ситуации. В нашем же случае, 99 и 101 (соседи 100) — разные ситуации, их вероятности различны:"
   ]
  },
  {
   "cell_type": "code",
   "execution_count": 6,
   "id": "e453cacd",
   "metadata": {},
   "outputs": [
    {
     "data": {
      "text/plain": [
       "(0.041970157352914934, 0.041600783030777085)"
      ]
     },
     "execution_count": 6,
     "metadata": {},
     "output_type": "execute_result"
    }
   ],
   "source": [
    "F_H0.pmf(99), F_H0.pmf(101)"
   ]
  },
  {
   "cell_type": "markdown",
   "id": "478fe834",
   "metadata": {},
   "source": [
    "То же самое происходит с 87 и 113:"
   ]
  },
  {
   "cell_type": "code",
   "execution_count": 7,
   "id": "1965e5b4",
   "metadata": {},
   "outputs": [
    {
     "data": {
      "text/plain": [
       "(0.016823326146792893, 0.016109242401325042)"
      ]
     },
     "execution_count": 7,
     "metadata": {},
     "output_type": "execute_result"
    }
   ],
   "source": [
    "F_H0.pmf(87), F_H0.pmf(113)"
   ]
  },
  {
   "cell_type": "markdown",
   "id": "5a48d923",
   "metadata": {},
   "source": [
    "То есть 87 более вероятное значение, чем 113. Поэтому, когда мы считаем вероятность такого же или более критичного значения статистики, мы не должны брать 87, ведь это более вероятная ситуация. А вот 86 уже менее вероятная, так что её надо учитывать.\n",
    "\n",
    "Собственно так и [сделано в реализации scipy](https://github.com/scipy/scipy/blob/v1.9.0/scipy/stats/_morestats.py#L2648-L2741) — вычисляются все вероятности и ищутся такие значения, вероятность которых не превосходит наблюдаемую сутуацию (113 в нашем случае).\n",
    "\n",
    "Способ с переходом к симметричным значениям относительно центрального, как сделали мы, не совсем корректен, хотя и даёт часто такой же результат и вывод."
   ]
  },
  {
   "cell_type": "markdown",
   "id": "6c467452",
   "metadata": {},
   "source": [
    "### 10"
   ]
  },
  {
   "cell_type": "markdown",
   "id": "d2e0beca",
   "metadata": {},
   "source": [
    "Теперь попробуем применить вручную t-критерий Стьюдента.\n",
    "\n",
    "Представим, что мы проверяем, изменилась ли средняя температура в нашем городе. Мы провели 100 замеров в разное время суток и разных местах, получили среднее значение, равное 18.1 градусам, среднеквадратичное отклонение, оценённое по выборке, 8.2 градуса. Хотим проверить, изменилась ли средняя температура, если ранее она составляла 16.5 градусов.\n",
    "\n",
    "Посчитайте p-value для t-критерия Стьдента, альтернатива двусторонняя."
   ]
  },
  {
   "cell_type": "code",
   "execution_count": 8,
   "id": "1e0a0c43",
   "metadata": {},
   "outputs": [],
   "source": [
    "from scipy.stats import t\n",
    "\n",
    "mu0 = 16.5\n",
    "N = 100\n",
    "\n",
    "mu = 18.1\n",
    "std = 8.2\n"
   ]
  },
  {
   "cell_type": "markdown",
   "id": "5ff5ad50",
   "metadata": {},
   "source": [
    "Посчитаем t-статистику:"
   ]
  },
  {
   "cell_type": "code",
   "execution_count": 9,
   "id": "a427f8d6",
   "metadata": {},
   "outputs": [],
   "source": [
    "t_n = (mu - mu0) / (std / np.sqrt(N))"
   ]
  },
  {
   "cell_type": "markdown",
   "id": "3ee173b7",
   "metadata": {},
   "source": [
    "Посчитаем p-value как вероятность получить такое и более экстремальное значение статистики. Так как статистика лежит справа от центра (нуля, для этого мы берём модуль), то это вычисляется как 1 минус функция распределения в этой точке.\n",
    " \n",
    "Альтернатива двусторонняя, поэтому не забываем умножить на 2, так как возможна симметричная ситуация."
   ]
  },
  {
   "cell_type": "code",
   "execution_count": 10,
   "id": "ac946a45",
   "metadata": {},
   "outputs": [
    {
     "data": {
      "text/plain": [
       "0.05385741608695005"
      ]
     },
     "execution_count": 10,
     "metadata": {},
     "output_type": "execute_result"
    }
   ],
   "source": [
    "2 * (1 - t(N-1).cdf(np.abs(t_n)))"
   ]
  },
  {
   "cell_type": "markdown",
   "id": "c77fab47",
   "metadata": {},
   "source": [
    "### 11"
   ]
  },
  {
   "cell_type": "markdown",
   "id": "fb3dcc79",
   "metadata": {},
   "source": [
    "Вернёмся к датасету (fetch_california_housing) со средними ценами на дома, с которым мы работали на прошлых уроках.\n",
    "\n",
    "Давайте оценим, отличаются ли средние доходы в тех районах, где дома моложе 30 лет и старше 30 лет. Мы уже изучали способы анализа взаимосвязи через коэффициенты корреляции, а теперь попробуем воспользоваться механизмом статистических критериев и проверить, совпадают ли средние.\n",
    "\n",
    "Какой тест здесь наиболее корректно применять?\n",
    "\n",
    "1. Величина среднего дохода вещественная, поэтому z-критерий для долей сразу отпадает.\n",
    "2. У нас есть выборка и нет сведений о среднеквадратичном отклонении, поэтому z-критерии мы использовать не можем, остаются t-критерии Стьюдента.\n",
    "3. У нас две выборки с независимыми друг от друга районами (нет соответствия между районами), поэтому тест нужен для независимых выборок."
   ]
  },
  {
   "cell_type": "markdown",
   "id": "d9619bdb",
   "metadata": {},
   "source": [
    "### 12"
   ]
  },
  {
   "cell_type": "markdown",
   "id": "44a4f685",
   "metadata": {},
   "source": [
    "Воспользуемся t-критерием Стьюдента для независимых выборок, чтобы сравнить средние значения доходов на равенство между районами с возрастом до 30 (включительно) и более 30, альтернатива двусторонняя.\n",
    "\n",
    "Какое значение p-value вы получили? Можно ли говорить, что средние доходы различаются?\n",
    "\n",
    "Внимательнее посмотрите на аргументы используемой функции, среди них есть флаг равенства дисперсий в выборках. Мы как раз не можем быть уверены, что дисперсии доходов одинаковые между выборками."
   ]
  },
  {
   "cell_type": "code",
   "execution_count": 11,
   "id": "b48f2a7a",
   "metadata": {},
   "outputs": [],
   "source": [
    "from sklearn.datasets import fetch_california_housing\n",
    "\n",
    "data = fetch_california_housing(as_frame=True, return_X_y=True)\n",
    "df, target = data[0], data[1] "
   ]
  },
  {
   "cell_type": "code",
   "execution_count": 12,
   "id": "cf9e248c",
   "metadata": {},
   "outputs": [],
   "source": [
    "df1 = df[df.HouseAge <= 30]\n",
    "df2 = df[df.HouseAge > 30]"
   ]
  },
  {
   "cell_type": "code",
   "execution_count": 13,
   "id": "f271c86a",
   "metadata": {
    "scrolled": true
   },
   "outputs": [
    {
     "data": {
      "text/plain": [
       "Ttest_indResult(statistic=12.832590060636896, pvalue=1.5106543204708846e-37)"
      ]
     },
     "execution_count": 13,
     "metadata": {},
     "output_type": "execute_result"
    }
   ],
   "source": [
    "from scipy.stats import ttest_ind\n",
    "\n",
    "ttest_ind(\n",
    "    df1.MedInc, df2.MedInc,\n",
    "    equal_var=False,\n",
    "    alternative='two-sided',\n",
    ")"
   ]
  },
  {
   "cell_type": "markdown",
   "id": "bb5d5b32",
   "metadata": {},
   "source": [
    "### 13"
   ]
  },
  {
   "cell_type": "markdown",
   "id": "b3fce81d",
   "metadata": {},
   "source": [
    "А ведь про нормальность данных мы и позабыли! t-критерий Стьюдента хоть и устойчив, но предполагает, что данные должны быть распределены нормально.\n",
    "\n",
    "Какие неудобства у способа проверки нормальности через QQ-plot есть по сравнению с тестом Шапиро-Уилка?"
   ]
  },
  {
   "cell_type": "markdown",
   "id": "3b8b3eaf",
   "metadata": {},
   "source": [
    "**Решение**\n",
    "\n",
    "По идее QQ-plot похож на тест Шапиро-Уилка, поэтому считается не дольше (разве что построение самого графика тоже занимает время).\n",
    "\n",
    "Сам метод представляет собой визуализацию квантилей, поэтому можно наглядно решить, из нормального ли распределения выборка. Однако это оставляет пространство для трактовок, в некоторых случаях сложно принять решение. \n",
    "\n",
    "К параметрам график достаточно устойчив (да и параметров особо нет)."
   ]
  },
  {
   "cell_type": "markdown",
   "id": "eea3e785",
   "metadata": {},
   "source": [
    "### 14"
   ]
  },
  {
   "cell_type": "markdown",
   "id": "d6cf664c",
   "metadata": {},
   "source": [
    "Давайте проверим, а с какими данными мы работаем.  Хорошо бы делать это до применения критериев!\n",
    "\n",
    "Во-первых, давайте посмотрим на гистограмму распределения.\n",
    "\n",
    "Во-вторых, попробуйте построить qq-plot для наших выборок, оцените нормальность. Воспользуйтесь также тестом Шапиро-Уилка.\n",
    "\n",
    "Что вы можете сказать?\n",
    "\n",
    "Внимание, sm.qqplot не приводит вашу выборку к стандартной нормальной. Вам нужно самим нормализовать выборку так, чтобы среднее было нулевым, а дисперсия единичной. Тогда график будет информативным и можно будет сравнивать с диагональным."
   ]
  },
  {
   "cell_type": "code",
   "execution_count": 14,
   "id": "7de33e5c",
   "metadata": {},
   "outputs": [],
   "source": [
    "import statsmodels.api as sm\n",
    "from scipy.stats import shapiro"
   ]
  },
  {
   "cell_type": "code",
   "execution_count": 15,
   "id": "73ce734a",
   "metadata": {},
   "outputs": [
    {
     "data": {
      "image/png": "[encoded data removed]",
      "text/plain": [
       "<Figure size 432x288 with 1 Axes>"
      ]
     },
     "metadata": {
      "needs_background": "light"
     },
     "output_type": "display_data"
    }
   ],
   "source": [
    "values = df2.MedInc\n",
    "values = (values - np.mean(values)) / np.std(values)\n",
    "\n",
    "sm.qqplot(values, line='45')\n",
    "plt.show()"
   ]
  },
  {
   "cell_type": "code",
   "execution_count": 16,
   "id": "5309065e",
   "metadata": {},
   "outputs": [
    {
     "name": "stderr",
     "output_type": "stream",
     "text": [
      "/Users/emilkayumov/venv/lib/python3.8/site-packages/scipy/stats/_morestats.py:1761: UserWarning: p-value may not be accurate for N > 5000.\n",
      "  warnings.warn(\"p-value may not be accurate for N > 5000.\")\n"
     ]
    },
    {
     "data": {
      "text/plain": [
       "(ShapiroResult(statistic=0.9215104579925537, pvalue=0.0),\n",
       " ShapiroResult(statistic=0.8525031805038452, pvalue=0.0))"
      ]
     },
     "execution_count": 16,
     "metadata": {},
     "output_type": "execute_result"
    }
   ],
   "source": [
    "shapiro(df1.MedInc), shapiro(df2.MedInc)"
   ]
  },
  {
   "cell_type": "markdown",
   "id": "31eac451",
   "metadata": {},
   "source": [
    "Как часто и выглядят выборки про доходы — они визуально похожи на нормальные, но с тяжёлым правым хвостом. Критерий Шапиро-Уилка будет отвергать нормальность. "
   ]
  },
  {
   "cell_type": "markdown",
   "id": "5093a388",
   "metadata": {},
   "source": [
    "### 15"
   ]
  },
  {
   "cell_type": "markdown",
   "id": "06d4a609",
   "metadata": {},
   "source": [
    "Когда выборка похожа на нормальную, но имеет тяжёлый правый хвост, можно попробовать её логарифмировать.\n",
    "\n",
    "Попробуйте повторить проверку нормальности для логарифмированной величины. Что у вас получилось?"
   ]
  },
  {
   "cell_type": "code",
   "execution_count": 17,
   "id": "9e526793",
   "metadata": {
    "scrolled": true
   },
   "outputs": [
    {
     "data": {
      "image/png": "[encoded data removed]",
      "text/plain": [
       "<Figure size 432x288 with 1 Axes>"
      ]
     },
     "metadata": {
      "needs_background": "light"
     },
     "output_type": "display_data"
    }
   ],
   "source": [
    "values = np.log(df2.MedInc)\n",
    "values = (values - np.mean(values)) / np.std(values)\n",
    "\n",
    "sm.qqplot(values, line='45')\n",
    "plt.show()"
   ]
  },
  {
   "cell_type": "code",
   "execution_count": 18,
   "id": "6a73dbcf",
   "metadata": {},
   "outputs": [
    {
     "name": "stderr",
     "output_type": "stream",
     "text": [
      "/Users/emilkayumov/venv/lib/python3.8/site-packages/scipy/stats/_morestats.py:1761: UserWarning: p-value may not be accurate for N > 5000.\n",
      "  warnings.warn(\"p-value may not be accurate for N > 5000.\")\n"
     ]
    },
    {
     "data": {
      "text/plain": [
       "ShapiroResult(statistic=0.9950175285339355, pvalue=1.283846514664363e-17)"
      ]
     },
     "execution_count": 18,
     "metadata": {},
     "output_type": "execute_result"
    }
   ],
   "source": [
    "shapiro(values)"
   ]
  },
  {
   "cell_type": "markdown",
   "id": "112c9f5d",
   "metadata": {},
   "source": [
    "По qq-plot можно увидеть, что квантили стали заметно ближе к теоретическим, а критерий Шапиро-Уилка всё так же уверенно отвергает нормальность.\n",
    "\n",
    "t-критерий Стьюдента устойчив к отклонениям от нормальности, его можно было бы здесь применить."
   ]
  },
  {
   "cell_type": "markdown",
   "id": "bf468537",
   "metadata": {},
   "source": [
    "### 16"
   ]
  },
  {
   "cell_type": "markdown",
   "id": "b95143d3",
   "metadata": {},
   "source": [
    "Представим, что мы сравниваем две модели на небольшой выборке по метрике RMSE. Чтобы удостовериться, что это не шум, хотим применить статистический критерий для проверки равенства метрик между выборками. Какой тест был бы здесь наиболее применим?\n",
    "\n",
    "**Решение**\n",
    "\n",
    "1. Мы не знаем истинных среднеквадратичных отклонений, поэтому z-критерии нам не подходят.\n",
    "2. Мы сравниваем две метрики на одной и той же выборке объектов, поэтому нам нужен тест для связанных выборок.\n",
    "\n",
    "Таким образом, лучший вариант — t-критерий Стьюдента для связанных выборок."
   ]
  }
 ],
 "metadata": {
  "kernelspec": {
   "display_name": "Python 3 (ipykernel)",
   "language": "python",
   "name": "python3"
  },
  "language_info": {
   "codemirror_mode": {
    "name": "ipython",
    "version": 3
   },
   "file_extension": ".py",
   "mimetype": "text/x-python",
   "name": "python",
   "nbconvert_exporter": "python",
   "pygments_lexer": "ipython3",
   "version": "3.8.9"
  }
 },
 "nbformat": 4,
 "nbformat_minor": 5
}
