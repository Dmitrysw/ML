{
 "cells": [
  {
   "cell_type": "markdown",
   "id": "2cc0fcc6",
   "metadata": {
    "pycharm": {
     "name": "#%% md\n"
    }
   },
   "source": [
    "### Блок теоретических вопросов"
   ]
  },
  {
   "cell_type": "markdown",
   "id": "f1fab4f1",
   "metadata": {
    "pycharm": {
     "name": "#%% md\n"
    }
   },
   "source": [
    "*Чтобы решить задачу линейной регрессии, необходимо воспользоваться следующей формулой: $\\beta^*=(X^T \\cdot X)^{-1} \\cdot X^T \\cdot Y$.*: \n",
    "\n",
    "1. Нет\n",
    "2. Да, это единственный наверняка верный способ. \n",
    "3. Когда как – зависит от особенностей данных.\n",
    "\n",
    "\n",
    "**Ответ: 1)** данная формула работает, если мы пытаемся оценить коэффициенты линейной регрессии OLS. То есть когда берем за функционал ошибки среднеквадратическую функцию потерь (MSE). Но, например, если за функционал качества выбрать так называемый MAE: **$Q = \\sum_i^n |a(x_i) -y_i|$** - то формула уже не будет давать корректный результат (то есть являться оптимум – минимумом).\n",
    "\n",
    "_______________________________________________________"
   ]
  },
  {
   "cell_type": "markdown",
   "id": "7c0a61c5",
   "metadata": {
    "pycharm": {
     "name": "#%% md\n"
    }
   },
   "source": [
    "*Если мы хотим найти минимум произвольной дифференцируемой функции, необходимо найти такие точки, в которых производная равна нулю.*: \n",
    "\n",
    "1. Да, но проверить, чтобы производная слева от этой точки была отрицательной, а справа – положительной.\n",
    "2. Да, но проверить, чтобы производная слева от этой точки была положительной, а справа – отрицательной.\n",
    "3. Да, взять любую такую точку, возле которой производная поменяла свой знак.\n",
    "4. Нет, необходимо использовать аппарат работы с матрицами.\n",
    "\n",
    "\n",
    "\n",
    "**Ответ: 1)** знак производной (положительная она или отрицательная) поясняет нам: возрастает функция или убывает. Минимумы у функции возникают там, где она какое-то время убывала, а потом в моменте стала возрастать. Поэтому такой переход для искомых точек подходит под 1 вариант ответа.\n",
    "\n",
    "_______________________________________________________"
   ]
  },
  {
   "cell_type": "markdown",
   "id": "c3bebc5e",
   "metadata": {
    "pycharm": {
     "name": "#%% md\n"
    }
   },
   "source": [
    "*Когда мы нашли минимум функции, это значит, что нашли точку, в котором функция достигает своего минимального значения при всех возможных аргументах.*: \n",
    "\n",
    "1. Да, ведь на то он и минимум.\n",
    "2. Нет, у функции может быть несколько отличающихся друг от друга минимумов. Чтобы найти самое минимальное значение, нужно найти все минимумы и сравнить их друг с другом. \n",
    "3. Нет, у функции может быть несколько отличающихся друг от друга минимумов. В зависимости от характера поведения функции, среди них может быть (но необязательно) глобальный.\n",
    "4. Нет верного ответа\n",
    "\n",
    "\n",
    "\n",
    "**Ответ: 3)** например, функция y(x)\\ =\\ x\\ +\\ sin(x) имеет бесконечное количество точек минимума. При чем все они отличаются и их можно явно сравнить друг с другом.  Тем не менее, глобального минимума у такой функции нет.        \n",
    "\n",
    "<div>\n",
    "<img src=\"Рисунок1.png\" width=\"500\"/>\n",
    "</div>\n",
    "\n",
    "_______________________________________________________"
   ]
  },
  {
   "cell_type": "markdown",
   "id": "53472ebc",
   "metadata": {
    "pycharm": {
     "name": "#%% md\n"
    }
   },
   "source": [
    "*Выберите верные утверждения про матрицы.*: \n",
    "\n",
    "1. Не каждую матрицу можно обратить\n",
    "2. Складывать и вычитать можно две матрицы любого размера \n",
    "3. Скалярное произведение участвует в матричном.\n",
    "4. Единичная матрица – квадратная матрица, полностью состоящая из единиц.\n",
    "\n",
    "\n",
    "\n",
    "**Ответ: 1, 3)**\n",
    "_______________________________________________________"
   ]
  },
  {
   "cell_type": "markdown",
   "id": "02986bc2",
   "metadata": {
    "pycharm": {
     "name": "#%% md\n"
    }
   },
   "source": [
    "### Практика"
   ]
  },
  {
   "cell_type": "code",
   "execution_count": 2,
   "id": "be53b715",
   "metadata": {
    "pycharm": {
     "name": "#%%\n"
    }
   },
   "outputs": [],
   "source": [
    "import pandas as pd"
   ]
  },
  {
   "cell_type": "markdown",
   "id": "7849ca17",
   "metadata": {
    "pycharm": {
     "name": "#%% md\n"
    }
   },
   "source": [
    "Загрузим табличку с нашими данными про длительность поездок такси! "
   ]
  },
  {
   "cell_type": "code",
   "execution_count": 3,
   "id": "3dffd503",
   "metadata": {
    "pycharm": {
     "name": "#%%\n"
    }
   },
   "outputs": [
    {
     "data": {
      "text/html": [
       "<div>\n",
       "<style scoped>\n",
       "    .dataframe tbody tr th:only-of-type {\n",
       "        vertical-align: middle;\n",
       "    }\n",
       "\n",
       "    .dataframe tbody tr th {\n",
       "        vertical-align: top;\n",
       "    }\n",
       "\n",
       "    .dataframe thead th {\n",
       "        text-align: right;\n",
       "    }\n",
       "</style>\n",
       "<table border=\"1\" class=\"dataframe\">\n",
       "  <thead>\n",
       "    <tr style=\"text-align: right;\">\n",
       "      <th></th>\n",
       "      <th>vendor_id</th>\n",
       "      <th>pickup_datetime</th>\n",
       "      <th>passenger_count</th>\n",
       "      <th>store_and_fwd_flag</th>\n",
       "      <th>trip_duration</th>\n",
       "      <th>distance_km</th>\n",
       "    </tr>\n",
       "    <tr>\n",
       "      <th>id</th>\n",
       "      <th></th>\n",
       "      <th></th>\n",
       "      <th></th>\n",
       "      <th></th>\n",
       "      <th></th>\n",
       "      <th></th>\n",
       "    </tr>\n",
       "  </thead>\n",
       "  <tbody>\n",
       "    <tr>\n",
       "      <th>id2875421</th>\n",
       "      <td>1</td>\n",
       "      <td>2016-03-14 17:24:55</td>\n",
       "      <td>930.399753</td>\n",
       "      <td>0</td>\n",
       "      <td>455.0</td>\n",
       "      <td>1.500479</td>\n",
       "    </tr>\n",
       "    <tr>\n",
       "      <th>id2377394</th>\n",
       "      <td>0</td>\n",
       "      <td>2016-06-12 00:43:35</td>\n",
       "      <td>930.399753</td>\n",
       "      <td>0</td>\n",
       "      <td>663.0</td>\n",
       "      <td>1.807119</td>\n",
       "    </tr>\n",
       "    <tr>\n",
       "      <th>id3858529</th>\n",
       "      <td>1</td>\n",
       "      <td>2016-01-19 11:35:24</td>\n",
       "      <td>930.399753</td>\n",
       "      <td>0</td>\n",
       "      <td>2124.0</td>\n",
       "      <td>6.392080</td>\n",
       "    </tr>\n",
       "    <tr>\n",
       "      <th>id3504673</th>\n",
       "      <td>1</td>\n",
       "      <td>2016-04-06 19:32:31</td>\n",
       "      <td>930.399753</td>\n",
       "      <td>0</td>\n",
       "      <td>429.0</td>\n",
       "      <td>1.487155</td>\n",
       "    </tr>\n",
       "    <tr>\n",
       "      <th>id2181028</th>\n",
       "      <td>1</td>\n",
       "      <td>2016-03-26 13:30:55</td>\n",
       "      <td>930.399753</td>\n",
       "      <td>0</td>\n",
       "      <td>435.0</td>\n",
       "      <td>1.189925</td>\n",
       "    </tr>\n",
       "  </tbody>\n",
       "</table>\n",
       "</div>"
      ],
      "text/plain": [
       "           vendor_id      pickup_datetime  passenger_count  \\\n",
       "id                                                           \n",
       "id2875421          1  2016-03-14 17:24:55       930.399753   \n",
       "id2377394          0  2016-06-12 00:43:35       930.399753   \n",
       "id3858529          1  2016-01-19 11:35:24       930.399753   \n",
       "id3504673          1  2016-04-06 19:32:31       930.399753   \n",
       "id2181028          1  2016-03-26 13:30:55       930.399753   \n",
       "\n",
       "           store_and_fwd_flag  trip_duration  distance_km  \n",
       "id                                                         \n",
       "id2875421                   0          455.0     1.500479  \n",
       "id2377394                   0          663.0     1.807119  \n",
       "id3858529                   0         2124.0     6.392080  \n",
       "id3504673                   0          429.0     1.487155  \n",
       "id2181028                   0          435.0     1.189925  "
      ]
     },
     "execution_count": 3,
     "metadata": {},
     "output_type": "execute_result"
    }
   ],
   "source": [
    "df = pd.read_csv('taxi_dataset.csv', index_col=0)\n",
    "\n",
    "df.head()"
   ]
  },
  {
   "cell_type": "markdown",
   "id": "ed1f9ce7",
   "metadata": {
    "pycharm": {
     "name": "#%% md\n"
    }
   },
   "source": [
    "Попробуем построить модель Линейной Регрессии!\n",
    "\n",
    "В качестве Выборки используйте таргетную колонку (*trip_duration*) и все признаки, кроме времени начала заказа (*pikcup_datetime*)\n",
    "\n",
    "Для начала воспользуемся \"коробочным решением\". Для этого создайте переменную model, положите в нее класс **LinearRegression** из модуля **linear_model** библиотеки **sklearn**.\n",
    "\n",
    "Далее воспользуйтесь методом **fit**, положите в него через запятую: массив **X**, состоящий из признаков объектов (можно pandas dataframe'ом, а можно numpy-массивом), и массив **Y** с таргетами."
   ]
  },
  {
   "cell_type": "code",
   "execution_count": 4,
   "id": "cc5e3b7e",
   "metadata": {
    "pycharm": {
     "name": "#%%\n"
    }
   },
   "outputs": [
    {
     "data": {
      "text/plain": [
       "LinearRegression()"
      ]
     },
     "execution_count": 4,
     "metadata": {},
     "output_type": "execute_result"
    }
   ],
   "source": [
    "from sklearn.linear_model import LinearRegression\n",
    "\n",
    "model = LinearRegression()\n",
    "model.fit(df.drop(['trip_duration', 'pickup_datetime'], axis=1), df['trip_duration'])"
   ]
  },
  {
   "cell_type": "markdown",
   "id": "b7f77f1c",
   "metadata": {
    "pycharm": {
     "name": "#%% md\n"
    }
   },
   "source": [
    "Чтобы посмотреть на значения полученных коэффициентов модели, следует обратиться к атрибуту **coef_** класса линейной регрессии. Для просмотра свободного веса, к атрибуту **intercept_** "
   ]
  },
  {
   "cell_type": "code",
   "execution_count": 6,
   "id": "c5bb7f70",
   "metadata": {
    "pycharm": {
     "name": "#%%\n"
    }
   },
   "outputs": [
    {
     "data": {
      "text/plain": [
       "([198.46313674443138,\n",
       "  0.29631294795200935,\n",
       "  56.46912165456776,\n",
       "  115.27353763047596],\n",
       " 171.65658145584598)"
      ]
     },
     "execution_count": 6,
     "metadata": {},
     "output_type": "execute_result"
    }
   ],
   "source": [
    "model.coef_.tolist(), model.intercept_"
   ]
  },
  {
   "cell_type": "markdown",
   "id": "be13d6a3",
   "metadata": {
    "pycharm": {
     "name": "#%% md\n"
    }
   },
   "source": [
    "Теперь реализуйте функцию LinearRegressionByMatrix, которая будет принимать на вход 3 параметра:\n",
    "\n",
    "Матрицу объект-признак **(X)**, вектор с ответами **(Y)**, булевый параметр **fit_intercept**, цель которого - добавить константный признак (состоящий из единичек), если True, и ничего не делать, если False.\n",
    "\n",
    "Функция должна вернуть одномерный np.array объект с оцененными **$\\beta_1, ..., \\beta_n, \\beta_0$**\n",
    "\n",
    "Реализуйте решение через аналитическое решение в матрицах из лекции и практики:\n",
    "\n",
    "$$\n",
    "\\beta^* = (X^T \\cdot X)^{-1} \\cdot X^T \\cdot Y\n",
    "$$"
   ]
  },
  {
   "cell_type": "code",
   "execution_count": 7,
   "id": "40a0f2a1",
   "metadata": {
    "pycharm": {
     "name": "#%%\n"
    }
   },
   "outputs": [
    {
     "data": {
      "text/plain": [
       "array([198.46313674,   0.29631295,  56.46912165, 115.27353763,\n",
       "       171.65658145])"
      ]
     },
     "execution_count": 7,
     "metadata": {},
     "output_type": "execute_result"
    }
   ],
   "source": [
    "import numpy as np\n",
    "\n",
    "def LinearRegressionByMatrix(X, Y, fit_intercept=True):\n",
    "    \n",
    "    X = np.c_[ X, np.ones(X.shape[0]) ]\n",
    "    \n",
    "    return np.dot(np.dot(np.linalg.inv(np.dot(X.T, X)), X.T), Y)\n",
    "\n",
    "X_train = df.drop(['trip_duration', 'pickup_datetime'], axis=1).values\n",
    "Y_train = df['trip_duration'].values\n",
    "\n",
    "LinearRegressionByMatrix(X_train, Y_train)"
   ]
  },
  {
   "cell_type": "markdown",
   "id": "d2c812e8",
   "metadata": {
    "pycharm": {
     "name": "#%% md\n"
    }
   },
   "source": [
    "Получились ли коэффициенты такими же, как и в \"коробочном\" варианте?\n",
    "\n",
    "Имея коэффициенты модели, можно восстановить предсказания для каждого объекта!\n",
    "\n",
    "Сделайте это через операцию матричного произведения матрицы **X** и полученных коэффициентов (как результат работы *LinearRegressionByMatrix*)"
   ]
  },
  {
   "cell_type": "code",
   "execution_count": 9,
   "id": "3044e57b",
   "metadata": {
    "pycharm": {
     "name": "#%%\n"
    }
   },
   "outputs": [
    {
     "data": {
      "text/plain": [
       "array([ 818.7747282 ,  655.65912268, 1382.6469154 , ..., 1548.74134353,\n",
       "        573.4306718 ,  578.2338068 ])"
      ]
     },
     "execution_count": 9,
     "metadata": {},
     "output_type": "execute_result"
    }
   ],
   "source": [
    "betas = LinearRegressionByMatrix(X_train, Y_train)\n",
    "\n",
    "np.dot(np.c_[ X_train, np.ones(X_train.shape[0]) ], betas)"
   ]
  }
 ],
 "metadata": {
  "kernelspec": {
   "display_name": "Python 3 (ipykernel)",
   "language": "python",
   "name": "python3"
  },
  "language_info": {
   "codemirror_mode": {
    "name": "ipython",
    "version": 3
   },
   "file_extension": ".py",
   "mimetype": "text/x-python",
   "name": "python",
   "nbconvert_exporter": "python",
   "pygments_lexer": "ipython3",
   "version": "3.7.9"
  }
 },
 "nbformat": 4,
 "nbformat_minor": 5
}