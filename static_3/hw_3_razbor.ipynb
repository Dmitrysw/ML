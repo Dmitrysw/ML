{
 "cells": [
  {
   "cell_type": "code",
   "execution_count": 1,
   "id": "07985dff",
   "metadata": {},
   "outputs": [],
   "source": [
    "import numpy as np\n",
    "import pandas as pd\n",
    "\n",
    "import matplotlib.pyplot as plt\n",
    "import seaborn as sns"
   ]
  },
  {
   "cell_type": "markdown",
   "id": "8c9e3fcb",
   "metadata": {},
   "source": [
    "### 0"
   ]
  },
  {
   "cell_type": "markdown",
   "id": "8ecafb8f",
   "metadata": {},
   "source": [
    "Скачаем данные"
   ]
  },
  {
   "cell_type": "code",
   "execution_count": 2,
   "id": "9b229824",
   "metadata": {},
   "outputs": [],
   "source": [
    "from sklearn.datasets import fetch_california_housing\n",
    "\n",
    "data = fetch_california_housing(as_frame=True, return_X_y=True)\n",
    "df, target = data[0], data[1] "
   ]
  },
  {
   "cell_type": "markdown",
   "id": "782293f6",
   "metadata": {},
   "source": [
    "### 1"
   ]
  },
  {
   "cell_type": "markdown",
   "id": "a53b77d4",
   "metadata": {},
   "source": [
    "Постройте гистограмму медианного дохода (MedInc) и оцените распределение это величины. Что вы можете сказать?"
   ]
  },
  {
   "cell_type": "code",
   "execution_count": 3,
   "id": "ed241639",
   "metadata": {},
   "outputs": [
    {
     "data": {
      "image/png": "[encoded data removed]",
      "text/plain": [
       "<Figure size 432x288 with 1 Axes>"
      ]
     },
     "metadata": {
      "needs_background": "light"
     },
     "output_type": "display_data"
    }
   ],
   "source": [
    "sns.histplot(df.MedInc)\n",
    "plt.show()"
   ]
  },
  {
   "cell_type": "markdown",
   "id": "db1e875e",
   "metadata": {},
   "source": [
    "Видим, что распределение не симметрично (асимметрично), значения только положительные, а медиана ближе к 4, чем к 6 (6 уж точно далеко от середины распределения)."
   ]
  },
  {
   "cell_type": "markdown",
   "id": "bcc285f1",
   "metadata": {},
   "source": [
    "### 2"
   ]
  },
  {
   "cell_type": "markdown",
   "id": "495e3bee",
   "metadata": {},
   "source": [
    "Рассмотрим признаки медианного дохода (MedInc) и среднего возраста домов (HouseAge). Постройте их распределения и попробуйте сразу предположить, у какого из признаков будет сильнее отличаться медиана от среднего. Важно учесть, что возраст домов измеряется в больших величинах, поэтому условно будем делить их на 5 (например, вычисленную разницу между медианой и средним разделим на 5).\n",
    "\n",
    "А теперь вычислите эти величины вручную или с использованием numpy. Где разница оказалась больше с учётом деления на 5 возраста домов?"
   ]
  },
  {
   "cell_type": "code",
   "execution_count": 4,
   "id": "4330f380",
   "metadata": {},
   "outputs": [
    {
     "data": {
      "image/png": "[encoded data removed]",
      "text/plain": [
       "<Figure size 864x216 with 2 Axes>"
      ]
     },
     "metadata": {
      "needs_background": "light"
     },
     "output_type": "display_data"
    }
   ],
   "source": [
    "plt.figure(figsize=(12, 3))\n",
    "\n",
    "plt.subplot(1, 2, 1)\n",
    "sns.histplot(df.MedInc)\n",
    "\n",
    "plt.subplot(1, 2, 2)\n",
    "sns.histplot(df.HouseAge)\n",
    "\n",
    "plt.show()"
   ]
  },
  {
   "cell_type": "code",
   "execution_count": 5,
   "id": "540b394e",
   "metadata": {},
   "outputs": [
    {
     "data": {
      "text/plain": [
       "0.3358710029069769"
      ]
     },
     "execution_count": 5,
     "metadata": {},
     "output_type": "execute_result"
    }
   ],
   "source": [
    "np.abs(df.MedInc.mean() - df.MedInc.median())"
   ]
  },
  {
   "cell_type": "code",
   "execution_count": 6,
   "id": "45e3a1ee",
   "metadata": {},
   "outputs": [
    {
     "data": {
      "text/plain": [
       "0.07210271317829467"
      ]
     },
     "execution_count": 6,
     "metadata": {},
     "output_type": "execute_result"
    }
   ],
   "source": [
    "np.abs(df.HouseAge.mean() - df.HouseAge.median()) / 5"
   ]
  },
  {
   "cell_type": "markdown",
   "id": "8f3ab644",
   "metadata": {},
   "source": [
    "У MedInc разница оказалась больше. Это можно было предположить и по тому, что MedInc распределён ассиметрично и имеет правый хвост. В таких случаях обычно медиана и среднее начинают различаться."
   ]
  },
  {
   "cell_type": "markdown",
   "id": "7e9fc326",
   "metadata": {},
   "source": [
    "### 3"
   ]
  },
  {
   "cell_type": "markdown",
   "id": "01652b9b",
   "metadata": {},
   "source": [
    "Кстати, в отдельную переменную мы сохранили наш таргет — медианную цену на дома в этой области. Давайте построим гистограмму и оценим, насколько широко она распределена.\n",
    "\n",
    "Посчитайте интерквартильный размах этой случайной величины. Напомним, что это расстояние между 25-й и 75-й перцентилями."
   ]
  },
  {
   "cell_type": "code",
   "execution_count": 7,
   "id": "a7545482",
   "metadata": {},
   "outputs": [
    {
     "data": {
      "image/png": "[encoded data removed]",
      "text/plain": [
       "<Figure size 432x288 with 1 Axes>"
      ]
     },
     "metadata": {
      "needs_background": "light"
     },
     "output_type": "display_data"
    }
   ],
   "source": [
    "sns.histplot(target)\n",
    "plt.show()"
   ]
  },
  {
   "cell_type": "markdown",
   "id": "6c1c7bb9",
   "metadata": {},
   "source": [
    "Посчитаем и интерквартильный размах, а для этого посчитаем 0.25 и 0.75 квантили."
   ]
  },
  {
   "cell_type": "code",
   "execution_count": 8,
   "id": "bcc80583",
   "metadata": {},
   "outputs": [
    {
     "data": {
      "text/plain": [
       "1.4512499999999997"
      ]
     },
     "execution_count": 8,
     "metadata": {},
     "output_type": "execute_result"
    }
   ],
   "source": [
    "q25, q75 = np.quantile(target, [0.25, 0.75])\n",
    "q75 - q25"
   ]
  },
  {
   "cell_type": "markdown",
   "id": "21bb7cb1",
   "metadata": {},
   "source": [
    "### 4"
   ]
  },
  {
   "cell_type": "markdown",
   "id": "6e854b5e",
   "metadata": {},
   "source": [
    "Если вы помните, необязательно считать вручную средние значения и прочие статистики по каждому признаку. Можно использовать метод describe для dataframe.\n",
    "\n",
    "Попробуйте с помощью describe вычислить все статистики.\n",
    "\n",
    "У какого из признаков получилось наибольшее значение медианы? Напомним, что медиана — это 50-я перцентиль."
   ]
  },
  {
   "cell_type": "code",
   "execution_count": 9,
   "id": "e0220406",
   "metadata": {},
   "outputs": [
    {
     "data": {
      "text/html": [
       "<div>\n",
       "<style scoped>\n",
       "    .dataframe tbody tr th:only-of-type {\n",
       "        vertical-align: middle;\n",
       "    }\n",
       "\n",
       "    .dataframe tbody tr th {\n",
       "        vertical-align: top;\n",
       "    }\n",
       "\n",
       "    .dataframe thead th {\n",
       "        text-align: right;\n",
       "    }\n",
       "</style>\n",
       "<table border=\"1\" class=\"dataframe\">\n",
       "  <thead>\n",
       "    <tr style=\"text-align: right;\">\n",
       "      <th></th>\n",
       "      <th>MedInc</th>\n",
       "      <th>HouseAge</th>\n",
       "      <th>AveRooms</th>\n",
       "      <th>AveBedrms</th>\n",
       "      <th>Population</th>\n",
       "      <th>AveOccup</th>\n",
       "      <th>Latitude</th>\n",
       "      <th>Longitude</th>\n",
       "    </tr>\n",
       "  </thead>\n",
       "  <tbody>\n",
       "    <tr>\n",
       "      <th>count</th>\n",
       "      <td>20640.000000</td>\n",
       "      <td>20640.000000</td>\n",
       "      <td>20640.000000</td>\n",
       "      <td>20640.000000</td>\n",
       "      <td>20640.000000</td>\n",
       "      <td>20640.000000</td>\n",
       "      <td>20640.000000</td>\n",
       "      <td>20640.000000</td>\n",
       "    </tr>\n",
       "    <tr>\n",
       "      <th>mean</th>\n",
       "      <td>3.870671</td>\n",
       "      <td>28.639486</td>\n",
       "      <td>5.429000</td>\n",
       "      <td>1.096675</td>\n",
       "      <td>1425.476744</td>\n",
       "      <td>3.070655</td>\n",
       "      <td>35.631861</td>\n",
       "      <td>-119.569704</td>\n",
       "    </tr>\n",
       "    <tr>\n",
       "      <th>std</th>\n",
       "      <td>1.899822</td>\n",
       "      <td>12.585558</td>\n",
       "      <td>2.474173</td>\n",
       "      <td>0.473911</td>\n",
       "      <td>1132.462122</td>\n",
       "      <td>10.386050</td>\n",
       "      <td>2.135952</td>\n",
       "      <td>2.003532</td>\n",
       "    </tr>\n",
       "    <tr>\n",
       "      <th>min</th>\n",
       "      <td>0.499900</td>\n",
       "      <td>1.000000</td>\n",
       "      <td>0.846154</td>\n",
       "      <td>0.333333</td>\n",
       "      <td>3.000000</td>\n",
       "      <td>0.692308</td>\n",
       "      <td>32.540000</td>\n",
       "      <td>-124.350000</td>\n",
       "    </tr>\n",
       "    <tr>\n",
       "      <th>25%</th>\n",
       "      <td>2.563400</td>\n",
       "      <td>18.000000</td>\n",
       "      <td>4.440716</td>\n",
       "      <td>1.006079</td>\n",
       "      <td>787.000000</td>\n",
       "      <td>2.429741</td>\n",
       "      <td>33.930000</td>\n",
       "      <td>-121.800000</td>\n",
       "    </tr>\n",
       "    <tr>\n",
       "      <th>50%</th>\n",
       "      <td>3.534800</td>\n",
       "      <td>29.000000</td>\n",
       "      <td>5.229129</td>\n",
       "      <td>1.048780</td>\n",
       "      <td>1166.000000</td>\n",
       "      <td>2.818116</td>\n",
       "      <td>34.260000</td>\n",
       "      <td>-118.490000</td>\n",
       "    </tr>\n",
       "    <tr>\n",
       "      <th>75%</th>\n",
       "      <td>4.743250</td>\n",
       "      <td>37.000000</td>\n",
       "      <td>6.052381</td>\n",
       "      <td>1.099526</td>\n",
       "      <td>1725.000000</td>\n",
       "      <td>3.282261</td>\n",
       "      <td>37.710000</td>\n",
       "      <td>-118.010000</td>\n",
       "    </tr>\n",
       "    <tr>\n",
       "      <th>max</th>\n",
       "      <td>15.000100</td>\n",
       "      <td>52.000000</td>\n",
       "      <td>141.909091</td>\n",
       "      <td>34.066667</td>\n",
       "      <td>35682.000000</td>\n",
       "      <td>1243.333333</td>\n",
       "      <td>41.950000</td>\n",
       "      <td>-114.310000</td>\n",
       "    </tr>\n",
       "  </tbody>\n",
       "</table>\n",
       "</div>"
      ],
      "text/plain": [
       "             MedInc      HouseAge      AveRooms     AveBedrms    Population  \\\n",
       "count  20640.000000  20640.000000  20640.000000  20640.000000  20640.000000   \n",
       "mean       3.870671     28.639486      5.429000      1.096675   1425.476744   \n",
       "std        1.899822     12.585558      2.474173      0.473911   1132.462122   \n",
       "min        0.499900      1.000000      0.846154      0.333333      3.000000   \n",
       "25%        2.563400     18.000000      4.440716      1.006079    787.000000   \n",
       "50%        3.534800     29.000000      5.229129      1.048780   1166.000000   \n",
       "75%        4.743250     37.000000      6.052381      1.099526   1725.000000   \n",
       "max       15.000100     52.000000    141.909091     34.066667  35682.000000   \n",
       "\n",
       "           AveOccup      Latitude     Longitude  \n",
       "count  20640.000000  20640.000000  20640.000000  \n",
       "mean       3.070655     35.631861   -119.569704  \n",
       "std       10.386050      2.135952      2.003532  \n",
       "min        0.692308     32.540000   -124.350000  \n",
       "25%        2.429741     33.930000   -121.800000  \n",
       "50%        2.818116     34.260000   -118.490000  \n",
       "75%        3.282261     37.710000   -118.010000  \n",
       "max     1243.333333     41.950000   -114.310000  "
      ]
     },
     "execution_count": 9,
     "metadata": {},
     "output_type": "execute_result"
    }
   ],
   "source": [
    "df.describe()"
   ]
  },
  {
   "cell_type": "markdown",
   "id": "aa7f846e",
   "metadata": {},
   "source": [
    "Можно увидеть, что медиана Population примерно равна 1166, что больше медиан других признаков. Медиана в этой табличке находится в строке \"50%\"."
   ]
  },
  {
   "cell_type": "markdown",
   "id": "c6a975e6",
   "metadata": {},
   "source": [
    "### 5"
   ]
  },
  {
   "cell_type": "markdown",
   "id": "1c53831a",
   "metadata": {},
   "source": [
    "Настало время исследовать взаимосвязи признаков с целевой переменной и друг другом.\n",
    "\n",
    "Посчитай корреляцию Пирсона с каждым из признаков. У какого из признаков она будет наибольшей по абсолютному значению (то есть без учёта знака)?\n",
    "\n"
   ]
  },
  {
   "cell_type": "code",
   "execution_count": 10,
   "id": "690ba064",
   "metadata": {},
   "outputs": [
    {
     "name": "stdout",
     "output_type": "stream",
     "text": [
      "MedInc 0.6880752079585437\n",
      "HouseAge 0.10562341249321017\n",
      "AveRooms 0.1519482897414573\n",
      "AveBedrms -0.046700512969486616\n",
      "Population -0.02464967888889466\n",
      "AveOccup -0.02373741295613426\n",
      "Latitude -0.14416027687466076\n",
      "Longitude -0.04596661511797775\n"
     ]
    }
   ],
   "source": [
    "from scipy.stats import pearsonr\n",
    "\n",
    "for col in df.columns:\n",
    "    print(col, pearsonr(df[col], target)[0])"
   ]
  },
  {
   "cell_type": "markdown",
   "id": "f2d085a9",
   "metadata": {},
   "source": [
    "Можно было сразу взять модуль и сделать argmax, но тут немного колонок, на глаз видно, что это MedInc."
   ]
  },
  {
   "cell_type": "markdown",
   "id": "81ca962e",
   "metadata": {},
   "source": [
    "### 6"
   ]
  },
  {
   "cell_type": "markdown",
   "id": "3a9753a3",
   "metadata": {},
   "source": [
    "Вы могли заметить, что мы пока никак не нормировали наши признаки. Если мы их стандартизируем (то есть вычтем среднее и разделим на среднеквадратичное отклонение), то как поменяются значения корреляций Пирсона, Спирмена и Кендалла?\n",
    "\n",
    "Попробуйте сначала догадаться по тому, как устроены и вычисляются эти корреляции, а уже потом проверьте это на нашем датасете.\n",
    "\n",
    "Какие из корреляций поменяют свои значения после нормализации?"
   ]
  },
  {
   "cell_type": "markdown",
   "id": "0be146c1",
   "metadata": {},
   "source": [
    "**Решение**\n",
    "\n",
    "Можно сразу догадаться, что для корреляции Спирмена и Кендалла ничего не поменяются — они строятся на рангах. Монотонные преобразования (например, нормализация) никак не влияют на ранги (мы просто меняем одинакого в несколько раз абсолютные значения и вычитаем из них одни и те же числа).\n",
    "\n",
    "С корреляцией Пирсона сложнее. Можно вглядываться в формулу и размышлять, а можно просто проверить:"
   ]
  },
  {
   "cell_type": "code",
   "execution_count": 11,
   "id": "d4fff6e6",
   "metadata": {},
   "outputs": [
    {
     "name": "stdout",
     "output_type": "stream",
     "text": [
      "MedInc 0.6880752079585436\n",
      "HouseAge 0.10562341249321014\n",
      "AveRooms 0.15194828974145722\n",
      "AveBedrms -0.04670051296948663\n",
      "Population -0.024649678888894695\n",
      "AveOccup -0.02373741295613426\n",
      "Latitude -0.14416027687466093\n",
      "Longitude -0.04596661511797784\n"
     ]
    }
   ],
   "source": [
    "def normalize(x):\n",
    "    return (x - np.mean(x)) / np.std(x)\n",
    "\n",
    "for col in df.columns:\n",
    "    print(col, pearsonr(normalize(df[col]), normalize(target))[0])"
   ]
  },
  {
   "cell_type": "markdown",
   "id": "fedfe048",
   "metadata": {},
   "source": [
    "Получается, что и корреляция Пирсона не меняется. "
   ]
  },
  {
   "cell_type": "markdown",
   "id": "6b2d5219",
   "metadata": {},
   "source": [
    "### 7"
   ]
  },
  {
   "cell_type": "markdown",
   "id": "5ba5e1f4",
   "metadata": {},
   "source": [
    "Давайте посмотрим внимательнее на признак «среднее число комнат» (AveRooms). Интуитивно кажется, что эта величина должна быть связана с целевой переменной, так как обычно чем больше комнат, тем дороже жильё.\n",
    "\n",
    "Посчитайте его корреляции (все три) с целевой переменной. Какая из корреляций имеет наименьшее значение?"
   ]
  },
  {
   "cell_type": "code",
   "execution_count": 12,
   "id": "02d92cc9",
   "metadata": {},
   "outputs": [
    {
     "name": "stdout",
     "output_type": "stream",
     "text": [
      "Пирсон:   0.1519482897414573\n",
      "Спирман:  0.26336668772954447\n",
      "Кендалл:  0.17917481650845044\n"
     ]
    }
   ],
   "source": [
    "from scipy.stats import pearsonr, spearmanr, kendalltau\n",
    "\n",
    "print('Пирсон:  ', pearsonr(df.AveRooms, target)[0])\n",
    "print('Спирман: ', spearmanr(df.AveRooms, target)[0])\n",
    "print('Кендалл: ', kendalltau(df.AveRooms, target)[0])"
   ]
  },
  {
   "cell_type": "markdown",
   "id": "f6694a3d",
   "metadata": {},
   "source": [
    "Корреляция Пирсона имеет наименьшее значение."
   ]
  },
  {
   "cell_type": "markdown",
   "id": "aa59ca54",
   "metadata": {},
   "source": [
    "### 8"
   ]
  },
  {
   "cell_type": "markdown",
   "id": "03d8a69f",
   "metadata": {},
   "source": [
    "Почему же так вышло? Неужели среднее количество комнат плохо коррелирует с ценой?\n",
    "\n",
    "Постройте гистограмму для среднего количества комнат. Что вы на ней видите?"
   ]
  },
  {
   "cell_type": "code",
   "execution_count": 13,
   "id": "35884ec3",
   "metadata": {},
   "outputs": [
    {
     "data": {
      "image/png": "[encoded data removed]",
      "text/plain": [
       "<Figure size 432x288 with 1 Axes>"
      ]
     },
     "metadata": {
      "needs_background": "light"
     },
     "output_type": "display_data"
    }
   ],
   "source": [
    "df.AveRooms.hist(bins=30)\n",
    "plt.show()"
   ]
  },
  {
   "cell_type": "markdown",
   "id": "f4263901",
   "metadata": {},
   "source": [
    "Сразу можно заметить, что распределение не похоже на нормальное и ассимтерично.\n",
    "\n",
    "Можно заметить, что встречаются большие значения, хоть и редко. Можно предположить, чтоэ то выбросы. В том числе те, где более 100 комнат.\n",
    "\n",
    "Этих столбиков на гистограмме не видно, но так как мы не задавали, какие значения должны быть отражены на гистограмме, то библиотека их отобразили, потому что там есть какие-то значения. Для проверки можно явно их поискать."
   ]
  },
  {
   "cell_type": "markdown",
   "id": "303d31ea",
   "metadata": {},
   "source": [
    "### 9"
   ]
  },
  {
   "cell_type": "markdown",
   "id": "4f9a3de7",
   "metadata": {},
   "source": [
    "Давайте избавимся от выбросов для более устойчивой оценки корреляции.\n",
    "\n",
    "Удалите по 2.5% самых больших и малых значений по признаку «среднее число комнат» (AveRooms). Пересчитайте значение коэффициентов корреляции.\n",
    "\n",
    "Какой из них наиболее сильно поменялся после удаления выбросов? Так мы поняли, какой из видов не устойчив к выбросам."
   ]
  },
  {
   "cell_type": "markdown",
   "id": "7444a40d",
   "metadata": {},
   "source": [
    "**Решение**\n",
    "\n",
    "Найдём пороги отсечки с каждого конца и обрежем выборку по ним"
   ]
  },
  {
   "cell_type": "code",
   "execution_count": 14,
   "id": "68986e01",
   "metadata": {},
   "outputs": [],
   "source": [
    "thr_l, thr_r = np.percentile(df.AveRooms, [2.5, 97.5])\n",
    "\n",
    "tdf = df[(df.AveRooms > thr_l) & (df.AveRooms < thr_r)]\n",
    "ttarget = target[(df.AveRooms > thr_l) & (df.AveRooms < thr_r)]"
   ]
  },
  {
   "cell_type": "markdown",
   "id": "b34a23b7",
   "metadata": {},
   "source": [
    "Посчитаем снова корреляции"
   ]
  },
  {
   "cell_type": "code",
   "execution_count": 15,
   "id": "05f49c22",
   "metadata": {},
   "outputs": [
    {
     "name": "stdout",
     "output_type": "stream",
     "text": [
      "Пирсон:   0.32775904644937304\n",
      "Спирман:  0.2747934656924966\n",
      "Кендалл:  0.1862786837002656\n"
     ]
    }
   ],
   "source": [
    "from scipy.stats import pearsonr, spearmanr, kendalltau\n",
    "print('Пирсон:  ', pearsonr(tdf.AveRooms, ttarget)[0])\n",
    "print('Спирман: ', spearmanr(tdf.AveRooms, ttarget)[0])\n",
    "print('Кендалл: ', kendalltau(tdf.AveRooms, ttarget)[0])"
   ]
  },
  {
   "cell_type": "markdown",
   "id": "af35746f",
   "metadata": {},
   "source": [
    "Видим, что корреляция Пирсона изменилось сильно (зависит от выбросов), а две других почти не поменялись (более устойчивы, так как опираются на ранги)."
   ]
  },
  {
   "cell_type": "markdown",
   "id": "b5c0a933",
   "metadata": {},
   "source": [
    "### 10"
   ]
  },
  {
   "cell_type": "markdown",
   "id": "45d310c2",
   "metadata": {},
   "source": [
    "Некоторые методы машинного обучения чувствительны к скоррелированным признакам. Также поиск скоррелированных признаков — один из способов отбора признаков.\n",
    "\n",
    "Давайте проанализируем корреляцию между признаками, чтобы выявить скоррелированные группы признаков.\n",
    "\n",
    "Можно посчитать попарные корреляции, но это не очень удобно и не позволяет находить группы (а не только пары). Воспользуйтесь seaborn.heatmap и визуализируйте попарные корреляции Пирсона между признаками, посчитанные с помощью метода corr у dataframe. Будьте аккуратнее с тем, в каких диапазонах значений считается корреляция и какие настройки у heatmap.\n",
    "\n",
    "Внимание, используйте датасет до фильтрации из предыдущего задания.\n",
    "\n",
    "Какие пары признаков выделились как наиболее скоррелированные? Знак корреляции не важен."
   ]
  },
  {
   "cell_type": "markdown",
   "id": "cbfcd0d2",
   "metadata": {},
   "source": [
    "**Решение**\n",
    "\n",
    "Построим heatmap с попарными корреляциями Пирсона. Важно указать диапазон измерений, чтобы цвета были более информативны."
   ]
  },
  {
   "cell_type": "code",
   "execution_count": 16,
   "id": "984ddf77",
   "metadata": {},
   "outputs": [
    {
     "data": {
      "image/png": "[encoded data removed]",
      "text/plain": [
       "<Figure size 432x288 with 2 Axes>"
      ]
     },
     "metadata": {
      "needs_background": "light"
     },
     "output_type": "display_data"
    }
   ],
   "source": [
    "sns.heatmap(df.corr(method='pearson'), vmin=-1, vmax=1)\n",
    "plt.show()"
   ]
  },
  {
   "cell_type": "markdown",
   "id": "332ccd8b",
   "metadata": {},
   "source": [
    "Если рисовать в стандартных цветах, то можно увидеть, что у широты с долготой корреляция близка к -1, а у среднего количества комнат и спален близка к 1. Другие же близки к 0."
   ]
  }
 ],
 "metadata": {
  "kernelspec": {
   "display_name": "Python 3 (ipykernel)",
   "language": "python",
   "name": "python3"
  },
  "language_info": {
   "codemirror_mode": {
    "name": "ipython",
    "version": 3
   },
   "file_extension": ".py",
   "mimetype": "text/x-python",
   "name": "python",
   "nbconvert_exporter": "python",
   "pygments_lexer": "ipython3",
   "version": "3.8.9"
  }
 },
 "nbformat": 4,
 "nbformat_minor": 5
}
