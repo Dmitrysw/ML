{
 "cells": [
  {
   "cell_type": "code",
   "execution_count": 1,
   "outputs": [
    {
     "data": {
      "text/plain": "tensor([[[[0.2558, 0.8312, 0.4822,  ..., 0.9448, 0.8723, 0.2778],\n          [0.1773, 0.9352, 0.9218,  ..., 0.5728, 0.1016, 0.1062],\n          [0.6809, 0.1814, 0.3175,  ..., 0.5307, 0.6656, 0.0092],\n          ...,\n          [0.6265, 0.2529, 0.9063,  ..., 0.4724, 0.9708, 0.9130],\n          [0.3614, 0.7865, 0.5849,  ..., 0.2179, 0.3341, 0.7612],\n          [0.9779, 0.8554, 0.5171,  ..., 0.0612, 0.9028, 0.8310]],\n\n         [[0.0115, 0.8813, 0.0820,  ..., 0.2323, 0.6541, 0.6753],\n          [0.3254, 0.1854, 0.8870,  ..., 0.5646, 0.9175, 0.7182],\n          [0.7738, 0.7699, 0.9408,  ..., 0.0025, 0.0462, 0.4147],\n          ...,\n          [0.1604, 0.0120, 0.3912,  ..., 0.2169, 0.7727, 0.6569],\n          [0.4173, 0.8467, 0.6824,  ..., 0.0704, 0.1418, 0.6131],\n          [0.8217, 0.1789, 0.6952,  ..., 0.7291, 0.8432, 0.6844]],\n\n         [[0.9686, 0.4160, 0.7887,  ..., 0.4664, 0.0612, 0.7493],\n          [0.5441, 0.3266, 0.0337,  ..., 0.0551, 0.9040, 0.7691],\n          [0.4380, 0.6446, 0.2797,  ..., 0.4336, 0.6891, 0.0181],\n          ...,\n          [0.2898, 0.6074, 0.6720,  ..., 0.2284, 0.9034, 0.2288],\n          [0.6574, 0.7409, 0.1016,  ..., 0.4771, 0.3976, 0.9208],\n          [0.2356, 0.2048, 0.4475,  ..., 0.0603, 0.0722, 0.0413]]],\n\n\n        [[[0.4504, 0.2090, 0.4108,  ..., 0.2327, 0.4851, 0.7209],\n          [0.7227, 0.4212, 0.2065,  ..., 0.7883, 0.2676, 0.2650],\n          [0.3206, 0.8222, 0.1528,  ..., 0.3358, 0.1990, 0.6210],\n          ...,\n          [0.0647, 0.0839, 0.1137,  ..., 0.9657, 0.4462, 0.8751],\n          [0.5396, 0.7228, 0.7190,  ..., 0.8639, 0.1166, 0.5016],\n          [0.8422, 0.6681, 0.0263,  ..., 0.1866, 0.7883, 0.7986]],\n\n         [[0.2108, 0.8657, 0.8864,  ..., 0.4215, 0.5342, 0.3112],\n          [0.3655, 0.0876, 0.6843,  ..., 0.3945, 0.8365, 0.6937],\n          [0.3535, 0.8277, 0.7588,  ..., 0.9025, 0.9993, 0.7032],\n          ...,\n          [0.6224, 0.4167, 0.9554,  ..., 0.6835, 0.9210, 0.2288],\n          [0.6884, 0.7929, 0.0062,  ..., 0.7345, 0.4111, 0.1840],\n          [0.6944, 0.7543, 0.4148,  ..., 0.5765, 0.2294, 0.3260]],\n\n         [[0.6610, 0.3530, 0.7666,  ..., 0.6157, 0.2723, 0.1119],\n          [0.2876, 0.0623, 0.7578,  ..., 0.8782, 0.0374, 0.2145],\n          [0.9997, 0.5437, 0.2962,  ..., 0.1517, 0.0588, 0.6557],\n          ...,\n          [0.4492, 0.1321, 0.3401,  ..., 0.9196, 0.5839, 0.8091],\n          [0.3280, 0.3046, 0.6707,  ..., 0.0742, 0.9108, 0.0236],\n          [0.2741, 0.0120, 0.6683,  ..., 0.6816, 0.2731, 0.7049]]]])"
     },
     "execution_count": 1,
     "metadata": {},
     "output_type": "execute_result"
    }
   ],
   "source": [
    "import torch\n",
    "tensor = torch.rand(2, 3, 16, 16)\n",
    "tensor"
   ],
   "metadata": {
    "collapsed": false,
    "pycharm": {
     "name": "#%%\n"
    }
   }
  },
  {
   "cell_type": "code",
   "execution_count": 21,
   "metadata": {
    "collapsed": true,
    "pycharm": {
     "name": "#%%\n"
    }
   },
   "outputs": [],
   "source": [
    "def get_normalize(features: torch.Tensor):\n",
    "    return (features.mean(dim=(0, 2, 3)), features.std(dim=(0, 2, 3)))"
   ]
  },
  {
   "cell_type": "code",
   "execution_count": 22,
   "outputs": [
    {
     "data": {
      "text/plain": "(tensor([0.5044, 0.5001, 0.5060]), tensor([0.2840, 0.2948, 0.2891]))"
     },
     "execution_count": 22,
     "metadata": {},
     "output_type": "execute_result"
    }
   ],
   "source": [
    "get_normalize(tensor)"
   ],
   "metadata": {
    "collapsed": false,
    "pycharm": {
     "name": "#%%\n"
    }
   }
  },
  {
   "cell_type": "code",
   "execution_count": 23,
   "outputs": [],
   "source": [
    "import torchvision.transforms as T"
   ],
   "metadata": {
    "collapsed": false,
    "pycharm": {
     "name": "#%%\n"
    }
   }
  },
  {
   "cell_type": "code",
   "execution_count": null,
   "outputs": [],
   "source": [
    "def get_augmentations(train: bool = True):\n",
    "    if train:\n",
    "        return T.Compose(\n",
    "        [\n",
    "            T.Resize(224, 224),\n",
    "            T.Grayscale(),\n",
    "            T.ToTensor(),\n",
    "            T.Normalize(T.AutoAugmentPolicy.CIFAR10)\n",
    "        ]\n",
    "        )\n",
    "    else:\n",
    "        return T.Compose(\n",
    "        [\n",
    "            T.Resize(224, 224),\n",
    "            T.ToTensor(),\n",
    "            T.Normalize(T.AutoAugmentPolicy.CIFAR10)\n",
    "        ]\n",
    "        )\n",
    "\n"
   ],
   "metadata": {
    "collapsed": false,
    "pycharm": {
     "name": "#%%\n"
    }
   }
  },
  {
   "cell_type": "code",
   "execution_count": 24,
   "outputs": [],
   "source": [
    "import torch\n",
    "import torch.nn as nn\n",
    "from torch.utils.data import DataLoader"
   ],
   "metadata": {
    "collapsed": false,
    "pycharm": {
     "name": "#%%\n"
    }
   }
  },
  {
   "cell_type": "code",
   "execution_count": null,
   "outputs": [],
   "source": [
    "def predict(model:nn.Module, loader: DataLoader, device: torch.device):\n",
    "    predictions_list = []\n",
    "    model = model.to(device)\n",
    "    for x, y in loader:\n",
    "        x, y = x.to(device), y.to(device)\n",
    "        output = model(x)\n",
    "        predictions_list.append(torch.argmax(output))\n",
    "    return torch.tensor(predictions_list)"
   ],
   "metadata": {
    "collapsed": false,
    "pycharm": {
     "name": "#%%\n"
    }
   }
  }
 ],
 "metadata": {
  "kernelspec": {
   "display_name": "Python 3",
   "language": "python",
   "name": "python3"
  },
  "language_info": {
   "codemirror_mode": {
    "name": "ipython",
    "version": 2
   },
   "file_extension": ".py",
   "mimetype": "text/x-python",
   "name": "python",
   "nbconvert_exporter": "python",
   "pygments_lexer": "ipython2",
   "version": "2.7.6"
  }
 },
 "nbformat": 4,
 "nbformat_minor": 0
}