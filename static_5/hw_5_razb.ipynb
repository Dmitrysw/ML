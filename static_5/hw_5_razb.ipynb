{
 "cells": [
  {
   "cell_type": "code",
   "execution_count": 1,
   "id": "eff46a0b",
   "metadata": {},
   "outputs": [],
   "source": [
    "import numpy as np\n",
    "import pandas as pd\n",
    "import matplotlib.pyplot as plt\n",
    "import seaborn as sns"
   ]
  },
  {
   "cell_type": "markdown",
   "id": "49647d71",
   "metadata": {},
   "source": [
    "### 1"
   ]
  },
  {
   "cell_type": "markdown",
   "id": "f67d0c09",
   "metadata": {},
   "source": [
    "В чём идея параметрических статистических критериев, которые мы рассматривали на прошлом уроке?\n",
    "\n",
    "Мы предполагаем вид распределения случайной величины, чтобы выбрать подходящую статистику, распределение которой мы знаем"
   ]
  },
  {
   "cell_type": "markdown",
   "id": "3edda317",
   "metadata": {},
   "source": [
    "### 2"
   ]
  },
  {
   "cell_type": "markdown",
   "id": "88e18a87",
   "metadata": {},
   "source": [
    "В чём идея непараметрических статистических критериев?\n",
    "\n",
    "От случайной величины с неизвестным параметром мы переходим к новой, распределение которой мы знаем"
   ]
  },
  {
   "cell_type": "markdown",
   "id": "25909352",
   "metadata": {},
   "source": [
    "### 3"
   ]
  },
  {
   "cell_type": "markdown",
   "id": "b9d05fb3",
   "metadata": {},
   "source": [
    "Какие гипотезы проверяет критерий знаков?\n",
    "- Равенство медианы выборки некоторому числу\n",
    "- Равенство дисперсии выборки некоторому числу\n",
    "- Равенство среднего выборки некоторому числу\n",
    "\n",
    "Критерий знаков делает переход к новой величине — индикатору того, что значение больше этого некоторого значения. Соответственно нулевая гипотеза в том, является ли это некоторое значение медианой выборки."
   ]
  },
  {
   "cell_type": "markdown",
   "id": "b4d74b4b",
   "metadata": {},
   "source": [
    "### 4"
   ]
  },
  {
   "cell_type": "markdown",
   "id": "d1a6b7bb",
   "metadata": {},
   "source": [
    "Однажды мы с вами сравнивали метрики между двумя моделями на одной и той же выборке. \n",
    "\n",
    "Чаще всего метрики по объектам представляют собой ненормальное распределение, поэтому лучше оценивать их различия непараметрическими статистическими критериями. Давайте попрактикумемся в этом. Возьмём уже привычный нам датасет со средними ценами на дома.\n",
    "\n",
    "Обучите Ridge-регрессии из библиотеки sklearn с параметрами alpha=1 и alpha=10. Предсказания сделайте на всей выборке по фолдам с помощью функции cross_val_predict (по очереди каждый фолд будет становиться тестовым), не забудьте передать туда наше разбиение.\n",
    "\n",
    "Посчитайте MSE по каждому объекту выборки и сравните равенство их медиан с помощью критерия знаков. Сам критерий знаков реализуйте вручную, его нулевое распределение представляет собой биномиальное распределение, с котором мы уже работали ранее.\n",
    "\n",
    "Какой вывод вы можете сделать о различии этих моделей? Альтернатива двусторонняя, уровень значимости 0.05."
   ]
  },
  {
   "cell_type": "code",
   "execution_count": 2,
   "id": "8b95bd60",
   "metadata": {},
   "outputs": [],
   "source": [
    "from sklearn.datasets import fetch_california_housing\n",
    "from sklearn.model_selection import cross_val_predict\n",
    "from sklearn.model_selection import KFold\n",
    "from sklearn.preprocessing import StandardScaler\n",
    "\n",
    "data = fetch_california_housing(as_frame=True, return_X_y=True)\n",
    "df, target = data[0], data[1] \n",
    "df = StandardScaler().fit_transform(df)\n",
    "\n",
    "cv = KFold(n_splits=4, shuffle=True, random_state=6)"
   ]
  },
  {
   "cell_type": "markdown",
   "id": "0458a7a5",
   "metadata": {},
   "source": [
    "Сделаем предсказания моделями, обученными по k-фолдовой кросс-валидации:"
   ]
  },
  {
   "cell_type": "code",
   "execution_count": 3,
   "id": "381c1e49",
   "metadata": {},
   "outputs": [],
   "source": [
    "from sklearn.linear_model import Ridge, Lasso\n",
    "\n",
    "y_ridge_1 = cross_val_predict(Ridge(alpha=1.0), X=df, y=target, cv=cv)\n",
    "y_ridge_2 = cross_val_predict(Ridge(alpha=10.0), X=df, y=target, cv=cv)"
   ]
  },
  {
   "cell_type": "markdown",
   "id": "bde96b4a",
   "metadata": {},
   "source": [
    "Оценим качество:"
   ]
  },
  {
   "cell_type": "code",
   "execution_count": 4,
   "id": "eef25d38",
   "metadata": {},
   "outputs": [
    {
     "data": {
      "text/plain": [
       "(0.5305334005667641, 0.5304527930834362)"
      ]
     },
     "execution_count": 4,
     "metadata": {},
     "output_type": "execute_result"
    }
   ],
   "source": [
    "mse_ridge_1 = (y_ridge_1 - target) ** 2\n",
    "mse_ridge_2 = (y_ridge_2 - target) ** 2\n",
    "\n",
    "np.mean(mse_ridge_1), np.mean(mse_ridge_2)"
   ]
  },
  {
   "cell_type": "markdown",
   "id": "38641ff9",
   "metadata": {},
   "source": [
    "Перейдём к новой случайной величине для критерия знаков:"
   ]
  },
  {
   "cell_type": "code",
   "execution_count": 5,
   "id": "c7555dbc",
   "metadata": {},
   "outputs": [
    {
     "data": {
      "text/plain": [
       "0.4810077519379845"
      ]
     },
     "execution_count": 5,
     "metadata": {},
     "output_type": "execute_result"
    }
   ],
   "source": [
    "values = (mse_ridge_1 > mse_ridge_2).astype(int)\n",
    "\n",
    "np.mean(values)"
   ]
  },
  {
   "cell_type": "markdown",
   "id": "1c61215b",
   "metadata": {},
   "source": [
    "Оценим значимость (здесь мы учитываем, что среднее значение в выборке меньше 0.5, то есть наша статистика слева от центра):"
   ]
  },
  {
   "cell_type": "code",
   "execution_count": 6,
   "id": "7753b6e5",
   "metadata": {},
   "outputs": [
    {
     "data": {
      "text/plain": [
       "5.0154276353317846e-08"
      ]
     },
     "execution_count": 6,
     "metadata": {},
     "output_type": "execute_result"
    }
   ],
   "source": [
    "from scipy.stats import binom\n",
    "\n",
    "binom(n=len(values), p=0.5).cdf(sum(values)) * 2"
   ]
  },
  {
   "cell_type": "markdown",
   "id": "ab241af1",
   "metadata": {},
   "source": [
    "Ну или автоматически:"
   ]
  },
  {
   "cell_type": "code",
   "execution_count": 7,
   "id": "234cf98a",
   "metadata": {},
   "outputs": [
    {
     "name": "stderr",
     "output_type": "stream",
     "text": [
      "/Users/emilkayumov/venv/lib/python3.8/site-packages/scipy/stats/_discrete_distns.py:69: RuntimeWarning: divide by zero encountered in _binom_pdf\n",
      "  return _boost._binom_pdf(x, n, p)\n"
     ]
    },
    {
     "data": {
      "text/plain": [
       "5.0154276353317846e-08"
      ]
     },
     "execution_count": 7,
     "metadata": {},
     "output_type": "execute_result"
    }
   ],
   "source": [
    "from scipy.stats import binom_test\n",
    "\n",
    "binom_test(x=sum(values), n=len(values))"
   ]
  },
  {
   "cell_type": "markdown",
   "id": "b18b60c3",
   "metadata": {},
   "source": [
    "То есть p-value=0, метрики между моделями значимо различаются"
   ]
  },
  {
   "cell_type": "markdown",
   "id": "99af0f03",
   "metadata": {},
   "source": [
    "### 5"
   ]
  },
  {
   "cell_type": "markdown",
   "id": "b2e7b70c",
   "metadata": {},
   "source": [
    "Некоторые непараметрические статистические критерии делают переход к рангам.\n",
    "\n",
    "Посчитайте ранги для элементов следующей выборки. Ранги равных по значениям элементов считайте так же, как мы это делали на уроке.\n",
    "\n",
    "[7, 1, 5, 1, 3, 2, 5]\n",
    "\n",
    "**Решение**\n",
    "\n",
    "[7, 1.5, 5.5, 1.5, 4, 3, 5.5]"
   ]
  },
  {
   "cell_type": "markdown",
   "id": "35155bf9",
   "metadata": {},
   "source": [
    "Также можно вычислять автоматически (pandas тоже умеет). Важно выбрать в аргументе то, что делать с равными значениями."
   ]
  },
  {
   "cell_type": "code",
   "execution_count": 8,
   "id": "c7b208b7",
   "metadata": {},
   "outputs": [
    {
     "data": {
      "text/plain": [
       "array([7. , 1.5, 5.5, 1.5, 4. , 3. , 5.5])"
      ]
     },
     "execution_count": 8,
     "metadata": {},
     "output_type": "execute_result"
    }
   ],
   "source": [
    "import scipy.stats as ss\n",
    "\n",
    "ss.rankdata([7, 1, 5, 1, 3, 2, 5], method='average')"
   ]
  },
  {
   "cell_type": "markdown",
   "id": "bec24907",
   "metadata": {},
   "source": [
    "### 6"
   ]
  },
  {
   "cell_type": "markdown",
   "id": "e50404e5",
   "metadata": {},
   "source": [
    "Какую гипотезу проверяет критерий Манна-Уитни-Уилкоксона?\n",
    "\n",
    "Равенство функций распределения в двух выборках"
   ]
  },
  {
   "cell_type": "markdown",
   "id": "540009ff",
   "metadata": {},
   "source": [
    "### 7"
   ]
  },
  {
   "cell_type": "markdown",
   "id": "551d52cf",
   "metadata": {},
   "source": [
    "В критерии Манна-Уитни-Уилкоксона распределение статистики табличное. Статистикой выступает сумма рангов первой выборки в объединённой выборке.\n",
    "\n",
    "Представим, что у нас две выборки: первая размера 2, а вторая размера 3. Все значения в выборках различаются.\n",
    "\n",
    "Постройте соответствующее этому случаю табличное распределение и ответьте на вопрос, с какой вероятностью мы могли встретить значения статистики 7 и более среди всех возможных значений статистики при верности нулевой гипотезы о том, что распределения не различаются.\n",
    "\n",
    "Это задание удобнее делать на листочке без написания кода.\n",
    "\n",
    "**Решение**\n",
    "\n",
    "Запишем все возможные варианты расположения первой выборки в объединённой выборке из 5 элементов:\n",
    "\n",
    "- [1, 2] — 3\n",
    "- [1, 3] — 4\n",
    "- [1, 4] — 5\n",
    "- [1, 5] — 6\n",
    "- [2, 3] — 5\n",
    "- [2, 4] — 6\n",
    "- [2, 5] — 7\n",
    "- [3, 4] — 7\n",
    "- [3, 5] — 8\n",
    "- [4, 5] — 9\n",
    "\n",
    "То есть значение 7 и более встречается 4 раза из 10 возможных, то есть 0.4."
   ]
  },
  {
   "cell_type": "markdown",
   "id": "fca9d0bb",
   "metadata": {},
   "source": [
    "### 8"
   ]
  },
  {
   "cell_type": "markdown",
   "id": "94d55af6",
   "metadata": {},
   "source": [
    "В чём неудобство работы с табличными распределениями?\n",
    "\n",
    "Табличное распределение необходимо посчитать для всех возможных значений и хранить большое количество значений. При этом посчитать точно всё-таки возможно и использовать его можно (не только теоретическая конструкция)."
   ]
  },
  {
   "cell_type": "markdown",
   "id": "1616ff9e",
   "metadata": {},
   "source": [
    "### 9"
   ]
  },
  {
   "cell_type": "markdown",
   "id": "e74a8268",
   "metadata": {},
   "source": [
    "Вернёмся к уже привычному для нас датасету со средними ценами на дома, с которым мы работали в прошлых заданиях. Для скачивания воспользуйтесь тем же кодом:\n",
    "\n",
    "В прошлом уроке мы сравнивали средние доходы (MedInc) между районами, где дома моложе 30 лет (включительно) и старше 30 лет (HouseAge). Однако тогда мы заметили, что случайная величина распределена не нормально.\n",
    "\n",
    "Давайте воспользуемся непараметрическими статистическими критериями, которые не делают предположений на вид распределения.\n",
    "\n",
    "Примените критерий Манна-Уитни-Уилкоксона к выборке и сравните, различаются ли распределения между выборками. Какой вывод вы можете сделать? Альтернатива двусторонняя."
   ]
  },
  {
   "cell_type": "code",
   "execution_count": 9,
   "id": "930452bb",
   "metadata": {},
   "outputs": [],
   "source": [
    "from sklearn.datasets import fetch_california_housing\n",
    "\n",
    "data = fetch_california_housing(as_frame=True, return_X_y=True)\n",
    "df, target = data[0], data[1] "
   ]
  },
  {
   "cell_type": "markdown",
   "id": "855ea847",
   "metadata": {},
   "source": [
    "Снова разделим выборку на 2:"
   ]
  },
  {
   "cell_type": "code",
   "execution_count": 10,
   "id": "60242f8a",
   "metadata": {},
   "outputs": [],
   "source": [
    "df1 = df[df.HouseAge <= 30]\n",
    "df2 = df[df.HouseAge > 30]"
   ]
  },
  {
   "cell_type": "markdown",
   "id": "32ae9e62",
   "metadata": {},
   "source": [
    "Применим критерий:"
   ]
  },
  {
   "cell_type": "code",
   "execution_count": 11,
   "id": "280dceff",
   "metadata": {},
   "outputs": [
    {
     "data": {
      "text/plain": [
       "MannwhitneyuResult(statistic=59254034.5, pvalue=5.345198689020035e-50)"
      ]
     },
     "execution_count": 11,
     "metadata": {},
     "output_type": "execute_result"
    }
   ],
   "source": [
    "from scipy.stats import mannwhitneyu\n",
    "\n",
    "mannwhitneyu(df1.MedInc, df2.MedInc)"
   ]
  },
  {
   "cell_type": "markdown",
   "id": "5dc59a2c",
   "metadata": {},
   "source": [
    "Мы получили p-value, который близко к нулю, а значит можем отвергнуть нулевую гипотезу на уровне значимости 0.05, что распределения случайных величин между выборками не различаются. Таким образом можно сказать, что средние доходы разные."
   ]
  },
  {
   "cell_type": "markdown",
   "id": "295be8de",
   "metadata": {},
   "source": [
    "### 10"
   ]
  },
  {
   "cell_type": "markdown",
   "id": "d3a354c2",
   "metadata": {},
   "source": [
    "Какую проблему решают подходы к множественной проверке гипотез?\n",
    "\n",
    "Когда мы проверяем сразу несколько гипотез, то уровень ошибки первого рода возрастает"
   ]
  },
  {
   "cell_type": "markdown",
   "id": "8257ffe6",
   "metadata": {},
   "source": [
    "### 11"
   ]
  },
  {
   "cell_type": "markdown",
   "id": "af5cd614",
   "metadata": {},
   "source": [
    "Представим, что мы хотели бы зафиксировать ошибку первого рода при применении статистического критерия на уровне 1%. У нас есть 12 экспериментальных моделей, среди которых мы хотим найти те, которые будут отличаться от текущей в лучшую сторону.\n",
    "\n",
    "Какая ошибка первого рода «хотя бы одна из моделей случайно покажется лучше контрольной» у нас будет на самом деле? Результаты всех моделей независимы друг от друга."
   ]
  },
  {
   "cell_type": "markdown",
   "id": "8982d8bd",
   "metadata": {},
   "source": [
    "**Решение**\n",
    "\n",
    "Посчитаем эту вероятность.\n",
    "\n",
    "Сначала посчитаем вероятность не ошибиться ни разу в каждом из 12 экспериментов:"
   ]
  },
  {
   "cell_type": "code",
   "execution_count": 12,
   "id": "e74dfdd3",
   "metadata": {},
   "outputs": [
    {
     "data": {
      "text/plain": [
       "0.8863848717161292"
      ]
     },
     "execution_count": 12,
     "metadata": {},
     "output_type": "execute_result"
    }
   ],
   "source": [
    "(1 - 0.01) ** 12"
   ]
  },
  {
   "cell_type": "markdown",
   "id": "6c62d219",
   "metadata": {},
   "source": [
    "Тогда ошибиться хотя бы раз по свойству вероятности протовоположного события:"
   ]
  },
  {
   "cell_type": "code",
   "execution_count": 13,
   "id": "ca765994",
   "metadata": {},
   "outputs": [
    {
     "data": {
      "text/plain": [
       "0.11361512828387077"
      ]
     },
     "execution_count": 13,
     "metadata": {},
     "output_type": "execute_result"
    }
   ],
   "source": [
    "1 - (1 - 0.01) ** 12"
   ]
  },
  {
   "cell_type": "markdown",
   "id": "d9b2db2b",
   "metadata": {},
   "source": [
    "### 12"
   ]
  },
  {
   "cell_type": "markdown",
   "id": "29141b47",
   "metadata": {},
   "source": [
    "Выберите верные утверждения про FWER-поправки при множественное проверке гипотез.\n",
    "1. При применении поправок уменьшается пороговое значение p-value\n",
    "1. При применении поправок увеличивается пороговое значение p-value\n",
    "1. При их применении возрастает ошибка второго рода (ложноотрицательные ошибки)\n",
    "1. Поправки контролируют уровень ошибки второго рода (ложноотрицательные ошибки)\n",
    "1. При их применении возрастает ошибка первого рода (ложноположительные ошибки)\n",
    "1. Поправки контролируют уровень ошибки первого рода (ложноположительные ошибки)\n",
    "\n",
    "**Решение**\n",
    "\n",
    "FWER — процедура для контроля за ошибками первого рода, которая изменяет пороговые значения p-value в меньшую сторону, тем самым возрастает ошибка второго рода.\n",
    "\n",
    "Пороговое значение p-value уменьшается в каждом конкретном эксперименте (1 верно, 2 не верно).\n",
    "\n",
    "Из-за понижения порогового значения p-value ошибка второго рода растёт (3 верно, 4 не верно)\n",
    "\n",
    "Сделаны ни как раз для контроля за ошибкой первого рода (5 не верно, 6 верно)."
   ]
  }
 ],
 "metadata": {
  "kernelspec": {
   "display_name": "Python 3 (ipykernel)",
   "language": "python",
   "name": "python3"
  },
  "language_info": {
   "codemirror_mode": {
    "name": "ipython",
    "version": 3
   },
   "file_extension": ".py",
   "mimetype": "text/x-python",
   "name": "python",
   "nbconvert_exporter": "python",
   "pygments_lexer": "ipython3",
   "version": "3.8.9"
  }
 },
 "nbformat": 4,
 "nbformat_minor": 5
}
