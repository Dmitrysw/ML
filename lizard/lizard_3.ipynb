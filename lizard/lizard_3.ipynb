{
 "cells": [
  {
   "cell_type": "code",
   "execution_count": 1,
   "metadata": {},
   "outputs": [
    {
     "data": {
      "text/plain": [
       "97"
      ]
     },
     "execution_count": 1,
     "metadata": {},
     "output_type": "execute_result"
    }
   ],
   "source": [
    "ord(\"a\")"
   ]
  },
  {
   "cell_type": "code",
   "execution_count": 5,
   "metadata": {},
   "outputs": [
    {
     "data": {
      "text/plain": [
       "'\\x12'"
      ]
     },
     "execution_count": 5,
     "metadata": {},
     "output_type": "execute_result"
    }
   ],
   "source": [
    "chr(18)"
   ]
  },
  {
   "cell_type": "code",
   "execution_count": 9,
   "metadata": {},
   "outputs": [
    {
     "name": "stdout",
     "output_type": "stream",
     "text": [
      "Как Вас зовут?\n",
      "Здравствуйте, Аня!\n",
      "Как дела?\n",
      "Всё наладится!\n"
     ]
    }
   ],
   "source": [
    "name = input()\n",
    "answer = input()\n",
    "print(f\"Как Вас зовут?\\nЗдравствуйте, {name}!\\nКак дела?\")\n",
    "if answer == \"хорошо\":\n",
    "    print(\"Я за вас рада!\")\n",
    "else:\n",
    "    print(\"Всё наладится!\")"
   ]
  },
  {
   "cell_type": "code",
   "execution_count": 10,
   "metadata": {},
   "outputs": [
    {
     "name": "stdout",
     "output_type": "stream",
     "text": [
      "Вася\n"
     ]
    }
   ],
   "source": [
    "speed_petr = input()\n",
    "speed_vasya = input()\n",
    "if speed_petr > speed_vasya:\n",
    "    print(\"Петя\")\n",
    "else:\n",
    "    print(\"Вася\")"
   ]
  },
  {
   "cell_type": "code",
   "execution_count": null,
   "metadata": {},
   "outputs": [],
   "source": [
    "speed_petr = int(input())\n",
    "speed_vasya = int(input())\n",
    "speed_toly = int(input())\n",
    "max_speed = max(speed_vasya, speed_petr, speed_toly)\n",
    "if max_speed == speed_petr:\n",
    "    print(\"Петя\")\n",
    "elif max_speed == speed_vasya:\n",
    "    print(\"Вася\")\n",
    "else:\n",
    "    print(\"Толя\")"
   ]
  },
  {
   "cell_type": "code",
   "execution_count": 24,
   "metadata": {},
   "outputs": [
    {
     "name": "stdout",
     "output_type": "stream",
     "text": [
      "1. Петя\n",
      "2. Толя\n",
      "3. Вася\n"
     ]
    }
   ],
   "source": [
    "speed_petr = int(input())\n",
    "speed_vasya = int(input())\n",
    "speed_toly = int(input())\n",
    "speed = {speed_petr: \"Петя\", speed_vasya: \"Вася\", speed_toly: \"Толя\"}\n",
    "print(f\"1. {speed[(sorted(speed.keys())[2])]}\\n2. \\\n",
    "{speed[(sorted(speed.keys())[1])]}\\n3. {speed[(sorted(speed.keys())[0])]}\")\n",
    "# print(name_1, name_2, name_3, sep=\"\\n\")"
   ]
  },
  {
   "cell_type": "code",
   "execution_count": null,
   "metadata": {},
   "outputs": [],
   "source": [
    "N = int(input())\n",
    "M = int(input())\n",
    "if N > M + 6:\n",
    "    print(\"Петя\")\n",
    "else:\n",
    "    print(\"Вася\")"
   ]
  },
  {
   "cell_type": "code",
   "execution_count": 26,
   "metadata": {},
   "outputs": [
    {
     "name": "stdout",
     "output_type": "stream",
     "text": [
      "YES\n"
     ]
    }
   ],
   "source": [
    "year = int(input())\n",
    "if year % 400 == 0:\n",
    "    print(\"YES\")\n",
    "elif year % 100 != 0 and year % 4 == 0:\n",
    "    print (\"YES\")\n",
    "else:\n",
    "    print(\"NO\")"
   ]
  },
  {
   "cell_type": "code",
   "execution_count": 29,
   "metadata": {},
   "outputs": [
    {
     "name": "stdout",
     "output_type": "stream",
     "text": [
      "YES\n"
     ]
    }
   ],
   "source": [
    "number = input()\n",
    "if number == number[::-1]:\n",
    "    print(\"YES\")\n",
    "else:\n",
    "    print(\"NO\")"
   ]
  },
  {
   "cell_type": "code",
   "execution_count": null,
   "metadata": {},
   "outputs": [],
   "source": [
    "string = input()\n",
    "if \"зайка\" in string:\n",
    "    print(\"YES\")\n",
    "else:\n",
    "    print(\"NO\")"
   ]
  },
  {
   "cell_type": "code",
   "execution_count": 31,
   "metadata": {},
   "outputs": [
    {
     "name": "stdout",
     "output_type": "stream",
     "text": [
      "Вася\n"
     ]
    }
   ],
   "source": [
    "name_1 = input()\n",
    "name_2 = input()\n",
    "name_3 = input()\n",
    "print(min(name_1, name_2,name_3))"
   ]
  },
  {
   "cell_type": "code",
   "execution_count": 32,
   "metadata": {},
   "outputs": [
    {
     "data": {
      "text/plain": [
       "5"
      ]
     },
     "execution_count": 32,
     "metadata": {},
     "output_type": "execute_result"
    }
   ],
   "source": [
    "max(5, 5)"
   ]
  },
  {
   "cell_type": "code",
   "execution_count": 66,
   "metadata": {},
   "outputs": [
    {
     "name": "stdout",
     "output_type": "stream",
     "text": [
      "115\n"
     ]
    }
   ],
   "source": [
    "password = int(input())\n",
    "print(max((password % 100 // 10) + (password % 10), (password % 100 // 10) + password // 100),\n",
    "      min((password % 100 // 10) + (password % 10), (password % 100 // 10) + password // 100), sep=\"\")"
   ]
  },
  {
   "cell_type": "code",
   "execution_count": 8,
   "metadata": {},
   "outputs": [
    {
     "name": "stdout",
     "output_type": "stream",
     "text": [
      "N0\n"
     ]
    }
   ],
   "source": [
    "number = input()\n",
    "number = sorted(number)\n",
    "if int(number[0]) + int(number[2]) == int(number[1]) * 2:\n",
    "    print(\"YES\")\n",
    "else:\n",
    "    print(\"NO\")"
   ]
  },
  {
   "cell_type": "code",
   "execution_count": 10,
   "metadata": {},
   "outputs": [
    {
     "name": "stdout",
     "output_type": "stream",
     "text": [
      "NO\n"
     ]
    }
   ],
   "source": [
    "a = int(input())\n",
    "b = int(input())\n",
    "c = int(input())\n",
    "if a + b > c and a + c > b and b + c > a:\n",
    "    print(\"YES\")\n",
    "else:\n",
    "    print(\"NO\")"
   ]
  },
  {
   "cell_type": "code",
   "execution_count": 12,
   "metadata": {},
   "outputs": [
    {
     "name": "stdout",
     "output_type": "stream",
     "text": [
      "3\n"
     ]
    }
   ],
   "source": [
    "elf = input()\n",
    "gnom = input()\n",
    "people = input()\n",
    "if elf[0] == gnom[0] == people[0]:\n",
    "    print(elf[0])\n",
    "else:\n",
    "    print(elf[1])"
   ]
  },
  {
   "cell_type": "code",
   "execution_count": 17,
   "metadata": {},
   "outputs": [
    {
     "name": "stdout",
     "output_type": "stream",
     "text": [
      "77 87\n"
     ]
    }
   ],
   "source": [
    "number = input()\n",
    "number = sorted(number)\n",
    "if number[0] == \"0\":\n",
    "    print(number[1], number[0], \" \", number[2], number[1], sep=\"\")\n",
    "else:\n",
    "    print(number[0], number[1], \" \", number[2], number[1], sep=\"\")"
   ]
  },
  {
   "cell_type": "code",
   "execution_count": 25,
   "metadata": {},
   "outputs": [
    {
     "name": "stdout",
     "output_type": "stream",
     "text": [
      "911\n"
     ]
    }
   ],
   "source": [
    "number_1 = input()\n",
    "number_2 = input()\n",
    "number = sorted(number_1 + number_2)\n",
    "print (number[3], (str((int(number[1]) + int(number[2]))))[-1], number[0], sep=\"\")"
   ]
  },
  {
   "cell_type": "code",
   "execution_count": 26,
   "metadata": {},
   "outputs": [],
   "source": [
    "peta = int(input())\n",
    "vasa = int(input())\n",
    "toly = int(input())\n",
    "first_place = "
   ]
  },
  {
   "cell_type": "code",
   "execution_count": 33,
   "metadata": {},
   "outputs": [
    {
     "name": "stdout",
     "output_type": "stream",
     "text": [
      "          Петя\n",
      "  Толя\n",
      "                  Вася\n",
      "   II      I      III   \n"
     ]
    }
   ],
   "source": [
    "speed_petr = int(input())\n",
    "speed_vasya = int(input())\n",
    "speed_toly = int(input())\n",
    "speed = {speed_petr: \"Петя\", speed_vasya: \"Вася\", speed_toly: \"Толя\"}\n",
    "print(\" \" * 10, speed[(sorted(speed.keys())[2])], sep='')\n",
    "print(\"  \", speed[(sorted(speed.keys())[1])], sep='')\n",
    "print(\" \" * 18, speed[(sorted(speed.keys())[0])], sep='')\n",
    "print(\"   \", \"II\", \" \" * 6, \"I\", \" \" * 6, \"III\", \"   \", sep='')\n",
    "  \n",
    "#   speed[(sorted(speed.keys())[1])              \n",
    "# {speed[(sorted(speed.keys())[0])]}\\n II\")"
   ]
  },
  {
   "cell_type": "code",
   "execution_count": 38,
   "metadata": {},
   "outputs": [
    {
     "name": "stdout",
     "output_type": "stream",
     "text": [
      "No solution\n"
     ]
    }
   ],
   "source": [
    "a, b, c = float(input()), float(input()), float(input())\n",
    "D = b ** 2 - 4 * a * c\n",
    "if a == 0 and b == 0 and c == 0:\n",
    "    print(\"Infinite solutions\")\n",
    "elif b == 0 and c == 0:\n",
    "    print(0)\n",
    "elif D < 0:\n",
    "    print(\"No solution\")\n",
    "elif D == 0:\n",
    "    print(f\"{-b / (2*a):.2f}\")\n",
    "else:\n",
    "    print(f\"{(-b - D ** (1/2)) / (2*a):.2f} {(-b + D ** (1/2)) / (2*a):.2f}\")"
   ]
  },
  {
   "cell_type": "code",
   "execution_count": null,
   "metadata": {},
   "outputs": [],
   "source": []
  }
 ],
 "metadata": {
  "kernelspec": {
   "display_name": "Python 3 (ipykernel)",
   "language": "python",
   "name": "python3"
  },
  "language_info": {
   "codemirror_mode": {
    "name": "ipython",
    "version": 3
   },
   "file_extension": ".py",
   "mimetype": "text/x-python",
   "name": "python",
   "nbconvert_exporter": "python",
   "pygments_lexer": "ipython3",
   "version": "3.11.4"
  },
  "orig_nbformat": 4
 },
 "nbformat": 4,
 "nbformat_minor": 2
}
