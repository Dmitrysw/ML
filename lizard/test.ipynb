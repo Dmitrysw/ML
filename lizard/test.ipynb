{
 "cells": [
  {
   "cell_type": "code",
   "execution_count": 1,
   "metadata": {},
   "outputs": [
    {
     "name": "stdout",
     "output_type": "stream",
     "text": [
      "Привет, Dmitry\n"
     ]
    }
   ],
   "source": [
    "name = \"Dmitry\"\n",
    "print(f\"Привет, {name}\")"
   ]
  },
  {
   "cell_type": "code",
   "execution_count": 2,
   "metadata": {},
   "outputs": [
    {
     "name": "stdout",
     "output_type": "stream",
     "text": [
      "Привет, Diman\n"
     ]
    }
   ],
   "source": [
    "name = input(\"Как Вас зовут?\")\n",
    "print (\"Привет,\", name)"
   ]
  },
  {
   "cell_type": "code",
   "execution_count": 3,
   "metadata": {},
   "outputs": [
    {
     "name": "stdout",
     "output_type": "stream",
     "text": [
      "dddddd\n"
     ]
    }
   ],
   "source": [
    "string = input()\n",
    "print(string * 3)"
   ]
  },
  {
   "cell_type": "code",
   "execution_count": 4,
   "metadata": {},
   "outputs": [
    {
     "ename": "ValueError",
     "evalue": "could not convert string to float: 'dd'",
     "output_type": "error",
     "traceback": [
      "\u001b[1;31m---------------------------------------------------------------------------\u001b[0m",
      "\u001b[1;31mValueError\u001b[0m                                Traceback (most recent call last)",
      "Cell \u001b[1;32mIn[4], line 1\u001b[0m\n\u001b[1;32m----> 1\u001b[0m cash \u001b[39m=\u001b[39m \u001b[39mfloat\u001b[39;49m(\u001b[39minput\u001b[39;49m())\n\u001b[0;32m      2\u001b[0m \u001b[39mprint\u001b[39m(cash \u001b[39m-\u001b[39m \u001b[39m2.5\u001b[39m \u001b[39m*\u001b[39m \u001b[39m38\u001b[39m)\n",
      "\u001b[1;31mValueError\u001b[0m: could not convert string to float: 'dd'"
     ]
    }
   ],
   "source": [
    "cash = float(input())\n",
    "print(cash - 2.5 * 38)"
   ]
  },
  {
   "cell_type": "code",
   "execution_count": 12,
   "metadata": {},
   "outputs": [
    {
     "name": "stdout",
     "output_type": "stream",
     "text": [
      "Чек\n",
      "черешня - 5кг - 2руб/кг\n",
      "Итого: 10руб\n",
      "Внесено: 50руб\n",
      "Cдача: 40руб\n"
     ]
    }
   ],
   "source": [
    "name = input()\n",
    "price = int(input())\n",
    "weight = int(input())\n",
    "money = int(input())\n",
    "print(\"Чек\")\n",
    "print(name, \" - \", weight,  \"кг - \", price, \"руб/кг\", sep=\"\")\n",
    "print(f\"Итого: {price * weight}руб\")\n",
    "print(f\"Внесено: {money}руб\")\n",
    "print(f\"Cдача: {money -price * weight}руб\")"
   ]
  },
  {
   "cell_type": "code",
   "execution_count": 13,
   "metadata": {},
   "outputs": [
    {
     "name": "stdout",
     "output_type": "stream",
     "text": [
      "Купи слонаКупи слонаКупи слона\n"
     ]
    }
   ],
   "source": [
    "N = int(input())\n",
    "print (\"Купи слона\" * N)"
   ]
  },
  {
   "cell_type": "code",
   "execution_count": 23,
   "metadata": {},
   "outputs": [
    {
     "name": "stdout",
     "output_type": "stream",
     "text": [
      "Купи слона!\n",
      "Купи слона!\n"
     ]
    }
   ],
   "source": [
    "N = int(input())\n",
    "for i in range(N):\n",
    "    print(\"Купи слона!\")"
   ]
  },
  {
   "cell_type": "code",
   "execution_count": 31,
   "metadata": {},
   "outputs": [
    {
     "name": "stdout",
     "output_type": "stream",
     "text": [
      "Я больше никогда не буду писать \"dfsafd\"\n",
      "Я больше никогда не буду писать \"dfsafd\"\n"
     ]
    }
   ],
   "source": [
    "N = int(input())\n",
    "execution = input()\n",
    "for i in range(N):\n",
    "    print(f'Я больше никогда не буду писать \"{execution}\"')"
   ]
  },
  {
   "cell_type": "code",
   "execution_count": 35,
   "metadata": {},
   "outputs": [
    {
     "name": "stdout",
     "output_type": "stream",
     "text": [
      "50\n"
     ]
    }
   ],
   "source": [
    "N, M = int(input()), int(input())\n",
    "print(int((N/2) * M))"
   ]
  },
  {
   "cell_type": "code",
   "execution_count": 71,
   "metadata": {},
   "outputs": [
    {
     "name": "stdout",
     "output_type": "stream",
     "text": [
      "Группа №8.\n",
      "2. Danya.\n",
      "Шкафчик: 832.\n",
      "Кроватка: 3.\n"
     ]
    }
   ],
   "source": [
    "name, number = input(), int(input())\n",
    "print(f\"Группа №{number//100}.\\n{number % 100 % 10}. {name}.\\nШкафчик: {number}.\\nКроватка: {number % 100 // 10}.\")"
   ]
  },
  {
   "cell_type": "code",
   "execution_count": 70,
   "metadata": {},
   "outputs": [
    {
     "data": {
      "text/plain": [
       "3"
      ]
     },
     "execution_count": 70,
     "metadata": {},
     "output_type": "execute_result"
    }
   ],
   "source": [
    "832 % 100 // 10"
   ]
  },
  {
   "cell_type": "code",
   "execution_count": null,
   "metadata": {},
   "outputs": [],
   "source": []
  }
 ],
 "metadata": {
  "kernelspec": {
   "display_name": "Python 3 (ipykernel)",
   "language": "python",
   "name": "python3"
  },
  "language_info": {
   "codemirror_mode": {
    "name": "ipython",
    "version": 3
   },
   "file_extension": ".py",
   "mimetype": "text/x-python",
   "name": "python",
   "nbconvert_exporter": "python",
   "pygments_lexer": "ipython3",
   "version": "3.11.4"
  },
  "orig_nbformat": 4
 },
 "nbformat": 4,
 "nbformat_minor": 2
}
