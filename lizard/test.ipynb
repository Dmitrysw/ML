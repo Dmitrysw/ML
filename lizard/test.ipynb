{
 "cells": [
  {
   "cell_type": "code",
   "execution_count": 1,
   "metadata": {},
   "outputs": [
    {
     "name": "stdout",
     "output_type": "stream",
     "text": [
      "Привет, Dmitry\n"
     ]
    }
   ],
   "source": [
    "name = \"Dmitry\"\n",
    "print(f\"Привет, {name}\")"
   ]
  },
  {
   "cell_type": "code",
   "execution_count": 2,
   "metadata": {},
   "outputs": [
    {
     "name": "stdout",
     "output_type": "stream",
     "text": [
      "Привет, Diman\n"
     ]
    }
   ],
   "source": [
    "name = input(\"Как Вас зовут?\")\n",
    "print (\"Привет,\", name)"
   ]
  },
  {
   "cell_type": "code",
   "execution_count": 3,
   "metadata": {},
   "outputs": [
    {
     "name": "stdout",
     "output_type": "stream",
     "text": [
      "dddddd\n"
     ]
    }
   ],
   "source": [
    "string = input()\n",
    "print(string * 3)"
   ]
  },
  {
   "cell_type": "code",
   "execution_count": 4,
   "metadata": {},
   "outputs": [
    {
     "ename": "ValueError",
     "evalue": "could not convert string to float: 'dd'",
     "output_type": "error",
     "traceback": [
      "\u001b[1;31m---------------------------------------------------------------------------\u001b[0m",
      "\u001b[1;31mValueError\u001b[0m                                Traceback (most recent call last)",
      "Cell \u001b[1;32mIn[4], line 1\u001b[0m\n\u001b[1;32m----> 1\u001b[0m cash \u001b[39m=\u001b[39m \u001b[39mfloat\u001b[39;49m(\u001b[39minput\u001b[39;49m())\n\u001b[0;32m      2\u001b[0m \u001b[39mprint\u001b[39m(cash \u001b[39m-\u001b[39m \u001b[39m2.5\u001b[39m \u001b[39m*\u001b[39m \u001b[39m38\u001b[39m)\n",
      "\u001b[1;31mValueError\u001b[0m: could not convert string to float: 'dd'"
     ]
    }
   ],
   "source": [
    "cash = float(input())\n",
    "print(cash - 2.5 * 38)"
   ]
  },
  {
   "cell_type": "code",
   "execution_count": 12,
   "metadata": {},
   "outputs": [
    {
     "name": "stdout",
     "output_type": "stream",
     "text": [
      "Чек\n",
      "черешня - 5кг - 2руб/кг\n",
      "Итого: 10руб\n",
      "Внесено: 50руб\n",
      "Cдача: 40руб\n"
     ]
    }
   ],
   "source": [
    "name = input()\n",
    "price = int(input())\n",
    "weight = int(input())\n",
    "money = int(input())\n",
    "print(\"Чек\")\n",
    "print(name, \" - \", weight,  \"кг - \", price, \"руб/кг\", sep=\"\")\n",
    "print(f\"Итого: {price * weight}руб\")\n",
    "print(f\"Внесено: {money}руб\")\n",
    "print(f\"Cдача: {money -price * weight}руб\")"
   ]
  },
  {
   "cell_type": "code",
   "execution_count": 13,
   "metadata": {},
   "outputs": [
    {
     "name": "stdout",
     "output_type": "stream",
     "text": [
      "Купи слонаКупи слонаКупи слона\n"
     ]
    }
   ],
   "source": [
    "N = int(input())\n",
    "print (\"Купи слона\" * N)"
   ]
  },
  {
   "cell_type": "code",
   "execution_count": 23,
   "metadata": {},
   "outputs": [
    {
     "name": "stdout",
     "output_type": "stream",
     "text": [
      "Купи слона!\n",
      "Купи слона!\n"
     ]
    }
   ],
   "source": [
    "N = int(input())\n",
    "for i in range(N):\n",
    "    print(\"Купи слона!\")"
   ]
  },
  {
   "cell_type": "code",
   "execution_count": 31,
   "metadata": {},
   "outputs": [
    {
     "name": "stdout",
     "output_type": "stream",
     "text": [
      "Я больше никогда не буду писать \"dfsafd\"\n",
      "Я больше никогда не буду писать \"dfsafd\"\n"
     ]
    }
   ],
   "source": [
    "N = int(input())\n",
    "execution = input()\n",
    "for i in range(N):\n",
    "    print(f'Я больше никогда не буду писать \"{execution}\"')"
   ]
  },
  {
   "cell_type": "code",
   "execution_count": 35,
   "metadata": {},
   "outputs": [
    {
     "name": "stdout",
     "output_type": "stream",
     "text": [
      "50\n"
     ]
    }
   ],
   "source": [
    "N, M = int(input()), int(input())\n",
    "print(int((N/2) * M))"
   ]
  },
  {
   "cell_type": "code",
   "execution_count": 71,
   "metadata": {},
   "outputs": [
    {
     "name": "stdout",
     "output_type": "stream",
     "text": [
      "Группа №8.\n",
      "2. Danya.\n",
      "Шкафчик: 832.\n",
      "Кроватка: 3.\n"
     ]
    }
   ],
   "source": [
    "name, number = input(), int(input())\n",
    "print(f\"Группа №{number//100}.\\n{number % 100 % 10}. {name}.\\nШкафчик: {number}.\\nКроватка: {number % 100 // 10}.\")"
   ]
  },
  {
   "cell_type": "code",
   "execution_count": 70,
   "metadata": {},
   "outputs": [
    {
     "data": {
      "text/plain": [
       "3"
      ]
     },
     "execution_count": 70,
     "metadata": {},
     "output_type": "execute_result"
    }
   ],
   "source": [
    "832 % 100 // 10"
   ]
  },
  {
   "cell_type": "code",
   "execution_count": 4,
   "metadata": {},
   "outputs": [
    {
     "name": "stdout",
     "output_type": "stream",
     "text": [
      "2143\n"
     ]
    }
   ],
   "source": [
    "number = input()\n",
    "print(int(number[1] + number[0] + number[3] + number[2]))"
   ]
  },
  {
   "cell_type": "code",
   "execution_count": 7,
   "metadata": {},
   "outputs": [],
   "source": [
    "y = \"34\"\n"
   ]
  },
  {
   "cell_type": "code",
   "execution_count": 28,
   "metadata": {},
   "outputs": [
    {
     "name": "stdout",
     "output_type": "stream",
     "text": [
      "234\n"
     ]
    }
   ],
   "source": [
    "number_1, number_2 = int(input()), int(input())\n",
    "print(str((number_1 // 100 + number_2 // 100) % 10) + str((number_1 // 10 %\n",
    "      10 + number_2 // 10 % 10) % 10) + str((number_1 % 10 + number_2 % 10) % 10))"
   ]
  },
  {
   "cell_type": "code",
   "execution_count": 25,
   "metadata": {},
   "outputs": [
    {
     "data": {
      "text/plain": [
       "2"
      ]
     },
     "execution_count": 25,
     "metadata": {},
     "output_type": "execute_result"
    }
   ],
   "source": [
    "123 // 10 % 10"
   ]
  },
  {
   "cell_type": "code",
   "execution_count": 21,
   "metadata": {},
   "outputs": [
    {
     "data": {
      "text/plain": [
       "8"
      ]
     },
     "execution_count": 21,
     "metadata": {},
     "output_type": "execute_result"
    }
   ],
   "source": [
    "18 % 10"
   ]
  },
  {
   "cell_type": "code",
   "execution_count": 30,
   "metadata": {},
   "outputs": [
    {
     "name": "stdout",
     "output_type": "stream",
     "text": [
      "25\n",
      "0\n"
     ]
    }
   ],
   "source": [
    "children, candies = int(input()), int(input())\n",
    "print(candies // children, candies % children, sep=\"\\n\")"
   ]
  },
  {
   "cell_type": "code",
   "execution_count": 31,
   "metadata": {},
   "outputs": [
    {
     "name": "stdout",
     "output_type": "stream",
     "text": [
      "5\n"
     ]
    }
   ],
   "source": [
    "red, green, blue = int(input()), int(input()), int(input())\n",
    "print(red + blue + 1)"
   ]
  },
  {
   "cell_type": "code",
   "execution_count": 47,
   "metadata": {},
   "outputs": [
    {
     "name": "stdout",
     "output_type": "stream",
     "text": [
      "08:07\n"
     ]
    }
   ],
   "source": [
    "hour, current_minute, minute_for_delivery = int(\n",
    "    input()), int(input()), int(input())\n",
    "print(f\"{((hour + ((minute_for_delivery + current_minute) // 60)) % 24):0>2}:\\\n",
    "      {((minute_for_delivery + current_minute) % 60):0>2}\")"
   ]
  },
  {
   "cell_type": "code",
   "execution_count": 42,
   "metadata": {},
   "outputs": [
    {
     "data": {
      "text/plain": [
       "2"
      ]
     },
     "execution_count": 42,
     "metadata": {},
     "output_type": "execute_result"
    }
   ],
   "source": [
    "(((1440 // 60)) + 2) % 24"
   ]
  },
  {
   "cell_type": "code",
   "execution_count": 50,
   "metadata": {},
   "outputs": [
    {
     "name": "stdout",
     "output_type": "stream",
     "text": [
      "3.30\n"
     ]
    }
   ],
   "source": [
    "warehouse, shop, speed = int(input()), int(input()), int(input())\n",
    "print(f\"{(shop - warehouse) / speed:.2f}\")"
   ]
  },
  {
   "cell_type": "code",
   "execution_count": 69,
   "metadata": {},
   "outputs": [],
   "source": [
    "str = \"10110111\"\n",
    "sum = 0\n",
    "for i in range(1, len(str) + 1):\n",
    "    sum += int(str[-i]) * (2 ** (i - 1)) "
   ]
  },
  {
   "cell_type": "code",
   "execution_count": 71,
   "metadata": {},
   "outputs": [
    {
     "data": {
      "text/plain": [
       "966"
      ]
     },
     "execution_count": 71,
     "metadata": {},
     "output_type": "execute_result"
    }
   ],
   "source": [
    "sum + 783\n"
   ]
  },
  {
   "cell_type": "code",
   "execution_count": 73,
   "metadata": {},
   "outputs": [
    {
     "name": "stdout",
     "output_type": "stream",
     "text": [
      "966\n"
     ]
    }
   ],
   "source": [
    "all, last = int(input()), input()\n",
    "sum = 0\n",
    "for i in range(1, len(last) + 1):\n",
    "    sum += int(last[-i]) * (2 ** (i - 1))\n",
    "print(all + sum)"
   ]
  },
  {
   "cell_type": "code",
   "execution_count": 76,
   "metadata": {},
   "outputs": [
    {
     "name": "stdout",
     "output_type": "stream",
     "text": [
      "136\n"
     ]
    }
   ],
   "source": [
    "all, last = int(input()), input()\n",
    "print(all + int(last, 2))"
   ]
  },
  {
   "cell_type": "code",
   "execution_count": 77,
   "metadata": {},
   "outputs": [
    {
     "name": "stdout",
     "output_type": "stream",
     "text": [
      "27\n"
     ]
    }
   ],
   "source": [
    "price, nominal = int(input(), 2), int(input())\n",
    "print(nominal - price)\n",
    "goods = Черемша\n",
    "print(f\"Товар:\")"
   ]
  },
  {
   "cell_type": "code",
   "execution_count": 14,
   "metadata": {},
   "outputs": [
    {
     "name": "stdout",
     "output_type": "stream",
     "text": [
      "================Чек================\n",
      "Товар:                         dasd\n",
      "Цена:               30кг * 20руб/кг\n",
      "Итого:                       600руб\n",
      "Внесено:                     450руб\n",
      "Сдача:                      -150руб\n",
      "===================================\n"
     ]
    }
   ],
   "source": [
    "name, price, weight, money = input(), int(input()), int(input()), int(input())\n",
    "print(\"================Чек================\")\n",
    "print(\"Товар:\", \" \" * (29 - len(name)), name, sep=\"\")\n",
    "print(\"Цена:\", \" \" * (19 - len(str(weight)) - len(str(price))),\n",
    "      weight, \"кг * \", price, \"руб/кг\", sep=\"\")\n",
    "print(\"Итого:\", \" \" * (26 - len(str(price * weight))),\n",
    "      price * weight, \"руб\", sep=\"\")\n",
    "print(\"Внесено:\", \" \" * (24 - len(str(money))), money, \"руб\", sep=\"\")\n",
    "print(\"Сдача:\", \" \" * (26 - len(str(money - price * weight))),\n",
    "      money - price * weight, \"руб\", sep=\"\")\n",
    "print(\"=\"*35)"
   ]
  },
  {
   "cell_type": "code",
   "execution_count": 1,
   "metadata": {},
   "outputs": [
    {
     "data": {
      "text/plain": [
       "6"
      ]
     },
     "execution_count": 1,
     "metadata": {},
     "output_type": "execute_result"
    }
   ],
   "source": [
    "len(\"gfdgfd\")"
   ]
  },
  {
   "cell_type": "code",
   "execution_count": 131,
   "metadata": {},
   "outputs": [
    {
     "ename": "ValueError",
     "evalue": "invalid literal for int() with base 10: 'dasd'",
     "output_type": "error",
     "traceback": [
      "\u001b[1;31m---------------------------------------------------------------------------\u001b[0m",
      "\u001b[1;31mValueError\u001b[0m                                Traceback (most recent call last)",
      "Cell \u001b[1;32mIn[131], line 1\u001b[0m\n\u001b[1;32m----> 1\u001b[0m name, price, weight, money \u001b[39m=\u001b[39m \u001b[39minput\u001b[39m(), \u001b[39mint\u001b[39;49m(\u001b[39minput\u001b[39;49m()), \u001b[39mint\u001b[39m(\u001b[39minput\u001b[39m()), \u001b[39mint\u001b[39m(\u001b[39minput\u001b[39m())\n\u001b[0;32m      2\u001b[0m \u001b[39mprint\u001b[39m(\u001b[39m\"\u001b[39m\u001b[39m================Чек================\u001b[39m\u001b[39m\"\u001b[39m)\n\u001b[0;32m      3\u001b[0m leng \u001b[39m=\u001b[39m \u001b[39m29\u001b[39m\u001b[39m-\u001b[39m\u001b[39mlen\u001b[39m(name)\n",
      "\u001b[1;31mValueError\u001b[0m: invalid literal for int() with base 10: 'dasd'"
     ]
    }
   ],
   "source": [
    "name, price, weight, money = input(), int(input()), int(input()), int(input())\n",
    "print(\"================Чек================\")\n",
    "leng = 29-len(name)\n",
    "print(f\"Товар:{name: 0>35}\")"
   ]
  },
  {
   "cell_type": "code",
   "execution_count": 118,
   "metadata": {},
   "outputs": [
    {
     "ename": "ValueError",
     "evalue": "Invalid format specifier '0>leng' for object of type 'str'",
     "output_type": "error",
     "traceback": [
      "\u001b[1;31m---------------------------------------------------------------------------\u001b[0m",
      "\u001b[1;31mValueError\u001b[0m                                Traceback (most recent call last)",
      "Cell \u001b[1;32mIn[118], line 1\u001b[0m\n\u001b[1;32m----> 1\u001b[0m \u001b[39mprint\u001b[39m(\u001b[39mf\u001b[39m\u001b[39m\"\u001b[39m\u001b[39m{\u001b[39;00mname\u001b[39m:\u001b[39;00m\u001b[39m0>leng\u001b[39m\u001b[39m}\u001b[39;00m\u001b[39m\"\u001b[39m)\n",
      "\u001b[1;31mValueError\u001b[0m: Invalid format specifier '0>leng' for object of type 'str'"
     ]
    }
   ],
   "source": [
    "print(f\"{name:0>leng}\")"
   ]
  },
  {
   "cell_type": "code",
   "execution_count": 101,
   "metadata": {},
   "outputs": [
    {
     "name": "stdout",
     "output_type": "stream",
     "text": [
      "   Sjoerd ==>       4127\n",
      "     Jack ==>       4098\n",
      "     Dcab ==>       7678\n"
     ]
    }
   ],
   "source": [
    "table = {'Sjoerd': 4127, 'Jack': 4098, 'Dcab': 7678}\n",
    "for name, phone in table.items():\n",
    "    print(f'{name: >9} ==> {phone:10}')"
   ]
  },
  {
   "cell_type": "code",
   "execution_count": null,
   "metadata": {},
   "outputs": [],
   "source": []
  }
 ],
 "metadata": {
  "kernelspec": {
   "display_name": "Python 3 (ipykernel)",
   "language": "python",
   "name": "python3"
  },
  "language_info": {
   "codemirror_mode": {
    "name": "ipython",
    "version": 3
   },
   "file_extension": ".py",
   "mimetype": "text/x-python",
   "name": "python",
   "nbconvert_exporter": "python",
   "pygments_lexer": "ipython3",
   "version": "3.11.4"
  },
  "orig_nbformat": 4
 },
 "nbformat": 4,
 "nbformat_minor": 2
}
