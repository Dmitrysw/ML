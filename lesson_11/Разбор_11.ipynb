{
 "cells": [
  {
   "cell_type": "markdown",
   "metadata": {
    "pycharm": {
     "name": "#%% md\n"
    }
   },
   "source": [
    "### Метрики качества классификации.\n",
    "\n",
    "Сегодня мы научимся использовать различные метрики для сравнения качества моделей.\n",
    "\n",
    "Для начала загрузим данные с предыдущей домашей задачи с небольшим `сюрпризом`. "
   ]
  },
  {
   "cell_type": "code",
   "execution_count": null,
   "metadata": {
    "_cell_guid": "b1076dfc-b9ad-4769-8c92-a6c4dae69d19",
    "_uuid": "8f2839f25d086af736a60e9eeb907d3b93b6e0e5",
    "execution": {
     "iopub.execute_input": "2022-04-18T19:36:17.596948Z",
     "iopub.status.busy": "2022-04-18T19:36:17.596460Z",
     "iopub.status.idle": "2022-04-18T19:36:17.631863Z",
     "shell.execute_reply": "2022-04-18T19:36:17.630527Z",
     "shell.execute_reply.started": "2022-04-18T19:36:17.596825Z"
    },
    "pycharm": {
     "name": "#%%\n"
    }
   },
   "outputs": [],
   "source": [
    "import numpy as np\n",
    "import pandas as pd\n",
    "import matplotlib.pyplot as plt\n",
    "\n",
    "data = pd.read_csv(\"processed_train.csv\")\n",
    "\n",
    "data.head()"
   ]
  },
  {
   "cell_type": "markdown",
   "metadata": {
    "pycharm": {
     "name": "#%% md\n"
    }
   },
   "source": [
    "Один из гномов очень завидовал своим братьям, переплюнувшим его по `accuracy` в бонусном задании предудыщей домашней работы. Поэтому совершил следующее злодеяние: Выкинул кучу объектов таким образом, чтобы баланс классов нарушился! \n",
    "\n",
    "`Может, accuracy у них станет еще больше, зато преподаватель их отругает, ведь использовать accuracy при дизбалансе не очень-то хорошо!` - подумал гном\n",
    "\n",
    "Замерьте количество объектов в порченном датафрейме.\n",
    "В какой пропорции соотносятся классы теперь?"
   ]
  },
  {
   "cell_type": "code",
   "execution_count": null,
   "metadata": {
    "execution": {
     "iopub.execute_input": "2022-04-18T20:14:01.576406Z",
     "iopub.status.busy": "2022-04-18T20:14:01.576086Z",
     "iopub.status.idle": "2022-04-18T20:14:01.616370Z",
     "shell.execute_reply": "2022-04-18T20:14:01.614785Z",
     "shell.execute_reply.started": "2022-04-18T20:14:01.576375Z"
    },
    "pycharm": {
     "name": "#%%\n"
    }
   },
   "outputs": [],
   "source": [
    "print(data.shape)\n",
    "data.head()"
   ]
  },
  {
   "cell_type": "code",
   "execution_count": null,
   "metadata": {
    "pycharm": {
     "name": "#%%\n"
    }
   },
   "outputs": [],
   "source": [
    "data.groupby('HasDetections').size()"
   ]
  },
  {
   "cell_type": "markdown",
   "metadata": {
    "pycharm": {
     "name": "#%% md\n"
    }
   },
   "source": [
    "-- *Классы несбалансированы*"
   ]
  },
  {
   "cell_type": "markdown",
   "metadata": {
    "pycharm": {
     "name": "#%% md\n"
    }
   },
   "source": [
    "Произведем процедуру отложенной выборки"
   ]
  },
  {
   "cell_type": "code",
   "execution_count": null,
   "metadata": {
    "pycharm": {
     "name": "#%%\n"
    }
   },
   "outputs": [],
   "source": [
    "y = data['HasDetections']\n",
    "X = data.drop('HasDetections', axis=1)\n",
    "\n",
    "from sklearn.model_selection import train_test_split\n",
    "X_train, X_test, y_train, y_test  = train_test_split(X, y, \n",
    "                                                     test_size=0.25, \n",
    "                                                     shuffle=True, \n",
    "                                                     random_state=1)"
   ]
  },
  {
   "cell_type": "markdown",
   "metadata": {
    "pycharm": {
     "name": "#%% md\n"
    }
   },
   "source": [
    "Обучите логистическую регрессию с параметром `l2` регуляризации `C = 0.01` на порченном датасете.\n",
    "Замерьте долю верно классифицированных объектов на трейне и на тесте. Можете использовать абсолютно любые конструкции, главное не забыть пронормировать данные с помощью `StandardScaler`"
   ]
  },
  {
   "cell_type": "code",
   "execution_count": null,
   "metadata": {
    "execution": {
     "iopub.execute_input": "2022-04-18T20:20:31.238316Z",
     "iopub.status.busy": "2022-04-18T20:20:31.238010Z",
     "iopub.status.idle": "2022-04-18T20:20:55.483158Z",
     "shell.execute_reply": "2022-04-18T20:20:55.482073Z",
     "shell.execute_reply.started": "2022-04-18T20:20:31.238283Z"
    },
    "pycharm": {
     "name": "#%%\n"
    }
   },
   "outputs": [],
   "source": [
    "from sklearn.preprocessing import StandardScaler\n",
    "from sklearn.linear_model import LogisticRegression\n",
    "from sklearn.pipeline import Pipeline\n",
    "\n",
    "pipe = Pipeline([('scaler', StandardScaler()), \n",
    "                 ('LR', LogisticRegression(penalty='l2', \n",
    "                                           C=0.01))])\n",
    "\n",
    "from sklearn.model_selection import cross_validate\n",
    "import datetime\n",
    "\n",
    "custom_cv = [(X_train.index.to_list(), X_test.index.to_list())]\n",
    "\n",
    "begin_time = datetime.datetime.now()\n",
    "\n",
    "cv_result_pipe = cross_validate(pipe, X, y, scoring='accuracy',\n",
    "                                cv=custom_cv, return_train_score=True)\n",
    "\n",
    "\n",
    "print(f\"Accuracy на трейне: {np.mean(cv_result_pipe['train_score']).round(3)}\")\n",
    "print(f\"Accuracy на тесте: {np.mean(cv_result_pipe['test_score']).round(3)}\")\n",
    "\n",
    "print(f\"Время работы алгоритма: {datetime.datetime.now() - begin_time}\")"
   ]
  },
  {
   "cell_type": "markdown",
   "metadata": {
    "pycharm": {
     "name": "#%% md\n"
    }
   },
   "source": [
    "Кажется, что, по сравнению с результатами в предыдущей домашней работе, мы построили куда более сильную модель. Но мы сильно заблуждаемся, если в это верим!"
   ]
  },
  {
   "cell_type": "markdown",
   "metadata": {
    "pycharm": {
     "name": "#%% md\n"
    }
   },
   "source": [
    "**Задание 2.**\n",
    "Для бинарной классификации можно построить так называемую **confision matrix** (матрица ошибок), которая подсчитывает количество правильных и неправильных предсказаний и разделяет их по двум классам.\n",
    "\n",
    "|          | a(x) = -1  | a(x) = +1  |\n",
    "|----------|------------|------------|\n",
    "|  y = -1  |     TN     |     FP     |\n",
    "|  y = +1  |     FN     |     TP     |\n",
    "\n",
    "* Positive/Negative отражает то, к какому классу определила объект наша модель $a(x)$, в нашем случае нулевой класс соответствует Negative (нет вируса), а единичный класс - Positive (есть вирус).\n",
    "\n",
    "* True/False просто показывает совпало ли предсказание модели с реальным классом объекта, поэтому на главной диагонали стоят True, а на побочной False.\n",
    "\n",
    "**2.1)** Постройте вручную матрицу ошибок на тестовой выборке, используя реальные и предсказанные вашей моделью метки классов. Потом сравните результат с методом `confusion_matrix` в `sklearn`."
   ]
  },
  {
   "cell_type": "code",
   "execution_count": null,
   "metadata": {
    "execution": {
     "iopub.execute_input": "2022-04-18T20:21:30.605778Z",
     "iopub.status.busy": "2022-04-18T20:21:30.605442Z",
     "iopub.status.idle": "2022-04-18T20:21:30.616526Z",
     "shell.execute_reply": "2022-04-18T20:21:30.615956Z",
     "shell.execute_reply.started": "2022-04-18T20:21:30.605741Z"
    },
    "pycharm": {
     "name": "#%%\n"
    }
   },
   "outputs": [],
   "source": [
    "pipe.fit(X_train, y_train)\n",
    "\n",
    "pred_test = pipe.predict(X_test)\n",
    "\n",
    "tn = ((pred_test == 0) * (y_test == 0)).sum()\n",
    "fp = ((pred_test == 1) * (y_test == 0)).sum()\n",
    "fn = ((pred_test == 0) * (y_test == 1)).sum()\n",
    "tp = ((pred_test == 1) * (y_test == 1)).sum()\n",
    "np.array([[tn, fp], [fn, tp]])"
   ]
  },
  {
   "cell_type": "code",
   "execution_count": null,
   "metadata": {
    "execution": {
     "iopub.execute_input": "2022-04-18T20:21:35.011917Z",
     "iopub.status.busy": "2022-04-18T20:21:35.011578Z",
     "iopub.status.idle": "2022-04-18T20:21:35.023948Z",
     "shell.execute_reply": "2022-04-18T20:21:35.023227Z",
     "shell.execute_reply.started": "2022-04-18T20:21:35.011882Z"
    },
    "pycharm": {
     "name": "#%%\n"
    }
   },
   "outputs": [],
   "source": [
    "from sklearn.metrics import confusion_matrix\n",
    "\n",
    "conf_mx = confusion_matrix(y_test, pred_test)\n",
    "conf_mx"
   ]
  },
  {
   "cell_type": "markdown",
   "metadata": {
    "pycharm": {
     "name": "#%% md\n"
    }
   },
   "source": [
    "**2.2)** Посчитайте стандартную метрику Accuracy на тестовой выборке c помощью матрицы ошибок. Напомним, что это просто доля верно предсказанных меток:\n",
    "$\n",
    "ACC = \\dfrac{TP + TN}{TP + TN + FP + FN}\n",
    "$.\n",
    "\n",
    "(Не стоит переводить accuracy как точность, так как под точностью иногда еще понимают precision, который является совсем другим показателем! Лучше всегда использовать английские версии метрик, чтобы не возникало недопониманий. )"
   ]
  },
  {
   "cell_type": "code",
   "execution_count": null,
   "metadata": {
    "execution": {
     "iopub.execute_input": "2022-04-18T20:21:39.346296Z",
     "iopub.status.busy": "2022-04-18T20:21:39.345406Z",
     "iopub.status.idle": "2022-04-18T20:21:39.353142Z",
     "shell.execute_reply": "2022-04-18T20:21:39.352372Z",
     "shell.execute_reply.started": "2022-04-18T20:21:39.346248Z"
    },
    "pycharm": {
     "name": "#%%\n"
    }
   },
   "outputs": [],
   "source": [
    "ACC = np.diagonal(conf_mx).sum() / conf_mx.sum()  #или\n",
    "ACC = (pred_test == y_test).mean()\n",
    "\n",
    "print(f\"test ACC: {ACC}\")"
   ]
  },
  {
   "cell_type": "markdown",
   "metadata": {
    "pycharm": {
     "name": "#%% md\n"
    }
   },
   "source": [
    "Мы ожидаем, что полученная accuracy совпадет с той, что была подсчитана во время использования функции `cross_validate`"
   ]
  },
  {
   "cell_type": "markdown",
   "metadata": {
    "pycharm": {
     "name": "#%% md\n"
    }
   },
   "source": [
    "Мы знаем, что accuracy не является хорошим показателем качества модели при несбалансированных классах. \n",
    "\n",
    "Допустим у нас 1000 объектов, где 990 имеют метку класса 0, а остальные 10 имеют метку 1. В нашем случае, класс 0 соответствует компьютерам, на которых нет вируса, а класс 1 - на которых есть. Тогда accuracy у константной модели, которая всегда предсказывает нулевой класс будет $0.99$, хотя задача как раз состоит в том, чтобы детектировать эти самые 10 объектов, которые соответствуют зараженным компьютерам. "
   ]
  },
  {
   "cell_type": "markdown",
   "metadata": {
    "pycharm": {
     "name": "#%% md\n"
    }
   },
   "source": [
    "При несбалансированных выборках с помощью матрицы ошибок можно посчитать следующие метрики\n",
    "\n",
    "* **Precision** показывает \"точность\" попадания нашего классификатора в положительный класс, то есть долю правильно предсказанных положительных объектов среди всех **предсказанных** положительных объектов. \n",
    "\n",
    "* **Recall** показывает \"полноту\" предсказаний нашего классификатора, то есть долю правильно предсказанных положительных объектов среди всех **реальных** положительных объектов\n",
    "\n",
    "**2.3)** Посчитайте Precision и Recall с помощью матрицы ошибок. Потом сравните с реализацией в sklearn. Напомним формулы из лекции:\n",
    "\n",
    "$$\n",
    "Precision = \\dfrac{TP}{TP + FP}, \\quad Recall = \\dfrac{TP}{TP + FN}\n",
    "$$"
   ]
  },
  {
   "cell_type": "code",
   "execution_count": null,
   "metadata": {
    "execution": {
     "iopub.execute_input": "2022-04-18T20:22:01.870920Z",
     "iopub.status.busy": "2022-04-18T20:22:01.870590Z",
     "iopub.status.idle": "2022-04-18T20:22:01.896558Z",
     "shell.execute_reply": "2022-04-18T20:22:01.895618Z",
     "shell.execute_reply.started": "2022-04-18T20:22:01.870886Z"
    },
    "pycharm": {
     "name": "#%%\n"
    }
   },
   "outputs": [],
   "source": [
    "from sklearn.metrics import recall_score, precision_score\n",
    "\n",
    "PRECISION = conf_mx[1, 1] / conf_mx[:, 1].sum()\n",
    "RECALL = conf_mx[1, 1] / conf_mx[1].sum()  \n",
    "\n",
    "# или\n",
    "\n",
    "PRECISION = precision_score(y_test, pred_test)\n",
    "RECALL = recall_score(y_test, pred_test)\n",
    "\n",
    "print(f\"Precision: {PRECISION}\")\n",
    "print(f\"Recall: {RECALL}\")"
   ]
  },
  {
   "cell_type": "markdown",
   "metadata": {
    "pycharm": {
     "name": "#%% md\n"
    }
   },
   "source": [
    "Теперь картина кажется не такой уж лучезарной!"
   ]
  },
  {
   "cell_type": "markdown",
   "metadata": {
    "pycharm": {
     "name": "#%% md\n"
    }
   },
   "source": [
    "Вспомним, \n",
    "\n",
    "Метод `.predict` на самом деле берёт предсказанные вероятности для каждого класса и каждому объекту присваивает тот класс, у которого больше вероятность. \n",
    "\n",
    "Так как мы сейчас занимаемся бинарной классификацией, то большая вероятность определяется просто сравнением с порогом 0.5.\n",
    "\n",
    "**2.4)** Воспользуйтесь методом `.predict_proba` и с помощью сравнения с порогом 0.5 постройте вектор предсказаний. Проверьте результат на ранее предсказанных метках, вектора должны совпадать."
   ]
  },
  {
   "cell_type": "code",
   "execution_count": null,
   "metadata": {
    "execution": {
     "iopub.execute_input": "2022-04-18T20:22:18.856848Z",
     "iopub.status.busy": "2022-04-18T20:22:18.856503Z",
     "iopub.status.idle": "2022-04-18T20:22:18.869936Z",
     "shell.execute_reply": "2022-04-18T20:22:18.869195Z",
     "shell.execute_reply.started": "2022-04-18T20:22:18.856814Z"
    },
    "pycharm": {
     "name": "#%%\n"
    }
   },
   "outputs": [],
   "source": [
    "pred_probs = pipe.predict_proba(X_test)\n",
    "np.all((pred_probs[:, 0] < 0.5) == pred_test)"
   ]
  },
  {
   "cell_type": "markdown",
   "metadata": {
    "pycharm": {
     "name": "#%% md\n"
    }
   },
   "source": [
    "**Задание 3.**\n",
    "Решим бизнес задачу. \\\n",
    "**3.1)** Допустим, заказчик требует, чтобы наш классификатор в 60% случаев правильно предсказывал наличие вируса на компьютере, чтобы не беспокоить клиентов из-за ложноположительных результатов. \\\n",
    "Как решить эту задачу? =>\n",
    "Надо подобрать порог, который максимизирует `recall` при условии, что `precision > 0.6`.\n",
    "\n",
    "$$\n",
    "(recall | precision > 0.6) \\to \\max_{thres}\n",
    "$$"
   ]
  },
  {
   "cell_type": "code",
   "execution_count": null,
   "metadata": {
    "execution": {
     "iopub.execute_input": "2022-04-18T21:30:53.998031Z",
     "iopub.status.busy": "2022-04-18T21:30:53.997709Z",
     "iopub.status.idle": "2022-04-18T21:30:54.007307Z",
     "shell.execute_reply": "2022-04-18T21:30:54.005784Z",
     "shell.execute_reply.started": "2022-04-18T21:30:53.997997Z"
    },
    "pycharm": {
     "name": "#%%\n"
    }
   },
   "outputs": [],
   "source": [
    "from sklearn.metrics import precision_recall_curve\n",
    "\n",
    "### Строим всевозможные комбинации precision, recall, threshold\n",
    "\n",
    "precision, recall, thres = precision_recall_curve(y_test, pred_probs[:, 1])\n",
    "\n",
    "### Находим такую тройку, при которой recall максимален, а precision > 0.6\n",
    "\n",
    "ind = np.where(recall == recall[precision > 0.6].max())\n",
    "\n",
    "print(f\"Precison:\\t {precision[ind][-1]}\")\n",
    "print(f\"Recall: \\t {recall[ind][-1]}\")\n",
    "print(f\"Threshold:\\t {thres[ind][-1]}\")"
   ]
  },
  {
   "cell_type": "markdown",
   "metadata": {
    "pycharm": {
     "name": "#%% md\n"
    }
   },
   "source": [
    "Теперь чтобы соответствовать установленным условиям, мы будем замерять вероятности для объектов и сравнивать и с найденным `Threshold`, который решает нашу задачу"
   ]
  },
  {
   "cell_type": "markdown",
   "metadata": {
    "pycharm": {
     "name": "#%% md\n"
    }
   },
   "source": [
    "**3.2)** Аналогично решите задачу, где заказчик требует, чтобы наш классификатор находил хотя бы 20% компьютеров с вирусом, среди всех действительно зараженных компьютеров.\n",
    "$$\n",
    "(precision | recall > 0.2) \\to \\max_{thres}\n",
    "$$"
   ]
  },
  {
   "cell_type": "code",
   "execution_count": null,
   "metadata": {
    "execution": {
     "iopub.execute_input": "2022-04-18T21:31:02.333007Z",
     "iopub.status.busy": "2022-04-18T21:31:02.331845Z",
     "iopub.status.idle": "2022-04-18T21:31:02.341309Z",
     "shell.execute_reply": "2022-04-18T21:31:02.340237Z",
     "shell.execute_reply.started": "2022-04-18T21:31:02.332952Z"
    },
    "pycharm": {
     "name": "#%%\n"
    }
   },
   "outputs": [],
   "source": [
    "ind = np.where(precision == precision[recall > 0.2].max())\n",
    "\n",
    "print(f\"Precison:\\t {precision[ind][-1]}\")\n",
    "print(f\"Recall: \\t {recall[ind][-1]}\")\n",
    "print(f\"Threshold:\\t {thres[ind][-1]}\")"
   ]
  },
  {
   "cell_type": "markdown",
   "metadata": {
    "pycharm": {
     "name": "#%% md\n"
    }
   },
   "source": [
    "**Задание 4.** На самом деле, можно объединить предыдущие две задачи и максимизировать взвешенную метрику, которая учитывает и Precision, и Recall. \\\n",
    "Посчитайте три такие метрики: среднее арифметическое, среднее геометрическое и минимум. \n",
    "1) Найдите порог, который их максимизирует. \\\n",
    "2) Выведите precision, recall, соответствующие этому порогу. \\\n",
    "3) Нарисуйте линии уровня для каждой из этих метрик, используя функцию `level_lines`. \\\n",
    "4) Изобразите точку $(recall, precision)$ соответствующую этому порогу на графике линий уровня.\n",
    "\n",
    "$$\n",
    "Arithm_{avg} = \\dfrac{P + R}{2}, \\quad Geom_{avg} = \\sqrt{P + R}, \\quad Min = \\min(P, R)\n",
    "$$\n"
   ]
  },
  {
   "cell_type": "code",
   "execution_count": null,
   "metadata": {
    "execution": {
     "iopub.execute_input": "2022-04-18T21:06:41.487631Z",
     "iopub.status.busy": "2022-04-18T21:06:41.487165Z",
     "iopub.status.idle": "2022-04-18T21:06:41.497141Z",
     "shell.execute_reply": "2022-04-18T21:06:41.496096Z",
     "shell.execute_reply.started": "2022-04-18T21:06:41.487592Z"
    },
    "pycharm": {
     "name": "#%%\n"
    }
   },
   "outputs": [],
   "source": [
    "def level_lines(func, name):\n",
    "    x = np.linspace(0, 1.1, 100)\n",
    "    y = np.linspace(0, 1.1, 100)\n",
    "    \n",
    "    X, Y = np.meshgrid(x, y)\n",
    "    Z = func(X, Y)\n",
    "    \n",
    "    plt.figure(figsize=(5, 5))\n",
    "    plt.title(name)\n",
    "    plt.xlabel('Recall')\n",
    "    plt.ylabel('Precision')\n",
    "    plt.contour(X, Y, Z, 15, cmap='plasma');"
   ]
  },
  {
   "cell_type": "code",
   "execution_count": null,
   "metadata": {
    "execution": {
     "iopub.execute_input": "2022-04-18T21:31:12.676559Z",
     "iopub.status.busy": "2022-04-18T21:31:12.675161Z",
     "iopub.status.idle": "2022-04-18T21:31:12.952717Z",
     "shell.execute_reply": "2022-04-18T21:31:12.951877Z",
     "shell.execute_reply.started": "2022-04-18T21:31:12.676468Z"
    },
    "pycharm": {
     "name": "#%%\n"
    }
   },
   "outputs": [],
   "source": [
    "### Покажем на примере среднего арифметического, что должно у вас получиться\n",
    "\n",
    "metric_func = lambda x, y: (x + y)/2\n",
    "\n",
    "arithm_idx = (metric_func(precision, recall)).argmax()\n",
    "\n",
    "print(f\"Precision:\\t {precision[arithm_idx]}\")\n",
    "print(f\"Recall: \\t {recall[arithm_idx]}\")\n",
    "print(f\"Threshold:\\t {thres[arithm_idx]}\")\n",
    "\n",
    "level_lines(metric_func, \"Arithmetic AVG\")\n",
    "plt.plot(recall[arithm_idx], precision[arithm_idx], 'ro');"
   ]
  },
  {
   "cell_type": "code",
   "execution_count": null,
   "metadata": {
    "execution": {
     "iopub.execute_input": "2022-04-18T21:06:44.262744Z",
     "iopub.status.busy": "2022-04-18T21:06:44.262365Z",
     "iopub.status.idle": "2022-04-18T21:06:44.552416Z",
     "shell.execute_reply": "2022-04-18T21:06:44.551195Z",
     "shell.execute_reply.started": "2022-04-18T21:06:44.262695Z"
    },
    "pycharm": {
     "name": "#%%\n"
    }
   },
   "outputs": [],
   "source": [
    "### Геометрическое\n",
    "\n",
    "metric_func = lambda x, y: np.sqrt(x * y)\n",
    "geom_idx = (metric_func(precision, recall)).argmax()\n",
    "\n",
    "print(f\"Precision:\\t {precision[geom_idx]}\")\n",
    "print(f\"Recall: \\t {recall[geom_idx]}\")\n",
    "print(f\"Threshold:\\t {thres[geom_idx]}\")\n",
    "\n",
    "level_lines(metric_func, \"Geometric AVG\")\n",
    "plt.plot(recall[geom_idx], precision[geom_idx], 'ro');"
   ]
  },
  {
   "cell_type": "code",
   "execution_count": null,
   "metadata": {
    "execution": {
     "iopub.execute_input": "2022-04-18T21:06:51.137490Z",
     "iopub.status.busy": "2022-04-18T21:06:51.137163Z",
     "iopub.status.idle": "2022-04-18T21:06:51.399211Z",
     "shell.execute_reply": "2022-04-18T21:06:51.398089Z",
     "shell.execute_reply.started": "2022-04-18T21:06:51.137457Z"
    },
    "pycharm": {
     "name": "#%%\n"
    }
   },
   "outputs": [],
   "source": [
    "### Минимум\n",
    "\n",
    "metric_func = lambda x, y: np.minimum(x, y)\n",
    "min_idx = (metric_func(precision, recall)).argmax()  ### Your code here\n",
    "\n",
    "print(f\"Precision:\\t {precision[min_idx]}\")\n",
    "print(f\"Recall: \\t {recall[min_idx]}\")\n",
    "print(f\"Threshold:\\t {thres[min_idx]}\")\n",
    "\n",
    "level_lines(metric_func, \"MIN\")\n",
    "plt.plot(recall[min_idx], precision[min_idx], 'ro');"
   ]
  },
  {
   "cell_type": "markdown",
   "metadata": {
    "pycharm": {
     "name": "#%% md\n"
    }
   },
   "source": [
    "**Задание 5.** Одним из самых распространенных показателей качества является **F-мера**, которая обобщает все вышерассмотренные метрики. Более того, в ней можно регулировать параметр $\\beta^2$, который отвечает за предпочтение между precision и recall. \n",
    "$$\n",
    "F = \\dfrac{(1 + \\beta^2) P \\cdot R}{\\beta^2 P + R}\n",
    "$$\n",
    "* При $\\beta^2 = 1$ и precision, и recall нам важны в равной степени.\n",
    "* При $\\beta^2 > 1$ предпочтение отдается recall. Похоже на решение задачи, где мы фиксируем примлемое для нас значение recall и максимизируем precision.\n",
    "* При $0 < \\beta^2 < 1$ предпочтение отдается precision. Похоже на решение задачи, где мы фиксируем примлемое для нас значение precision и максимизируем recall.\n",
    "\n",
    "Найдите порог, который максимизирует:\n",
    "1) F-меру с $\\beta^2 = 1$, \\\n",
    "2) F-меру с $\\beta^2 = 0.05$, \\\n",
    "3) F-меру с подобранным параметром $\\beta^2$ так, чтобы recall > 0.8.\\\n",
    "Для всех трех случаев выведите precision, recall, threshold и F-меру. \n",
    "Нарисуйте линии уровня и точку, которая максимизирует F-меру по аналогии с предыдущим пунктом."
   ]
  },
  {
   "cell_type": "code",
   "execution_count": null,
   "metadata": {
    "pycharm": {
     "name": "#%%\n"
    }
   },
   "outputs": [],
   "source": [
    "f_metric = lambda p, r, b: (1 + b) * p * r / (b * p + r)"
   ]
  },
  {
   "cell_type": "code",
   "execution_count": null,
   "metadata": {
    "execution": {
     "iopub.execute_input": "2022-04-18T21:35:08.199747Z",
     "iopub.status.busy": "2022-04-18T21:35:08.199283Z",
     "iopub.status.idle": "2022-04-18T21:35:08.483726Z",
     "shell.execute_reply": "2022-04-18T21:35:08.482715Z",
     "shell.execute_reply.started": "2022-04-18T21:35:08.199696Z"
    },
    "pycharm": {
     "name": "#%%\n"
    }
   },
   "outputs": [],
   "source": [
    "### 1 пункт\n",
    "\n",
    "f1_idx = (f_metric(precision, recall, 1)).argmax()\n",
    "\n",
    "print(f\"Precision:\\t {precision[f1_idx]}\")\n",
    "print(f\"Recall: \\t {recall[f1_idx]}\")\n",
    "print(f\"Threshold:\\t {thres[f1_idx]}\")\n",
    "print(f\"F-score:\\t {f_metric(precision[f1_idx], recall[f1_idx], 1)}\")\n",
    "\n",
    "level_lines(lambda x, y: 2 * x * y / (x + y), f\"F-measure, beta = 1$\")\n",
    "plt.plot(recall[f1_idx], precision[f1_idx], 'ro');"
   ]
  },
  {
   "cell_type": "code",
   "execution_count": null,
   "metadata": {
    "execution": {
     "iopub.execute_input": "2022-04-18T21:37:11.185314Z",
     "iopub.status.busy": "2022-04-18T21:37:11.184196Z",
     "iopub.status.idle": "2022-04-18T21:37:11.456684Z",
     "shell.execute_reply": "2022-04-18T21:37:11.455149Z",
     "shell.execute_reply.started": "2022-04-18T21:37:11.185205Z"
    },
    "pycharm": {
     "name": "#%%\n"
    }
   },
   "outputs": [],
   "source": [
    "### 2 пункт\n",
    "\n",
    "b = 0.05\n",
    "f_idx = (f_metric(precision, recall, b)).argmax()\n",
    "\n",
    "print(f\"Precision:\\t {precision[f_idx]}\")\n",
    "print(f\"Recall: \\t {recall[f_idx]}\")\n",
    "print(f\"Threshold:\\t {thres[f_idx]}\")\n",
    "print(f\"F-score:\\t {f_metric(precision[f_idx], recall[f_idx], b)}\")\n",
    "\n",
    "level_lines(lambda x, y: (1 + b) * x * y / (b * x + y), f\"F-measure, beta = {b}$\")\n",
    "plt.plot(recall[f_idx], precision[f_idx], 'ro');"
   ]
  },
  {
   "cell_type": "code",
   "execution_count": null,
   "metadata": {
    "execution": {
     "iopub.execute_input": "2022-04-18T21:37:22.505899Z",
     "iopub.status.busy": "2022-04-18T21:37:22.505490Z",
     "iopub.status.idle": "2022-04-18T21:37:22.779164Z",
     "shell.execute_reply": "2022-04-18T21:37:22.778007Z",
     "shell.execute_reply.started": "2022-04-18T21:37:22.505867Z"
    },
    "pycharm": {
     "name": "#%%\n"
    }
   },
   "outputs": [],
   "source": [
    "### 3 пункт\n",
    "\n",
    "b = 4\n",
    "f_idx = (f_metric(precision, recall, b)).argmax()  ### Your code here\n",
    "\n",
    "print(f\"Precision:\\t {precision[f_idx]}\")\n",
    "print(f\"Recall: \\t {recall[f_idx]}\")\n",
    "print(f\"Threshold:\\t {thres[f_idx]}\")\n",
    "print(f\"F-score:\\t {f_metric(precision[f_idx], recall[f_idx], b)}\")\n",
    "\n",
    "level_lines(lambda x, y: (1 + b) * x * y / (b * x + y), f\"F-measure, beta = {b}$\")\n",
    "plt.plot(recall[f_idx], precision[f_idx], 'ro');"
   ]
  },
  {
   "cell_type": "code",
   "execution_count": null,
   "metadata": {
    "pycharm": {
     "name": "#%%\n"
    }
   },
   "outputs": [],
   "source": []
  }
 ],
 "metadata": {
  "kernelspec": {
   "display_name": "Python 3 (ipykernel)",
   "language": "python",
   "name": "python3"
  },
  "language_info": {
   "codemirror_mode": {
    "name": "ipython",
    "version": 3
   },
   "file_extension": ".py",
   "mimetype": "text/x-python",
   "name": "python",
   "nbconvert_exporter": "python",
   "pygments_lexer": "ipython3",
   "version": "3.7.9"
  }
 },
 "nbformat": 4,
 "nbformat_minor": 4
}