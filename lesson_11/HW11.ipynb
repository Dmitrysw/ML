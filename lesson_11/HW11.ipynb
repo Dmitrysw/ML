{
 "cells": [
  {
   "cell_type": "markdown",
   "metadata": {
    "pycharm": {
     "name": "#%% md\n"
    }
   },
   "source": [
    "### Метрики качества классификации.\n",
    "\n",
    "Сегодня мы научимся использовать различные метрики для оценки качества моделей.\n",
    "\n",
    "Для начала загрузим данные с предыдущей домашней задачи с небольшим `сюрпризом`. "
   ]
  },
  {
   "cell_type": "code",
   "execution_count": 1,
   "metadata": {
    "_cell_guid": "b1076dfc-b9ad-4769-8c92-a6c4dae69d19",
    "_uuid": "8f2839f25d086af736a60e9eeb907d3b93b6e0e5",
    "execution": {
     "iopub.execute_input": "2022-04-18T19:36:17.596948Z",
     "iopub.status.busy": "2022-04-18T19:36:17.596460Z",
     "iopub.status.idle": "2022-04-18T19:36:17.631863Z",
     "shell.execute_reply": "2022-04-18T19:36:17.630527Z",
     "shell.execute_reply.started": "2022-04-18T19:36:17.596825Z"
    },
    "pycharm": {
     "name": "#%%\n"
    }
   },
   "outputs": [],
   "source": [
    "import numpy as np\n",
    "import pandas as pd\n",
    "import matplotlib.pyplot as plt"
   ]
  },
  {
   "cell_type": "code",
   "execution_count": 2,
   "metadata": {
    "execution": {
     "iopub.execute_input": "2022-04-18T19:36:21.376003Z",
     "iopub.status.busy": "2022-04-18T19:36:21.375153Z",
     "iopub.status.idle": "2022-04-18T19:40:24.843185Z",
     "shell.execute_reply": "2022-04-18T19:40:24.841980Z",
     "shell.execute_reply.started": "2022-04-18T19:36:21.375950Z"
    },
    "pycharm": {
     "name": "#%%\n"
    }
   },
   "outputs": [],
   "source": [
    "data = pd.read_csv(\"processed_train.csv\")"
   ]
  },
  {
   "cell_type": "code",
   "execution_count": 3,
   "metadata": {
    "pycharm": {
     "name": "#%%\n"
    }
   },
   "outputs": [
    {
     "data": {
      "text/plain": "   EngineVersion  AppVersion  AvSigVersion  RtpStateBitfield  \\\n0       0.552153    0.530941      0.587952               7.0   \n1       0.448751    0.528931      0.484434               7.0   \n2       0.552153    0.530941      0.557522               7.0   \n3       0.552153    0.530941      0.482759               7.0   \n4       0.493175    0.530941      0.505721               7.0   \n\n   IsSxsPassiveMode  AVProductStatesIdentifier  AVProductsInstalled  \\\n0                 0                    53447.0                  1.0   \n1                 0                    53447.0                  1.0   \n2                 0                    53447.0                  1.0   \n3                 0                    53447.0                  1.0   \n4                 0                    53447.0                  1.0   \n\n   AVProductsEnabled  HasTpm  CountryIdentifier  ...  Platform_windows8  \\\n0                1.0       1                 29  ...                  0   \n1                1.0       1                 93  ...                  0   \n2                1.0       1                 86  ...                  0   \n3                1.0       1                 97  ...                  0   \n4                1.0       1                164  ...                  0   \n\n   Processor_x64  Processor_x86  Census_DeviceFamily_Windows.Server  \\\n0              1              0                                   0   \n1              1              0                                   0   \n2              1              0                                   0   \n3              1              0                                   0   \n4              1              0                                   0   \n\n   Census_OSArchitecture_arm64  Census_OSArchitecture_x86  \\\n0                            0                          0   \n1                            0                          0   \n2                            0                          0   \n3                            0                          0   \n4                            0                          0   \n\n   Census_GenuineStateName_IS_GENUINE  Census_GenuineStateName_OFFLINE  \\\n0                                   1                                0   \n1                                   0                                1   \n2                                   1                                0   \n3                                   1                                0   \n4                                   1                                0   \n\n   Census_GenuineStateName_UNKNOWN  HasDetections  \n0                                0              0  \n1                                0              0  \n2                                0              0  \n3                                0              0  \n4                                0              0  \n\n[5 rows x 79 columns]",
      "text/html": "<div>\n<style scoped>\n    .dataframe tbody tr th:only-of-type {\n        vertical-align: middle;\n    }\n\n    .dataframe tbody tr th {\n        vertical-align: top;\n    }\n\n    .dataframe thead th {\n        text-align: right;\n    }\n</style>\n<table border=\"1\" class=\"dataframe\">\n  <thead>\n    <tr style=\"text-align: right;\">\n      <th></th>\n      <th>EngineVersion</th>\n      <th>AppVersion</th>\n      <th>AvSigVersion</th>\n      <th>RtpStateBitfield</th>\n      <th>IsSxsPassiveMode</th>\n      <th>AVProductStatesIdentifier</th>\n      <th>AVProductsInstalled</th>\n      <th>AVProductsEnabled</th>\n      <th>HasTpm</th>\n      <th>CountryIdentifier</th>\n      <th>...</th>\n      <th>Platform_windows8</th>\n      <th>Processor_x64</th>\n      <th>Processor_x86</th>\n      <th>Census_DeviceFamily_Windows.Server</th>\n      <th>Census_OSArchitecture_arm64</th>\n      <th>Census_OSArchitecture_x86</th>\n      <th>Census_GenuineStateName_IS_GENUINE</th>\n      <th>Census_GenuineStateName_OFFLINE</th>\n      <th>Census_GenuineStateName_UNKNOWN</th>\n      <th>HasDetections</th>\n    </tr>\n  </thead>\n  <tbody>\n    <tr>\n      <th>0</th>\n      <td>0.552153</td>\n      <td>0.530941</td>\n      <td>0.587952</td>\n      <td>7.0</td>\n      <td>0</td>\n      <td>53447.0</td>\n      <td>1.0</td>\n      <td>1.0</td>\n      <td>1</td>\n      <td>29</td>\n      <td>...</td>\n      <td>0</td>\n      <td>1</td>\n      <td>0</td>\n      <td>0</td>\n      <td>0</td>\n      <td>0</td>\n      <td>1</td>\n      <td>0</td>\n      <td>0</td>\n      <td>0</td>\n    </tr>\n    <tr>\n      <th>1</th>\n      <td>0.448751</td>\n      <td>0.528931</td>\n      <td>0.484434</td>\n      <td>7.0</td>\n      <td>0</td>\n      <td>53447.0</td>\n      <td>1.0</td>\n      <td>1.0</td>\n      <td>1</td>\n      <td>93</td>\n      <td>...</td>\n      <td>0</td>\n      <td>1</td>\n      <td>0</td>\n      <td>0</td>\n      <td>0</td>\n      <td>0</td>\n      <td>0</td>\n      <td>1</td>\n      <td>0</td>\n      <td>0</td>\n    </tr>\n    <tr>\n      <th>2</th>\n      <td>0.552153</td>\n      <td>0.530941</td>\n      <td>0.557522</td>\n      <td>7.0</td>\n      <td>0</td>\n      <td>53447.0</td>\n      <td>1.0</td>\n      <td>1.0</td>\n      <td>1</td>\n      <td>86</td>\n      <td>...</td>\n      <td>0</td>\n      <td>1</td>\n      <td>0</td>\n      <td>0</td>\n      <td>0</td>\n      <td>0</td>\n      <td>1</td>\n      <td>0</td>\n      <td>0</td>\n      <td>0</td>\n    </tr>\n    <tr>\n      <th>3</th>\n      <td>0.552153</td>\n      <td>0.530941</td>\n      <td>0.482759</td>\n      <td>7.0</td>\n      <td>0</td>\n      <td>53447.0</td>\n      <td>1.0</td>\n      <td>1.0</td>\n      <td>1</td>\n      <td>97</td>\n      <td>...</td>\n      <td>0</td>\n      <td>1</td>\n      <td>0</td>\n      <td>0</td>\n      <td>0</td>\n      <td>0</td>\n      <td>1</td>\n      <td>0</td>\n      <td>0</td>\n      <td>0</td>\n    </tr>\n    <tr>\n      <th>4</th>\n      <td>0.493175</td>\n      <td>0.530941</td>\n      <td>0.505721</td>\n      <td>7.0</td>\n      <td>0</td>\n      <td>53447.0</td>\n      <td>1.0</td>\n      <td>1.0</td>\n      <td>1</td>\n      <td>164</td>\n      <td>...</td>\n      <td>0</td>\n      <td>1</td>\n      <td>0</td>\n      <td>0</td>\n      <td>0</td>\n      <td>0</td>\n      <td>1</td>\n      <td>0</td>\n      <td>0</td>\n      <td>0</td>\n    </tr>\n  </tbody>\n</table>\n<p>5 rows × 79 columns</p>\n</div>"
     },
     "execution_count": 3,
     "metadata": {},
     "output_type": "execute_result"
    }
   ],
   "source": [
    "data.head()"
   ]
  },
  {
   "cell_type": "markdown",
   "metadata": {
    "pycharm": {
     "name": "#%% md\n"
    }
   },
   "source": [
    "Один из гномов очень завидовал своим братьям, переплюнувшим его по `accuracy` в бонусном задании предыдущей домашней работы. Поэтому совершил следующее злодеяние: выкинул кучу объектов таким образом, чтобы баланс классов нарушился! \n",
    "\n",
    "`Может, accuracy у них станет еще больше, зато преподаватель их отругает, ведь использовать accuracy при дисбалансе не очень-то хорошо!` - подумал гном\n",
    "\n",
    "Замерьте количество объектов в порченном датафрейме.\n",
    "В какой пропорции соотносятся классы теперь?"
   ]
  },
  {
   "cell_type": "code",
   "execution_count": 4,
   "metadata": {
    "execution": {
     "iopub.execute_input": "2022-04-18T20:14:01.576406Z",
     "iopub.status.busy": "2022-04-18T20:14:01.576086Z",
     "iopub.status.idle": "2022-04-18T20:14:01.616370Z",
     "shell.execute_reply": "2022-04-18T20:14:01.614785Z",
     "shell.execute_reply.started": "2022-04-18T20:14:01.576375Z"
    },
    "pycharm": {
     "name": "#%%\n"
    }
   },
   "outputs": [
    {
     "data": {
      "text/plain": "0    99940\n1    20012\nName: HasDetections, dtype: int64"
     },
     "execution_count": 4,
     "metadata": {},
     "output_type": "execute_result"
    }
   ],
   "source": [
    "### Your code is here\n",
    "data['HasDetections'].value_counts()\n",
    "\n",
    "\n"
   ]
  },
  {
   "cell_type": "markdown",
   "metadata": {
    "pycharm": {
     "name": "#%% md\n"
    }
   },
   "source": [
    "Произведем процедуру отложенной выборки:"
   ]
  },
  {
   "cell_type": "code",
   "execution_count": 5,
   "metadata": {
    "pycharm": {
     "name": "#%%\n"
    }
   },
   "outputs": [],
   "source": [
    "y = data['HasDetections']\n",
    "X = data.drop('HasDetections', axis=1)\n",
    "\n",
    "from sklearn.model_selection import train_test_split\n",
    "X_train, X_test, y_train, y_test  = train_test_split(X, y, \n",
    "                                                     test_size=0.25, \n",
    "                                                     shuffle=True, \n",
    "                                                     random_state=1)"
   ]
  },
  {
   "cell_type": "code",
   "execution_count": 6,
   "outputs": [],
   "source": [
    "from sklearn.pipeline import Pipeline\n",
    "from sklearn.preprocessing import StandardScaler\n",
    "from sklearn.linear_model import LogisticRegression"
   ],
   "metadata": {
    "collapsed": false,
    "pycharm": {
     "name": "#%%\n"
    }
   }
  },
  {
   "cell_type": "markdown",
   "metadata": {
    "pycharm": {
     "name": "#%% md\n"
    }
   },
   "source": [
    "Обучите логистическую регрессию с параметром `l2` регуляризации `C = 0.01` на порченном датасете.\n",
    "Замерьте долю верно классифицированных объектов на трейне и на тесте. Можете использовать абсолютно любые конструкции, главное не забыть пронормировать данные с помощью `StandardScaler`"
   ]
  },
  {
   "cell_type": "code",
   "execution_count": 7,
   "metadata": {
    "execution": {
     "iopub.execute_input": "2022-04-18T20:20:31.238316Z",
     "iopub.status.busy": "2022-04-18T20:20:31.238010Z",
     "iopub.status.idle": "2022-04-18T20:20:55.483158Z",
     "shell.execute_reply": "2022-04-18T20:20:55.482073Z",
     "shell.execute_reply.started": "2022-04-18T20:20:31.238283Z"
    },
    "pycharm": {
     "name": "#%%\n"
    }
   },
   "outputs": [
    {
     "name": "stdout",
     "output_type": "stream",
     "text": [
      "Accuracy на трейне: 0.841\n",
      "Accuracy на тесте: 0.842\n"
     ]
    }
   ],
   "source": [
    "### Your code is here\n",
    "pipe = Pipeline([('scaler', StandardScaler()), (\"LR\", LogisticRegression(penalty='l2', C=0.01))])\n",
    "pipe.fit(X_train, y_train)\n",
    "print(f'Accuracy на трейне: {pipe.score(X_train, y_train):.3f}')\n",
    "print(f'Accuracy на тесте: {pipe.score(X_test, y_test):.3f}')"
   ]
  },
  {
   "cell_type": "markdown",
   "metadata": {
    "pycharm": {
     "name": "#%% md\n"
    }
   },
   "source": [
    "Кажется, что, по сравнению с результатами в предыдущей домашней работе, мы построили куда более сильную модель. Но мы сильно заблуждаемся, если в это верим!"
   ]
  },
  {
   "cell_type": "markdown",
   "metadata": {
    "pycharm": {
     "name": "#%% md\n"
    }
   },
   "source": [
    "**Задание 2.**\n",
    "Для бинарной классификации можно построить так называемую **confision matrix** (матрица ошибок), которая подсчитывает количество правильных и неправильных предсказаний и разделяет их по двум классам:\n",
    "\n",
    "|          | a(x) = -1  | a(x) = +1  |\n",
    "|----------|------------|------------|\n",
    "|  y = -1  |     TN     |     FP     |\n",
    "|  y = +1  |     FN     |     TP     |\n",
    "\n",
    "* Positive/Negative отражает то, к какому классу определила объект наша модель $a(x)$, в нашем случае нулевой класс соответствует Negative (нет вируса), а единичный класс - Positive (есть вирус).\n",
    "\n",
    "* True/False просто показывает совпало ли предсказание модели с реальным классом объекта, поэтому на главной диагонали стоят True, а на побочной False.\n",
    "\n",
    "**2.1)** Постройте вручную матрицу ошибок на тестовой выборке, используя реальные и предсказанные вашей моделью метки классов. Потом сравните результат с методом `confusion_matrix` в `sklearn`."
   ]
  },
  {
   "cell_type": "code",
   "execution_count": 8,
   "metadata": {
    "execution": {
     "iopub.execute_input": "2022-04-18T20:21:30.605778Z",
     "iopub.status.busy": "2022-04-18T20:21:30.605442Z",
     "iopub.status.idle": "2022-04-18T20:21:30.616526Z",
     "shell.execute_reply": "2022-04-18T20:21:30.615956Z",
     "shell.execute_reply.started": "2022-04-18T20:21:30.605741Z"
    },
    "pycharm": {
     "name": "#%%\n"
    }
   },
   "outputs": [
    {
     "name": "stdout",
     "output_type": "stream",
     "text": [
      "True Negative errors: 24726\n",
      "False Positive errors: 293\n",
      "False Negative errors: 4442\n",
      "True Positive errors: 527\n"
     ]
    }
   ],
   "source": [
    "from sklearn.metrics import confusion_matrix\n",
    "\n",
    "\n",
    "tn, fp, fn, tp = confusion_matrix(y_test, pipe.predict(X_test)).ravel()\n",
    "\n",
    "print(f'True Negative errors: {tn}')\n",
    "print(f'False Positive errors: {fp}')\n",
    "print(f'False Negative errors: {fn}')\n",
    "print(f'True Positive errors: {tp}')\n",
    "### Your code is here\n",
    "\n",
    "\n",
    "\n",
    "\n",
    "\n"
   ]
  },
  {
   "cell_type": "markdown",
   "metadata": {
    "pycharm": {
     "name": "#%% md\n"
    }
   },
   "source": [
    "**2.2)** Посчитайте стандартную метрику Accuracy на тестовой выборке c помощью матрицы ошибок. Напомним, что это просто доля верно предсказанных меток:\n",
    "$\n",
    "ACC = \\dfrac{TP + TN}{TP + TN + FP + FN}\n",
    "$.\n",
    "\n",
    "(Не стоит переводить accuracy как точность, так как под точностью иногда еще понимают precision, который является совсем другим показателем! Лучше всегда использовать английские версии метрик, чтобы не возникало недопониманий. )"
   ]
  },
  {
   "cell_type": "code",
   "execution_count": 9,
   "metadata": {
    "execution": {
     "iopub.execute_input": "2022-04-18T20:21:39.346296Z",
     "iopub.status.busy": "2022-04-18T20:21:39.345406Z",
     "iopub.status.idle": "2022-04-18T20:21:39.353142Z",
     "shell.execute_reply": "2022-04-18T20:21:39.352372Z",
     "shell.execute_reply.started": "2022-04-18T20:21:39.346248Z"
    },
    "pycharm": {
     "name": "#%%\n"
    }
   },
   "outputs": [
    {
     "data": {
      "text/plain": "0.8421035080698946"
     },
     "execution_count": 9,
     "metadata": {},
     "output_type": "execute_result"
    }
   ],
   "source": [
    "### Your code is here\n",
    "acc = (tp + tn) / (tp + tn + fp + fn)\n",
    "acc\n",
    "\n",
    "\n",
    "\n",
    "\n"
   ]
  },
  {
   "cell_type": "markdown",
   "metadata": {
    "pycharm": {
     "name": "#%% md\n"
    }
   },
   "source": [
    "Мы ожидаем, что полученная accuracy совпадет с той, что была подсчитана во время использования функции `cross_validate`"
   ]
  },
  {
   "cell_type": "markdown",
   "metadata": {
    "pycharm": {
     "name": "#%% md\n"
    }
   },
   "source": [
    "Мы знаем, что accuracy не является хорошим показателем качества модели при несбалансированных классах. \n",
    "\n",
    "Допустим у нас 1000 объектов, где 990 имеют метку класса 0, а остальные 10 имеют метку 1. В нашем случае, класс 0 соответствует компьютерам, на которых нет вируса, а класс 1 - на которых есть. Тогда accuracy у константной модели, которая всегда предсказывает нулевой класс будет $0.99$, хотя задача как раз состоит в том, чтобы детектировать эти самые 10 объектов, которые соответствуют зараженным компьютерам. "
   ]
  },
  {
   "cell_type": "markdown",
   "metadata": {
    "pycharm": {
     "name": "#%% md\n"
    }
   },
   "source": [
    "При несбалансированных выборках с помощью матрицы ошибок можно посчитать следующие метрики:\n",
    "\n",
    "* **Precision** показывает \"точность\" попадания нашего классификатора в положительный класс, то есть долю правильно предсказанных положительных объектов среди всех **предсказанных** положительных объектов. \n",
    "\n",
    "* **Recall** показывает \"полноту\" предсказаний нашего классификатора, то есть долю правильно предсказанных положительных объектов среди всех **реальных** положительных объектов.\n",
    "\n",
    "**2.3)** Посчитайте Precision и Recall с помощью матрицы ошибок. Потом сравните с реализацией в sklearn. Напомним формулы из лекции:\n",
    "\n",
    "$$\n",
    "Precision = \\dfrac{TP}{TP + FP}, \\quad Recall = \\dfrac{TP}{TP + FN}\n",
    "$$"
   ]
  },
  {
   "cell_type": "code",
   "execution_count": 10,
   "outputs": [
    {
     "name": "stdout",
     "output_type": "stream",
     "text": [
      "Precision = 0.643\n",
      "Recall = 0.106\n"
     ]
    }
   ],
   "source": [
    "precision = tp / (tp + fp)\n",
    "recall = tp / (tp + fn)\n",
    "print (f'Precision = {precision:.3f}')\n",
    "print (f'Recall = {recall:.3f}')"
   ],
   "metadata": {
    "collapsed": false,
    "pycharm": {
     "name": "#%%\n"
    }
   }
  },
  {
   "cell_type": "code",
   "execution_count": 11,
   "metadata": {
    "execution": {
     "iopub.execute_input": "2022-04-18T20:22:01.870920Z",
     "iopub.status.busy": "2022-04-18T20:22:01.870590Z",
     "iopub.status.idle": "2022-04-18T20:22:01.896558Z",
     "shell.execute_reply": "2022-04-18T20:22:01.895618Z",
     "shell.execute_reply.started": "2022-04-18T20:22:01.870886Z"
    },
    "pycharm": {
     "name": "#%%\n"
    }
   },
   "outputs": [
    {
     "name": "stdout",
     "output_type": "stream",
     "text": [
      "Precision =  0.643\n",
      "Recall =  0.106\n"
     ]
    }
   ],
   "source": [
    "from sklearn.metrics import recall_score, precision_score\n",
    "print(f'Precision =  {precision_score(y_test, pipe.predict(X_test)):.3f}')\n",
    "print(f'Recall =  {recall_score(y_test, pipe.predict(X_test)):.3f}')\n",
    "### Your code is here\n",
    "\n",
    "\n",
    "\n",
    "\n",
    "\n",
    "\n",
    "\n"
   ]
  },
  {
   "cell_type": "markdown",
   "metadata": {
    "pycharm": {
     "name": "#%% md\n"
    }
   },
   "source": [
    "Теперь картина кажется не такой уж лучезарной!"
   ]
  },
  {
   "cell_type": "markdown",
   "metadata": {
    "pycharm": {
     "name": "#%% md\n"
    }
   },
   "source": [
    "Вспомним, \n",
    "\n",
    "Метод `.predict` на самом деле берёт предсказанные вероятности для каждого класса и каждому объекту присваивает тот класс, у которого больше вероятность. \n",
    "\n",
    "Так как мы сейчас занимаемся бинарной классификацией, то большая вероятность определяется просто сравнением с порогом 0.5.\n",
    "\n",
    "**2.4)** Воспользуйтесь методом `.predict_proba` и с помощью сравнения с порогом 0.5 постройте вектор предсказаний. Проверьте результат на ранее предсказанных метках, вектора должны совпадать."
   ]
  },
  {
   "cell_type": "code",
   "execution_count": 12,
   "metadata": {
    "execution": {
     "iopub.execute_input": "2022-04-18T20:22:18.856848Z",
     "iopub.status.busy": "2022-04-18T20:22:18.856503Z",
     "iopub.status.idle": "2022-04-18T20:22:18.869936Z",
     "shell.execute_reply": "2022-04-18T20:22:18.869195Z",
     "shell.execute_reply.started": "2022-04-18T20:22:18.856814Z"
    },
    "pycharm": {
     "name": "#%%\n"
    }
   },
   "outputs": [],
   "source": [
    "### Your code is here\n",
    "\n",
    "\n",
    "\n",
    "\n",
    "\n"
   ]
  },
  {
   "cell_type": "markdown",
   "metadata": {
    "pycharm": {
     "name": "#%% md\n"
    }
   },
   "source": [
    "**Задание 3.**\n",
    "Решим бизнес задачу. \\\n",
    "**3.1)** Допустим, заказчик требует, чтобы наш классификатор в 60% случаев правильно предсказывал наличие вируса на компьютере, чтобы не беспокоить клиентов из-за ложноположительных результатов. \\\n",
    "Как решить эту задачу? =>\n",
    "Надо подобрать порог, который максимизирует `recall` при условии, что `precision > 0.6`.\n",
    "\n",
    "$$\n",
    "(recall | precision > 0.6) \\to \\max_{thres}\n",
    "$$"
   ]
  },
  {
   "cell_type": "code",
   "execution_count": 16,
   "metadata": {
    "execution": {
     "iopub.execute_input": "2022-04-18T21:30:53.998031Z",
     "iopub.status.busy": "2022-04-18T21:30:53.997709Z",
     "iopub.status.idle": "2022-04-18T21:30:54.007307Z",
     "shell.execute_reply": "2022-04-18T21:30:54.005784Z",
     "shell.execute_reply.started": "2022-04-18T21:30:53.997997Z"
    },
    "pycharm": {
     "name": "#%%\n"
    }
   },
   "outputs": [
    {
     "name": "stdout",
     "output_type": "stream",
     "text": [
      "Precison:\t 0.6003717472118959\n",
      "Recall: \t 0.1300060374320789\n",
      "Threshold:\t 0.4576697044810053\n"
     ]
    }
   ],
   "source": [
    "from sklearn.metrics import precision_recall_curve\n",
    "\n",
    "### Строим всевозможные комбинации precision, recall, threshold\n",
    "pred_probs = pipe.predict_proba(X_test)\n",
    "precision, recall, thres = precision_recall_curve(y_test, pred_probs[:, 1])\n",
    "\n",
    "### Находим такую тройку, при которой recall максимален, а precision > 0.6\n",
    "\n",
    "ind = np.where(recall == recall[precision > 0.6].max())\n",
    "\n",
    "print(f\"Precison:\\t {precision[ind][-1]}\")\n",
    "print(f\"Recall: \\t {recall[ind][-1]}\")\n",
    "print(f\"Threshold:\\t {thres[ind][-1]}\")"
   ]
  },
  {
   "cell_type": "markdown",
   "metadata": {
    "pycharm": {
     "name": "#%% md\n"
    }
   },
   "source": [
    "Теперь чтобы соответствовать установленным условиям, мы будем замерять вероятности для объектов и сравнивать и с найденным `Threshold`, который решает нашу задачу"
   ]
  },
  {
   "cell_type": "markdown",
   "metadata": {
    "pycharm": {
     "name": "#%% md\n"
    }
   },
   "source": [
    "**3.2)** Аналогично решите задачу, где заказчик требует, чтобы наш классификатор находил хотя бы 20% компьютеров с вирусом, среди всех действительно зараженных компьютеров.\n",
    "$$\n",
    "(precision | recall > 0.2) \\to \\max_{thres}\n",
    "$$"
   ]
  },
  {
   "cell_type": "code",
   "execution_count": 18,
   "metadata": {
    "execution": {
     "iopub.execute_input": "2022-04-18T21:31:02.333007Z",
     "iopub.status.busy": "2022-04-18T21:31:02.331845Z",
     "iopub.status.idle": "2022-04-18T21:31:02.341309Z",
     "shell.execute_reply": "2022-04-18T21:31:02.340237Z",
     "shell.execute_reply.started": "2022-04-18T21:31:02.332952Z"
    },
    "pycharm": {
     "name": "#%%\n"
    }
   },
   "outputs": [
    {
     "name": "stdout",
     "output_type": "stream",
     "text": [
      "Precison:\t 0.492\n",
      "Recall: \t 0.200\n",
      "Threshold:\t 0.331\n"
     ]
    }
   ],
   "source": [
    "ind = np.where(precision == precision[recall > 0.2].max())\n",
    "\n",
    "print(f\"Precison:\\t {precision[ind][-1]:.3f}\")\n",
    "print(f\"Recall: \\t {recall[ind][-1]:.3f}\")\n",
    "print(f\"Threshold:\\t {thres[ind][-1]:.3f}\")\n",
    "\n",
    "\n",
    "\n",
    "\n",
    "\n"
   ]
  },
  {
   "cell_type": "markdown",
   "metadata": {
    "pycharm": {
     "name": "#%% md\n"
    }
   },
   "source": [
    "**Задание 4.** На самом деле, можно объединить предыдущие две задачи и максимизировать взвешенную метрику, которая учитывает и Precision, и Recall. \\\n",
    "Посчитайте три такие метрики: среднее арифметическое, среднее геометрическое и минимум. \n",
    "1) Найдите порог, который их максимизирует. \n",
    "2) Выведите precision и recall, соответствующие этому порогу. \n",
    "3) Нарисуйте линии уровня для каждой из этих метрик, используя функцию `level_lines`. \n",
    "4) Изобразите точку $(recall, precision)$ соответствующую этому порогу на графике линий уровня.\n",
    "\n",
    "$$\n",
    "Arithm_{avg} = \\dfrac{P + R}{2}, \\quad Geom_{avg} = \\sqrt{P \\cdot R}, \\quad Min = \\min(P, R)\n",
    "$$\n"
   ]
  },
  {
   "cell_type": "code",
   "execution_count": 19,
   "metadata": {
    "execution": {
     "iopub.execute_input": "2022-04-18T21:06:41.487631Z",
     "iopub.status.busy": "2022-04-18T21:06:41.487165Z",
     "iopub.status.idle": "2022-04-18T21:06:41.497141Z",
     "shell.execute_reply": "2022-04-18T21:06:41.496096Z",
     "shell.execute_reply.started": "2022-04-18T21:06:41.487592Z"
    },
    "pycharm": {
     "name": "#%%\n"
    }
   },
   "outputs": [],
   "source": [
    "def level_lines(func, name):\n",
    "    x = np.linspace(0, 1.1, 100)\n",
    "    y = np.linspace(0, 1.1, 100)\n",
    "    \n",
    "    X, Y = np.meshgrid(x, y)\n",
    "    Z = func(X, Y)\n",
    "    \n",
    "    plt.figure(figsize=(5, 5))\n",
    "    plt.title(name)\n",
    "    plt.xlabel('Recall')\n",
    "    plt.ylabel('Precision')\n",
    "    plt.contour(X, Y, Z, 15, cmap='plasma');"
   ]
  },
  {
   "cell_type": "code",
   "execution_count": 22,
   "metadata": {
    "execution": {
     "iopub.execute_input": "2022-04-18T21:31:12.676559Z",
     "iopub.status.busy": "2022-04-18T21:31:12.675161Z",
     "iopub.status.idle": "2022-04-18T21:31:12.952717Z",
     "shell.execute_reply": "2022-04-18T21:31:12.951877Z",
     "shell.execute_reply.started": "2022-04-18T21:31:12.676468Z"
    },
    "pycharm": {
     "name": "#%%\n"
    }
   },
   "outputs": [
    {
     "name": "stdout",
     "output_type": "stream",
     "text": [
      "Precision:\t 0.170\n",
      "Recall: \t 0.998\n",
      "Threshold:\t 0.022\n"
     ]
    },
    {
     "data": {
      "text/plain": "<Figure size 500x500 with 1 Axes>",
      "image/png": "[encoded data removed]"
     },
     "metadata": {},
     "output_type": "display_data"
    }
   ],
   "source": [
    "### Покажем на примере среднего арифметического, что должно у вас получиться\n",
    "\n",
    "metric_func = lambda x, y: (x + y)/2\n",
    "\n",
    "arithm_idx = (metric_func(precision, recall)).argmax()\n",
    "\n",
    "print(f\"Precision:\\t {precision[arithm_idx]:.3f}\")\n",
    "print(f\"Recall: \\t {recall[arithm_idx]:.3f}\")\n",
    "print(f\"Threshold:\\t {thres[arithm_idx]:.3f}\")\n",
    "\n",
    "level_lines(metric_func, \"Arithmetic AVG\")\n",
    "plt.plot(recall[arithm_idx], precision[arithm_idx], 'ro');"
   ]
  },
  {
   "cell_type": "code",
   "execution_count": 24,
   "metadata": {
    "execution": {
     "iopub.execute_input": "2022-04-18T21:06:44.262744Z",
     "iopub.status.busy": "2022-04-18T21:06:44.262365Z",
     "iopub.status.idle": "2022-04-18T21:06:44.552416Z",
     "shell.execute_reply": "2022-04-18T21:06:44.551195Z",
     "shell.execute_reply.started": "2022-04-18T21:06:44.262695Z"
    },
    "pycharm": {
     "name": "#%%\n"
    }
   },
   "outputs": [
    {
     "name": "stdout",
     "output_type": "stream",
     "text": [
      "Precision:\t 0.359\n",
      "Recall: \t 0.359\n",
      "Threshold:\t 0.237\n"
     ]
    },
    {
     "data": {
      "text/plain": "<Figure size 500x500 with 1 Axes>",
      "image/png": "[encoded data removed]"
     },
     "metadata": {},
     "output_type": "display_data"
    }
   ],
   "source": [
    "metric_func = lambda x, y: np.minimum(x, y)\n",
    "\n",
    "arithm_idx = (metric_func(precision, recall)).argmax()\n",
    "\n",
    "print(f\"Precision:\\t {precision[arithm_idx]:.3f}\")\n",
    "print(f\"Recall: \\t {recall[arithm_idx]:.3f}\")\n",
    "print(f\"Threshold:\\t {thres[arithm_idx]:.3f}\")\n",
    "\n",
    "level_lines(metric_func, \"Arithmetic AVG\")\n",
    "plt.plot(recall[arithm_idx], precision[arithm_idx], 'ro');\n",
    "\n",
    "\n",
    "\n",
    "\n",
    "\n",
    "\n"
   ]
  },
  {
   "cell_type": "code",
   "execution_count": 12,
   "metadata": {
    "execution": {
     "iopub.execute_input": "2022-04-18T21:06:51.137490Z",
     "iopub.status.busy": "2022-04-18T21:06:51.137163Z",
     "iopub.status.idle": "2022-04-18T21:06:51.399211Z",
     "shell.execute_reply": "2022-04-18T21:06:51.398089Z",
     "shell.execute_reply.started": "2022-04-18T21:06:51.137457Z"
    },
    "pycharm": {
     "name": "#%%\n"
    }
   },
   "outputs": [],
   "source": [
    "### Повторите для минимума\n",
    "### Your code is here\n",
    "\n",
    "\n",
    "\n",
    "\n",
    "\n",
    "\n",
    "\n"
   ]
  },
  {
   "cell_type": "markdown",
   "metadata": {
    "pycharm": {
     "name": "#%% md\n"
    }
   },
   "source": [
    "**Задание 5.** Одним из самых распространенных показателей качества является **F-мера**, которая обобщает все вышерассмотренные метрики. Более того, в ней можно регулировать параметр $\\beta^2$, который отвечает за предпочтение между precision и recall. \n",
    "$$\n",
    "F = \\dfrac{(1 + \\beta^2) P \\cdot R}{\\beta^2 P + R}\n",
    "$$\n",
    "* При $\\beta^2 = 1$ и precision, и recall нам важны в равной степени.\n",
    "* При $\\beta^2 > 1$ предпочтение отдается recall. Похоже на решение задачи, где мы фиксируем приемлемое для нас значение precision и максимизируем recall.\n",
    "* При $0 < \\beta^2 < 1$ предпочтение отдается precision. Похоже на решение задачи, где мы фиксируем приемлемое для нас значение recall и максимизируем precision.\n",
    "\n",
    "Найдите порог, который максимизирует:\n",
    "1) F-меру с $\\beta^2 = 1$,\n",
    "2) F-меру с $\\beta^2 = 0.05$,\n",
    "3) F-меру с $\\beta^2 = 4$.\\\n",
    "Для всех трех случаев выведите precision, recall, threshold и F-меру. \n",
    "Нарисуйте линии уровня и точку, которая максимизирует F-меру по аналогии с предыдущим пунктом."
   ]
  },
  {
   "cell_type": "code",
   "execution_count": 32,
   "metadata": {
    "execution": {
     "iopub.execute_input": "2022-04-18T21:35:08.199747Z",
     "iopub.status.busy": "2022-04-18T21:35:08.199283Z",
     "iopub.status.idle": "2022-04-18T21:35:08.483726Z",
     "shell.execute_reply": "2022-04-18T21:35:08.482715Z",
     "shell.execute_reply.started": "2022-04-18T21:35:08.199696Z"
    },
    "pycharm": {
     "name": "#%%\n"
    }
   },
   "outputs": [
    {
     "name": "stdout",
     "output_type": "stream",
     "text": [
      "Threshold for Best F-score: 0.192\n",
      "Precision for Best F-score: 0.285\n",
      "Recall for Best F-score: 0.525\n",
      "Best F-score: 0.369\n"
     ]
    }
   ],
   "source": [
    "### Повторите для F-меры при \\beta^2=1\n",
    "### Выведите ее вместе с precision/recall/threshold\n",
    "### Your code is here\n",
    "precision , recall, thresholds = precision_recall_curve(y_test, pipe.predict_proba(X_test)[:, 1])\n",
    "beta_squared = 1\n",
    "f_score = ((1 + beta_squared) * precision * recall) / (beta_squared * precision + recall)\n",
    "\n",
    "print(\"Threshold for Best F-score:\", round(thresholds[np.argmax(f_score)], 3))\n",
    "print(\"Precision for Best F-score:\", round(precision[np.argmax(f_score)], 3))\n",
    "print(\"Recall for Best F-score:\", round(recall[np.argmax(f_score)], 3))\n",
    "print(\"Best F-score:\", round(np.max(f_score), 3))\n",
    "\n",
    "\n",
    "\n",
    "\n",
    "\n"
   ]
  },
  {
   "cell_type": "code",
   "execution_count": 33,
   "metadata": {
    "execution": {
     "iopub.execute_input": "2022-04-18T21:37:11.185314Z",
     "iopub.status.busy": "2022-04-18T21:37:11.184196Z",
     "iopub.status.idle": "2022-04-18T21:37:11.456684Z",
     "shell.execute_reply": "2022-04-18T21:37:11.455149Z",
     "shell.execute_reply.started": "2022-04-18T21:37:11.185205Z"
    },
    "pycharm": {
     "name": "#%%\n"
    }
   },
   "outputs": [
    {
     "name": "stdout",
     "output_type": "stream",
     "text": [
      "Threshold for Best F-score: 0.497\n",
      "Precision for Best F-score: 0.642\n",
      "Recall for Best F-score: 0.109\n",
      "Best F-score: 0.521\n"
     ]
    }
   ],
   "source": [
    "### Повторите для F-меры при \\beta^2=0.05\n",
    "### Выведите ее вместе с precision/recall/threshold\n",
    "### Your code is here\n",
    "beta_squared = 0.05\n",
    "f_score = ((1 + beta_squared) * precision * recall) / (beta_squared * precision + recall)\n",
    "\n",
    "print(\"Threshold for Best F-score:\", round(thresholds[np.argmax(f_score)], 3))\n",
    "print(\"Precision for Best F-score:\", round(precision[np.argmax(f_score)], 3))\n",
    "print(\"Recall for Best F-score:\", round(recall[np.argmax(f_score)], 3))\n",
    "print(\"Best F-score:\", round(np.max(f_score), 3))\n",
    "\n",
    "\n",
    "\n",
    "\n",
    "\n",
    "\n"
   ]
  },
  {
   "cell_type": "code",
   "execution_count": 34,
   "metadata": {
    "execution": {
     "iopub.execute_input": "2022-04-18T21:37:22.505899Z",
     "iopub.status.busy": "2022-04-18T21:37:22.505490Z",
     "iopub.status.idle": "2022-04-18T21:37:22.779164Z",
     "shell.execute_reply": "2022-04-18T21:37:22.778007Z",
     "shell.execute_reply.started": "2022-04-18T21:37:22.505867Z"
    },
    "pycharm": {
     "name": "#%%\n"
    }
   },
   "outputs": [
    {
     "name": "stdout",
     "output_type": "stream",
     "text": [
      "Threshold for Best F-score: 0.108\n",
      "Precision for Best F-score: 0.21\n",
      "Recall for Best F-score: 0.863\n",
      "Best F-score: 0.532\n"
     ]
    }
   ],
   "source": [
    "### Повторите для F-меры при \\beta^2=4\n",
    "### Выведите ее вместе с precision/recall/threshold\n",
    "### Your code is here\n",
    "beta_squared = 4\n",
    "f_score = ((1 + beta_squared) * precision * recall) / (beta_squared * precision + recall)\n",
    "\n",
    "print(\"Threshold for Best F-score:\", round(thresholds[np.argmax(f_score)], 3))\n",
    "print(\"Precision for Best F-score:\", round(precision[np.argmax(f_score)], 3))\n",
    "print(\"Recall for Best F-score:\", round(recall[np.argmax(f_score)], 3))\n",
    "print(\"Best F-score:\", round(np.max(f_score), 3))\n",
    "\n",
    "\n",
    "\n",
    "\n",
    "\n",
    "\n"
   ]
  },
  {
   "cell_type": "code",
   "execution_count": null,
   "outputs": [],
   "source": [],
   "metadata": {
    "collapsed": false,
    "pycharm": {
     "name": "#%%\n"
    }
   }
  }
 ],
 "metadata": {
  "kernelspec": {
   "display_name": "Python 3 (ipykernel)",
   "language": "python",
   "name": "python3"
  },
  "language_info": {
   "codemirror_mode": {
    "name": "ipython",
    "version": 3
   },
   "file_extension": ".py",
   "mimetype": "text/x-python",
   "name": "python",
   "nbconvert_exporter": "python",
   "pygments_lexer": "ipython3",
   "version": "3.8.10"
  }
 },
 "nbformat": 4,
 "nbformat_minor": 4
}