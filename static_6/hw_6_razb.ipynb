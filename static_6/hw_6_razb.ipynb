{
 "cells": [
  {
   "cell_type": "code",
   "execution_count": 1,
   "id": "fd86c09d",
   "metadata": {},
   "outputs": [],
   "source": [
    "import numpy as np\n",
    "import pandas as pd\n",
    "import matplotlib.pyplot as plt\n",
    "import seaborn as sns\n",
    "\n",
    "%matplotlib inline"
   ]
  },
  {
   "cell_type": "markdown",
   "id": "ef238fe9",
   "metadata": {},
   "source": [
    "### 1"
   ]
  },
  {
   "cell_type": "markdown",
   "id": "e4dc92c7",
   "metadata": {},
   "source": [
    "Какую задачу решает метод максимума правдоподобия?\n",
    "\n",
    "Оценка «наиболее подходящих параметров» выбранного нами распределения по имеющейся выборке\n",
    "\n",
    "Важно помнить, ММП не подбирает само распределение, а подбирает параметры для конкретного распределения."
   ]
  },
  {
   "cell_type": "markdown",
   "id": "495a1cea",
   "metadata": {},
   "source": [
    "### 2"
   ]
  },
  {
   "cell_type": "markdown",
   "id": "598df7f2",
   "metadata": {},
   "source": [
    "Что такое правдоподобие из метода максимума правдоподобия?\n",
    "\n",
    "Вероятность встретить выборку, с которой мы работаем, при условии конкретных параметров выбранного нами распределения\n",
    "\n",
    "$$L(X^n, \\theta) = \\prod_{i=1}^{n} f(X_i, \\theta)$$\n",
    "\n",
    "f — плотность (для непрерывных) или вероятность (для дискретных)\n",
    "\n",
    "Ещё иногда говорят \"вероятность увидеть то, что мы увидели\"."
   ]
  },
  {
   "cell_type": "markdown",
   "id": "64ca5b92",
   "metadata": {},
   "source": [
    "### 3"
   ]
  },
  {
   "cell_type": "markdown",
   "id": "40046fa6",
   "metadata": {},
   "source": [
    "Представим, что у вас есть небольшая выборка и вы знаете, что она пришла из нормального распределения с неизвестными параметрами. Мы хотим восстановить значение параметра среднего с помощью метода максимума правдоподобия.\n",
    "\n",
    "xs = [5, 6.4, 7, 5.5, 8, 4.9, 6.2]\n",
    "\n",
    "Попробуйте записать правдоподобие на листочке, логарифмировать его и найти его максимум через дифференцирование и приравнивание производной к 0.\n",
    "\n",
    "Вычислите по этой формуле значение параметра. Что у вас получилось?\n",
    "\n",
    "**Решение**\n",
    "\n",
    "Если посчитать производную логарифма правдоподобия и приравнять к 0, то можно выразить неизвестный нам параметр среднего, который окажется равным среднему значению выборки. \n",
    "\n",
    "Сначала распишем правдоподобие:\n",
    "\n",
    "$$\\log p(X | \\theta) = \\sum_{i=1}^{N} \\log \\mathbb{N} (x_i | \\mu, \\sigma^2) = \\sum_{i=1}^{N} \\log \\frac{1}{\\sqrt{2 \\pi \\sigma^2}} \\exp \\left( - \\frac{(x_i - \\mu)^2}{2 \\sigma^2} \\right) = \\sum_{i=1}^{N} - \\frac{1}{2} \\log(2 \\pi) - \\log \\sigma - \\frac{(x_i - \\mu)^2}{2 \\sigma^2}$$\n",
    "\n",
    "Придифференцируем по $\\mu$:\n",
    "\n",
    "$$\\nabla_{\\mu} \\log p(X | \\theta) = \\nabla_{\\mu} \\sum_{i=1}^{N} - \\frac{(x_i - \\mu)^2}{2 \\sigma^2} = \\sum_{i=1}^{N} \\frac{(x_i - \\mu)}{\\sigma^2}$$\n",
    "\n",
    "Приравняем производную к 0:\n",
    "\n",
    "$$\\sum_{i=1}^{N} \\frac{(x_i - \\mu)}{\\sigma^2} = 0$$\n",
    "\n",
    "$$\\sum_{i=1}^{N} (x_i - \\mu) = 0$$\n",
    "\n",
    "$$ \\mu = \\frac{1}{N} \\sum_{i=1}^{N} x_i$$"
   ]
  },
  {
   "cell_type": "code",
   "execution_count": 2,
   "id": "ecdcfd5b",
   "metadata": {},
   "outputs": [
    {
     "data": {
      "text/plain": [
       "6.142857142857143"
      ]
     },
     "execution_count": 2,
     "metadata": {},
     "output_type": "execute_result"
    }
   ],
   "source": [
    "np.mean([5, 6.4, 7, 5.5, 8, 4.9, 6.2])"
   ]
  },
  {
   "cell_type": "markdown",
   "id": "25a129e7",
   "metadata": {},
   "source": [
    "### 4"
   ]
  },
  {
   "cell_type": "markdown",
   "id": "84a04c5c",
   "metadata": {},
   "source": [
    "Не всегда метод максимума правдоподобия можно применить так, чтобы найти аналитическое решение, то есть формулу для поиска параметров распределения по выборке.\n",
    "\n",
    "Альтернативный вариант — использование методов оптимизации, в который можно подать оптимизируемый функционал и опционально его градиент, чтобы алгоритмы нашли для нас точку оптимума.\n",
    "\n",
    "Давайте попробуем это сделать. Снова вернёмся к известной нам выборке со средними ценами на дома:\n",
    "\n",
    "Постройте гистограмму медианного дохода (MedInc), чтобы оценить, на какое распределение похожа эта случайная величина. На какое распределения более всего похоже наше распределение? Если вы не помните или не знаете какое-то из распределений, можете прочитать про него подробнее на Википедии и увидеть иллюстрации."
   ]
  },
  {
   "cell_type": "code",
   "execution_count": 3,
   "id": "e6e4e056",
   "metadata": {},
   "outputs": [],
   "source": [
    "from sklearn.datasets import fetch_california_housing\n",
    "\n",
    "data = fetch_california_housing(as_frame=True, return_X_y=True)\n",
    "df, target = data[0], data[1] "
   ]
  },
  {
   "cell_type": "code",
   "execution_count": 4,
   "id": "40934dcb",
   "metadata": {},
   "outputs": [
    {
     "data": {
      "image/png": "[encoded data removed]",
      "text/plain": [
       "<Figure size 432x288 with 1 Axes>"
      ]
     },
     "metadata": {
      "needs_background": "light"
     },
     "output_type": "display_data"
    }
   ],
   "source": [
    "df.MedInc.hist(bins=30)\n",
    "plt.show()"
   ]
  },
  {
   "cell_type": "markdown",
   "id": "b126e16b",
   "metadata": {},
   "source": [
    "Это несимметричное распределение непрерывной случайной величины, поэтому это не может быть нормальным и биномиальным распределением. Распределение Сьюдента также симметрично и похоже на нормальное. \n",
    "\n",
    "Логнормальное распределение наиболее похоже на наше."
   ]
  },
  {
   "cell_type": "markdown",
   "id": "38eb2b13",
   "metadata": {},
   "source": [
    "### 5"
   ]
  },
  {
   "cell_type": "markdown",
   "id": "fd449900",
   "metadata": {},
   "source": [
    "Кроме логнормального распределения сюда подходит ещё и гамма-распределение. Давайте найдём параметры распределения под нашу выборку. У него есть два основных параметра, хотя в версии из scipy вводят также сдвиг (loc). Мы его будем полагать равным 0 (тогда носитель распределение, то есть возможные значения — положительные числа), а другие два: a, scale — будем искать. \n",
    "\n",
    "Для этого сначала реализуйте функцию, которая будет вычислять логарифм правдоподобия для нашей выборки. Вам понадобится распределения gamma из библиотеки scipy. Функция должна принимать на вход один аргумент, в котором будут расположены все нужные вам параметры. \n",
    "\n",
    "Далее воспользуйтесь функцией minimize из модуля optimize библиотеки scipy. Там реализованы методы оптимизации. Укажите вашу функцию для вычисления логарифма правдоподобия, начальное значение ваших параметров и метод L-BFGS-B.\n",
    "\n",
    "В качестве начального приближения возьмите a=1, scale=2. Если становится сложно, то воспользуйтесь похожим примером из лекции. Имейте в виду, что здесь мы не указываем, как рассчитывается градиент и гессиан (вторая производная) для нашей функции, поэтому они будут рассчитываться численно, что обычно плохо сказывается на процессе оптимизации.\n",
    "\n",
    "Для проверки нарисуйте на одном графике гистограмму вашей случайной величины и плотность распределения с настроенными параметрами (метод pdf для расчёта плотности, а в качестве точек можно точки с равномерной сетки с помощью np.linspace). Должны получаться похожие картинки.\n",
    "\n",
    "Какие значения параметров вы получили?\n",
    "\n",
    "**Решение**\n",
    "\n",
    "Сначала напишем функцию для расчёта правдоподобия, для этого используем сразу функцию для логарифма плотности гамма-распределения, не забудем знак минуса, потому что далее мы будем использовать функцию для минимизации, а правдоподобие надо максимизировать."
   ]
  },
  {
   "cell_type": "code",
   "execution_count": 5,
   "id": "8f1479c0",
   "metadata": {},
   "outputs": [],
   "source": [
    "from scipy.stats import gamma\n",
    "\n",
    "def calc_LL(theta):\n",
    "    a, scale = theta\n",
    "    LL = np.sum(gamma.logpdf(df.MedInc, a=a, loc=0, scale=scale))\n",
    "    return -LL"
   ]
  },
  {
   "cell_type": "code",
   "execution_count": 6,
   "id": "95b86ae1",
   "metadata": {},
   "outputs": [
    {
     "data": {
      "text/plain": [
       "(0,\n",
       " 'CONVERGENCE: REL_REDUCTION_OF_F_<=_FACTR*EPSMCH',\n",
       " array([4.74905907, 0.81503973]))"
      ]
     },
     "execution_count": 6,
     "metadata": {},
     "output_type": "execute_result"
    }
   ],
   "source": [
    "from scipy.optimize import minimize\n",
    "\n",
    "theta = [1, 2]\n",
    "solution = minimize(calc_LL, theta, method='L-BFGS-B')\n",
    "solution.status, solution.message, solution.x"
   ]
  },
  {
   "cell_type": "markdown",
   "id": "8f39f21a",
   "metadata": {},
   "source": [
    "Визуализируем на одном графике гистограмму и теоретическое распределение:"
   ]
  },
  {
   "cell_type": "code",
   "execution_count": 7,
   "id": "755651c3",
   "metadata": {},
   "outputs": [
    {
     "data": {
      "image/png": "[encoded data removed]",
      "text/plain": [
       "<Figure size 432x288 with 2 Axes>"
      ]
     },
     "metadata": {
      "needs_background": "light"
     },
     "output_type": "display_data"
    }
   ],
   "source": [
    "x = np.linspace(0, 15, 100)\n",
    "p = gamma(a=solution.x[0], loc=0, scale=solution.x[1]).pdf(x)\n",
    "\n",
    "sns.histplot(df.MedInc, bins=30)\n",
    "plt.twinx()\n",
    "plt.plot(x, p, color='red')\n",
    "plt.show()"
   ]
  },
  {
   "cell_type": "markdown",
   "id": "4f821541",
   "metadata": {},
   "source": [
    "Видим, что действительно настроилось что-то хорошее и похожее на правду (довольно часто получается либо хорошо, либо сразу заметная дичь).\n",
    "\n",
    "Итоговые параметры:"
   ]
  },
  {
   "cell_type": "code",
   "execution_count": 8,
   "id": "af002698",
   "metadata": {},
   "outputs": [
    {
     "data": {
      "text/plain": [
       "array([4.74905907, 0.81503973])"
      ]
     },
     "execution_count": 8,
     "metadata": {},
     "output_type": "execute_result"
    }
   ],
   "source": [
    "solution.x"
   ]
  },
  {
   "cell_type": "markdown",
   "id": "2faa6c60",
   "metadata": {},
   "source": [
    "### 6"
   ]
  },
  {
   "cell_type": "markdown",
   "id": "2634f468",
   "metadata": {},
   "source": [
    "В чем преимущества ядерного подхода к оценке плотности по сравнению с параметрическим методом максимума правдоподобия?\n",
    "- Можно оценить плотность для распределения любой формы\n",
    "- Более быстрое вычисление плотности для новых точек\n",
    "- Мы не должны выбирать вид распределения для восстановления распределения\n",
    "\n",
    "Ядерный подход более медленный, так как каждое вычисление плотности требует проходить по всей выборки с ядром. Параметрический подход после настройки параметров применять заметно быстрее.\n",
    "\n",
    "В отличие от параметрического подхода, где мы должны выбрать вид распределения, ядерный подход не ограничен известными нам распределениями. При этом не надо и выбирать вид распределения заранее."
   ]
  },
  {
   "cell_type": "markdown",
   "id": "b1fe44f8",
   "metadata": {},
   "source": [
    "### 7"
   ]
  },
  {
   "cell_type": "markdown",
   "id": "60d15cad",
   "metadata": {},
   "source": [
    "Какими параметрами задаётся ядерная оценка плотности?\n",
    "- Ширина окна h\n",
    "- Семейством восстанавливаемого распределения\n",
    "- Точность восстановления плотности\n",
    "- Функция ядра K\n",
    "\n",
    "Точностью восстановления плотности мы не управляем, а семейство распределения выбирать не нужно — это основное преимущество ядерной оценки плотности."
   ]
  },
  {
   "cell_type": "markdown",
   "id": "7119ea57",
   "metadata": {},
   "source": [
    "### 8"
   ]
  },
  {
   "cell_type": "markdown",
   "id": "03699627",
   "metadata": {},
   "source": [
    "Давайте попрактикумемся в ядерной оценке плотности. Для начала давайте посчитаем «руками» на простом примере (не используем библиотеки, которые решают задачу напрямую, но можем для удобства делать это в jupyter).\n",
    "\n",
    "Пусть наша выборка представляет собой следующее:\n",
    "\n",
    "xs = [0, 1.1, 1.4, 1.8, 2.5, 5.5, 7]\n",
    "\n",
    "В качестве ядра возьмём ядро, представляющее собой «треугольник», то есть функцию, принимающую ненулевые значения от -1 до 1, в точке 0 значение 1, между -1 и 0 линейный рост от 0 до 1, между 0 и 1 линейное падение от 1 до 0. То есть площадь под ядром будет равна 1, h=1.\n",
    "\n",
    "Функция для ядерной оценки с лекции:\n",
    "\n",
    "$$\\hat{\\rho}_N(x) = \\frac{1}{Nh} \\sum_{i=1}^N K\\left(\\frac{X_i - x}{h}\\right)$$\n",
    "\n",
    "Посчитайте ядерную оценку плотности в точке $x=2.0$"
   ]
  },
  {
   "cell_type": "code",
   "execution_count": 9,
   "id": "5293c236",
   "metadata": {},
   "outputs": [],
   "source": [
    "xs = [0, 1.1, 1.4, 1.8, 2.5, 5.5, 7]\n",
    "x0 = 2.0"
   ]
  },
  {
   "cell_type": "markdown",
   "id": "8e5a7683",
   "metadata": {},
   "source": [
    "Реализуем наше ядро:"
   ]
  },
  {
   "cell_type": "code",
   "execution_count": 10,
   "id": "07fc784f",
   "metadata": {},
   "outputs": [],
   "source": [
    "def k(x0, x):\n",
    "    if abs(x0 - x) < 1:\n",
    "        return 1 - abs(x0 - x)\n",
    "    return 0"
   ]
  },
  {
   "cell_type": "markdown",
   "id": "dd904ac1",
   "metadata": {},
   "source": [
    "Просуммируем по всем точкам и нормируем:"
   ]
  },
  {
   "cell_type": "code",
   "execution_count": 11,
   "id": "9713c6bf",
   "metadata": {},
   "outputs": [
    {
     "data": {
      "text/plain": [
       "0.2571428571428572"
      ]
     },
     "execution_count": 11,
     "metadata": {},
     "output_type": "execute_result"
    }
   ],
   "source": [
    "sum(k(x0, x) for x in xs) / len(xs)"
   ]
  },
  {
   "cell_type": "markdown",
   "id": "eadd62c4",
   "metadata": {},
   "source": [
    "И автоматически:"
   ]
  },
  {
   "cell_type": "code",
   "execution_count": 12,
   "id": "070c43f6",
   "metadata": {},
   "outputs": [
    {
     "data": {
      "text/plain": [
       "array([0.25714286])"
      ]
     },
     "execution_count": 12,
     "metadata": {},
     "output_type": "execute_result"
    }
   ],
   "source": [
    "from sklearn.neighbors import KernelDensity\n",
    "\n",
    "kde = (\n",
    "    KernelDensity(kernel=\"linear\", bandwidth=1)\n",
    "    .fit(np.array(xs).reshape((-1, 1)))\n",
    ")\n",
    "\n",
    "np.exp(kde.score_samples(np.array([x0]).reshape((-1, 1))))"
   ]
  },
  {
   "cell_type": "markdown",
   "id": "70135f03",
   "metadata": {},
   "source": [
    "### 9"
   ]
  },
  {
   "cell_type": "markdown",
   "id": "8c70ef64",
   "metadata": {},
   "source": [
    "А теперь давайте попробуем воспользоваться для этого библиотечным вариантом. \n",
    "\n",
    "В качестве данных вернёмся к нашим привычным данным про дома.\n",
    "\n",
    "Посчитайте ядерную оценку плотности в точке x=6 для медианного дохода с помощью sklearn.neighbors.KernelDensity с Гауссовым ядром и h=0.5. Вам понадобятся методы fit (настройка) и score_samples (применение). Учтите, что вам вернутся логарифмы оценки, так что надо от них взять экспоненту."
   ]
  },
  {
   "cell_type": "code",
   "execution_count": 13,
   "id": "f37a3d69",
   "metadata": {},
   "outputs": [
    {
     "data": {
      "text/plain": [
       "array([0.07392297])"
      ]
     },
     "execution_count": 13,
     "metadata": {},
     "output_type": "execute_result"
    }
   ],
   "source": [
    "kde = (\n",
    "    KernelDensity(kernel=\"linear\", bandwidth=0.5)\n",
    "    .fit(np.array(df['MedInc']).reshape((-1, 1)))\n",
    ")\n",
    "\n",
    "np.exp(kde.score_samples(np.array([6]).reshape((-1, 1))))"
   ]
  },
  {
   "cell_type": "markdown",
   "id": "c3a54f1d",
   "metadata": {},
   "source": [
    "### 10"
   ]
  },
  {
   "cell_type": "markdown",
   "id": "1ac314f3",
   "metadata": {},
   "source": [
    "Давайте проверим, действительно ли вычисленная по этой формуле величина будет плотностью распределения.\n",
    "\n",
    "Для этого возьмите настроенную в прошлом задании оценку плотности и убедитесь, что площадь под графиком кривой оценки плотности равна единице. Это и есть условие на функцию, претендующую быть плотностью (аналогично тому, что сумма вероятностей всех возможных исходов должна давать единицу).\n",
    "\n",
    "Для этого сгенерируйте точки на равномерной сетке с некоторым количеством точек, где левая граница будет немного левее, чем исходная выборка (можно брать с запасом), а правая — наоборот правее исходной выборки, на которой настраивалась оценка в предыдущем задании. Для этого можно построить гистограмму той величины. Для генерации будет полезен метод np.linspace.\n",
    "\n",
    "Далее посчитайте значение плотности с помощью вашей оценки в каждой сгенерированной точке. Не спешите суммировать — в численной оценке интеграла мы каждый кусочек заменяем на прямоугольник, высота которого равна значению плотности, а ширина — расстоянию между соседними точками. Площадь под графиком будет равно площади этих столбиков. Посчитайте её и сравните с единицей.\n",
    "\n",
    "Попробуйте разное количество точек (соответственно разное расстояние между соседними точками) — чем уже прямоугольники, тем точнее оценка на интеграл.\n",
    "\n",
    "**Решение**\n",
    "\n",
    "Попробуем посчитать по сетке (с небольшим запасом отступим от минимального и максимального значения, дальше считать нет смысла). Важно, что мы умножаем вычисленную плотность на ширину, то есть вычисляем площадь под графиком (явно используем тот факт, что ширина каждого кусочка одинаковая)."
   ]
  },
  {
   "cell_type": "code",
   "execution_count": 14,
   "id": "fbb429c9",
   "metadata": {},
   "outputs": [
    {
     "data": {
      "text/plain": [
       "0.9999383332087657"
      ]
     },
     "execution_count": 14,
     "metadata": {},
     "output_type": "execute_result"
    }
   ],
   "source": [
    "xs = np.linspace(-1, 20, 100)\n",
    "sum(np.exp(kde.score_samples(xs.reshape((-1, 1)))) * (xs[1] - xs[0]))"
   ]
  },
  {
   "cell_type": "markdown",
   "id": "bf1ee4b0",
   "metadata": {},
   "source": [
    "Увеличим число точек сетки:"
   ]
  },
  {
   "cell_type": "code",
   "execution_count": 15,
   "id": "9cbb5295",
   "metadata": {},
   "outputs": [
    {
     "data": {
      "text/plain": [
       "0.999998424839919"
      ]
     },
     "execution_count": 15,
     "metadata": {},
     "output_type": "execute_result"
    }
   ],
   "source": [
    "xs = np.linspace(-1, 20, 1000)\n",
    "sum(np.exp(kde.score_samples(xs.reshape((-1, 1)))) * (xs[1] - xs[0]))"
   ]
  },
  {
   "cell_type": "markdown",
   "id": "923b9f37",
   "metadata": {},
   "source": [
    "Такая методика расчёта интегралов называется [численным интегрированием](https://ru.wikipedia.org/wiki/Численное_интегрирование)."
   ]
  }
 ],
 "metadata": {
  "kernelspec": {
   "display_name": "Python 3 (ipykernel)",
   "language": "python",
   "name": "python3"
  },
  "language_info": {
   "codemirror_mode": {
    "name": "ipython",
    "version": 3
   },
   "file_extension": ".py",
   "mimetype": "text/x-python",
   "name": "python",
   "nbconvert_exporter": "python",
   "pygments_lexer": "ipython3",
   "version": "3.8.9"
  }
 },
 "nbformat": 4,
 "nbformat_minor": 5
}
