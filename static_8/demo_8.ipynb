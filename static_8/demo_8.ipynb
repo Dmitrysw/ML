{
 "cells": [
  {
   "cell_type": "code",
   "execution_count": 1,
   "id": "cd409229",
   "metadata": {
    "scrolled": true,
    "pycharm": {
     "name": "#%%\n"
    }
   },
   "outputs": [],
   "source": [
    "import numpy as np\n",
    "import pandas as pd\n",
    "import matplotlib.pyplot as plt\n",
    "import seaborn as sns\n",
    "\n",
    "%matplotlib inline"
   ]
  },
  {
   "cell_type": "code",
   "execution_count": 2,
   "id": "e57c5b26",
   "metadata": {
    "pycharm": {
     "name": "#%%\n"
    }
   },
   "outputs": [],
   "source": [
    "plt.rcParams[\"figure.facecolor\"] = \"w\"\n",
    "sns.set_style('whitegrid')"
   ]
  },
  {
   "cell_type": "markdown",
   "id": "f2e13d58",
   "metadata": {
    "pycharm": {
     "name": "#%% md\n"
    }
   },
   "source": [
    "### Выбор метрики"
   ]
  },
  {
   "cell_type": "code",
   "execution_count": 3,
   "id": "2601389b",
   "metadata": {
    "pycharm": {
     "name": "#%%\n"
    }
   },
   "outputs": [],
   "source": [
    "from sklearn.datasets import fetch_california_housing\n",
    "\n",
    "data = fetch_california_housing(as_frame=True, return_X_y=True)\n",
    "df, target = data[0], data[1] "
   ]
  },
  {
   "cell_type": "code",
   "execution_count": 4,
   "id": "6f659d55",
   "metadata": {
    "pycharm": {
     "name": "#%%\n"
    }
   },
   "outputs": [
    {
     "data": {
      "image/png": "[encoded data removed]",
      "text/plain": [
       "<Figure size 432x288 with 1 Axes>"
      ]
     },
     "metadata": {},
     "output_type": "display_data"
    }
   ],
   "source": [
    "sns.histplot(df.MedInc, stat='probability')\n",
    "plt.xlabel('Median income')\n",
    "plt.tight_layout()\n",
    "plt.savefig('income_dist.pdf')\n",
    "plt.show()"
   ]
  },
  {
   "cell_type": "markdown",
   "id": "5f9369b3",
   "metadata": {
    "pycharm": {
     "name": "#%% md\n"
    }
   },
   "source": [
    "### Разбиение на группы"
   ]
  },
  {
   "cell_type": "code",
   "execution_count": 5,
   "id": "e12e5fc4",
   "metadata": {
    "pycharm": {
     "name": "#%%\n"
    }
   },
   "outputs": [],
   "source": [
    "users = [\n",
    "    'user_id_1', 'user_id_2', 'user_id_3',\n",
    "    'user_id_4', 'user_id_1', 'user_id_5',\n",
    "]\n",
    "df = pd.DataFrame.from_dict({'user': users})"
   ]
  },
  {
   "cell_type": "code",
   "execution_count": 6,
   "id": "055d5026",
   "metadata": {
    "pycharm": {
     "name": "#%%\n"
    }
   },
   "outputs": [
    {
     "data": {
      "text/html": [
       "<div>\n",
       "<style scoped>\n",
       "    .dataframe tbody tr th:only-of-type {\n",
       "        vertical-align: middle;\n",
       "    }\n",
       "\n",
       "    .dataframe tbody tr th {\n",
       "        vertical-align: top;\n",
       "    }\n",
       "\n",
       "    .dataframe thead th {\n",
       "        text-align: right;\n",
       "    }\n",
       "</style>\n",
       "<table border=\"1\" class=\"dataframe\">\n",
       "  <thead>\n",
       "    <tr style=\"text-align: right;\">\n",
       "      <th></th>\n",
       "      <th>user</th>\n",
       "    </tr>\n",
       "  </thead>\n",
       "  <tbody>\n",
       "    <tr>\n",
       "      <th>0</th>\n",
       "      <td>user_id_1</td>\n",
       "    </tr>\n",
       "    <tr>\n",
       "      <th>1</th>\n",
       "      <td>user_id_2</td>\n",
       "    </tr>\n",
       "    <tr>\n",
       "      <th>2</th>\n",
       "      <td>user_id_3</td>\n",
       "    </tr>\n",
       "    <tr>\n",
       "      <th>3</th>\n",
       "      <td>user_id_4</td>\n",
       "    </tr>\n",
       "    <tr>\n",
       "      <th>4</th>\n",
       "      <td>user_id_1</td>\n",
       "    </tr>\n",
       "    <tr>\n",
       "      <th>5</th>\n",
       "      <td>user_id_5</td>\n",
       "    </tr>\n",
       "  </tbody>\n",
       "</table>\n",
       "</div>"
      ],
      "text/plain": [
       "        user\n",
       "0  user_id_1\n",
       "1  user_id_2\n",
       "2  user_id_3\n",
       "3  user_id_4\n",
       "4  user_id_1\n",
       "5  user_id_5"
      ]
     },
     "execution_count": 6,
     "metadata": {},
     "output_type": "execute_result"
    }
   ],
   "source": [
    "df"
   ]
  },
  {
   "cell_type": "code",
   "execution_count": 7,
   "id": "d471c140",
   "metadata": {
    "pycharm": {
     "name": "#%%\n"
    }
   },
   "outputs": [
    {
     "data": {
      "text/plain": [
       "86"
      ]
     },
     "execution_count": 7,
     "metadata": {},
     "output_type": "execute_result"
    }
   ],
   "source": [
    "import hashlib\n",
    "\n",
    "salt = 'my_first_experiment'\n",
    "user = 'my_user_id'\n",
    "\n",
    "value_str = user + salt\n",
    "value_num = int(hashlib.md5(value_str.encode()).hexdigest(), 16)\n",
    "value_num % 100"
   ]
  },
  {
   "cell_type": "code",
   "execution_count": 8,
   "id": "300d21bc",
   "metadata": {
    "pycharm": {
     "name": "#%%\n"
    }
   },
   "outputs": [],
   "source": [
    "def get_group(user, salt, group_count):\n",
    "    value_str = user + salt\n",
    "    value_num = int(hashlib.md5(value_str.encode()).hexdigest(), 16)\n",
    "    return value_num % group_count"
   ]
  },
  {
   "cell_type": "code",
   "execution_count": 9,
   "id": "45e04a96",
   "metadata": {
    "pycharm": {
     "name": "#%%\n"
    }
   },
   "outputs": [],
   "source": [
    "df['group'] = df.user.apply(lambda user: get_group(user, 'any_salt', 2))\n",
    "df['clicked'] = [1, 0, 0, 1, 0, 1]"
   ]
  },
  {
   "cell_type": "code",
   "execution_count": 10,
   "id": "b7dff40e",
   "metadata": {
    "pycharm": {
     "name": "#%%\n"
    }
   },
   "outputs": [
    {
     "data": {
      "text/html": [
       "<div>\n",
       "<style scoped>\n",
       "    .dataframe tbody tr th:only-of-type {\n",
       "        vertical-align: middle;\n",
       "    }\n",
       "\n",
       "    .dataframe tbody tr th {\n",
       "        vertical-align: top;\n",
       "    }\n",
       "\n",
       "    .dataframe thead th {\n",
       "        text-align: right;\n",
       "    }\n",
       "</style>\n",
       "<table border=\"1\" class=\"dataframe\">\n",
       "  <thead>\n",
       "    <tr style=\"text-align: right;\">\n",
       "      <th></th>\n",
       "      <th>user</th>\n",
       "      <th>group</th>\n",
       "      <th>clicked</th>\n",
       "    </tr>\n",
       "  </thead>\n",
       "  <tbody>\n",
       "    <tr>\n",
       "      <th>0</th>\n",
       "      <td>user_id_1</td>\n",
       "      <td>1</td>\n",
       "      <td>1</td>\n",
       "    </tr>\n",
       "    <tr>\n",
       "      <th>1</th>\n",
       "      <td>user_id_2</td>\n",
       "      <td>1</td>\n",
       "      <td>0</td>\n",
       "    </tr>\n",
       "    <tr>\n",
       "      <th>2</th>\n",
       "      <td>user_id_3</td>\n",
       "      <td>1</td>\n",
       "      <td>0</td>\n",
       "    </tr>\n",
       "    <tr>\n",
       "      <th>3</th>\n",
       "      <td>user_id_4</td>\n",
       "      <td>0</td>\n",
       "      <td>1</td>\n",
       "    </tr>\n",
       "    <tr>\n",
       "      <th>4</th>\n",
       "      <td>user_id_1</td>\n",
       "      <td>1</td>\n",
       "      <td>0</td>\n",
       "    </tr>\n",
       "    <tr>\n",
       "      <th>5</th>\n",
       "      <td>user_id_5</td>\n",
       "      <td>1</td>\n",
       "      <td>1</td>\n",
       "    </tr>\n",
       "  </tbody>\n",
       "</table>\n",
       "</div>"
      ],
      "text/plain": [
       "        user  group  clicked\n",
       "0  user_id_1      1        1\n",
       "1  user_id_2      1        0\n",
       "2  user_id_3      1        0\n",
       "3  user_id_4      0        1\n",
       "4  user_id_1      1        0\n",
       "5  user_id_5      1        1"
      ]
     },
     "execution_count": 10,
     "metadata": {},
     "output_type": "execute_result"
    }
   ],
   "source": [
    "df"
   ]
  },
  {
   "cell_type": "markdown",
   "id": "ef539c5e",
   "metadata": {
    "pycharm": {
     "name": "#%% md\n"
    }
   },
   "source": [
    "### Группы для AA"
   ]
  },
  {
   "cell_type": "code",
   "execution_count": 11,
   "id": "a2df3b17",
   "metadata": {
    "pycharm": {
     "name": "#%%\n"
    }
   },
   "outputs": [],
   "source": [
    "df = df.drop('group', axis=1)\n",
    "df['aa_1'] = df.user.apply(lambda user: get_group(user, 'aa_1', 2))\n",
    "df['aa_2'] = df.user.apply(lambda user: get_group(user, 'aa_2', 2))\n",
    "df['aa_3'] = df.user.apply(lambda user: get_group(user, 'aa_3', 2))\n",
    "df['aa_4'] = df.user.apply(lambda user: get_group(user, 'aa_4', 2))\n",
    "df['aa_5'] = df.user.apply(lambda user: get_group(user, 'aa_5', 2))"
   ]
  },
  {
   "cell_type": "code",
   "execution_count": 12,
   "id": "a41a92d2",
   "metadata": {
    "pycharm": {
     "name": "#%%\n"
    }
   },
   "outputs": [
    {
     "data": {
      "text/html": [
       "<div>\n",
       "<style scoped>\n",
       "    .dataframe tbody tr th:only-of-type {\n",
       "        vertical-align: middle;\n",
       "    }\n",
       "\n",
       "    .dataframe tbody tr th {\n",
       "        vertical-align: top;\n",
       "    }\n",
       "\n",
       "    .dataframe thead th {\n",
       "        text-align: right;\n",
       "    }\n",
       "</style>\n",
       "<table border=\"1\" class=\"dataframe\">\n",
       "  <thead>\n",
       "    <tr style=\"text-align: right;\">\n",
       "      <th></th>\n",
       "      <th>user</th>\n",
       "      <th>clicked</th>\n",
       "      <th>aa_1</th>\n",
       "      <th>aa_2</th>\n",
       "      <th>aa_3</th>\n",
       "      <th>aa_4</th>\n",
       "      <th>aa_5</th>\n",
       "    </tr>\n",
       "  </thead>\n",
       "  <tbody>\n",
       "    <tr>\n",
       "      <th>0</th>\n",
       "      <td>user_id_1</td>\n",
       "      <td>1</td>\n",
       "      <td>0</td>\n",
       "      <td>0</td>\n",
       "      <td>1</td>\n",
       "      <td>0</td>\n",
       "      <td>0</td>\n",
       "    </tr>\n",
       "    <tr>\n",
       "      <th>1</th>\n",
       "      <td>user_id_2</td>\n",
       "      <td>0</td>\n",
       "      <td>1</td>\n",
       "      <td>1</td>\n",
       "      <td>0</td>\n",
       "      <td>0</td>\n",
       "      <td>1</td>\n",
       "    </tr>\n",
       "    <tr>\n",
       "      <th>2</th>\n",
       "      <td>user_id_3</td>\n",
       "      <td>0</td>\n",
       "      <td>1</td>\n",
       "      <td>1</td>\n",
       "      <td>1</td>\n",
       "      <td>0</td>\n",
       "      <td>1</td>\n",
       "    </tr>\n",
       "    <tr>\n",
       "      <th>3</th>\n",
       "      <td>user_id_4</td>\n",
       "      <td>1</td>\n",
       "      <td>1</td>\n",
       "      <td>0</td>\n",
       "      <td>1</td>\n",
       "      <td>0</td>\n",
       "      <td>1</td>\n",
       "    </tr>\n",
       "    <tr>\n",
       "      <th>4</th>\n",
       "      <td>user_id_1</td>\n",
       "      <td>0</td>\n",
       "      <td>0</td>\n",
       "      <td>0</td>\n",
       "      <td>1</td>\n",
       "      <td>0</td>\n",
       "      <td>0</td>\n",
       "    </tr>\n",
       "    <tr>\n",
       "      <th>5</th>\n",
       "      <td>user_id_5</td>\n",
       "      <td>1</td>\n",
       "      <td>0</td>\n",
       "      <td>1</td>\n",
       "      <td>1</td>\n",
       "      <td>1</td>\n",
       "      <td>1</td>\n",
       "    </tr>\n",
       "  </tbody>\n",
       "</table>\n",
       "</div>"
      ],
      "text/plain": [
       "        user  clicked  aa_1  aa_2  aa_3  aa_4  aa_5\n",
       "0  user_id_1        1     0     0     1     0     0\n",
       "1  user_id_2        0     1     1     0     0     1\n",
       "2  user_id_3        0     1     1     1     0     1\n",
       "3  user_id_4        1     1     0     1     0     1\n",
       "4  user_id_1        0     0     0     1     0     0\n",
       "5  user_id_5        1     0     1     1     1     1"
      ]
     },
     "execution_count": 12,
     "metadata": {},
     "output_type": "execute_result"
    }
   ],
   "source": [
    "df"
   ]
  },
  {
   "cell_type": "markdown",
   "id": "2e62c5ec",
   "metadata": {
    "pycharm": {
     "name": "#%% md\n"
    }
   },
   "source": [
    "### Пример некорректного AB"
   ]
  },
  {
   "cell_type": "code",
   "execution_count": 13,
   "id": "9600e5d6",
   "metadata": {
    "pycharm": {
     "name": "#%%\n"
    }
   },
   "outputs": [],
   "source": [
    "users_num = 1000\n",
    "\n",
    "mean_user_ctr = 0.2\n",
    "beta = 20\n",
    "alpha = mean_user_ctr * beta / (1 - mean_user_ctr)\n",
    "\n",
    "user_ctr = np.random.beta(alpha, beta, size=users_num)"
   ]
  },
  {
   "cell_type": "code",
   "execution_count": 14,
   "id": "fdca76aa",
   "metadata": {
    "pycharm": {
     "name": "#%%\n"
    }
   },
   "outputs": [
    {
     "data": {
      "image/png": "[encoded data removed]",
      "text/plain": [
       "<Figure size 432x288 with 1 Axes>"
      ]
     },
     "metadata": {},
     "output_type": "display_data"
    }
   ],
   "source": [
    "sns.histplot(user_ctr)\n",
    "plt.xlabel('CTR пользователей')\n",
    "plt.show()"
   ]
  },
  {
   "cell_type": "code",
   "execution_count": 15,
   "id": "858ea33e",
   "metadata": {
    "pycharm": {
     "name": "#%%\n"
    }
   },
   "outputs": [],
   "source": [
    "views = np.random.lognormal(mean=1, sigma=1, size=users_num).astype(int) + 1"
   ]
  },
  {
   "cell_type": "code",
   "execution_count": 16,
   "id": "c29d5bee",
   "metadata": {
    "pycharm": {
     "name": "#%%\n"
    }
   },
   "outputs": [
    {
     "data": {
      "image/png": "[encoded data removed]",
      "text/plain": [
       "<Figure size 432x288 with 1 Axes>"
      ]
     },
     "metadata": {},
     "output_type": "display_data"
    }
   ],
   "source": [
    "sns.histplot(views, bins=25)\n",
    "plt.xlabel('Количество заходов в приложение')\n",
    "plt.show()"
   ]
  },
  {
   "cell_type": "code",
   "execution_count": 17,
   "id": "d14f114b",
   "metadata": {
    "pycharm": {
     "name": "#%%\n"
    }
   },
   "outputs": [],
   "source": [
    "clicks = np.random.binomial(views, user_ctr)"
   ]
  },
  {
   "cell_type": "code",
   "execution_count": 18,
   "id": "2673bd12",
   "metadata": {
    "pycharm": {
     "name": "#%%\n"
    }
   },
   "outputs": [
    {
     "data": {
      "image/png": "[encoded data removed]",
      "text/plain": [
       "<Figure size 432x288 with 1 Axes>"
      ]
     },
     "metadata": {},
     "output_type": "display_data"
    }
   ],
   "source": [
    "sns.histplot(clicks, bins=10)\n",
    "plt.xlabel('Количество кликов')\n",
    "plt.show()"
   ]
  },
  {
   "cell_type": "code",
   "execution_count": 19,
   "id": "cc4e793d",
   "metadata": {
    "pycharm": {
     "name": "#%%\n"
    }
   },
   "outputs": [],
   "source": [
    "sessions = []\n",
    "for v, c in zip(views, clicks):\n",
    "    sessions += [1] * c + [0] * (v - c)"
   ]
  },
  {
   "cell_type": "code",
   "execution_count": 20,
   "id": "1f9d824a",
   "metadata": {
    "pycharm": {
     "name": "#%%\n"
    }
   },
   "outputs": [
    {
     "data": {
      "text/plain": [
       "[0, 0, 0, 0, 0, 0, 0, 1, 1, 0]"
      ]
     },
     "execution_count": 20,
     "metadata": {},
     "output_type": "execute_result"
    }
   ],
   "source": [
    "sessions[:10]"
   ]
  },
  {
   "cell_type": "code",
   "execution_count": 21,
   "id": "4711164f",
   "metadata": {
    "pycharm": {
     "name": "#%%\n"
    }
   },
   "outputs": [
    {
     "data": {
      "text/plain": [
       "0.20902429618202853"
      ]
     },
     "execution_count": 21,
     "metadata": {},
     "output_type": "execute_result"
    }
   ],
   "source": [
    "np.mean(sessions)"
   ]
  },
  {
   "cell_type": "code",
   "execution_count": 22,
   "id": "d0d49f2c",
   "metadata": {
    "pycharm": {
     "name": "#%%\n"
    }
   },
   "outputs": [],
   "source": [
    "from statsmodels.stats.proportion import proportions_ztest\n",
    "\n",
    "def get_pvalue(): \n",
    "    user_ctr = np.random.beta(alpha, beta, size=users_num)\n",
    "    views = np.random.lognormal(mean=1, sigma=1, size=users_num).astype(int) + 1\n",
    "    clicks = np.random.binomial(views, user_ctr)\n",
    "\n",
    "    mask = np.random.rand(len(views)) < 0.5\n",
    "    views_1, clicks_1 = views[mask], clicks[mask]\n",
    "    views_2, clicks_2 = views[~mask], clicks[~mask]\n",
    "    \n",
    "    sessions_1 = []\n",
    "    for v, c in zip(views_1, clicks_1):\n",
    "        sessions_1 += [1] * c + [0] * (v - c) \n",
    "\n",
    "    sessions_2 = []\n",
    "    for v, c in zip(views_2, clicks_2):\n",
    "        sessions_2 += [1] * c + [0] * (v - c) \n",
    "        \n",
    "    return proportions_ztest(\n",
    "        count=[sum(sessions_1), sum(sessions_2)],\n",
    "        nobs=[len(sessions_1), len(sessions_2)]\n",
    "    )[1]"
   ]
  },
  {
   "cell_type": "code",
   "execution_count": 23,
   "id": "2ad49c06",
   "metadata": {
    "pycharm": {
     "name": "#%%\n"
    }
   },
   "outputs": [],
   "source": [
    "pvalues = [get_pvalue() for _ in range(10000)]"
   ]
  },
  {
   "cell_type": "code",
   "execution_count": 24,
   "id": "bb522842",
   "metadata": {
    "pycharm": {
     "name": "#%%\n"
    }
   },
   "outputs": [
    {
     "data": {
      "image/png": "[encoded data removed]",
      "text/plain": [
       "<Figure size 432x288 with 1 Axes>"
      ]
     },
     "metadata": {},
     "output_type": "display_data"
    }
   ],
   "source": [
    "sns.histplot(pvalues)\n",
    "plt.xlabel('p-values')\n",
    "plt.show()"
   ]
  },
  {
   "cell_type": "code",
   "execution_count": 25,
   "id": "f664fa09",
   "metadata": {
    "pycharm": {
     "name": "#%%\n"
    }
   },
   "outputs": [
    {
     "data": {
      "text/plain": [
       "0.0926"
      ]
     },
     "execution_count": 25,
     "metadata": {},
     "output_type": "execute_result"
    }
   ],
   "source": [
    "np.mean(np.array(pvalues) < 0.05)"
   ]
  },
  {
   "cell_type": "markdown",
   "id": "0e4418bf",
   "metadata": {
    "pycharm": {
     "name": "#%% md\n"
    }
   },
   "source": [
    "### Пример корректного подхода"
   ]
  },
  {
   "cell_type": "code",
   "execution_count": 26,
   "id": "96f5635c",
   "metadata": {
    "pycharm": {
     "name": "#%%\n"
    }
   },
   "outputs": [],
   "source": [
    "from scipy.stats import mannwhitneyu\n",
    "\n",
    "def get_pvalue(): \n",
    "    user_ctr = np.random.beta(alpha, beta, size=users_num)\n",
    "    views = np.random.lognormal(mean=1, sigma=1, size=users_num).astype(int) + 1\n",
    "    clicks = np.random.binomial(views, user_ctr)\n",
    "\n",
    "    mask = np.random.rand(len(views)) < 0.5\n",
    "    views_1, clicks_1 = views[mask], clicks[mask]\n",
    "    views_2, clicks_2 = views[~mask], clicks[~mask]\n",
    "\n",
    "    return mannwhitneyu(clicks_1, clicks_2)[1]"
   ]
  },
  {
   "cell_type": "code",
   "execution_count": 27,
   "id": "444e76ba",
   "metadata": {
    "pycharm": {
     "name": "#%%\n"
    }
   },
   "outputs": [],
   "source": [
    "pvalues = [get_pvalue() for _ in range(10000)]"
   ]
  },
  {
   "cell_type": "code",
   "execution_count": 28,
   "id": "cfe70f68",
   "metadata": {
    "pycharm": {
     "name": "#%%\n"
    }
   },
   "outputs": [
    {
     "data": {
      "image/png": "[encoded data removed]",
      "text/plain": [
       "<Figure size 432x288 with 1 Axes>"
      ]
     },
     "metadata": {},
     "output_type": "display_data"
    }
   ],
   "source": [
    "sns.histplot(pvalues)\n",
    "plt.xlabel('p-values')\n",
    "plt.show()"
   ]
  },
  {
   "cell_type": "code",
   "execution_count": 29,
   "id": "ec7a0f5a",
   "metadata": {
    "pycharm": {
     "name": "#%%\n"
    }
   },
   "outputs": [
    {
     "data": {
      "text/plain": [
       "0.0476"
      ]
     },
     "execution_count": 29,
     "metadata": {},
     "output_type": "execute_result"
    }
   ],
   "source": [
    "np.mean(np.array(pvalues) < 0.05)"
   ]
  },
  {
   "cell_type": "markdown",
   "id": "01a9ee1e",
   "metadata": {
    "pycharm": {
     "name": "#%% md\n"
    }
   },
   "source": [
    "###  Оценка мощности"
   ]
  },
  {
   "cell_type": "code",
   "execution_count": 30,
   "id": "01b3f860",
   "metadata": {
    "pycharm": {
     "name": "#%%\n"
    }
   },
   "outputs": [],
   "source": [
    "users_num = 1000\n",
    "\n",
    "mean_user_ctr = 0.2\n",
    "beta = 20\n",
    "\n",
    "def get_clicks(effect=0.01):\n",
    "    new_mean_user_ctr = mean_user_ctr + effect\n",
    "    alpha = new_mean_user_ctr * beta / (1 - new_mean_user_ctr)\n",
    "    user_ctr = np.random.beta(alpha, beta, size=users_num)\n",
    "    views = np.random.lognormal(mean=1, sigma=1, size=users_num).astype(int) + 1\n",
    "    return np.random.binomial(views, user_ctr)"
   ]
  },
  {
   "cell_type": "code",
   "execution_count": 31,
   "id": "79eb085e",
   "metadata": {
    "pycharm": {
     "name": "#%%\n"
    }
   },
   "outputs": [],
   "source": [
    "def get_pvalue(): \n",
    "    clicks_1 = get_clicks(effect=0)\n",
    "    clicks_2 = get_clicks(effect=0.03)\n",
    "\n",
    "    return mannwhitneyu(clicks_1, clicks_2)[1]"
   ]
  },
  {
   "cell_type": "code",
   "execution_count": 32,
   "id": "8626ec58",
   "metadata": {
    "pycharm": {
     "name": "#%%\n"
    }
   },
   "outputs": [],
   "source": [
    "pvalues = [get_pvalue() for _ in range(10000)]"
   ]
  },
  {
   "cell_type": "code",
   "execution_count": 33,
   "id": "1f8f8686",
   "metadata": {
    "pycharm": {
     "name": "#%%\n"
    }
   },
   "outputs": [
    {
     "data": {
      "image/png": "[encoded data removed]",
      "text/plain": [
       "<Figure size 432x288 with 1 Axes>"
      ]
     },
     "metadata": {},
     "output_type": "display_data"
    }
   ],
   "source": [
    "sns.histplot(pvalues)\n",
    "plt.xlabel('p-values')\n",
    "plt.show()"
   ]
  },
  {
   "cell_type": "code",
   "execution_count": 34,
   "id": "d363d4b5",
   "metadata": {
    "pycharm": {
     "name": "#%%\n"
    }
   },
   "outputs": [
    {
     "data": {
      "text/plain": [
       "0.6387"
      ]
     },
     "execution_count": 34,
     "metadata": {},
     "output_type": "execute_result"
    }
   ],
   "source": [
    "np.mean(np.array(pvalues) < 0.05)"
   ]
  },
  {
   "cell_type": "code",
   "execution_count": 35,
   "id": "0cef08cf",
   "metadata": {
    "pycharm": {
     "name": "#%%\n"
    }
   },
   "outputs": [
    {
     "data": {
      "image/png": "[encoded data removed]",
      "text/plain": [
       "<Figure size 288x288 with 1 Axes>"
      ]
     },
     "metadata": {},
     "output_type": "display_data"
    }
   ],
   "source": [
    "from scipy.stats import rankdata\n",
    "\n",
    "sorted_pvalues = np.sort(pvalues)\n",
    "position = rankdata(sorted_pvalues, method='ordinal')\n",
    "cdf = position / sorted_pvalues.shape[0]\n",
    "sorted_data = np.hstack((sorted_pvalues, 1))\n",
    "cdf = np.hstack((cdf, 1))\n",
    "\n",
    "plt.figure(figsize=(4, 4))\n",
    "plt.plot(sorted_data, cdf, linestyle='solid')\n",
    "plt.axvline(0.05, color='k', alpha=0.5)\n",
    "plt.xlim(-0.05,1.02)\n",
    "plt.ylim(-0.02,1.02)\n",
    "plt.xlabel(r'$\\alpha$')\n",
    "plt.ylabel('Мощность')\n",
    "plt.title('Мощность критерия Манна-Уитни-Уилкоксона\\nпри оценке числа кликов')\n",
    "plt.tight_layout()\n",
    "plt.savefig('power.pdf')\n",
    "plt.show()"
   ]
  },
  {
   "cell_type": "markdown",
   "id": "63591b57",
   "metadata": {
    "pycharm": {
     "name": "#%% md\n"
    }
   },
   "source": [
    "### Что влияет на мощность"
   ]
  },
  {
   "cell_type": "code",
   "execution_count": 36,
   "id": "f9ed204c",
   "metadata": {
    "pycharm": {
     "name": "#%%\n"
    }
   },
   "outputs": [],
   "source": [
    "from scipy.stats import lognorm, norm"
   ]
  },
  {
   "cell_type": "code",
   "execution_count": 37,
   "id": "7a8ce039",
   "metadata": {
    "pycharm": {
     "name": "#%%\n"
    }
   },
   "outputs": [
    {
     "data": {
      "image/png": "[encoded data removed]",
      "text/plain": [
       "<Figure size 432x288 with 1 Axes>"
      ]
     },
     "metadata": {},
     "output_type": "display_data"
    }
   ],
   "source": [
    "x = np.linspace(-7, 15, 100)\n",
    "\n",
    "pdf = norm(loc=3, scale=3).pdf(x)\n",
    "plt.plot(x, pdf, label='control')\n",
    "\n",
    "pdf = norm(loc=4, scale=3).pdf(x)\n",
    "plt.plot(x, pdf, label='test')\n",
    "\n",
    "plt.legend(loc=1)\n",
    "plt.tight_layout()\n",
    "plt.savefig('diff_disp_1.pdf')\n",
    "plt.show()"
   ]
  },
  {
   "cell_type": "code",
   "execution_count": 38,
   "id": "a782578e",
   "metadata": {
    "pycharm": {
     "name": "#%%\n"
    }
   },
   "outputs": [
    {
     "data": {
      "image/png": "[encoded data removed]",
      "text/plain": [
       "<Figure size 432x288 with 1 Axes>"
      ]
     },
     "metadata": {},
     "output_type": "display_data"
    }
   ],
   "source": [
    "x = np.linspace(-7, 15, 100)\n",
    "\n",
    "pdf = norm(loc=3, scale=1).pdf(x)\n",
    "plt.plot(x, pdf, label='control')\n",
    "\n",
    "pdf = norm(loc=4, scale=1).pdf(x)\n",
    "plt.plot(x, pdf, label='test')\n",
    "\n",
    "plt.legend(loc=1)\n",
    "plt.tight_layout()\n",
    "plt.savefig('diff_disp_2.pdf')\n",
    "plt.show()"
   ]
  },
  {
   "cell_type": "code",
   "execution_count": 39,
   "id": "5aac192c",
   "metadata": {
    "pycharm": {
     "name": "#%%\n"
    }
   },
   "outputs": [
    {
     "data": {
      "image/png": "[encoded data removed]",
      "text/plain": [
       "<Figure size 432x288 with 1 Axes>"
      ]
     },
     "metadata": {},
     "output_type": "display_data"
    }
   ],
   "source": [
    "x = np.linspace(-7, 15, 100)\n",
    "\n",
    "pdf = norm(loc=3, scale=3).pdf(x)\n",
    "plt.plot(x, pdf, label='control')\n",
    "\n",
    "pdf = norm(loc=4, scale=3).pdf(x)\n",
    "plt.plot(x, pdf, label='test')\n",
    "\n",
    "plt.legend(loc=1)\n",
    "plt.tight_layout()\n",
    "plt.savefig('diff_eff_1.pdf')\n",
    "plt.show()"
   ]
  },
  {
   "cell_type": "code",
   "execution_count": 40,
   "id": "699bf7a7",
   "metadata": {
    "pycharm": {
     "name": "#%%\n"
    }
   },
   "outputs": [
    {
     "data": {
      "image/png": "[encoded data removed]",
      "text/plain": [
       "<Figure size 432x288 with 1 Axes>"
      ]
     },
     "metadata": {},
     "output_type": "display_data"
    }
   ],
   "source": [
    "x = np.linspace(-7, 15, 100)\n",
    "\n",
    "pdf = norm(loc=3, scale=3).pdf(x)\n",
    "plt.plot(x, pdf, label='control')\n",
    "\n",
    "pdf = norm(loc=6, scale=3).pdf(x)\n",
    "plt.plot(x, pdf, label='test')\n",
    "\n",
    "plt.legend(loc=1)\n",
    "plt.tight_layout()\n",
    "plt.savefig('diff_eff_2.pdf')\n",
    "plt.show()"
   ]
  },
  {
   "cell_type": "markdown",
   "id": "fae8a19f",
   "metadata": {
    "pycharm": {
     "name": "#%% md\n"
    }
   },
   "source": [
    "### Минимальный детектируемый эффект"
   ]
  },
  {
   "cell_type": "code",
   "execution_count": 41,
   "id": "2f0ada39",
   "metadata": {
    "pycharm": {
     "name": "#%%\n"
    }
   },
   "outputs": [],
   "source": [
    "N = 10000\n",
    "sigma = 5\n",
    "alpha = 0.05\n",
    "power = 0.8"
   ]
  },
  {
   "cell_type": "code",
   "execution_count": 42,
   "id": "f038b4b6",
   "metadata": {
    "pycharm": {
     "name": "#%%\n"
    }
   },
   "outputs": [
    {
     "data": {
      "text/plain": [
       "0.1981213107344599"
      ]
     },
     "execution_count": 42,
     "metadata": {},
     "output_type": "execute_result"
    }
   ],
   "source": [
    "from scipy.stats import t\n",
    "\n",
    "S = sigma * np.sqrt(2 / N)\n",
    "M = t(N-1).ppf(q=1-alpha/2) + t(N-1).ppf(q=power)\n",
    "M * S"
   ]
  },
  {
   "cell_type": "markdown",
   "id": "907c229a",
   "metadata": {
    "pycharm": {
     "name": "#%% md\n"
    }
   },
   "source": [
    "### Размер выборки для t-критерия Стьюдента"
   ]
  },
  {
   "cell_type": "code",
   "execution_count": 43,
   "id": "dff04d32",
   "metadata": {
    "pycharm": {
     "name": "#%%\n"
    }
   },
   "outputs": [],
   "source": [
    "def calc_mde(N):\n",
    "    S = sigma * np.sqrt(2 / N)\n",
    "    M = t(N-1).ppf(q=1-alpha/2) + t(N-1).ppf(q=power)\n",
    "    return M * S"
   ]
  },
  {
   "cell_type": "code",
   "execution_count": 44,
   "id": "16f68314",
   "metadata": {
    "pycharm": {
     "name": "#%%\n"
    }
   },
   "outputs": [],
   "source": [
    "x = np.linspace(100, 10000, 100)\n",
    "mde = [calc_mde(n) for n in x]"
   ]
  },
  {
   "cell_type": "code",
   "execution_count": 45,
   "id": "6916a1f0",
   "metadata": {
    "pycharm": {
     "name": "#%%\n"
    }
   },
   "outputs": [
    {
     "data": {
      "image/png": "[encoded data removed]",
      "text/plain": [
       "<Figure size 432x288 with 1 Axes>"
      ]
     },
     "metadata": {},
     "output_type": "display_data"
    }
   ],
   "source": [
    "plt.plot(x, mde)\n",
    "plt.xlabel('N')\n",
    "plt.ylabel('MDE')\n",
    "plt.title('sigma=5, alpha=0.05, power=0.8')\n",
    "plt.ylim(bottom=0)\n",
    "plt.tight_layout()\n",
    "plt.savefig('mde.pdf')\n",
    "plt.show()"
   ]
  },
  {
   "cell_type": "markdown",
   "id": "2cff81e0",
   "metadata": {
    "pycharm": {
     "name": "#%% md\n"
    }
   },
   "source": [
    "### Размер выборки через AA"
   ]
  },
  {
   "cell_type": "code",
   "execution_count": 46,
   "id": "c1890637",
   "metadata": {
    "pycharm": {
     "name": "#%%\n"
    }
   },
   "outputs": [],
   "source": [
    "users_num = 1000\n",
    "\n",
    "mean_user_ctr = 0.2\n",
    "beta = 20\n",
    "\n",
    "def get_clicks(effect=0.01):\n",
    "    new_mean_user_ctr = mean_user_ctr + effect\n",
    "    alpha = new_mean_user_ctr * beta / (1 - new_mean_user_ctr)\n",
    "    user_ctr = np.random.beta(alpha, beta, size=users_num)\n",
    "    views = np.random.lognormal(mean=1, sigma=1, size=users_num).astype(int) + 1\n",
    "    return np.random.binomial(views, user_ctr)"
   ]
  },
  {
   "cell_type": "code",
   "execution_count": 47,
   "id": "368143bd",
   "metadata": {
    "pycharm": {
     "name": "#%%\n"
    }
   },
   "outputs": [],
   "source": [
    "def get_pvalue(effect): \n",
    "    clicks_1 = get_clicks(effect=0)\n",
    "    clicks_2 = get_clicks(effect=effect)\n",
    "\n",
    "    return mannwhitneyu(clicks_1, clicks_2)[1]"
   ]
  },
  {
   "cell_type": "code",
   "execution_count": 48,
   "id": "d1a43534",
   "metadata": {
    "pycharm": {
     "name": "#%%\n"
    }
   },
   "outputs": [],
   "source": [
    "effects = np.arange(0, 0.07, 0.01)\n",
    "power = []\n",
    "\n",
    "for effect in effects:\n",
    "    pvalues = [get_pvalue(effect=effect) for _ in range(1000)]\n",
    "    power.append(np.mean(np.array(pvalues) < 0.05))"
   ]
  },
  {
   "cell_type": "code",
   "execution_count": 49,
   "id": "1df11ca7",
   "metadata": {
    "pycharm": {
     "name": "#%%\n"
    }
   },
   "outputs": [
    {
     "data": {
      "image/png": "[encoded data removed]",
      "text/plain": [
       "<Figure size 432x288 with 1 Axes>"
      ]
     },
     "metadata": {},
     "output_type": "display_data"
    }
   ],
   "source": [
    "plt.plot(effects, power, 'o-')\n",
    "plt.xlabel('Величина эффекта')\n",
    "plt.ylabel('Мощность')\n",
    "plt.show()"
   ]
  }
 ],
 "metadata": {
  "kernelspec": {
   "display_name": "Python 3 (ipykernel)",
   "language": "python",
   "name": "python3"
  },
  "language_info": {
   "codemirror_mode": {
    "name": "ipython",
    "version": 3
   },
   "file_extension": ".py",
   "mimetype": "text/x-python",
   "name": "python",
   "nbconvert_exporter": "python",
   "pygments_lexer": "ipython3",
   "version": "3.8.9"
  }
 },
 "nbformat": 4,
 "nbformat_minor": 5
}